{
  "nbformat": 4,
  "nbformat_minor": 0,
  "metadata": {
    "colab": {
      "provenance": [],
      "authorship_tag": "ABX9TyO+HH+2TDs71snEie42HYY1",
      "include_colab_link": true
    },
    "kernelspec": {
      "name": "ir",
      "display_name": "R"
    },
    "language_info": {
      "name": "R"
    }
  },
  "cells": [
    {
      "cell_type": "markdown",
      "metadata": {
        "id": "view-in-github",
        "colab_type": "text"
      },
      "source": [
        "<a href=\"https://colab.research.google.com/github/lonespear/MA206/blob/main/hypothesis_testing.ipynb\" target=\"_parent\"><img src=\"https://colab.research.google.com/assets/colab-badge.svg\" alt=\"Open In Colab\"/></a>"
      ]
    },
    {
      "cell_type": "markdown",
      "source": [
        "*Hold up quarter*\n",
        "This is a fair coin.\n",
        "\n",
        "I flip it three times in a row. All heads. What is the probability of this happening?"
      ],
      "metadata": {
        "id": "eCyPim9BlH4d"
      }
    },
    {
      "cell_type": "code",
      "execution_count": 2,
      "metadata": {
        "colab": {
          "base_uri": "https://localhost:8080/",
          "height": 34
        },
        "id": "17WApQFKlD_C",
        "outputId": "4e9ca708-be53-4374-c60e-1dc8412e07de"
      },
      "outputs": [
        {
          "output_type": "display_data",
          "data": {
            "text/html": [
              "0.125"
            ],
            "text/markdown": "0.125",
            "text/latex": "0.125",
            "text/plain": [
              "[1] 0.125"
            ]
          },
          "metadata": {}
        }
      ],
      "source": [
        "(1/2)^3"
      ]
    },
    {
      "cell_type": "markdown",
      "source": [
        "Still believe there is a chance this is a fair coin?\n",
        "*Plausible*\n",
        "\n",
        "I flip it two more times. Two more heads. What do we think? Still fair? Probability?"
      ],
      "metadata": {
        "id": "xTewjVOxot55"
      }
    },
    {
      "cell_type": "code",
      "source": [
        "(1/2)^5"
      ],
      "metadata": {
        "colab": {
          "base_uri": "https://localhost:8080/",
          "height": 34
        },
        "id": "m2A7DkOLl7M2",
        "outputId": "27823805-a00e-4fbf-8786-125fe1517250"
      },
      "execution_count": 4,
      "outputs": [
        {
          "output_type": "display_data",
          "data": {
            "text/html": [
              "0.03125"
            ],
            "text/markdown": "0.03125",
            "text/latex": "0.03125",
            "text/plain": [
              "[1] 0.03125"
            ]
          },
          "metadata": {}
        }
      ]
    },
    {
      "cell_type": "markdown",
      "source": [
        "Okay, maybe I'm losing some folks. Well who knows of someone that has like 5 brothers or sisters?\n",
        "\n",
        "What would this probability be of having either five brothers or five sisters? This would be equivalent to a coin of either HHHHH or TTTTT in a row, so only two outcomes out of all the possible combinations of heads and tails, which is $2^5$."
      ],
      "metadata": {
        "id": "xQWSTc9SpK0h"
      }
    },
    {
      "cell_type": "code",
      "source": [
        "2/2^5"
      ],
      "metadata": {
        "colab": {
          "base_uri": "https://localhost:8080/",
          "height": 34
        },
        "id": "8JTyE82rpAiz",
        "outputId": "72735dce-cdb0-4593-9824-8820e104df84"
      },
      "execution_count": 7,
      "outputs": [
        {
          "output_type": "display_data",
          "data": {
            "text/html": [
              "0.0625"
            ],
            "text/markdown": "0.0625",
            "text/latex": "0.0625",
            "text/plain": [
              "[1] 0.0625"
            ]
          },
          "metadata": {}
        }
      ]
    },
    {
      "cell_type": "markdown",
      "source": [
        "If we had to write a question about what we just did, how would we write it?\n",
        "\n",
        "Is the coin a fair coin? What is the probability of a fair coin? 50-50 or 0.5.\n",
        "\n",
        "Transform this idea into two opposite statements about what it could be.\n",
        "\n",
        "$\n",
        "  H_0: \\text{The coin is fair with a probability of heads of 0.5} \\\\\n",
        "  H_A: \\text{The coin is unfair with a probability of heads not equal to 0.5}\n",
        "$\n",
        "\n",
        "These two conflicting statements are hypothesis statements. In hypothesis testing we always have two conflicting statements, one called the **null hypothesis, $H_0$** and the other called the **alternative hypothesis, $H_A$**.\n",
        "\n",
        "The alternative hypothesis can be written three different ways because of the direction you are talking about. Written differently, the hypotheses are:\n",
        "\n",
        "$\n",
        "H_0: \\pi = 0.5 \\\\\n",
        "H_A: \\pi > 0.5\n",
        "$\n",
        "\n",
        "OR\n",
        "\n",
        "$\n",
        "H_0: \\pi = 0.5 \\\\\n",
        "H_A: \\pi < 0.5\n",
        "$\n",
        "\n",
        "OR\n",
        "\n",
        "$\n",
        "H_0: \\pi = 0.5 \\\\\n",
        "H_A: \\pi \\neq 0.5\n",
        "$"
      ],
      "metadata": {
        "id": "vB9ZQynxqSYI"
      }
    },
    {
      "cell_type": "code",
      "source": [],
      "metadata": {
        "id": "pTEqlZ3fqGvS"
      },
      "execution_count": null,
      "outputs": []
    }
  ]
}