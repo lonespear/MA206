{
  "cells": [
    {
      "cell_type": "markdown",
      "source": [
        "# MA206 Lesson 13: Two Proportion Inference"
      ],
      "metadata": {
        "id": "9syEmP6DZUds"
      },
      "id": "9syEmP6DZUds"
    },
    {
      "cell_type": "code",
      "source": [
        "install.packages('tidyverse')\n",
        "install.packages('janitor')"
      ],
      "metadata": {
        "colab": {
          "base_uri": "https://localhost:8080/"
        },
        "id": "Bdjd0XHzg4su",
        "outputId": "0c879a65-29a0-4f13-c644-b29350a57079"
      },
      "id": "Bdjd0XHzg4su",
      "execution_count": 5,
      "outputs": [
        {
          "output_type": "stream",
          "name": "stderr",
          "text": [
            "Installing package into ‘/usr/local/lib/R/site-library’\n",
            "(as ‘lib’ is unspecified)\n",
            "\n",
            "Installing package into ‘/usr/local/lib/R/site-library’\n",
            "(as ‘lib’ is unspecified)\n",
            "\n",
            "also installing the dependency ‘snakecase’\n",
            "\n",
            "\n"
          ]
        }
      ]
    },
    {
      "cell_type": "code",
      "execution_count": 6,
      "id": "ce01c4cb",
      "metadata": {
        "colab": {
          "base_uri": "https://localhost:8080/"
        },
        "id": "ce01c4cb",
        "outputId": "6f7d376e-586e-4e36-912e-c178545cb3ed"
      },
      "outputs": [
        {
          "output_type": "stream",
          "name": "stderr",
          "text": [
            "\n",
            "Attaching package: ‘janitor’\n",
            "\n",
            "\n",
            "The following objects are masked from ‘package:stats’:\n",
            "\n",
            "    chisq.test, fisher.test\n",
            "\n",
            "\n",
            "\u001b[1m\u001b[22mNew names:\n",
            "\u001b[36m•\u001b[39m `` -> `...1`\n",
            "\u001b[1mRows: \u001b[22m\u001b[34m14451\u001b[39m \u001b[1mColumns: \u001b[22m\u001b[34m16\u001b[39m\n",
            "\u001b[36m──\u001b[39m \u001b[1mColumn specification\u001b[22m \u001b[36m────────────────────────────────────────────────────────\u001b[39m\n",
            "\u001b[1mDelimiter:\u001b[22m \",\"\n",
            "\u001b[31mchr\u001b[39m   (5): pitch_type, pitch_name, events, stand, in_out\n",
            "\u001b[32mdbl\u001b[39m  (10): ...1, release_speed, batter, zone, balls, strikes, game_year, pla...\n",
            "\u001b[34mdate\u001b[39m  (1): game_date\n",
            "\n",
            "\u001b[36mℹ\u001b[39m Use `spec()` to retrieve the full column specification for this data.\n",
            "\u001b[36mℹ\u001b[39m Specify the column types or set `show_col_types = FALSE` to quiet this message.\n",
            "\u001b[1mRows: \u001b[22m\u001b[34m10000\u001b[39m \u001b[1mColumns: \u001b[22m\u001b[34m76\u001b[39m\n",
            "\u001b[36m──\u001b[39m \u001b[1mColumn specification\u001b[22m \u001b[36m────────────────────────────────────────────────────────\u001b[39m\n",
            "\u001b[1mDelimiter:\u001b[22m \",\"\n",
            "\u001b[31mchr\u001b[39m (31): SurveyYr, Gender, AgeDecade, Race1, Race3, Education, MaritalStatu...\n",
            "\u001b[32mdbl\u001b[39m (45): ID, Age, AgeMonths, HHIncomeMid, Poverty, HomeRooms, Weight, Lengt...\n",
            "\n",
            "\u001b[36mℹ\u001b[39m Use `spec()` to retrieve the full column specification for this data.\n",
            "\u001b[36mℹ\u001b[39m Specify the column types or set `show_col_types = FALSE` to quiet this message.\n"
          ]
        }
      ],
      "source": [
        "library(tidyverse)\n",
        "library(janitor)\n",
        "gallen <- read_csv(\"https://raw.githubusercontent.com/lonespear/MA206/main/gallen.csv\")\n",
        "health <- read_csv(\"https://raw.githubusercontent.com/lonespear/MA206/main/nhanes.csv\")"
      ]
    },
    {
      "cell_type": "markdown",
      "source": [
        "# One Proportion Recap\n",
        "We've been doing a one-proportion Z-test until now, which works through normal approximation (ie, we have enough data for the null distribution to simulate a normal distribution). Within the proportion $\\dfrac{X}{n}$, only the numerator $X$ is random, since the sample size is known, (I know I want to sample 30 cadets but I do not know what they're answer to my yes or no question will be). We've discussed briefly that this is called a **Binomial Random Variable**, which counts the *successes* in *n* trials, with each trial having a probability of *p* to succeed. We'd say $X \\sim Bin(n,p) $, which has mean $np$ and variance $np(1-p)$. We can find the exact probabilities however they are computationally expensive compared to approximating the proportion with a normal distribution with mean $np$ and variance $np(1-p)$. More concretely,\n",
        "\n",
        "$$\n",
        "\\begin{align*}\n",
        "  \\text{Parameter} \\ &= \\frac{X}{n} \\\\\n",
        "  \\mathbb{E}\\Big[\\frac{X}{n}\\Big] &= \\frac{1}{n} \\mathbb{E}[X] = \\frac{1}{n}np = p \\\\\n",
        "  Var\\left( \\frac{X}{n} \\right) &= \\frac{1}{n^2}Var(X) = \\frac{1}{n^2}np(1-p) = \\frac{p(1-p)}{n}\n",
        "\\end{align*}\n",
        "$$\n",
        "\n",
        "The above should hopefully look familiar if you were to replace p with $\\pi$, the mean of our null distribution is $\\pi$ in the second line, and the variance in the third line is where our standard deviation of the null distribution comes from (just take the square root). We use these two quantities to put our observed statistic (proportion from our data) in terms of the standard normal distribution to get a p-value.\n",
        "\n",
        "# Now there are two of them.\n",
        "\n",
        "We are going to do the same exact process above except now our parameter in question will be the difference between two proportions. This parameter is interesting to us because many times we need to determine if two categories differ from one another in the similar circumstances (think control and test groups in a disease study). This would look like:\n",
        "\n",
        "$$\n",
        "\\begin{align*}\n",
        "  \\text{Parameter} \\ &= \\frac{X}{n_x} - \\frac{Y}{n_y} = \\pi_x - \\pi_y = \\pi \\\\\n",
        "  \\text{ Keep in mind }&\\text{this is not $\\hat{p}$, the observed statistic,} \\\\ \\text{ but the theoretical probability of a success}& \\text{ from our Binomial random variables X and Y. } \\\\\n",
        "  \\mathbb{E}\\Big[\\frac{X}{n_x} - \\frac{Y}{n_y}\\Big] &= \\frac{1}{n_x} \\mathbb{E}[X] - \\frac{1}{n_y} \\mathbb{E}[Y] = \\frac{1}{nx}n_xp_x - \\frac{1}{ny}n_yp_x= p_x - p_y \\\\\n",
        "  Var\\left( \\frac{X}{n_x} - \\frac{Y}{n_y} \\right) &= \\frac{1}{n_x^2}Var(X) + \\frac{1}{n_y^2}Var(Y)  \\\\\n",
        "  &= \\frac{1}{n_x^2}n_xp_x(1-p_x) + \\frac{1}{n_y^2}n_yp_y(1-p_y) \\\\\n",
        "  &= \\frac{p_x(1-p_x)}{n_x} + \\frac{p_y(1-p_y)}{n_y} \\\\\n",
        "  \\text{Under the null hypothesis, there is no}&\\text{ difference between the proportions,} \\\\ \\text{ so we can factor out the}&\\text{ proportion expressions to conclude:} \\\\\n",
        "  &= p(1-p)\\left( \\frac{1}{n_x} + \\frac{1}{n_y} \\right) \\\\\n",
        "  Std. Dev. \\left( \\frac{X}{n_x} - \\frac{Y}{n_y} \\right) &= \\sqrt{ p(1-p)\\left( \\frac{1}{n_x} + \\frac{1}{n_y} \\right) }\n",
        "\\end{align*}\n",
        "$$\n",
        "\n",
        "That is all the theory we will need in order to conduct our two proportion hypothesis test! Everything else is essentially the same as one-proportion in terms of standardizing our observed statistic into a Z-statistic(or Z-score), finding a p-value, and making a conclusion at some level of significance $\\alpha$.\n",
        "\n",
        "When constructing a confidence interval, we do not use the assumption that the proportions will be the same between the two groups, and have to account for both observed proportions in our data when calculating the Standard Error (SE).\n",
        "\n",
        "$$\n",
        "\\begin{align*}\n",
        "SE &= \\sqrt{\\frac{\\hat{p}_x(1-\\hat{p}_x)}{n_x} + \\frac{\\hat{p}_y(1-\\hat{p}_y)}{n_y}} \\\\\n",
        "M &= \\Phi^{-1}(1-\\alpha/2) \\\\\n",
        "CI &= (\\hat{p}_x - \\hat{p}_y) \\pm M * SE\n",
        "\\end{align*}\n",
        "$$"
      ],
      "metadata": {
        "id": "5dBI2Uknh5Xa"
      },
      "id": "5dBI2Uknh5Xa"
    },
    {
      "cell_type": "code",
      "execution_count": 7,
      "id": "5a5d8a42",
      "metadata": {
        "colab": {
          "base_uri": "https://localhost:8080/",
          "height": 1000
        },
        "id": "5a5d8a42",
        "outputId": "c0f10928-6f20-475b-922a-b52bb07a6134"
      },
      "outputs": [
        {
          "output_type": "display_data",
          "data": {
            "text/html": [
              "<table class=\"dataframe\">\n",
              "<caption>A spec_tbl_df: 14451 × 16</caption>\n",
              "<thead>\n",
              "\t<tr><th scope=col>...1</th><th scope=col>game_date</th><th scope=col>pitch_type</th><th scope=col>pitch_name</th><th scope=col>release_speed</th><th scope=col>batter</th><th scope=col>events</th><th scope=col>zone</th><th scope=col>stand</th><th scope=col>balls</th><th scope=col>strikes</th><th scope=col>game_year</th><th scope=col>plate_x</th><th scope=col>plate_z</th><th scope=col>pitch_number</th><th scope=col>in_out</th></tr>\n",
              "\t<tr><th scope=col>&lt;dbl&gt;</th><th scope=col>&lt;date&gt;</th><th scope=col>&lt;chr&gt;</th><th scope=col>&lt;chr&gt;</th><th scope=col>&lt;dbl&gt;</th><th scope=col>&lt;dbl&gt;</th><th scope=col>&lt;chr&gt;</th><th scope=col>&lt;dbl&gt;</th><th scope=col>&lt;chr&gt;</th><th scope=col>&lt;dbl&gt;</th><th scope=col>&lt;dbl&gt;</th><th scope=col>&lt;dbl&gt;</th><th scope=col>&lt;dbl&gt;</th><th scope=col>&lt;dbl&gt;</th><th scope=col>&lt;dbl&gt;</th><th scope=col>&lt;chr&gt;</th></tr>\n",
              "</thead>\n",
              "<tbody>\n",
              "\t<tr><td> 0</td><td>2024-09-25</td><td>KC</td><td>Knuckle Curve  </td><td>82.9</td><td>656305</td><td>strikeout</td><td>14</td><td>R</td><td>2</td><td>2</td><td>2024</td><td> 0.47</td><td>0.96</td><td>5</td><td>outside</td></tr>\n",
              "\t<tr><td> 1</td><td>2024-09-25</td><td>KC</td><td>Knuckle Curve  </td><td>82.7</td><td>656305</td><td>NA       </td><td> 9</td><td>R</td><td>2</td><td>1</td><td>2024</td><td> 0.55</td><td>1.68</td><td>4</td><td>outside</td></tr>\n",
              "\t<tr><td> 2</td><td>2024-09-25</td><td>KC</td><td>Knuckle Curve  </td><td>82.7</td><td>656305</td><td>NA       </td><td>11</td><td>R</td><td>1</td><td>1</td><td>2024</td><td>-1.88</td><td>3.08</td><td>3</td><td>inside </td></tr>\n",
              "\t<tr><td> 3</td><td>2024-09-25</td><td>FF</td><td>4-Seam Fastball</td><td>94.8</td><td>656305</td><td>NA       </td><td>13</td><td>R</td><td>1</td><td>0</td><td>2024</td><td>-0.85</td><td>2.38</td><td>2</td><td>inside </td></tr>\n",
              "\t<tr><td> 4</td><td>2024-09-25</td><td>KC</td><td>Knuckle Curve  </td><td>82.8</td><td>656305</td><td>NA       </td><td>11</td><td>R</td><td>0</td><td>0</td><td>2024</td><td>-1.69</td><td>3.56</td><td>1</td><td>inside </td></tr>\n",
              "\t<tr><td> 5</td><td>2024-09-25</td><td>FF</td><td>4-Seam Fastball</td><td>94.6</td><td>664774</td><td>field_out</td><td> 6</td><td>L</td><td>3</td><td>1</td><td>2024</td><td> 0.39</td><td>2.19</td><td>5</td><td>inside </td></tr>\n",
              "\t<tr><td> 6</td><td>2024-09-25</td><td>KC</td><td>Knuckle Curve  </td><td>83.1</td><td>664774</td><td>NA       </td><td>13</td><td>L</td><td>2</td><td>1</td><td>2024</td><td>-0.14</td><td>0.68</td><td>4</td><td>outside</td></tr>\n",
              "\t<tr><td> 7</td><td>2024-09-25</td><td>CH</td><td>Changeup       </td><td>85.9</td><td>664774</td><td>NA       </td><td>13</td><td>L</td><td>1</td><td>1</td><td>2024</td><td>-1.26</td><td>2.17</td><td>3</td><td>outside</td></tr>\n",
              "\t<tr><td> 8</td><td>2024-09-25</td><td>FF</td><td>4-Seam Fastball</td><td>93.6</td><td>664774</td><td>NA       </td><td> 8</td><td>L</td><td>1</td><td>0</td><td>2024</td><td> 0.12</td><td>1.65</td><td>2</td><td>inside </td></tr>\n",
              "\t<tr><td> 9</td><td>2024-09-25</td><td>KC</td><td>Knuckle Curve  </td><td>82.8</td><td>664774</td><td>NA       </td><td>13</td><td>L</td><td>0</td><td>0</td><td>2024</td><td>-0.41</td><td>0.82</td><td>1</td><td>outside</td></tr>\n",
              "\t<tr><td>10</td><td>2024-09-25</td><td>CH</td><td>Changeup       </td><td>87.3</td><td>671218</td><td>double   </td><td> 4</td><td>R</td><td>0</td><td>2</td><td>2024</td><td>-0.40</td><td>2.60</td><td>3</td><td>inside </td></tr>\n",
              "\t<tr><td>11</td><td>2024-09-25</td><td>FF</td><td>4-Seam Fastball</td><td>92.6</td><td>671218</td><td>NA       </td><td> 6</td><td>R</td><td>0</td><td>1</td><td>2024</td><td> 0.54</td><td>1.99</td><td>2</td><td>outside</td></tr>\n",
              "\t<tr><td>12</td><td>2024-09-25</td><td>KC</td><td>Knuckle Curve  </td><td>81.8</td><td>671218</td><td>NA       </td><td> 8</td><td>R</td><td>0</td><td>0</td><td>2024</td><td>-0.05</td><td>1.92</td><td>1</td><td>inside </td></tr>\n",
              "\t<tr><td>13</td><td>2024-09-25</td><td>FF</td><td>4-Seam Fastball</td><td>93.5</td><td>573262</td><td>field_out</td><td> 2</td><td>L</td><td>1</td><td>2</td><td>2024</td><td> 0.03</td><td>3.37</td><td>4</td><td>inside </td></tr>\n",
              "\t<tr><td>14</td><td>2024-09-25</td><td>CH</td><td>Changeup       </td><td>86.3</td><td>573262</td><td>NA       </td><td> 4</td><td>L</td><td>1</td><td>1</td><td>2024</td><td>-0.63</td><td>2.16</td><td>3</td><td>outside</td></tr>\n",
              "\t<tr><td>15</td><td>2024-09-25</td><td>FF</td><td>4-Seam Fastball</td><td>91.7</td><td>573262</td><td>NA       </td><td>14</td><td>L</td><td>0</td><td>1</td><td>2024</td><td> 1.44</td><td>2.61</td><td>2</td><td>inside </td></tr>\n",
              "\t<tr><td>16</td><td>2024-09-25</td><td>FF</td><td>4-Seam Fastball</td><td>91.9</td><td>573262</td><td>NA       </td><td> 9</td><td>L</td><td>0</td><td>0</td><td>2024</td><td> 0.31</td><td>2.00</td><td>1</td><td>inside </td></tr>\n",
              "\t<tr><td>17</td><td>2024-09-25</td><td>KC</td><td>Knuckle Curve  </td><td>83.2</td><td>689172</td><td>strikeout</td><td>14</td><td>L</td><td>2</td><td>2</td><td>2024</td><td> 0.35</td><td>0.22</td><td>5</td><td>inside </td></tr>\n",
              "\t<tr><td>18</td><td>2024-09-25</td><td>CH</td><td>Changeup       </td><td>86.0</td><td>689172</td><td>NA       </td><td> 7</td><td>L</td><td>2</td><td>1</td><td>2024</td><td>-0.60</td><td>1.64</td><td>4</td><td>outside</td></tr>\n",
              "\t<tr><td>19</td><td>2024-09-25</td><td>CH</td><td>Changeup       </td><td>85.1</td><td>689172</td><td>NA       </td><td>13</td><td>L</td><td>1</td><td>1</td><td>2024</td><td>-1.31</td><td>1.90</td><td>3</td><td>outside</td></tr>\n",
              "\t<tr><td>20</td><td>2024-09-25</td><td>FF</td><td>4-Seam Fastball</td><td>93.1</td><td>689172</td><td>NA       </td><td>13</td><td>L</td><td>1</td><td>0</td><td>2024</td><td>-0.36</td><td>1.45</td><td>2</td><td>outside</td></tr>\n",
              "\t<tr><td>21</td><td>2024-09-25</td><td>KC</td><td>Knuckle Curve  </td><td>80.3</td><td>689172</td><td>NA       </td><td>13</td><td>L</td><td>0</td><td>0</td><td>2024</td><td>-0.96</td><td>1.70</td><td>1</td><td>outside</td></tr>\n",
              "\t<tr><td>22</td><td>2024-09-25</td><td>KC</td><td>Knuckle Curve  </td><td>81.7</td><td>687529</td><td>strikeout</td><td>14</td><td>L</td><td>0</td><td>2</td><td>2024</td><td> 0.62</td><td>0.66</td><td>4</td><td>inside </td></tr>\n",
              "\t<tr><td>23</td><td>2024-09-25</td><td>FF</td><td>4-Seam Fastball</td><td>93.8</td><td>687529</td><td>NA       </td><td> 4</td><td>L</td><td>0</td><td>2</td><td>2024</td><td>-0.38</td><td>2.52</td><td>3</td><td>outside</td></tr>\n",
              "\t<tr><td>24</td><td>2024-09-25</td><td>KC</td><td>Knuckle Curve  </td><td>81.3</td><td>687529</td><td>NA       </td><td>14</td><td>L</td><td>0</td><td>1</td><td>2024</td><td> 0.02</td><td>1.46</td><td>2</td><td>inside </td></tr>\n",
              "\t<tr><td>25</td><td>2024-09-25</td><td>FF</td><td>4-Seam Fastball</td><td>93.3</td><td>687529</td><td>NA       </td><td> 4</td><td>L</td><td>0</td><td>0</td><td>2024</td><td>-0.79</td><td>2.84</td><td>1</td><td>outside</td></tr>\n",
              "\t<tr><td>26</td><td>2024-09-25</td><td>FC</td><td>Cutter         </td><td>89.3</td><td>666149</td><td>strikeout</td><td>14</td><td>R</td><td>3</td><td>2</td><td>2024</td><td> 0.21</td><td>1.43</td><td>7</td><td>outside</td></tr>\n",
              "\t<tr><td>27</td><td>2024-09-25</td><td>SL</td><td>Slider         </td><td>86.9</td><td>666149</td><td>NA       </td><td>14</td><td>R</td><td>2</td><td>2</td><td>2024</td><td> 0.85</td><td>0.31</td><td>6</td><td>outside</td></tr>\n",
              "\t<tr><td>28</td><td>2024-09-25</td><td>KC</td><td>Knuckle Curve  </td><td>79.8</td><td>666149</td><td>NA       </td><td> 7</td><td>R</td><td>2</td><td>2</td><td>2024</td><td>-0.73</td><td>1.90</td><td>5</td><td>inside </td></tr>\n",
              "\t<tr><td>29</td><td>2024-09-25</td><td>FF</td><td>4-Seam Fastball</td><td>93.7</td><td>666149</td><td>NA       </td><td>14</td><td>R</td><td>1</td><td>2</td><td>2024</td><td> 1.90</td><td>1.32</td><td>4</td><td>outside</td></tr>\n",
              "\t<tr><td>⋮</td><td>⋮</td><td>⋮</td><td>⋮</td><td>⋮</td><td>⋮</td><td>⋮</td><td>⋮</td><td>⋮</td><td>⋮</td><td>⋮</td><td>⋮</td><td>⋮</td><td>⋮</td><td>⋮</td><td>⋮</td></tr>\n",
              "\t<tr><td>14602</td><td>2019-06-20</td><td>FC</td><td>Cutter         </td><td>87.2</td><td>425877</td><td>NA       </td><td>14</td><td>R</td><td>1</td><td>1</td><td>2019</td><td> 1.17</td><td>1.09</td><td>3</td><td>outside</td></tr>\n",
              "\t<tr><td>14603</td><td>2019-06-20</td><td>FC</td><td>Cutter         </td><td>87.4</td><td>425877</td><td>NA       </td><td> 6</td><td>R</td><td>1</td><td>0</td><td>2019</td><td> 0.37</td><td>2.62</td><td>2</td><td>outside</td></tr>\n",
              "\t<tr><td>14604</td><td>2019-06-20</td><td>KC</td><td>Knuckle Curve  </td><td>80.7</td><td>425877</td><td>NA       </td><td>14</td><td>R</td><td>0</td><td>0</td><td>2019</td><td> 0.37</td><td>1.21</td><td>1</td><td>outside</td></tr>\n",
              "\t<tr><td>14605</td><td>2019-06-20</td><td>FF</td><td>4-Seam Fastball</td><td>93.4</td><td>500874</td><td>single   </td><td> 5</td><td>R</td><td>2</td><td>2</td><td>2019</td><td> 0.17</td><td>2.69</td><td>6</td><td>outside</td></tr>\n",
              "\t<tr><td>14606</td><td>2019-06-20</td><td>FF</td><td>4-Seam Fastball</td><td>92.0</td><td>500874</td><td>NA       </td><td> 2</td><td>R</td><td>2</td><td>2</td><td>2019</td><td>-0.02</td><td>3.35</td><td>5</td><td>inside </td></tr>\n",
              "\t<tr><td>14607</td><td>2019-06-20</td><td>FC</td><td>Cutter         </td><td>85.7</td><td>500874</td><td>NA       </td><td>14</td><td>R</td><td>1</td><td>2</td><td>2019</td><td> 1.64</td><td>0.89</td><td>4</td><td>outside</td></tr>\n",
              "\t<tr><td>14608</td><td>2019-06-20</td><td>FC</td><td>Cutter         </td><td>85.7</td><td>500874</td><td>NA       </td><td>14</td><td>R</td><td>0</td><td>2</td><td>2019</td><td> 0.75</td><td>0.86</td><td>3</td><td>outside</td></tr>\n",
              "\t<tr><td>14609</td><td>2019-06-20</td><td>FC</td><td>Cutter         </td><td>84.9</td><td>500874</td><td>NA       </td><td>14</td><td>R</td><td>0</td><td>1</td><td>2019</td><td> 1.13</td><td>2.11</td><td>2</td><td>outside</td></tr>\n",
              "\t<tr><td>14610</td><td>2019-06-20</td><td>KC</td><td>Knuckle Curve  </td><td>78.4</td><td>500874</td><td>NA       </td><td>13</td><td>R</td><td>0</td><td>0</td><td>2019</td><td>-0.67</td><td>1.57</td><td>1</td><td>inside </td></tr>\n",
              "\t<tr><td>14611</td><td>2019-06-20</td><td>KC</td><td>Knuckle Curve  </td><td>76.9</td><td>542303</td><td>field_out</td><td> 5</td><td>R</td><td>0</td><td>0</td><td>2019</td><td> 0.02</td><td>2.25</td><td>1</td><td>outside</td></tr>\n",
              "\t<tr><td>14612</td><td>2019-06-20</td><td>FF</td><td>4-Seam Fastball</td><td>93.7</td><td>502671</td><td>strikeout</td><td> 6</td><td>R</td><td>3</td><td>2</td><td>2019</td><td> 0.71</td><td>2.28</td><td>7</td><td>outside</td></tr>\n",
              "\t<tr><td>14613</td><td>2019-06-20</td><td>FC</td><td>Cutter         </td><td>86.0</td><td>502671</td><td>NA       </td><td>14</td><td>R</td><td>2</td><td>2</td><td>2019</td><td> 0.94</td><td>0.69</td><td>6</td><td>outside</td></tr>\n",
              "\t<tr><td>14614</td><td>2019-06-20</td><td>FF</td><td>4-Seam Fastball</td><td>94.1</td><td>502671</td><td>NA       </td><td>14</td><td>R</td><td>1</td><td>2</td><td>2019</td><td> 1.06</td><td>2.22</td><td>5</td><td>outside</td></tr>\n",
              "\t<tr><td>14615</td><td>2019-06-20</td><td>FC</td><td>Cutter         </td><td>86.1</td><td>502671</td><td>NA       </td><td>14</td><td>R</td><td>1</td><td>2</td><td>2019</td><td> 1.39</td><td>2.00</td><td>4</td><td>outside</td></tr>\n",
              "\t<tr><td>14616</td><td>2019-06-20</td><td>CH</td><td>Changeup       </td><td>85.6</td><td>502671</td><td>NA       </td><td>13</td><td>R</td><td>1</td><td>1</td><td>2019</td><td>-1.03</td><td>2.25</td><td>3</td><td>inside </td></tr>\n",
              "\t<tr><td>14617</td><td>2019-06-20</td><td>FC</td><td>Cutter         </td><td>85.4</td><td>502671</td><td>NA       </td><td>14</td><td>R</td><td>0</td><td>1</td><td>2019</td><td> 0.94</td><td>1.23</td><td>2</td><td>outside</td></tr>\n",
              "\t<tr><td>14618</td><td>2019-06-20</td><td>FC</td><td>Cutter         </td><td>85.8</td><td>502671</td><td>NA       </td><td> 5</td><td>R</td><td>0</td><td>0</td><td>2019</td><td> 0.09</td><td>2.30</td><td>1</td><td>outside</td></tr>\n",
              "\t<tr><td>14619</td><td>2019-06-20</td><td>CH</td><td>Changeup       </td><td>85.6</td><td>657557</td><td>strikeout</td><td>14</td><td>R</td><td>2</td><td>2</td><td>2019</td><td> 0.43</td><td>0.74</td><td>7</td><td>outside</td></tr>\n",
              "\t<tr><td>14620</td><td>2019-06-20</td><td>FF</td><td>4-Seam Fastball</td><td>92.8</td><td>657557</td><td>NA       </td><td>11</td><td>R</td><td>2</td><td>2</td><td>2019</td><td>-0.40</td><td>3.58</td><td>6</td><td>inside </td></tr>\n",
              "\t<tr><td>14621</td><td>2019-06-20</td><td>CH</td><td>Changeup       </td><td>85.8</td><td>657557</td><td>NA       </td><td>14</td><td>R</td><td>1</td><td>2</td><td>2019</td><td> 0.19</td><td>0.85</td><td>5</td><td>outside</td></tr>\n",
              "\t<tr><td>14622</td><td>2019-06-20</td><td>FC</td><td>Cutter         </td><td>84.6</td><td>657557</td><td>NA       </td><td> 5</td><td>R</td><td>1</td><td>2</td><td>2019</td><td> 0.05</td><td>2.16</td><td>4</td><td>outside</td></tr>\n",
              "\t<tr><td>14623</td><td>2019-06-20</td><td>FC</td><td>Cutter         </td><td>85.5</td><td>657557</td><td>NA       </td><td>14</td><td>R</td><td>0</td><td>2</td><td>2019</td><td> 0.85</td><td>0.60</td><td>3</td><td>outside</td></tr>\n",
              "\t<tr><td>14624</td><td>2019-06-20</td><td>FC</td><td>Cutter         </td><td>87.0</td><td>657557</td><td>NA       </td><td>14</td><td>R</td><td>0</td><td>1</td><td>2019</td><td> 0.35</td><td>1.21</td><td>2</td><td>outside</td></tr>\n",
              "\t<tr><td>14625</td><td>2019-06-20</td><td>FF</td><td>4-Seam Fastball</td><td>92.8</td><td>657557</td><td>NA       </td><td> 9</td><td>R</td><td>0</td><td>0</td><td>2019</td><td> 0.40</td><td>2.14</td><td>1</td><td>outside</td></tr>\n",
              "\t<tr><td>14626</td><td>2019-06-20</td><td>FF</td><td>4-Seam Fastball</td><td>93.4</td><td>572761</td><td>field_out</td><td>11</td><td>L</td><td>3</td><td>2</td><td>2019</td><td>-0.98</td><td>2.76</td><td>6</td><td>outside</td></tr>\n",
              "\t<tr><td>14627</td><td>2019-06-20</td><td>FF</td><td>4-Seam Fastball</td><td>91.1</td><td>572761</td><td>NA       </td><td> 3</td><td>L</td><td>3</td><td>1</td><td>2019</td><td> 0.28</td><td>3.29</td><td>5</td><td>inside </td></tr>\n",
              "\t<tr><td>14628</td><td>2019-06-20</td><td>CH</td><td>Changeup       </td><td>83.9</td><td>572761</td><td>NA       </td><td>14</td><td>L</td><td>2</td><td>1</td><td>2019</td><td> 1.06</td><td>0.75</td><td>4</td><td>inside </td></tr>\n",
              "\t<tr><td>14629</td><td>2019-06-20</td><td>KC</td><td>Knuckle Curve  </td><td>77.8</td><td>572761</td><td>NA       </td><td> 8</td><td>L</td><td>1</td><td>1</td><td>2019</td><td> 0.23</td><td>1.68</td><td>3</td><td>inside </td></tr>\n",
              "\t<tr><td>14630</td><td>2019-06-20</td><td>FF</td><td>4-Seam Fastball</td><td>92.9</td><td>572761</td><td>NA       </td><td>13</td><td>L</td><td>0</td><td>1</td><td>2019</td><td>-0.34</td><td>0.98</td><td>2</td><td>outside</td></tr>\n",
              "\t<tr><td>14631</td><td>2019-06-20</td><td>FF</td><td>4-Seam Fastball</td><td>91.3</td><td>572761</td><td>NA       </td><td> 1</td><td>L</td><td>0</td><td>0</td><td>2019</td><td>-0.42</td><td>3.12</td><td>1</td><td>outside</td></tr>\n",
              "</tbody>\n",
              "</table>\n"
            ],
            "text/markdown": "\nA spec_tbl_df: 14451 × 16\n\n| ...1 &lt;dbl&gt; | game_date &lt;date&gt; | pitch_type &lt;chr&gt; | pitch_name &lt;chr&gt; | release_speed &lt;dbl&gt; | batter &lt;dbl&gt; | events &lt;chr&gt; | zone &lt;dbl&gt; | stand &lt;chr&gt; | balls &lt;dbl&gt; | strikes &lt;dbl&gt; | game_year &lt;dbl&gt; | plate_x &lt;dbl&gt; | plate_z &lt;dbl&gt; | pitch_number &lt;dbl&gt; | in_out &lt;chr&gt; |\n|---|---|---|---|---|---|---|---|---|---|---|---|---|---|---|---|\n|  0 | 2024-09-25 | KC | Knuckle Curve   | 82.9 | 656305 | strikeout | 14 | R | 2 | 2 | 2024 |  0.47 | 0.96 | 5 | outside |\n|  1 | 2024-09-25 | KC | Knuckle Curve   | 82.7 | 656305 | NA        |  9 | R | 2 | 1 | 2024 |  0.55 | 1.68 | 4 | outside |\n|  2 | 2024-09-25 | KC | Knuckle Curve   | 82.7 | 656305 | NA        | 11 | R | 1 | 1 | 2024 | -1.88 | 3.08 | 3 | inside  |\n|  3 | 2024-09-25 | FF | 4-Seam Fastball | 94.8 | 656305 | NA        | 13 | R | 1 | 0 | 2024 | -0.85 | 2.38 | 2 | inside  |\n|  4 | 2024-09-25 | KC | Knuckle Curve   | 82.8 | 656305 | NA        | 11 | R | 0 | 0 | 2024 | -1.69 | 3.56 | 1 | inside  |\n|  5 | 2024-09-25 | FF | 4-Seam Fastball | 94.6 | 664774 | field_out |  6 | L | 3 | 1 | 2024 |  0.39 | 2.19 | 5 | inside  |\n|  6 | 2024-09-25 | KC | Knuckle Curve   | 83.1 | 664774 | NA        | 13 | L | 2 | 1 | 2024 | -0.14 | 0.68 | 4 | outside |\n|  7 | 2024-09-25 | CH | Changeup        | 85.9 | 664774 | NA        | 13 | L | 1 | 1 | 2024 | -1.26 | 2.17 | 3 | outside |\n|  8 | 2024-09-25 | FF | 4-Seam Fastball | 93.6 | 664774 | NA        |  8 | L | 1 | 0 | 2024 |  0.12 | 1.65 | 2 | inside  |\n|  9 | 2024-09-25 | KC | Knuckle Curve   | 82.8 | 664774 | NA        | 13 | L | 0 | 0 | 2024 | -0.41 | 0.82 | 1 | outside |\n| 10 | 2024-09-25 | CH | Changeup        | 87.3 | 671218 | double    |  4 | R | 0 | 2 | 2024 | -0.40 | 2.60 | 3 | inside  |\n| 11 | 2024-09-25 | FF | 4-Seam Fastball | 92.6 | 671218 | NA        |  6 | R | 0 | 1 | 2024 |  0.54 | 1.99 | 2 | outside |\n| 12 | 2024-09-25 | KC | Knuckle Curve   | 81.8 | 671218 | NA        |  8 | R | 0 | 0 | 2024 | -0.05 | 1.92 | 1 | inside  |\n| 13 | 2024-09-25 | FF | 4-Seam Fastball | 93.5 | 573262 | field_out |  2 | L | 1 | 2 | 2024 |  0.03 | 3.37 | 4 | inside  |\n| 14 | 2024-09-25 | CH | Changeup        | 86.3 | 573262 | NA        |  4 | L | 1 | 1 | 2024 | -0.63 | 2.16 | 3 | outside |\n| 15 | 2024-09-25 | FF | 4-Seam Fastball | 91.7 | 573262 | NA        | 14 | L | 0 | 1 | 2024 |  1.44 | 2.61 | 2 | inside  |\n| 16 | 2024-09-25 | FF | 4-Seam Fastball | 91.9 | 573262 | NA        |  9 | L | 0 | 0 | 2024 |  0.31 | 2.00 | 1 | inside  |\n| 17 | 2024-09-25 | KC | Knuckle Curve   | 83.2 | 689172 | strikeout | 14 | L | 2 | 2 | 2024 |  0.35 | 0.22 | 5 | inside  |\n| 18 | 2024-09-25 | CH | Changeup        | 86.0 | 689172 | NA        |  7 | L | 2 | 1 | 2024 | -0.60 | 1.64 | 4 | outside |\n| 19 | 2024-09-25 | CH | Changeup        | 85.1 | 689172 | NA        | 13 | L | 1 | 1 | 2024 | -1.31 | 1.90 | 3 | outside |\n| 20 | 2024-09-25 | FF | 4-Seam Fastball | 93.1 | 689172 | NA        | 13 | L | 1 | 0 | 2024 | -0.36 | 1.45 | 2 | outside |\n| 21 | 2024-09-25 | KC | Knuckle Curve   | 80.3 | 689172 | NA        | 13 | L | 0 | 0 | 2024 | -0.96 | 1.70 | 1 | outside |\n| 22 | 2024-09-25 | KC | Knuckle Curve   | 81.7 | 687529 | strikeout | 14 | L | 0 | 2 | 2024 |  0.62 | 0.66 | 4 | inside  |\n| 23 | 2024-09-25 | FF | 4-Seam Fastball | 93.8 | 687529 | NA        |  4 | L | 0 | 2 | 2024 | -0.38 | 2.52 | 3 | outside |\n| 24 | 2024-09-25 | KC | Knuckle Curve   | 81.3 | 687529 | NA        | 14 | L | 0 | 1 | 2024 |  0.02 | 1.46 | 2 | inside  |\n| 25 | 2024-09-25 | FF | 4-Seam Fastball | 93.3 | 687529 | NA        |  4 | L | 0 | 0 | 2024 | -0.79 | 2.84 | 1 | outside |\n| 26 | 2024-09-25 | FC | Cutter          | 89.3 | 666149 | strikeout | 14 | R | 3 | 2 | 2024 |  0.21 | 1.43 | 7 | outside |\n| 27 | 2024-09-25 | SL | Slider          | 86.9 | 666149 | NA        | 14 | R | 2 | 2 | 2024 |  0.85 | 0.31 | 6 | outside |\n| 28 | 2024-09-25 | KC | Knuckle Curve   | 79.8 | 666149 | NA        |  7 | R | 2 | 2 | 2024 | -0.73 | 1.90 | 5 | inside  |\n| 29 | 2024-09-25 | FF | 4-Seam Fastball | 93.7 | 666149 | NA        | 14 | R | 1 | 2 | 2024 |  1.90 | 1.32 | 4 | outside |\n| ⋮ | ⋮ | ⋮ | ⋮ | ⋮ | ⋮ | ⋮ | ⋮ | ⋮ | ⋮ | ⋮ | ⋮ | ⋮ | ⋮ | ⋮ | ⋮ |\n| 14602 | 2019-06-20 | FC | Cutter          | 87.2 | 425877 | NA        | 14 | R | 1 | 1 | 2019 |  1.17 | 1.09 | 3 | outside |\n| 14603 | 2019-06-20 | FC | Cutter          | 87.4 | 425877 | NA        |  6 | R | 1 | 0 | 2019 |  0.37 | 2.62 | 2 | outside |\n| 14604 | 2019-06-20 | KC | Knuckle Curve   | 80.7 | 425877 | NA        | 14 | R | 0 | 0 | 2019 |  0.37 | 1.21 | 1 | outside |\n| 14605 | 2019-06-20 | FF | 4-Seam Fastball | 93.4 | 500874 | single    |  5 | R | 2 | 2 | 2019 |  0.17 | 2.69 | 6 | outside |\n| 14606 | 2019-06-20 | FF | 4-Seam Fastball | 92.0 | 500874 | NA        |  2 | R | 2 | 2 | 2019 | -0.02 | 3.35 | 5 | inside  |\n| 14607 | 2019-06-20 | FC | Cutter          | 85.7 | 500874 | NA        | 14 | R | 1 | 2 | 2019 |  1.64 | 0.89 | 4 | outside |\n| 14608 | 2019-06-20 | FC | Cutter          | 85.7 | 500874 | NA        | 14 | R | 0 | 2 | 2019 |  0.75 | 0.86 | 3 | outside |\n| 14609 | 2019-06-20 | FC | Cutter          | 84.9 | 500874 | NA        | 14 | R | 0 | 1 | 2019 |  1.13 | 2.11 | 2 | outside |\n| 14610 | 2019-06-20 | KC | Knuckle Curve   | 78.4 | 500874 | NA        | 13 | R | 0 | 0 | 2019 | -0.67 | 1.57 | 1 | inside  |\n| 14611 | 2019-06-20 | KC | Knuckle Curve   | 76.9 | 542303 | field_out |  5 | R | 0 | 0 | 2019 |  0.02 | 2.25 | 1 | outside |\n| 14612 | 2019-06-20 | FF | 4-Seam Fastball | 93.7 | 502671 | strikeout |  6 | R | 3 | 2 | 2019 |  0.71 | 2.28 | 7 | outside |\n| 14613 | 2019-06-20 | FC | Cutter          | 86.0 | 502671 | NA        | 14 | R | 2 | 2 | 2019 |  0.94 | 0.69 | 6 | outside |\n| 14614 | 2019-06-20 | FF | 4-Seam Fastball | 94.1 | 502671 | NA        | 14 | R | 1 | 2 | 2019 |  1.06 | 2.22 | 5 | outside |\n| 14615 | 2019-06-20 | FC | Cutter          | 86.1 | 502671 | NA        | 14 | R | 1 | 2 | 2019 |  1.39 | 2.00 | 4 | outside |\n| 14616 | 2019-06-20 | CH | Changeup        | 85.6 | 502671 | NA        | 13 | R | 1 | 1 | 2019 | -1.03 | 2.25 | 3 | inside  |\n| 14617 | 2019-06-20 | FC | Cutter          | 85.4 | 502671 | NA        | 14 | R | 0 | 1 | 2019 |  0.94 | 1.23 | 2 | outside |\n| 14618 | 2019-06-20 | FC | Cutter          | 85.8 | 502671 | NA        |  5 | R | 0 | 0 | 2019 |  0.09 | 2.30 | 1 | outside |\n| 14619 | 2019-06-20 | CH | Changeup        | 85.6 | 657557 | strikeout | 14 | R | 2 | 2 | 2019 |  0.43 | 0.74 | 7 | outside |\n| 14620 | 2019-06-20 | FF | 4-Seam Fastball | 92.8 | 657557 | NA        | 11 | R | 2 | 2 | 2019 | -0.40 | 3.58 | 6 | inside  |\n| 14621 | 2019-06-20 | CH | Changeup        | 85.8 | 657557 | NA        | 14 | R | 1 | 2 | 2019 |  0.19 | 0.85 | 5 | outside |\n| 14622 | 2019-06-20 | FC | Cutter          | 84.6 | 657557 | NA        |  5 | R | 1 | 2 | 2019 |  0.05 | 2.16 | 4 | outside |\n| 14623 | 2019-06-20 | FC | Cutter          | 85.5 | 657557 | NA        | 14 | R | 0 | 2 | 2019 |  0.85 | 0.60 | 3 | outside |\n| 14624 | 2019-06-20 | FC | Cutter          | 87.0 | 657557 | NA        | 14 | R | 0 | 1 | 2019 |  0.35 | 1.21 | 2 | outside |\n| 14625 | 2019-06-20 | FF | 4-Seam Fastball | 92.8 | 657557 | NA        |  9 | R | 0 | 0 | 2019 |  0.40 | 2.14 | 1 | outside |\n| 14626 | 2019-06-20 | FF | 4-Seam Fastball | 93.4 | 572761 | field_out | 11 | L | 3 | 2 | 2019 | -0.98 | 2.76 | 6 | outside |\n| 14627 | 2019-06-20 | FF | 4-Seam Fastball | 91.1 | 572761 | NA        |  3 | L | 3 | 1 | 2019 |  0.28 | 3.29 | 5 | inside  |\n| 14628 | 2019-06-20 | CH | Changeup        | 83.9 | 572761 | NA        | 14 | L | 2 | 1 | 2019 |  1.06 | 0.75 | 4 | inside  |\n| 14629 | 2019-06-20 | KC | Knuckle Curve   | 77.8 | 572761 | NA        |  8 | L | 1 | 1 | 2019 |  0.23 | 1.68 | 3 | inside  |\n| 14630 | 2019-06-20 | FF | 4-Seam Fastball | 92.9 | 572761 | NA        | 13 | L | 0 | 1 | 2019 | -0.34 | 0.98 | 2 | outside |\n| 14631 | 2019-06-20 | FF | 4-Seam Fastball | 91.3 | 572761 | NA        |  1 | L | 0 | 0 | 2019 | -0.42 | 3.12 | 1 | outside |\n\n",
            "text/latex": "A spec\\_tbl\\_df: 14451 × 16\n\\begin{tabular}{llllllllllllllll}\n ...1 & game\\_date & pitch\\_type & pitch\\_name & release\\_speed & batter & events & zone & stand & balls & strikes & game\\_year & plate\\_x & plate\\_z & pitch\\_number & in\\_out\\\\\n <dbl> & <date> & <chr> & <chr> & <dbl> & <dbl> & <chr> & <dbl> & <chr> & <dbl> & <dbl> & <dbl> & <dbl> & <dbl> & <dbl> & <chr>\\\\\n\\hline\n\t  0 & 2024-09-25 & KC & Knuckle Curve   & 82.9 & 656305 & strikeout & 14 & R & 2 & 2 & 2024 &  0.47 & 0.96 & 5 & outside\\\\\n\t  1 & 2024-09-25 & KC & Knuckle Curve   & 82.7 & 656305 & NA        &  9 & R & 2 & 1 & 2024 &  0.55 & 1.68 & 4 & outside\\\\\n\t  2 & 2024-09-25 & KC & Knuckle Curve   & 82.7 & 656305 & NA        & 11 & R & 1 & 1 & 2024 & -1.88 & 3.08 & 3 & inside \\\\\n\t  3 & 2024-09-25 & FF & 4-Seam Fastball & 94.8 & 656305 & NA        & 13 & R & 1 & 0 & 2024 & -0.85 & 2.38 & 2 & inside \\\\\n\t  4 & 2024-09-25 & KC & Knuckle Curve   & 82.8 & 656305 & NA        & 11 & R & 0 & 0 & 2024 & -1.69 & 3.56 & 1 & inside \\\\\n\t  5 & 2024-09-25 & FF & 4-Seam Fastball & 94.6 & 664774 & field\\_out &  6 & L & 3 & 1 & 2024 &  0.39 & 2.19 & 5 & inside \\\\\n\t  6 & 2024-09-25 & KC & Knuckle Curve   & 83.1 & 664774 & NA        & 13 & L & 2 & 1 & 2024 & -0.14 & 0.68 & 4 & outside\\\\\n\t  7 & 2024-09-25 & CH & Changeup        & 85.9 & 664774 & NA        & 13 & L & 1 & 1 & 2024 & -1.26 & 2.17 & 3 & outside\\\\\n\t  8 & 2024-09-25 & FF & 4-Seam Fastball & 93.6 & 664774 & NA        &  8 & L & 1 & 0 & 2024 &  0.12 & 1.65 & 2 & inside \\\\\n\t  9 & 2024-09-25 & KC & Knuckle Curve   & 82.8 & 664774 & NA        & 13 & L & 0 & 0 & 2024 & -0.41 & 0.82 & 1 & outside\\\\\n\t 10 & 2024-09-25 & CH & Changeup        & 87.3 & 671218 & double    &  4 & R & 0 & 2 & 2024 & -0.40 & 2.60 & 3 & inside \\\\\n\t 11 & 2024-09-25 & FF & 4-Seam Fastball & 92.6 & 671218 & NA        &  6 & R & 0 & 1 & 2024 &  0.54 & 1.99 & 2 & outside\\\\\n\t 12 & 2024-09-25 & KC & Knuckle Curve   & 81.8 & 671218 & NA        &  8 & R & 0 & 0 & 2024 & -0.05 & 1.92 & 1 & inside \\\\\n\t 13 & 2024-09-25 & FF & 4-Seam Fastball & 93.5 & 573262 & field\\_out &  2 & L & 1 & 2 & 2024 &  0.03 & 3.37 & 4 & inside \\\\\n\t 14 & 2024-09-25 & CH & Changeup        & 86.3 & 573262 & NA        &  4 & L & 1 & 1 & 2024 & -0.63 & 2.16 & 3 & outside\\\\\n\t 15 & 2024-09-25 & FF & 4-Seam Fastball & 91.7 & 573262 & NA        & 14 & L & 0 & 1 & 2024 &  1.44 & 2.61 & 2 & inside \\\\\n\t 16 & 2024-09-25 & FF & 4-Seam Fastball & 91.9 & 573262 & NA        &  9 & L & 0 & 0 & 2024 &  0.31 & 2.00 & 1 & inside \\\\\n\t 17 & 2024-09-25 & KC & Knuckle Curve   & 83.2 & 689172 & strikeout & 14 & L & 2 & 2 & 2024 &  0.35 & 0.22 & 5 & inside \\\\\n\t 18 & 2024-09-25 & CH & Changeup        & 86.0 & 689172 & NA        &  7 & L & 2 & 1 & 2024 & -0.60 & 1.64 & 4 & outside\\\\\n\t 19 & 2024-09-25 & CH & Changeup        & 85.1 & 689172 & NA        & 13 & L & 1 & 1 & 2024 & -1.31 & 1.90 & 3 & outside\\\\\n\t 20 & 2024-09-25 & FF & 4-Seam Fastball & 93.1 & 689172 & NA        & 13 & L & 1 & 0 & 2024 & -0.36 & 1.45 & 2 & outside\\\\\n\t 21 & 2024-09-25 & KC & Knuckle Curve   & 80.3 & 689172 & NA        & 13 & L & 0 & 0 & 2024 & -0.96 & 1.70 & 1 & outside\\\\\n\t 22 & 2024-09-25 & KC & Knuckle Curve   & 81.7 & 687529 & strikeout & 14 & L & 0 & 2 & 2024 &  0.62 & 0.66 & 4 & inside \\\\\n\t 23 & 2024-09-25 & FF & 4-Seam Fastball & 93.8 & 687529 & NA        &  4 & L & 0 & 2 & 2024 & -0.38 & 2.52 & 3 & outside\\\\\n\t 24 & 2024-09-25 & KC & Knuckle Curve   & 81.3 & 687529 & NA        & 14 & L & 0 & 1 & 2024 &  0.02 & 1.46 & 2 & inside \\\\\n\t 25 & 2024-09-25 & FF & 4-Seam Fastball & 93.3 & 687529 & NA        &  4 & L & 0 & 0 & 2024 & -0.79 & 2.84 & 1 & outside\\\\\n\t 26 & 2024-09-25 & FC & Cutter          & 89.3 & 666149 & strikeout & 14 & R & 3 & 2 & 2024 &  0.21 & 1.43 & 7 & outside\\\\\n\t 27 & 2024-09-25 & SL & Slider          & 86.9 & 666149 & NA        & 14 & R & 2 & 2 & 2024 &  0.85 & 0.31 & 6 & outside\\\\\n\t 28 & 2024-09-25 & KC & Knuckle Curve   & 79.8 & 666149 & NA        &  7 & R & 2 & 2 & 2024 & -0.73 & 1.90 & 5 & inside \\\\\n\t 29 & 2024-09-25 & FF & 4-Seam Fastball & 93.7 & 666149 & NA        & 14 & R & 1 & 2 & 2024 &  1.90 & 1.32 & 4 & outside\\\\\n\t ⋮ & ⋮ & ⋮ & ⋮ & ⋮ & ⋮ & ⋮ & ⋮ & ⋮ & ⋮ & ⋮ & ⋮ & ⋮ & ⋮ & ⋮ & ⋮\\\\\n\t 14602 & 2019-06-20 & FC & Cutter          & 87.2 & 425877 & NA        & 14 & R & 1 & 1 & 2019 &  1.17 & 1.09 & 3 & outside\\\\\n\t 14603 & 2019-06-20 & FC & Cutter          & 87.4 & 425877 & NA        &  6 & R & 1 & 0 & 2019 &  0.37 & 2.62 & 2 & outside\\\\\n\t 14604 & 2019-06-20 & KC & Knuckle Curve   & 80.7 & 425877 & NA        & 14 & R & 0 & 0 & 2019 &  0.37 & 1.21 & 1 & outside\\\\\n\t 14605 & 2019-06-20 & FF & 4-Seam Fastball & 93.4 & 500874 & single    &  5 & R & 2 & 2 & 2019 &  0.17 & 2.69 & 6 & outside\\\\\n\t 14606 & 2019-06-20 & FF & 4-Seam Fastball & 92.0 & 500874 & NA        &  2 & R & 2 & 2 & 2019 & -0.02 & 3.35 & 5 & inside \\\\\n\t 14607 & 2019-06-20 & FC & Cutter          & 85.7 & 500874 & NA        & 14 & R & 1 & 2 & 2019 &  1.64 & 0.89 & 4 & outside\\\\\n\t 14608 & 2019-06-20 & FC & Cutter          & 85.7 & 500874 & NA        & 14 & R & 0 & 2 & 2019 &  0.75 & 0.86 & 3 & outside\\\\\n\t 14609 & 2019-06-20 & FC & Cutter          & 84.9 & 500874 & NA        & 14 & R & 0 & 1 & 2019 &  1.13 & 2.11 & 2 & outside\\\\\n\t 14610 & 2019-06-20 & KC & Knuckle Curve   & 78.4 & 500874 & NA        & 13 & R & 0 & 0 & 2019 & -0.67 & 1.57 & 1 & inside \\\\\n\t 14611 & 2019-06-20 & KC & Knuckle Curve   & 76.9 & 542303 & field\\_out &  5 & R & 0 & 0 & 2019 &  0.02 & 2.25 & 1 & outside\\\\\n\t 14612 & 2019-06-20 & FF & 4-Seam Fastball & 93.7 & 502671 & strikeout &  6 & R & 3 & 2 & 2019 &  0.71 & 2.28 & 7 & outside\\\\\n\t 14613 & 2019-06-20 & FC & Cutter          & 86.0 & 502671 & NA        & 14 & R & 2 & 2 & 2019 &  0.94 & 0.69 & 6 & outside\\\\\n\t 14614 & 2019-06-20 & FF & 4-Seam Fastball & 94.1 & 502671 & NA        & 14 & R & 1 & 2 & 2019 &  1.06 & 2.22 & 5 & outside\\\\\n\t 14615 & 2019-06-20 & FC & Cutter          & 86.1 & 502671 & NA        & 14 & R & 1 & 2 & 2019 &  1.39 & 2.00 & 4 & outside\\\\\n\t 14616 & 2019-06-20 & CH & Changeup        & 85.6 & 502671 & NA        & 13 & R & 1 & 1 & 2019 & -1.03 & 2.25 & 3 & inside \\\\\n\t 14617 & 2019-06-20 & FC & Cutter          & 85.4 & 502671 & NA        & 14 & R & 0 & 1 & 2019 &  0.94 & 1.23 & 2 & outside\\\\\n\t 14618 & 2019-06-20 & FC & Cutter          & 85.8 & 502671 & NA        &  5 & R & 0 & 0 & 2019 &  0.09 & 2.30 & 1 & outside\\\\\n\t 14619 & 2019-06-20 & CH & Changeup        & 85.6 & 657557 & strikeout & 14 & R & 2 & 2 & 2019 &  0.43 & 0.74 & 7 & outside\\\\\n\t 14620 & 2019-06-20 & FF & 4-Seam Fastball & 92.8 & 657557 & NA        & 11 & R & 2 & 2 & 2019 & -0.40 & 3.58 & 6 & inside \\\\\n\t 14621 & 2019-06-20 & CH & Changeup        & 85.8 & 657557 & NA        & 14 & R & 1 & 2 & 2019 &  0.19 & 0.85 & 5 & outside\\\\\n\t 14622 & 2019-06-20 & FC & Cutter          & 84.6 & 657557 & NA        &  5 & R & 1 & 2 & 2019 &  0.05 & 2.16 & 4 & outside\\\\\n\t 14623 & 2019-06-20 & FC & Cutter          & 85.5 & 657557 & NA        & 14 & R & 0 & 2 & 2019 &  0.85 & 0.60 & 3 & outside\\\\\n\t 14624 & 2019-06-20 & FC & Cutter          & 87.0 & 657557 & NA        & 14 & R & 0 & 1 & 2019 &  0.35 & 1.21 & 2 & outside\\\\\n\t 14625 & 2019-06-20 & FF & 4-Seam Fastball & 92.8 & 657557 & NA        &  9 & R & 0 & 0 & 2019 &  0.40 & 2.14 & 1 & outside\\\\\n\t 14626 & 2019-06-20 & FF & 4-Seam Fastball & 93.4 & 572761 & field\\_out & 11 & L & 3 & 2 & 2019 & -0.98 & 2.76 & 6 & outside\\\\\n\t 14627 & 2019-06-20 & FF & 4-Seam Fastball & 91.1 & 572761 & NA        &  3 & L & 3 & 1 & 2019 &  0.28 & 3.29 & 5 & inside \\\\\n\t 14628 & 2019-06-20 & CH & Changeup        & 83.9 & 572761 & NA        & 14 & L & 2 & 1 & 2019 &  1.06 & 0.75 & 4 & inside \\\\\n\t 14629 & 2019-06-20 & KC & Knuckle Curve   & 77.8 & 572761 & NA        &  8 & L & 1 & 1 & 2019 &  0.23 & 1.68 & 3 & inside \\\\\n\t 14630 & 2019-06-20 & FF & 4-Seam Fastball & 92.9 & 572761 & NA        & 13 & L & 0 & 1 & 2019 & -0.34 & 0.98 & 2 & outside\\\\\n\t 14631 & 2019-06-20 & FF & 4-Seam Fastball & 91.3 & 572761 & NA        &  1 & L & 0 & 0 & 2019 & -0.42 & 3.12 & 1 & outside\\\\\n\\end{tabular}\n",
            "text/plain": [
              "      ...1  game_date  pitch_type pitch_name      release_speed batter\n",
              "1      0    2024-09-25 KC         Knuckle Curve   82.9          656305\n",
              "2      1    2024-09-25 KC         Knuckle Curve   82.7          656305\n",
              "3      2    2024-09-25 KC         Knuckle Curve   82.7          656305\n",
              "4      3    2024-09-25 FF         4-Seam Fastball 94.8          656305\n",
              "5      4    2024-09-25 KC         Knuckle Curve   82.8          656305\n",
              "6      5    2024-09-25 FF         4-Seam Fastball 94.6          664774\n",
              "7      6    2024-09-25 KC         Knuckle Curve   83.1          664774\n",
              "8      7    2024-09-25 CH         Changeup        85.9          664774\n",
              "9      8    2024-09-25 FF         4-Seam Fastball 93.6          664774\n",
              "10     9    2024-09-25 KC         Knuckle Curve   82.8          664774\n",
              "11    10    2024-09-25 CH         Changeup        87.3          671218\n",
              "12    11    2024-09-25 FF         4-Seam Fastball 92.6          671218\n",
              "13    12    2024-09-25 KC         Knuckle Curve   81.8          671218\n",
              "14    13    2024-09-25 FF         4-Seam Fastball 93.5          573262\n",
              "15    14    2024-09-25 CH         Changeup        86.3          573262\n",
              "16    15    2024-09-25 FF         4-Seam Fastball 91.7          573262\n",
              "17    16    2024-09-25 FF         4-Seam Fastball 91.9          573262\n",
              "18    17    2024-09-25 KC         Knuckle Curve   83.2          689172\n",
              "19    18    2024-09-25 CH         Changeup        86.0          689172\n",
              "20    19    2024-09-25 CH         Changeup        85.1          689172\n",
              "21    20    2024-09-25 FF         4-Seam Fastball 93.1          689172\n",
              "22    21    2024-09-25 KC         Knuckle Curve   80.3          689172\n",
              "23    22    2024-09-25 KC         Knuckle Curve   81.7          687529\n",
              "24    23    2024-09-25 FF         4-Seam Fastball 93.8          687529\n",
              "25    24    2024-09-25 KC         Knuckle Curve   81.3          687529\n",
              "26    25    2024-09-25 FF         4-Seam Fastball 93.3          687529\n",
              "27    26    2024-09-25 FC         Cutter          89.3          666149\n",
              "28    27    2024-09-25 SL         Slider          86.9          666149\n",
              "29    28    2024-09-25 KC         Knuckle Curve   79.8          666149\n",
              "30    29    2024-09-25 FF         4-Seam Fastball 93.7          666149\n",
              "⋮     ⋮     ⋮          ⋮          ⋮               ⋮             ⋮     \n",
              "14422 14602 2019-06-20 FC         Cutter          87.2          425877\n",
              "14423 14603 2019-06-20 FC         Cutter          87.4          425877\n",
              "14424 14604 2019-06-20 KC         Knuckle Curve   80.7          425877\n",
              "14425 14605 2019-06-20 FF         4-Seam Fastball 93.4          500874\n",
              "14426 14606 2019-06-20 FF         4-Seam Fastball 92.0          500874\n",
              "14427 14607 2019-06-20 FC         Cutter          85.7          500874\n",
              "14428 14608 2019-06-20 FC         Cutter          85.7          500874\n",
              "14429 14609 2019-06-20 FC         Cutter          84.9          500874\n",
              "14430 14610 2019-06-20 KC         Knuckle Curve   78.4          500874\n",
              "14431 14611 2019-06-20 KC         Knuckle Curve   76.9          542303\n",
              "14432 14612 2019-06-20 FF         4-Seam Fastball 93.7          502671\n",
              "14433 14613 2019-06-20 FC         Cutter          86.0          502671\n",
              "14434 14614 2019-06-20 FF         4-Seam Fastball 94.1          502671\n",
              "14435 14615 2019-06-20 FC         Cutter          86.1          502671\n",
              "14436 14616 2019-06-20 CH         Changeup        85.6          502671\n",
              "14437 14617 2019-06-20 FC         Cutter          85.4          502671\n",
              "14438 14618 2019-06-20 FC         Cutter          85.8          502671\n",
              "14439 14619 2019-06-20 CH         Changeup        85.6          657557\n",
              "14440 14620 2019-06-20 FF         4-Seam Fastball 92.8          657557\n",
              "14441 14621 2019-06-20 CH         Changeup        85.8          657557\n",
              "14442 14622 2019-06-20 FC         Cutter          84.6          657557\n",
              "14443 14623 2019-06-20 FC         Cutter          85.5          657557\n",
              "14444 14624 2019-06-20 FC         Cutter          87.0          657557\n",
              "14445 14625 2019-06-20 FF         4-Seam Fastball 92.8          657557\n",
              "14446 14626 2019-06-20 FF         4-Seam Fastball 93.4          572761\n",
              "14447 14627 2019-06-20 FF         4-Seam Fastball 91.1          572761\n",
              "14448 14628 2019-06-20 CH         Changeup        83.9          572761\n",
              "14449 14629 2019-06-20 KC         Knuckle Curve   77.8          572761\n",
              "14450 14630 2019-06-20 FF         4-Seam Fastball 92.9          572761\n",
              "14451 14631 2019-06-20 FF         4-Seam Fastball 91.3          572761\n",
              "      events    zone stand balls strikes game_year plate_x plate_z pitch_number\n",
              "1     strikeout 14   R     2     2       2024       0.47   0.96    5           \n",
              "2     NA         9   R     2     1       2024       0.55   1.68    4           \n",
              "3     NA        11   R     1     1       2024      -1.88   3.08    3           \n",
              "4     NA        13   R     1     0       2024      -0.85   2.38    2           \n",
              "5     NA        11   R     0     0       2024      -1.69   3.56    1           \n",
              "6     field_out  6   L     3     1       2024       0.39   2.19    5           \n",
              "7     NA        13   L     2     1       2024      -0.14   0.68    4           \n",
              "8     NA        13   L     1     1       2024      -1.26   2.17    3           \n",
              "9     NA         8   L     1     0       2024       0.12   1.65    2           \n",
              "10    NA        13   L     0     0       2024      -0.41   0.82    1           \n",
              "11    double     4   R     0     2       2024      -0.40   2.60    3           \n",
              "12    NA         6   R     0     1       2024       0.54   1.99    2           \n",
              "13    NA         8   R     0     0       2024      -0.05   1.92    1           \n",
              "14    field_out  2   L     1     2       2024       0.03   3.37    4           \n",
              "15    NA         4   L     1     1       2024      -0.63   2.16    3           \n",
              "16    NA        14   L     0     1       2024       1.44   2.61    2           \n",
              "17    NA         9   L     0     0       2024       0.31   2.00    1           \n",
              "18    strikeout 14   L     2     2       2024       0.35   0.22    5           \n",
              "19    NA         7   L     2     1       2024      -0.60   1.64    4           \n",
              "20    NA        13   L     1     1       2024      -1.31   1.90    3           \n",
              "21    NA        13   L     1     0       2024      -0.36   1.45    2           \n",
              "22    NA        13   L     0     0       2024      -0.96   1.70    1           \n",
              "23    strikeout 14   L     0     2       2024       0.62   0.66    4           \n",
              "24    NA         4   L     0     2       2024      -0.38   2.52    3           \n",
              "25    NA        14   L     0     1       2024       0.02   1.46    2           \n",
              "26    NA         4   L     0     0       2024      -0.79   2.84    1           \n",
              "27    strikeout 14   R     3     2       2024       0.21   1.43    7           \n",
              "28    NA        14   R     2     2       2024       0.85   0.31    6           \n",
              "29    NA         7   R     2     2       2024      -0.73   1.90    5           \n",
              "30    NA        14   R     1     2       2024       1.90   1.32    4           \n",
              "⋮     ⋮         ⋮    ⋮     ⋮     ⋮       ⋮         ⋮       ⋮       ⋮           \n",
              "14422 NA        14   R     1     1       2019       1.17   1.09    3           \n",
              "14423 NA         6   R     1     0       2019       0.37   2.62    2           \n",
              "14424 NA        14   R     0     0       2019       0.37   1.21    1           \n",
              "14425 single     5   R     2     2       2019       0.17   2.69    6           \n",
              "14426 NA         2   R     2     2       2019      -0.02   3.35    5           \n",
              "14427 NA        14   R     1     2       2019       1.64   0.89    4           \n",
              "14428 NA        14   R     0     2       2019       0.75   0.86    3           \n",
              "14429 NA        14   R     0     1       2019       1.13   2.11    2           \n",
              "14430 NA        13   R     0     0       2019      -0.67   1.57    1           \n",
              "14431 field_out  5   R     0     0       2019       0.02   2.25    1           \n",
              "14432 strikeout  6   R     3     2       2019       0.71   2.28    7           \n",
              "14433 NA        14   R     2     2       2019       0.94   0.69    6           \n",
              "14434 NA        14   R     1     2       2019       1.06   2.22    5           \n",
              "14435 NA        14   R     1     2       2019       1.39   2.00    4           \n",
              "14436 NA        13   R     1     1       2019      -1.03   2.25    3           \n",
              "14437 NA        14   R     0     1       2019       0.94   1.23    2           \n",
              "14438 NA         5   R     0     0       2019       0.09   2.30    1           \n",
              "14439 strikeout 14   R     2     2       2019       0.43   0.74    7           \n",
              "14440 NA        11   R     2     2       2019      -0.40   3.58    6           \n",
              "14441 NA        14   R     1     2       2019       0.19   0.85    5           \n",
              "14442 NA         5   R     1     2       2019       0.05   2.16    4           \n",
              "14443 NA        14   R     0     2       2019       0.85   0.60    3           \n",
              "14444 NA        14   R     0     1       2019       0.35   1.21    2           \n",
              "14445 NA         9   R     0     0       2019       0.40   2.14    1           \n",
              "14446 field_out 11   L     3     2       2019      -0.98   2.76    6           \n",
              "14447 NA         3   L     3     1       2019       0.28   3.29    5           \n",
              "14448 NA        14   L     2     1       2019       1.06   0.75    4           \n",
              "14449 NA         8   L     1     1       2019       0.23   1.68    3           \n",
              "14450 NA        13   L     0     1       2019      -0.34   0.98    2           \n",
              "14451 NA         1   L     0     0       2019      -0.42   3.12    1           \n",
              "      in_out \n",
              "1     outside\n",
              "2     outside\n",
              "3     inside \n",
              "4     inside \n",
              "5     inside \n",
              "6     inside \n",
              "7     outside\n",
              "8     outside\n",
              "9     inside \n",
              "10    outside\n",
              "11    inside \n",
              "12    outside\n",
              "13    inside \n",
              "14    inside \n",
              "15    outside\n",
              "16    inside \n",
              "17    inside \n",
              "18    inside \n",
              "19    outside\n",
              "20    outside\n",
              "21    outside\n",
              "22    outside\n",
              "23    inside \n",
              "24    outside\n",
              "25    inside \n",
              "26    outside\n",
              "27    outside\n",
              "28    outside\n",
              "29    inside \n",
              "30    outside\n",
              "⋮     ⋮      \n",
              "14422 outside\n",
              "14423 outside\n",
              "14424 outside\n",
              "14425 outside\n",
              "14426 inside \n",
              "14427 outside\n",
              "14428 outside\n",
              "14429 outside\n",
              "14430 inside \n",
              "14431 outside\n",
              "14432 outside\n",
              "14433 outside\n",
              "14434 outside\n",
              "14435 outside\n",
              "14436 inside \n",
              "14437 outside\n",
              "14438 outside\n",
              "14439 outside\n",
              "14440 inside \n",
              "14441 outside\n",
              "14442 outside\n",
              "14443 outside\n",
              "14444 outside\n",
              "14445 outside\n",
              "14446 outside\n",
              "14447 inside \n",
              "14448 inside \n",
              "14449 inside \n",
              "14450 outside\n",
              "14451 outside"
            ]
          },
          "metadata": {}
        }
      ],
      "source": [
        "gallen"
      ]
    },
    {
      "cell_type": "markdown",
      "id": "f983586a",
      "metadata": {
        "id": "f983586a"
      },
      "source": [
        "# Is there a statistically significant difference in the proportion of Zac's fastballs thrown to the inside half of the strike zone when facing left-handed batters compared to right-handed batters?\n",
        "\n",
        "### Parameter of interest.\n",
        "\n",
        "We start with the two separate proportions we are interested in, ie: $\\pi_1$ is the proportion of four-seam fastball pitches thrown to lefties that are inside. $\\pi_2$ is the proportion of four-seam fastball pitches thrown to righties that are inside.\n",
        "\n",
        "### Our research question is about the difference between these two proportions. If Zac threw the same to both right and left-handed batters, we would anticipate the difference in these proportions to be not significantly different from zero (our null hypothesis). Our alternative hypothesis would then be that there is a significant difference (alternative hypothesis).\n",
        "\n",
        "1.  $\\pi=\\pi_1 - \\pi_2$.\n",
        "\n",
        "2.  Finding observed statistics:"
      ]
    },
    {
      "cell_type": "code",
      "execution_count": null,
      "id": "63cec9fb",
      "metadata": {
        "id": "63cec9fb"
      },
      "outputs": [],
      "source": [
        "gallen %>% filter(pitch_type == 'FF') %>% tabyl(in_out, stand) %>% adorn_totals"
      ]
    },
    {
      "cell_type": "code",
      "execution_count": null,
      "id": "14d159b6",
      "metadata": {
        "id": "14d159b6"
      },
      "outputs": [],
      "source": [
        "gallen %>% filter(pitch_type == 'FF') %>% select(stand, in_out) %>% table() %>%\n",
        "  plot(color=TRUE, main='Mosaic Plot of Pitching Inside/Outside vs. Batter Stance')"
      ]
    },
    {
      "cell_type": "markdown",
      "id": "449e300f",
      "metadata": {
        "id": "449e300f"
      },
      "source": [
        "3.  Finding Z-Statistic"
      ]
    },
    {
      "cell_type": "code",
      "execution_count": null,
      "id": "6cb1072b",
      "metadata": {
        "id": "6cb1072b"
      },
      "outputs": [],
      "source": [
        "null = 0           # Enter the value of your Null Hypothesis Parameter\n",
        "successes_1 = 1259    # number of successes in group 1\n",
        "successes_2 = 1779    # number of successes in group 2\n",
        "n_1 = 3055   # sample size of group 1\n",
        "n_2 = 3863   # sample size of group 2\n",
        "n = n_1 + n_2     # total sample size\n",
        "phat_1 = successes_1/n_1\n",
        "phat_2 = successes_2/n_2\n",
        "phat_t = (successes_1 + successes_2)/(n)\n",
        "diff = phat_1-phat_2 # ensure this matches your null hypothesis order\n",
        "sd = sqrt(phat_t*(1-phat_t)*(1/n_1 + 1/n_2))\n",
        "z = (diff-null)/sd  ; z # standardized statistic"
      ]
    },
    {
      "cell_type": "markdown",
      "id": "a47807e5",
      "metadata": {
        "id": "a47807e5"
      },
      "source": [
        "4.  Finding p-value and state a conclusion with 95% significance."
      ]
    },
    {
      "cell_type": "code",
      "execution_count": null,
      "id": "6c414011",
      "metadata": {
        "id": "6c414011"
      },
      "outputs": [],
      "source": [
        "2*(1-pnorm(abs(z)))"
      ]
    },
    {
      "cell_type": "markdown",
      "id": "4f69b3b3",
      "metadata": {
        "id": "4f69b3b3"
      },
      "source": [
        "With a p-value of 5.6e-05, at a significance level of 0.05 there is very strong evidence to reject the null hypothesis that Zac Gallen throws the same proportion of fastballs inside to right-handed and left-handed batters.\n",
        "\n",
        "## Lets make a 95% confidence interval to go along with our conclusion."
      ]
    },
    {
      "cell_type": "code",
      "execution_count": null,
      "id": "99f9518c",
      "metadata": {
        "id": "99f9518c"
      },
      "outputs": [],
      "source": [
        "siglevel = 0.05             # Enter your significance level (alpha)\n",
        "multiplier = qnorm(1-siglevel/2)\n",
        "se = sqrt(phat_1*(1-phat_1)/n_1+phat_2*(1-phat_2)/n_2) # Standard Error\n",
        "CI = c(diff-multiplier*se, diff+multiplier*se)  ; CI # Confidence Interval"
      ]
    },
    {
      "cell_type": "markdown",
      "id": "f84d08cb",
      "metadata": {
        "id": "f84d08cb"
      },
      "source": [
        "Note since zero is not included in our confidence interval and we were conducting a two-sided test we can also reject the null hypothesis."
      ]
    },
    {
      "cell_type": "code",
      "execution_count": null,
      "id": "5f951392",
      "metadata": {
        "id": "5f951392"
      },
      "outputs": [],
      "source": [
        "gallen %>% filter(pitch_type == 'KC') %>% mutate(pitch_zone = as.factor(zone)) %>%\n",
        "  ggplot(aes(x=plate_x, y=plate_z, color=pitch_zone)) + geom_point() + scale_color_viridis_d() + theme_minimal()"
      ]
    },
    {
      "cell_type": "code",
      "execution_count": null,
      "id": "f1749ddd",
      "metadata": {
        "id": "f1749ddd"
      },
      "outputs": [],
      "source": [
        "# Identify the top 5 events based on frequency\n",
        "top_events <- gallen %>%\n",
        "  filter(!is.na(events)) %>%\n",
        "  count(events, sort = TRUE) %>%\n",
        "  slice_max(n, n = 5) %>%\n",
        "  pull(events)\n",
        "\n",
        "# Filter the data to only include those top events, then plot\n",
        "gallen %>%\n",
        "  filter(events %in% top_events) %>%\n",
        "  ggplot(aes(x = events)) +\n",
        "  geom_bar() +\n",
        "  facet_grid(rows = vars(zone), cols = vars(stand)) +\n",
        "  theme(axis.text.x = element_text(angle = 45, hjust = 1))"
      ]
    },
    {
      "cell_type": "markdown",
      "id": "fa51133e",
      "metadata": {
        "id": "fa51133e"
      },
      "source": [
        "Is Zac Gallen more confident pitching outside or inside to left or right handed batters in a potential walk situation?\n",
        "\n",
        "To start, lets look at all the pitches thrown in 3 ball counts."
      ]
    },
    {
      "cell_type": "code",
      "execution_count": null,
      "id": "bec0ff08",
      "metadata": {
        "fig.width": 10,
        "id": "bec0ff08"
      },
      "outputs": [],
      "source": [
        "gallen %>% filter(balls == 3) %>% ggplot(aes(pitch_type)) + geom_bar() +\n",
        "  facet_grid(stand ~ in_out ~ game_year) + theme_bw()"
      ]
    },
    {
      "cell_type": "code",
      "execution_count": null,
      "id": "daae4149",
      "metadata": {
        "id": "daae4149"
      },
      "outputs": [],
      "source": [
        "gallen %>% filter(balls == 3 & pitch_type == 'KC') %>% select(stand, in_out) %>% table() %>% plot(color=TRUE)"
      ]
    },
    {
      "cell_type": "code",
      "execution_count": null,
      "id": "d4948a1c",
      "metadata": {
        "id": "d4948a1c"
      },
      "outputs": [],
      "source": [
        "gallen %>% filter(balls == 3 & strikes == 2) %>% ggplot(aes(x=fct_infreq(events))) + geom_bar() +\n",
        "  facet_grid(stand ~ .) +\n",
        "  theme_minimal() + theme(axis.text.x = element_text(angle = 45, hjust = 1))"
      ]
    },
    {
      "cell_type": "code",
      "execution_count": null,
      "id": "11219196",
      "metadata": {
        "id": "11219196"
      },
      "outputs": [],
      "source": [
        "gallen %>% filter(events == 'walk') %>% select(stand, in_out) %>% table() %>%\n",
        "  plot(main='Walk producing pitches thrown by Zac Gallen', color=TRUE)"
      ]
    },
    {
      "cell_type": "markdown",
      "id": "d55464b7",
      "metadata": {
        "id": "d55464b7"
      },
      "source": [
        "They look really close! Lets do a two-proportion z-test to see if there is any significance.\n",
        "\n",
        "Write our $H_0 \\ \\text{and} \\ H_A$ hypotheses:\n",
        "\n",
        "\\$H_0: \\$ \\$H_A: \\$\n",
        "\n",
        "Then find our observed statistic"
      ]
    },
    {
      "cell_type": "code",
      "execution_count": null,
      "id": "ea59c1e0",
      "metadata": {
        "id": "ea59c1e0"
      },
      "outputs": [],
      "source": [
        "gallen %>% filter(events == 'walk') %>% tabyl(in_out, stand) %>% adorn_totals()"
      ]
    },
    {
      "cell_type": "code",
      "execution_count": null,
      "id": "933eb86f",
      "metadata": {
        "id": "933eb86f"
      },
      "outputs": [],
      "source": [
        "null = 0           # Enter the value of your Null Hypothesis Parameter\n",
        "successes_1 = 73    # number of successes in group 1\n",
        "successes_2 = 75    # number of successes in group 2\n",
        "n_1 = 155   # sample size of group 1\n",
        "n_2 = 164   # sample size of group 2\n",
        "n = n_1 + n_2     # total sample size\n",
        "phat_1 = successes_1/n_1\n",
        "phat_2 = successes_2/n_2\n",
        "phat_t = (successes_1 + successes_2)/(n)\n",
        "diff = phat_1-phat_2 # ensure this matches your null hypothesis order\n",
        "sd = sqrt(phat_t*(1-phat_t)*(1/n_1 + 1/n_2))\n",
        "z = (diff-null)/sd  ; z # standardized statistic\n",
        "2*(1-pnorm(abs(z)))\n",
        "siglevel = 0.05             # Enter your significance level (alpha)\n",
        "multiplier = qnorm(1-siglevel/2)\n",
        "se = sqrt(phat_1*(1-phat_1)/n_1+phat_2*(1-phat_2)/n_2) # Standard Error\n",
        "CI = c(diff-multiplier*se, diff+multiplier*se)  ; CI # Confidence Interval"
      ]
    },
    {
      "cell_type": "markdown",
      "id": "0d296263",
      "metadata": {
        "id": "0d296263"
      },
      "source": [
        "Our p-value is 0.8, we fail to reject the null hypothesis and also see that the confidence interval includes zero.\n",
        "\n",
        "# Drug Use and Hyptertension"
      ]
    },
    {
      "cell_type": "code",
      "execution_count": null,
      "id": "2e96ffdd",
      "metadata": {
        "id": "2e96ffdd"
      },
      "outputs": [],
      "source": [
        "health$hypertensive <- ifelse(health$BPSysAve >= 140 | health$BPDiaAve >= 90, \"Yes\", \"No\")\n",
        "\n",
        "# Filter complete cases\n",
        "health_spec <- na.omit(health[, c(\"Gender\", \"hypertensive\", \"HardDrugs\", \"AgeDecade\", \"Smoke100n\")])"
      ]
    },
    {
      "cell_type": "code",
      "execution_count": null,
      "id": "fb7d259e",
      "metadata": {
        "id": "fb7d259e"
      },
      "outputs": [],
      "source": [
        "health_spec %>% select(hypertensive, HardDrugs) %>% table()"
      ]
    },
    {
      "cell_type": "code",
      "execution_count": null,
      "id": "d6db377e",
      "metadata": {
        "id": "d6db377e"
      },
      "outputs": [],
      "source": [
        "health_spec %>% select(HardDrugs, hypertensive) %>% table() %>% plot()"
      ]
    },
    {
      "cell_type": "code",
      "execution_count": null,
      "id": "9d032a8b",
      "metadata": {
        "id": "9d032a8b"
      },
      "outputs": [],
      "source": [
        "null = 0           # Enter the value of your Null Hypothesis Parameter\n",
        "successes_1 = 487    # number of successes in group 1\n",
        "successes_2 = 124    # number of successes in group 2\n",
        "n_1 = 487+4133   # sample size of group 1\n",
        "n_2 = 124+923   # sample size of group 2\n",
        "n = n_1 + n_2     # total sample size\n",
        "phat_1 = successes_1/n_1\n",
        "phat_2 = successes_2/n_2\n",
        "phat_t = (successes_1 + successes_2)/(n)\n",
        "diff = phat_1-phat_2 # ensure this matches your null hypothesis order\n",
        "sd = sqrt(phat_t*(1-phat_t)*(1/n_1 + 1/n_2))\n",
        "z = (diff-null)/sd  ; z # standardized statistic\n",
        "2*(1-pnorm(abs(z)))\n",
        "siglevel = 0.05             # Enter your significance level (alpha)\n",
        "multiplier = qnorm(1-siglevel/2)\n",
        "se = sqrt(phat_1*(1-phat_1)/n_1+phat_2*(1-phat_2)/n_2) # Standard Error\n",
        "CI = c(diff-multiplier*se, diff+multiplier*se)  ; CI # Confidence Interval"
      ]
    },
    {
      "cell_type": "markdown",
      "id": "23a0ef31",
      "metadata": {
        "id": "23a0ef31"
      },
      "source": [
        "## What about smoking and education level?"
      ]
    },
    {
      "cell_type": "code",
      "execution_count": null,
      "id": "4aa8e30e",
      "metadata": {
        "id": "4aa8e30e"
      },
      "outputs": [],
      "source": [
        "health %>% filter(!is.na(Education) & !is.na(Smoke100n)) %>% tabyl(Smoke100n, Education) %>% adorn_totals()\n"
      ]
    },
    {
      "cell_type": "markdown",
      "id": "544ff848",
      "metadata": {
        "id": "544ff848"
      },
      "source": [
        "Just looking at college and high school grads:"
      ]
    },
    {
      "cell_type": "code",
      "execution_count": null,
      "id": "4241b264",
      "metadata": {
        "id": "4241b264"
      },
      "outputs": [],
      "source": [
        "null = 0           # Enter the value of your Null Hypothesis Parameter\n",
        "successes_1 = 684       # number of successes in group 1\n",
        "successes_2 = 755    # number of successes in group 2\n",
        "n_1 = 2098   # sample size of group 1\n",
        "n_2 = 1517   # sample size of group 2\n",
        "n = n_1 + n_2     # total sample size\n",
        "phat_1 = successes_1/n_1\n",
        "phat_2 = successes_2/n_2\n",
        "phat_t = (successes_1 + successes_2)/(n)\n",
        "diff = phat_1-phat_2 # ensure this matches your null hypothesis order\n",
        "sd = sqrt(phat_t*(1-phat_t)*(1/n_1 + 1/n_2))\n",
        "z = (diff-null)/sd  ; z # standardized statistic\n",
        "2*(1-pnorm(abs(z)))\n",
        "siglevel = 0.05             # Enter your significance level (alpha)\n",
        "multiplier = qnorm(1-siglevel/2)\n",
        "se = sqrt(phat_1*(1-phat_1)/n_1+phat_2*(1-phat_2)/n_2) # Standard Error\n",
        "CI = c(diff-multiplier*se, diff+multiplier*se)  ; CI # Confidence Interval"
      ]
    }
  ],
  "metadata": {
    "jupytext": {
      "cell_metadata_filter": "fig.width,-all",
      "main_language": "R",
      "notebook_metadata_filter": "-all"
    },
    "colab": {
      "provenance": []
    },
    "language_info": {
      "name": "R"
    },
    "kernelspec": {
      "name": "ir",
      "display_name": "R"
    }
  },
  "nbformat": 4,
  "nbformat_minor": 5
}