{
 "cells": [
  {
   "cell_type": "raw",
   "id": "a8bac4c1",
   "metadata": {},
   "source": [
    "---\n",
    "title: \"Two Proportion Z-Test\"\n",
    "author: \"Jon Day\"\n",
    "date: \"2025-02-11\"\n",
    "output: html_document\n",
    "---"
   ]
  },
  {
   "cell_type": "code",
   "execution_count": null,
   "id": "ce01c4cb",
   "metadata": {},
   "outputs": [],
   "source": [
    "library(tidyverse)\n",
    "library(janitor)\n",
    "gallen <- read_csv(\"https://raw.githubusercontent.com/lonespear/MA206/main/gallen.csv\")\n",
    "health <- read_csv(\"https://raw.githubusercontent.com/lonespear/MA206/main/nhanes.csv\")"
   ]
  },
  {
   "cell_type": "code",
   "execution_count": null,
   "id": "5a5d8a42",
   "metadata": {},
   "outputs": [],
   "source": [
    "gallen"
   ]
  },
  {
   "cell_type": "markdown",
   "id": "f983586a",
   "metadata": {},
   "source": [
    "# Is there a statistically significant difference in the proportion of Zac's fastballs thrown to the inside half of the strike zone when facing left-handed batters compared to right-handed batters?\n",
    "\n",
    "### Parameter of interest.\n",
    "\n",
    "We start with the two separate proportions we are interested in, ie: $\\pi_1$ is the proportion of four-seam fastball pitches thrown to lefties that are inside. $\\pi_2$ is the proportion of four-seam fastball pitches thrown to righties that are inside.\n",
    "\n",
    "### Our research question is about the difference between these two proportions. If Zac threw the same to both right and left-handed batters, we would anticipate the difference in these proportions to be not significantly different from zero (our null hypothesis). Our alternative hypothesis would then be that there is a significant difference (alternative hypothesis).\n",
    "\n",
    "1.  $\\pi=\\pi_1 - \\pi_2$.\n",
    "\n",
    "2.  Finding observed statistics:"
   ]
  },
  {
   "cell_type": "code",
   "execution_count": null,
   "id": "63cec9fb",
   "metadata": {},
   "outputs": [],
   "source": [
    "gallen %>% filter(pitch_type == 'FF') %>% tabyl(in_out, stand) %>% adorn_totals"
   ]
  },
  {
   "cell_type": "code",
   "execution_count": null,
   "id": "14d159b6",
   "metadata": {},
   "outputs": [],
   "source": [
    "gallen %>% filter(pitch_type == 'FF') %>% select(stand, in_out) %>% table() %>%\n",
    "  plot(color=TRUE, main='Mosaic Plot of Pitching Inside/Outside vs. Batter Stance')"
   ]
  },
  {
   "cell_type": "markdown",
   "id": "449e300f",
   "metadata": {},
   "source": [
    "3.  Finding Z-Statistic"
   ]
  },
  {
   "cell_type": "code",
   "execution_count": null,
   "id": "6cb1072b",
   "metadata": {},
   "outputs": [],
   "source": [
    "null = 0           # Enter the value of your Null Hypothesis Parameter\n",
    "successes_1 = 1259    # number of successes in group 1\n",
    "successes_2 = 1779    # number of successes in group 2\n",
    "n_1 = 3055   # sample size of group 1     \n",
    "n_2 = 3863   # sample size of group 2\n",
    "n = n_1 + n_2     # total sample size\n",
    "phat_1 = successes_1/n_1\n",
    "phat_2 = successes_2/n_2\n",
    "phat_t = (successes_1 + successes_2)/(n)\n",
    "diff = phat_1-phat_2 # ensure this matches your null hypothesis order\n",
    "sd = sqrt(phat_t*(1-phat_t)*(1/n_1 + 1/n_2))\n",
    "z = (diff-null)/sd  ; z # standardized statistic"
   ]
  },
  {
   "cell_type": "markdown",
   "id": "a47807e5",
   "metadata": {},
   "source": [
    "4.  Finding p-value and state a conclusion with 95% significance."
   ]
  },
  {
   "cell_type": "code",
   "execution_count": null,
   "id": "6c414011",
   "metadata": {},
   "outputs": [],
   "source": [
    "2*(1-pnorm(abs(z)))"
   ]
  },
  {
   "cell_type": "markdown",
   "id": "4f69b3b3",
   "metadata": {},
   "source": [
    "With a p-value of 5.6e-05, at a significance level of 0.05 there is very strong evidence to reject the null hypothesis that Zac Gallen throws the same proportion of fastballs inside to right-handed and left-handed batters.\n",
    "\n",
    "## Lets make a 95% confidence interval to go along with our conclusion."
   ]
  },
  {
   "cell_type": "code",
   "execution_count": null,
   "id": "99f9518c",
   "metadata": {},
   "outputs": [],
   "source": [
    "siglevel = 0.05             # Enter your significance level (alpha)\n",
    "multiplier = qnorm(1-siglevel/2)\n",
    "se = sqrt(phat_1*(1-phat_1)/n_1+phat_2*(1-phat_2)/n_2) # Standard Error\n",
    "CI = c(diff-multiplier*se, diff+multiplier*se)  ; CI # Confidence Interval"
   ]
  },
  {
   "cell_type": "markdown",
   "id": "f84d08cb",
   "metadata": {},
   "source": [
    "Note since zero is not included in our confidence interval and we were conducting a two-sided test we can also reject the null hypothesis."
   ]
  },
  {
   "cell_type": "code",
   "execution_count": null,
   "id": "5f951392",
   "metadata": {},
   "outputs": [],
   "source": [
    "gallen %>% filter(pitch_type == 'KC') %>% mutate(pitch_zone = as.factor(zone)) %>%\n",
    "  ggplot(aes(x=plate_x, y=plate_z, color=pitch_zone)) + geom_point() + scale_color_viridis_d() + theme_minimal()"
   ]
  },
  {
   "cell_type": "code",
   "execution_count": null,
   "id": "f1749ddd",
   "metadata": {},
   "outputs": [],
   "source": [
    "# Identify the top 5 events based on frequency\n",
    "top_events <- gallen %>% \n",
    "  filter(!is.na(events)) %>% \n",
    "  count(events, sort = TRUE) %>% \n",
    "  slice_max(n, n = 5) %>% \n",
    "  pull(events)\n",
    "\n",
    "# Filter the data to only include those top events, then plot\n",
    "gallen %>% \n",
    "  filter(events %in% top_events) %>% \n",
    "  ggplot(aes(x = events)) +\n",
    "  geom_bar() +\n",
    "  facet_grid(rows = vars(zone), cols = vars(stand)) +\n",
    "  theme(axis.text.x = element_text(angle = 45, hjust = 1))"
   ]
  },
  {
   "cell_type": "markdown",
   "id": "fa51133e",
   "metadata": {},
   "source": [
    "Is Zac Gallen more confident pitching outside or inside to left or right handed batters in a potential walk situation?\n",
    "\n",
    "To start, lets look at all the pitches thrown in 3 ball counts."
   ]
  },
  {
   "cell_type": "code",
   "execution_count": null,
   "id": "bec0ff08",
   "metadata": {
    "fig.width": 10
   },
   "outputs": [],
   "source": [
    "gallen %>% filter(balls == 3) %>% ggplot(aes(pitch_type)) + geom_bar() + \n",
    "  facet_grid(stand ~ in_out ~ game_year) + theme_bw()"
   ]
  },
  {
   "cell_type": "code",
   "execution_count": null,
   "id": "daae4149",
   "metadata": {},
   "outputs": [],
   "source": [
    "gallen %>% filter(balls == 3 & pitch_type == 'KC') %>% select(stand, in_out) %>% table() %>% plot(color=TRUE)"
   ]
  },
  {
   "cell_type": "code",
   "execution_count": null,
   "id": "d4948a1c",
   "metadata": {},
   "outputs": [],
   "source": [
    "gallen %>% filter(balls == 3 & strikes == 2) %>% ggplot(aes(x=fct_infreq(events))) + geom_bar() +\n",
    "  facet_grid(stand ~ .) +\n",
    "  theme_minimal() + theme(axis.text.x = element_text(angle = 45, hjust = 1))"
   ]
  },
  {
   "cell_type": "code",
   "execution_count": null,
   "id": "11219196",
   "metadata": {},
   "outputs": [],
   "source": [
    "gallen %>% filter(events == 'walk') %>% select(stand, in_out) %>% table() %>%\n",
    "  plot(main='Walk producing pitches thrown by Zac Gallen', color=TRUE)"
   ]
  },
  {
   "cell_type": "markdown",
   "id": "d55464b7",
   "metadata": {},
   "source": [
    "They look really close! Lets do a two-proportion z-test to see if there is any significance.\n",
    "\n",
    "Write our $H_0 \\ \\text{and} \\ H_A$ hypotheses:\n",
    "\n",
    "\\$H_0: \\$ \\$H_A: \\$\n",
    "\n",
    "Then find our observed statistic"
   ]
  },
  {
   "cell_type": "code",
   "execution_count": null,
   "id": "ea59c1e0",
   "metadata": {},
   "outputs": [],
   "source": [
    "gallen %>% filter(events == 'walk') %>% tabyl(in_out, stand) %>% adorn_totals()"
   ]
  },
  {
   "cell_type": "code",
   "execution_count": null,
   "id": "933eb86f",
   "metadata": {},
   "outputs": [],
   "source": [
    "null = 0           # Enter the value of your Null Hypothesis Parameter\n",
    "successes_1 = 73    # number of successes in group 1\n",
    "successes_2 = 75    # number of successes in group 2\n",
    "n_1 = 155   # sample size of group 1     \n",
    "n_2 = 164   # sample size of group 2\n",
    "n = n_1 + n_2     # total sample size\n",
    "phat_1 = successes_1/n_1\n",
    "phat_2 = successes_2/n_2\n",
    "phat_t = (successes_1 + successes_2)/(n)\n",
    "diff = phat_1-phat_2 # ensure this matches your null hypothesis order\n",
    "sd = sqrt(phat_t*(1-phat_t)*(1/n_1 + 1/n_2))\n",
    "z = (diff-null)/sd  ; z # standardized statistic\n",
    "2*(1-pnorm(abs(z)))\n",
    "siglevel = 0.05             # Enter your significance level (alpha)\n",
    "multiplier = qnorm(1-siglevel/2)\n",
    "se = sqrt(phat_1*(1-phat_1)/n_1+phat_2*(1-phat_2)/n_2) # Standard Error\n",
    "CI = c(diff-multiplier*se, diff+multiplier*se)  ; CI # Confidence Interval"
   ]
  },
  {
   "cell_type": "markdown",
   "id": "0d296263",
   "metadata": {},
   "source": [
    "Our p-value is 0.8, we fail to reject the null hypothesis and also see that the confidence interval includes zero.\n",
    "\n",
    "# Drug Use and Hyptertension"
   ]
  },
  {
   "cell_type": "code",
   "execution_count": null,
   "id": "2e96ffdd",
   "metadata": {},
   "outputs": [],
   "source": [
    "health$hypertensive <- ifelse(health$BPSysAve >= 140 | health$BPDiaAve >= 90, \"Yes\", \"No\")\n",
    "\n",
    "# Filter complete cases\n",
    "health_spec <- na.omit(health[, c(\"Gender\", \"hypertensive\", \"HardDrugs\", \"AgeDecade\", \"Smoke100n\")])"
   ]
  },
  {
   "cell_type": "code",
   "execution_count": null,
   "id": "fb7d259e",
   "metadata": {},
   "outputs": [],
   "source": [
    "health_spec %>% select(hypertensive, HardDrugs) %>% table()"
   ]
  },
  {
   "cell_type": "code",
   "execution_count": null,
   "id": "d6db377e",
   "metadata": {},
   "outputs": [],
   "source": [
    "health_spec %>% select(HardDrugs, hypertensive) %>% table() %>% plot()"
   ]
  },
  {
   "cell_type": "code",
   "execution_count": null,
   "id": "9d032a8b",
   "metadata": {},
   "outputs": [],
   "source": [
    "null = 0           # Enter the value of your Null Hypothesis Parameter\n",
    "successes_1 = 487    # number of successes in group 1\n",
    "successes_2 = 124    # number of successes in group 2\n",
    "n_1 = 487+4133   # sample size of group 1     \n",
    "n_2 = 124+923   # sample size of group 2\n",
    "n = n_1 + n_2     # total sample size\n",
    "phat_1 = successes_1/n_1\n",
    "phat_2 = successes_2/n_2\n",
    "phat_t = (successes_1 + successes_2)/(n)\n",
    "diff = phat_1-phat_2 # ensure this matches your null hypothesis order\n",
    "sd = sqrt(phat_t*(1-phat_t)*(1/n_1 + 1/n_2))\n",
    "z = (diff-null)/sd  ; z # standardized statistic\n",
    "2*(1-pnorm(abs(z)))\n",
    "siglevel = 0.05             # Enter your significance level (alpha)\n",
    "multiplier = qnorm(1-siglevel/2)\n",
    "se = sqrt(phat_1*(1-phat_1)/n_1+phat_2*(1-phat_2)/n_2) # Standard Error\n",
    "CI = c(diff-multiplier*se, diff+multiplier*se)  ; CI # Confidence Interval"
   ]
  },
  {
   "cell_type": "markdown",
   "id": "23a0ef31",
   "metadata": {},
   "source": [
    "## What about smoking and education level?"
   ]
  },
  {
   "cell_type": "code",
   "execution_count": null,
   "id": "4aa8e30e",
   "metadata": {},
   "outputs": [],
   "source": [
    "health %>% filter(!is.na(Education) & !is.na(Smoke100n)) %>% tabyl(Smoke100n, Education) %>% adorn_totals()\n"
   ]
  },
  {
   "cell_type": "markdown",
   "id": "544ff848",
   "metadata": {},
   "source": [
    "Just looking at college and high school grads:"
   ]
  },
  {
   "cell_type": "code",
   "execution_count": null,
   "id": "4241b264",
   "metadata": {},
   "outputs": [],
   "source": [
    "null = 0           # Enter the value of your Null Hypothesis Parameter\n",
    "successes_1 = 684       # number of successes in group 1\n",
    "successes_2 = 755    # number of successes in group 2\n",
    "n_1 = 2098   # sample size of group 1     \n",
    "n_2 = 1517   # sample size of group 2\n",
    "n = n_1 + n_2     # total sample size\n",
    "phat_1 = successes_1/n_1\n",
    "phat_2 = successes_2/n_2\n",
    "phat_t = (successes_1 + successes_2)/(n)\n",
    "diff = phat_1-phat_2 # ensure this matches your null hypothesis order\n",
    "sd = sqrt(phat_t*(1-phat_t)*(1/n_1 + 1/n_2))\n",
    "z = (diff-null)/sd  ; z # standardized statistic\n",
    "2*(1-pnorm(abs(z)))\n",
    "siglevel = 0.05             # Enter your significance level (alpha)\n",
    "multiplier = qnorm(1-siglevel/2)\n",
    "se = sqrt(phat_1*(1-phat_1)/n_1+phat_2*(1-phat_2)/n_2) # Standard Error\n",
    "CI = c(diff-multiplier*se, diff+multiplier*se)  ; CI # Confidence Interval"
   ]
  }
 ],
 "metadata": {
  "jupytext": {
   "cell_metadata_filter": "fig.width,-all",
   "main_language": "R",
   "notebook_metadata_filter": "-all"
  }
 },
 "nbformat": 4,
 "nbformat_minor": 5
}
