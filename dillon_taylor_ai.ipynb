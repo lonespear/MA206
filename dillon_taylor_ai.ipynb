{
  "nbformat": 4,
  "nbformat_minor": 0,
  "metadata": {
    "colab": {
      "provenance": [],
      "authorship_tag": "ABX9TyPo2gvJtHMQDT5/DG7UffCU",
      "include_colab_link": true
    },
    "kernelspec": {
      "name": "ir",
      "display_name": "R"
    },
    "language_info": {
      "name": "R"
    }
  },
  "cells": [
    {
      "cell_type": "markdown",
      "metadata": {
        "id": "view-in-github",
        "colab_type": "text"
      },
      "source": [
        "<a href=\"https://colab.research.google.com/github/lonespear/MA206/blob/main/dillon_taylor_ai.ipynb\" target=\"_parent\"><img src=\"https://colab.research.google.com/assets/colab-badge.svg\" alt=\"Open In Colab\"/></a>"
      ]
    },
    {
      "cell_type": "code",
      "execution_count": 52,
      "metadata": {
        "colab": {
          "base_uri": "https://localhost:8080/"
        },
        "id": "Oi10jOEoOVe9",
        "outputId": "8984521a-1155-4316-8350-69f03cc9f0ae"
      },
      "outputs": [
        {
          "output_type": "stream",
          "name": "stderr",
          "text": [
            "Installing package into ‘/usr/local/lib/R/site-library’\n",
            "(as ‘lib’ is unspecified)\n",
            "\n",
            "Installing package into ‘/usr/local/lib/R/site-library’\n",
            "(as ‘lib’ is unspecified)\n",
            "\n"
          ]
        }
      ],
      "source": [
        "install.packages('NHANES')\n",
        "install.packages('stargazer')"
      ]
    },
    {
      "cell_type": "code",
      "source": [
        "library(NHANES)\n",
        "library(tidyverse)\n",
        "data(NHANES)"
      ],
      "metadata": {
        "colab": {
          "base_uri": "https://localhost:8080/"
        },
        "id": "QpkOHA9jOYNp",
        "outputId": "e43e0477-67cb-4117-c72f-c5491dd2c64a"
      },
      "execution_count": 4,
      "outputs": [
        {
          "output_type": "stream",
          "name": "stderr",
          "text": [
            "── \u001b[1mAttaching core tidyverse packages\u001b[22m ──────────────────────── tidyverse 2.0.0 ──\n",
            "\u001b[32m✔\u001b[39m \u001b[34mdplyr    \u001b[39m 1.1.4     \u001b[32m✔\u001b[39m \u001b[34mreadr    \u001b[39m 2.1.5\n",
            "\u001b[32m✔\u001b[39m \u001b[34mforcats  \u001b[39m 1.0.0     \u001b[32m✔\u001b[39m \u001b[34mstringr  \u001b[39m 1.5.1\n",
            "\u001b[32m✔\u001b[39m \u001b[34mggplot2  \u001b[39m 3.5.1     \u001b[32m✔\u001b[39m \u001b[34mtibble   \u001b[39m 3.2.1\n",
            "\u001b[32m✔\u001b[39m \u001b[34mlubridate\u001b[39m 1.9.4     \u001b[32m✔\u001b[39m \u001b[34mtidyr    \u001b[39m 1.3.1\n",
            "\u001b[32m✔\u001b[39m \u001b[34mpurrr    \u001b[39m 1.0.4     \n",
            "── \u001b[1mConflicts\u001b[22m ────────────────────────────────────────── tidyverse_conflicts() ──\n",
            "\u001b[31m✖\u001b[39m \u001b[34mdplyr\u001b[39m::\u001b[32mfilter()\u001b[39m masks \u001b[34mstats\u001b[39m::filter()\n",
            "\u001b[31m✖\u001b[39m \u001b[34mdplyr\u001b[39m::\u001b[32mlag()\u001b[39m    masks \u001b[34mstats\u001b[39m::lag()\n",
            "\u001b[36mℹ\u001b[39m Use the conflicted package (\u001b[3m\u001b[34m<http://conflicted.r-lib.org/>\u001b[39m\u001b[23m) to force all conflicts to become errors\n"
          ]
        }
      ]
    },
    {
      "cell_type": "code",
      "source": [
        "library(stargazer)"
      ],
      "metadata": {
        "colab": {
          "base_uri": "https://localhost:8080/"
        },
        "id": "70pCH4gZVxYB",
        "outputId": "c57a0dbc-7907-455c-cfb0-22cac9a49ad7"
      },
      "execution_count": 53,
      "outputs": [
        {
          "output_type": "stream",
          "name": "stderr",
          "text": [
            "\n",
            "Please cite as: \n",
            "\n",
            "\n",
            " Hlavac, Marek (2022). stargazer: Well-Formatted Regression and Summary Statistics Tables.\n",
            "\n",
            " R package version 5.2.3. https://CRAN.R-project.org/package=stargazer \n",
            "\n",
            "\n"
          ]
        }
      ]
    },
    {
      "cell_type": "code",
      "source": [
        "NHANES %>% count(MaritalStatus)"
      ],
      "metadata": {
        "colab": {
          "base_uri": "https://localhost:8080/",
          "height": 318
        },
        "id": "R4ckHZL2Qxmv",
        "outputId": "7e6b0d95-33f1-43f6-bb19-16055c1bd9e9"
      },
      "execution_count": 20,
      "outputs": [
        {
          "output_type": "display_data",
          "data": {
            "text/html": [
              "<table class=\"dataframe\">\n",
              "<caption>A tibble: 7 × 2</caption>\n",
              "<thead>\n",
              "\t<tr><th scope=col>MaritalStatus</th><th scope=col>n</th></tr>\n",
              "\t<tr><th scope=col>&lt;fct&gt;</th><th scope=col>&lt;int&gt;</th></tr>\n",
              "</thead>\n",
              "<tbody>\n",
              "\t<tr><td>Divorced    </td><td> 707</td></tr>\n",
              "\t<tr><td>LivePartner </td><td> 560</td></tr>\n",
              "\t<tr><td>Married     </td><td>3945</td></tr>\n",
              "\t<tr><td>NeverMarried</td><td>1380</td></tr>\n",
              "\t<tr><td>Separated   </td><td> 183</td></tr>\n",
              "\t<tr><td>Widowed     </td><td> 456</td></tr>\n",
              "\t<tr><td>NA          </td><td>2769</td></tr>\n",
              "</tbody>\n",
              "</table>\n"
            ],
            "text/markdown": "\nA tibble: 7 × 2\n\n| MaritalStatus &lt;fct&gt; | n &lt;int&gt; |\n|---|---|\n| Divorced     |  707 |\n| LivePartner  |  560 |\n| Married      | 3945 |\n| NeverMarried | 1380 |\n| Separated    |  183 |\n| Widowed      |  456 |\n| NA           | 2769 |\n\n",
            "text/latex": "A tibble: 7 × 2\n\\begin{tabular}{ll}\n MaritalStatus & n\\\\\n <fct> & <int>\\\\\n\\hline\n\t Divorced     &  707\\\\\n\t LivePartner  &  560\\\\\n\t Married      & 3945\\\\\n\t NeverMarried & 1380\\\\\n\t Separated    &  183\\\\\n\t Widowed      &  456\\\\\n\t NA           & 2769\\\\\n\\end{tabular}\n",
            "text/plain": [
              "  MaritalStatus n   \n",
              "1 Divorced       707\n",
              "2 LivePartner    560\n",
              "3 Married       3945\n",
              "4 NeverMarried  1380\n",
              "5 Separated      183\n",
              "6 Widowed        456\n",
              "7 NA            2769"
            ]
          },
          "metadata": {}
        }
      ]
    },
    {
      "cell_type": "code",
      "source": [
        "NHANES %>% count(Education)"
      ],
      "metadata": {
        "colab": {
          "base_uri": "https://localhost:8080/",
          "height": 286
        },
        "id": "gdEgR4DuQnrg",
        "outputId": "7c4517b2-15e7-4a45-8057-66cc75fcb3d8"
      },
      "execution_count": 19,
      "outputs": [
        {
          "output_type": "display_data",
          "data": {
            "text/html": [
              "<table class=\"dataframe\">\n",
              "<caption>A tibble: 6 × 2</caption>\n",
              "<thead>\n",
              "\t<tr><th scope=col>Education</th><th scope=col>n</th></tr>\n",
              "\t<tr><th scope=col>&lt;fct&gt;</th><th scope=col>&lt;int&gt;</th></tr>\n",
              "</thead>\n",
              "<tbody>\n",
              "\t<tr><td>8th Grade     </td><td> 451</td></tr>\n",
              "\t<tr><td>9 - 11th Grade</td><td> 888</td></tr>\n",
              "\t<tr><td>High School   </td><td>1517</td></tr>\n",
              "\t<tr><td>Some College  </td><td>2267</td></tr>\n",
              "\t<tr><td>College Grad  </td><td>2098</td></tr>\n",
              "\t<tr><td>NA            </td><td>2779</td></tr>\n",
              "</tbody>\n",
              "</table>\n"
            ],
            "text/markdown": "\nA tibble: 6 × 2\n\n| Education &lt;fct&gt; | n &lt;int&gt; |\n|---|---|\n| 8th Grade      |  451 |\n| 9 - 11th Grade |  888 |\n| High School    | 1517 |\n| Some College   | 2267 |\n| College Grad   | 2098 |\n| NA             | 2779 |\n\n",
            "text/latex": "A tibble: 6 × 2\n\\begin{tabular}{ll}\n Education & n\\\\\n <fct> & <int>\\\\\n\\hline\n\t 8th Grade      &  451\\\\\n\t 9 - 11th Grade &  888\\\\\n\t High School    & 1517\\\\\n\t Some College   & 2267\\\\\n\t College Grad   & 2098\\\\\n\t NA             & 2779\\\\\n\\end{tabular}\n",
            "text/plain": [
              "  Education      n   \n",
              "1 8th Grade       451\n",
              "2 9 - 11th Grade  888\n",
              "3 High School    1517\n",
              "4 Some College   2267\n",
              "5 College Grad   2098\n",
              "6 NA             2779"
            ]
          },
          "metadata": {}
        }
      ]
    },
    {
      "cell_type": "code",
      "source": [
        "df <- NHANES %>%\n",
        "  select(Age, MaritalStatus, Education, DaysMentHlthBad, SleepHrsNight, Work, BMI, TotChol, AlcoholDay, HardDrugs) %>%\n",
        "  filter(Age > 25, MaritalStatus == \"Married\", Education == \"College Grad\", !is.na(AlcoholDay)) %>%\n",
        "  drop_na() %>%\n",
        "  filter(Work != \"Looking\")"
      ],
      "metadata": {
        "id": "-QcvETA1OiwY"
      },
      "execution_count": 48,
      "outputs": []
    },
    {
      "cell_type": "code",
      "source": [
        "df %>% head"
      ],
      "metadata": {
        "colab": {
          "base_uri": "https://localhost:8080/",
          "height": 286
        },
        "id": "YzFY2sexOmKY",
        "outputId": "bdc21d4a-e91f-4afe-801b-5abb41114a34"
      },
      "execution_count": 6,
      "outputs": [
        {
          "output_type": "display_data",
          "data": {
            "text/html": [
              "<table class=\"dataframe\">\n",
              "<caption>A tibble: 6 × 7</caption>\n",
              "<thead>\n",
              "\t<tr><th scope=col>Age</th><th scope=col>MaritalStatus</th><th scope=col>Education</th><th scope=col>DaysMentHlthBad</th><th scope=col>SleepHrsNight</th><th scope=col>Work</th><th scope=col>BMI</th></tr>\n",
              "\t<tr><th scope=col>&lt;int&gt;</th><th scope=col>&lt;fct&gt;</th><th scope=col>&lt;fct&gt;</th><th scope=col>&lt;int&gt;</th><th scope=col>&lt;int&gt;</th><th scope=col>&lt;fct&gt;</th><th scope=col>&lt;dbl&gt;</th></tr>\n",
              "</thead>\n",
              "<tbody>\n",
              "\t<tr><td>45</td><td>Married</td><td>College Grad</td><td>3</td><td>8</td><td>Working   </td><td>27.24</td></tr>\n",
              "\t<tr><td>45</td><td>Married</td><td>College Grad</td><td>3</td><td>8</td><td>Working   </td><td>27.24</td></tr>\n",
              "\t<tr><td>45</td><td>Married</td><td>College Grad</td><td>3</td><td>8</td><td>Working   </td><td>27.24</td></tr>\n",
              "\t<tr><td>56</td><td>Married</td><td>College Grad</td><td>0</td><td>7</td><td>NotWorking</td><td>19.73</td></tr>\n",
              "\t<tr><td>56</td><td>Married</td><td>College Grad</td><td>0</td><td>7</td><td>NotWorking</td><td>19.73</td></tr>\n",
              "\t<tr><td>26</td><td>Married</td><td>College Grad</td><td>2</td><td>7</td><td>Working   </td><td>21.00</td></tr>\n",
              "</tbody>\n",
              "</table>\n"
            ],
            "text/markdown": "\nA tibble: 6 × 7\n\n| Age &lt;int&gt; | MaritalStatus &lt;fct&gt; | Education &lt;fct&gt; | DaysMentHlthBad &lt;int&gt; | SleepHrsNight &lt;int&gt; | Work &lt;fct&gt; | BMI &lt;dbl&gt; |\n|---|---|---|---|---|---|---|\n| 45 | Married | College Grad | 3 | 8 | Working    | 27.24 |\n| 45 | Married | College Grad | 3 | 8 | Working    | 27.24 |\n| 45 | Married | College Grad | 3 | 8 | Working    | 27.24 |\n| 56 | Married | College Grad | 0 | 7 | NotWorking | 19.73 |\n| 56 | Married | College Grad | 0 | 7 | NotWorking | 19.73 |\n| 26 | Married | College Grad | 2 | 7 | Working    | 21.00 |\n\n",
            "text/latex": "A tibble: 6 × 7\n\\begin{tabular}{lllllll}\n Age & MaritalStatus & Education & DaysMentHlthBad & SleepHrsNight & Work & BMI\\\\\n <int> & <fct> & <fct> & <int> & <int> & <fct> & <dbl>\\\\\n\\hline\n\t 45 & Married & College Grad & 3 & 8 & Working    & 27.24\\\\\n\t 45 & Married & College Grad & 3 & 8 & Working    & 27.24\\\\\n\t 45 & Married & College Grad & 3 & 8 & Working    & 27.24\\\\\n\t 56 & Married & College Grad & 0 & 7 & NotWorking & 19.73\\\\\n\t 56 & Married & College Grad & 0 & 7 & NotWorking & 19.73\\\\\n\t 26 & Married & College Grad & 2 & 7 & Working    & 21.00\\\\\n\\end{tabular}\n",
            "text/plain": [
              "  Age MaritalStatus Education    DaysMentHlthBad SleepHrsNight Work       BMI  \n",
              "1 45  Married       College Grad 3               8             Working    27.24\n",
              "2 45  Married       College Grad 3               8             Working    27.24\n",
              "3 45  Married       College Grad 3               8             Working    27.24\n",
              "4 56  Married       College Grad 0               7             NotWorking 19.73\n",
              "5 56  Married       College Grad 0               7             NotWorking 19.73\n",
              "6 26  Married       College Grad 2               7             Working    21.00"
            ]
          },
          "metadata": {}
        }
      ]
    },
    {
      "cell_type": "code",
      "source": [
        "NHANES %>% filter(!is.na(AlcoholDay)) %>% select(AlcoholDay)"
      ],
      "metadata": {
        "colab": {
          "base_uri": "https://localhost:8080/",
          "height": 1000
        },
        "id": "YUBC5K_RUofy",
        "outputId": "ed3531f6-37bd-4689-9f18-a66adc551eb7"
      },
      "execution_count": 43,
      "outputs": [
        {
          "output_type": "display_data",
          "data": {
            "text/html": [
              "<table class=\"dataframe\">\n",
              "<caption>A tibble: 4914 × 1</caption>\n",
              "<thead>\n",
              "\t<tr><th scope=col>AlcoholDay</th></tr>\n",
              "\t<tr><th scope=col>&lt;int&gt;</th></tr>\n",
              "</thead>\n",
              "<tbody>\n",
              "\t<tr><td> 2</td></tr>\n",
              "\t<tr><td> 3</td></tr>\n",
              "\t<tr><td> 3</td></tr>\n",
              "\t<tr><td> 3</td></tr>\n",
              "\t<tr><td> 1</td></tr>\n",
              "\t<tr><td> 2</td></tr>\n",
              "\t<tr><td> 6</td></tr>\n",
              "\t<tr><td> 3</td></tr>\n",
              "\t<tr><td> 6</td></tr>\n",
              "\t<tr><td> 1</td></tr>\n",
              "\t<tr><td> 1</td></tr>\n",
              "\t<tr><td> 1</td></tr>\n",
              "\t<tr><td> 2</td></tr>\n",
              "\t<tr><td> 2</td></tr>\n",
              "\t<tr><td>12</td></tr>\n",
              "\t<tr><td> 4</td></tr>\n",
              "\t<tr><td> 6</td></tr>\n",
              "\t<tr><td> 1</td></tr>\n",
              "\t<tr><td> 1</td></tr>\n",
              "\t<tr><td> 3</td></tr>\n",
              "\t<tr><td> 2</td></tr>\n",
              "\t<tr><td> 1</td></tr>\n",
              "\t<tr><td>12</td></tr>\n",
              "\t<tr><td> 5</td></tr>\n",
              "\t<tr><td> 3</td></tr>\n",
              "\t<tr><td> 3</td></tr>\n",
              "\t<tr><td> 1</td></tr>\n",
              "\t<tr><td> 7</td></tr>\n",
              "\t<tr><td> 1</td></tr>\n",
              "\t<tr><td> 1</td></tr>\n",
              "\t<tr><td>⋮</td></tr>\n",
              "\t<tr><td> 1</td></tr>\n",
              "\t<tr><td> 1</td></tr>\n",
              "\t<tr><td> 3</td></tr>\n",
              "\t<tr><td> 3</td></tr>\n",
              "\t<tr><td> 1</td></tr>\n",
              "\t<tr><td> 1</td></tr>\n",
              "\t<tr><td> 1</td></tr>\n",
              "\t<tr><td> 1</td></tr>\n",
              "\t<tr><td> 5</td></tr>\n",
              "\t<tr><td>14</td></tr>\n",
              "\t<tr><td> 2</td></tr>\n",
              "\t<tr><td> 4</td></tr>\n",
              "\t<tr><td> 4</td></tr>\n",
              "\t<tr><td> 1</td></tr>\n",
              "\t<tr><td> 1</td></tr>\n",
              "\t<tr><td> 2</td></tr>\n",
              "\t<tr><td> 2</td></tr>\n",
              "\t<tr><td> 6</td></tr>\n",
              "\t<tr><td> 2</td></tr>\n",
              "\t<tr><td> 2</td></tr>\n",
              "\t<tr><td> 4</td></tr>\n",
              "\t<tr><td> 5</td></tr>\n",
              "\t<tr><td> 5</td></tr>\n",
              "\t<tr><td> 5</td></tr>\n",
              "\t<tr><td> 5</td></tr>\n",
              "\t<tr><td> 2</td></tr>\n",
              "\t<tr><td> 1</td></tr>\n",
              "\t<tr><td> 1</td></tr>\n",
              "\t<tr><td> 1</td></tr>\n",
              "\t<tr><td> 5</td></tr>\n",
              "</tbody>\n",
              "</table>\n"
            ],
            "text/markdown": "\nA tibble: 4914 × 1\n\n| AlcoholDay &lt;int&gt; |\n|---|\n|  2 |\n|  3 |\n|  3 |\n|  3 |\n|  1 |\n|  2 |\n|  6 |\n|  3 |\n|  6 |\n|  1 |\n|  1 |\n|  1 |\n|  2 |\n|  2 |\n| 12 |\n|  4 |\n|  6 |\n|  1 |\n|  1 |\n|  3 |\n|  2 |\n|  1 |\n| 12 |\n|  5 |\n|  3 |\n|  3 |\n|  1 |\n|  7 |\n|  1 |\n|  1 |\n| ⋮ |\n|  1 |\n|  1 |\n|  3 |\n|  3 |\n|  1 |\n|  1 |\n|  1 |\n|  1 |\n|  5 |\n| 14 |\n|  2 |\n|  4 |\n|  4 |\n|  1 |\n|  1 |\n|  2 |\n|  2 |\n|  6 |\n|  2 |\n|  2 |\n|  4 |\n|  5 |\n|  5 |\n|  5 |\n|  5 |\n|  2 |\n|  1 |\n|  1 |\n|  1 |\n|  5 |\n\n",
            "text/latex": "A tibble: 4914 × 1\n\\begin{tabular}{l}\n AlcoholDay\\\\\n <int>\\\\\n\\hline\n\t  2\\\\\n\t  3\\\\\n\t  3\\\\\n\t  3\\\\\n\t  1\\\\\n\t  2\\\\\n\t  6\\\\\n\t  3\\\\\n\t  6\\\\\n\t  1\\\\\n\t  1\\\\\n\t  1\\\\\n\t  2\\\\\n\t  2\\\\\n\t 12\\\\\n\t  4\\\\\n\t  6\\\\\n\t  1\\\\\n\t  1\\\\\n\t  3\\\\\n\t  2\\\\\n\t  1\\\\\n\t 12\\\\\n\t  5\\\\\n\t  3\\\\\n\t  3\\\\\n\t  1\\\\\n\t  7\\\\\n\t  1\\\\\n\t  1\\\\\n\t ⋮\\\\\n\t  1\\\\\n\t  1\\\\\n\t  3\\\\\n\t  3\\\\\n\t  1\\\\\n\t  1\\\\\n\t  1\\\\\n\t  1\\\\\n\t  5\\\\\n\t 14\\\\\n\t  2\\\\\n\t  4\\\\\n\t  4\\\\\n\t  1\\\\\n\t  1\\\\\n\t  2\\\\\n\t  2\\\\\n\t  6\\\\\n\t  2\\\\\n\t  2\\\\\n\t  4\\\\\n\t  5\\\\\n\t  5\\\\\n\t  5\\\\\n\t  5\\\\\n\t  2\\\\\n\t  1\\\\\n\t  1\\\\\n\t  1\\\\\n\t  5\\\\\n\\end{tabular}\n",
            "text/plain": [
              "     AlcoholDay\n",
              "1     2        \n",
              "2     3        \n",
              "3     3        \n",
              "4     3        \n",
              "5     1        \n",
              "6     2        \n",
              "7     6        \n",
              "8     3        \n",
              "9     6        \n",
              "10    1        \n",
              "11    1        \n",
              "12    1        \n",
              "13    2        \n",
              "14    2        \n",
              "15   12        \n",
              "16    4        \n",
              "17    6        \n",
              "18    1        \n",
              "19    1        \n",
              "20    3        \n",
              "21    2        \n",
              "22    1        \n",
              "23   12        \n",
              "24    5        \n",
              "25    3        \n",
              "26    3        \n",
              "27    1        \n",
              "28    7        \n",
              "29    1        \n",
              "30    1        \n",
              "⋮    ⋮         \n",
              "4885  1        \n",
              "4886  1        \n",
              "4887  3        \n",
              "4888  3        \n",
              "4889  1        \n",
              "4890  1        \n",
              "4891  1        \n",
              "4892  1        \n",
              "4893  5        \n",
              "4894 14        \n",
              "4895  2        \n",
              "4896  4        \n",
              "4897  4        \n",
              "4898  1        \n",
              "4899  1        \n",
              "4900  2        \n",
              "4901  2        \n",
              "4902  6        \n",
              "4903  2        \n",
              "4904  2        \n",
              "4905  4        \n",
              "4906  5        \n",
              "4907  5        \n",
              "4908  5        \n",
              "4909  5        \n",
              "4910  2        \n",
              "4911  1        \n",
              "4912  1        \n",
              "4913  1        \n",
              "4914  5        "
            ]
          },
          "metadata": {}
        }
      ]
    },
    {
      "cell_type": "code",
      "source": [
        "NHANES %>% colnames"
      ],
      "metadata": {
        "colab": {
          "base_uri": "https://localhost:8080/",
          "height": 86
        },
        "id": "IuSpXONoOu2p",
        "outputId": "bb652f8b-5cd2-46a5-f57f-0b3ce4171f02"
      },
      "execution_count": 8,
      "outputs": [
        {
          "output_type": "display_data",
          "data": {
            "text/html": [
              "<style>\n",
              ".list-inline {list-style: none; margin:0; padding: 0}\n",
              ".list-inline>li {display: inline-block}\n",
              ".list-inline>li:not(:last-child)::after {content: \"\\00b7\"; padding: 0 .5ex}\n",
              "</style>\n",
              "<ol class=list-inline><li>'ID'</li><li>'SurveyYr'</li><li>'Gender'</li><li>'Age'</li><li>'AgeDecade'</li><li>'AgeMonths'</li><li>'Race1'</li><li>'Race3'</li><li>'Education'</li><li>'MaritalStatus'</li><li>'HHIncome'</li><li>'HHIncomeMid'</li><li>'Poverty'</li><li>'HomeRooms'</li><li>'HomeOwn'</li><li>'Work'</li><li>'Weight'</li><li>'Length'</li><li>'HeadCirc'</li><li>'Height'</li><li>'BMI'</li><li>'BMICatUnder20yrs'</li><li>'BMI_WHO'</li><li>'Pulse'</li><li>'BPSysAve'</li><li>'BPDiaAve'</li><li>'BPSys1'</li><li>'BPDia1'</li><li>'BPSys2'</li><li>'BPDia2'</li><li>'BPSys3'</li><li>'BPDia3'</li><li>'Testosterone'</li><li>'DirectChol'</li><li>'TotChol'</li><li>'UrineVol1'</li><li>'UrineFlow1'</li><li>'UrineVol2'</li><li>'UrineFlow2'</li><li>'Diabetes'</li><li>'DiabetesAge'</li><li>'HealthGen'</li><li>'DaysPhysHlthBad'</li><li>'DaysMentHlthBad'</li><li>'LittleInterest'</li><li>'Depressed'</li><li>'nPregnancies'</li><li>'nBabies'</li><li>'Age1stBaby'</li><li>'SleepHrsNight'</li><li>'SleepTrouble'</li><li>'PhysActive'</li><li>'PhysActiveDays'</li><li>'TVHrsDay'</li><li>'CompHrsDay'</li><li>'TVHrsDayChild'</li><li>'CompHrsDayChild'</li><li>'Alcohol12PlusYr'</li><li>'AlcoholDay'</li><li>'AlcoholYear'</li><li>'SmokeNow'</li><li>'Smoke100'</li><li>'Smoke100n'</li><li>'SmokeAge'</li><li>'Marijuana'</li><li>'AgeFirstMarij'</li><li>'RegularMarij'</li><li>'AgeRegMarij'</li><li>'HardDrugs'</li><li>'SexEver'</li><li>'SexAge'</li><li>'SexNumPartnLife'</li><li>'SexNumPartYear'</li><li>'SameSex'</li><li>'SexOrientation'</li><li>'PregnantNow'</li></ol>\n"
            ],
            "text/markdown": "1. 'ID'\n2. 'SurveyYr'\n3. 'Gender'\n4. 'Age'\n5. 'AgeDecade'\n6. 'AgeMonths'\n7. 'Race1'\n8. 'Race3'\n9. 'Education'\n10. 'MaritalStatus'\n11. 'HHIncome'\n12. 'HHIncomeMid'\n13. 'Poverty'\n14. 'HomeRooms'\n15. 'HomeOwn'\n16. 'Work'\n17. 'Weight'\n18. 'Length'\n19. 'HeadCirc'\n20. 'Height'\n21. 'BMI'\n22. 'BMICatUnder20yrs'\n23. 'BMI_WHO'\n24. 'Pulse'\n25. 'BPSysAve'\n26. 'BPDiaAve'\n27. 'BPSys1'\n28. 'BPDia1'\n29. 'BPSys2'\n30. 'BPDia2'\n31. 'BPSys3'\n32. 'BPDia3'\n33. 'Testosterone'\n34. 'DirectChol'\n35. 'TotChol'\n36. 'UrineVol1'\n37. 'UrineFlow1'\n38. 'UrineVol2'\n39. 'UrineFlow2'\n40. 'Diabetes'\n41. 'DiabetesAge'\n42. 'HealthGen'\n43. 'DaysPhysHlthBad'\n44. 'DaysMentHlthBad'\n45. 'LittleInterest'\n46. 'Depressed'\n47. 'nPregnancies'\n48. 'nBabies'\n49. 'Age1stBaby'\n50. 'SleepHrsNight'\n51. 'SleepTrouble'\n52. 'PhysActive'\n53. 'PhysActiveDays'\n54. 'TVHrsDay'\n55. 'CompHrsDay'\n56. 'TVHrsDayChild'\n57. 'CompHrsDayChild'\n58. 'Alcohol12PlusYr'\n59. 'AlcoholDay'\n60. 'AlcoholYear'\n61. 'SmokeNow'\n62. 'Smoke100'\n63. 'Smoke100n'\n64. 'SmokeAge'\n65. 'Marijuana'\n66. 'AgeFirstMarij'\n67. 'RegularMarij'\n68. 'AgeRegMarij'\n69. 'HardDrugs'\n70. 'SexEver'\n71. 'SexAge'\n72. 'SexNumPartnLife'\n73. 'SexNumPartYear'\n74. 'SameSex'\n75. 'SexOrientation'\n76. 'PregnantNow'\n\n\n",
            "text/latex": "\\begin{enumerate*}\n\\item 'ID'\n\\item 'SurveyYr'\n\\item 'Gender'\n\\item 'Age'\n\\item 'AgeDecade'\n\\item 'AgeMonths'\n\\item 'Race1'\n\\item 'Race3'\n\\item 'Education'\n\\item 'MaritalStatus'\n\\item 'HHIncome'\n\\item 'HHIncomeMid'\n\\item 'Poverty'\n\\item 'HomeRooms'\n\\item 'HomeOwn'\n\\item 'Work'\n\\item 'Weight'\n\\item 'Length'\n\\item 'HeadCirc'\n\\item 'Height'\n\\item 'BMI'\n\\item 'BMICatUnder20yrs'\n\\item 'BMI\\_WHO'\n\\item 'Pulse'\n\\item 'BPSysAve'\n\\item 'BPDiaAve'\n\\item 'BPSys1'\n\\item 'BPDia1'\n\\item 'BPSys2'\n\\item 'BPDia2'\n\\item 'BPSys3'\n\\item 'BPDia3'\n\\item 'Testosterone'\n\\item 'DirectChol'\n\\item 'TotChol'\n\\item 'UrineVol1'\n\\item 'UrineFlow1'\n\\item 'UrineVol2'\n\\item 'UrineFlow2'\n\\item 'Diabetes'\n\\item 'DiabetesAge'\n\\item 'HealthGen'\n\\item 'DaysPhysHlthBad'\n\\item 'DaysMentHlthBad'\n\\item 'LittleInterest'\n\\item 'Depressed'\n\\item 'nPregnancies'\n\\item 'nBabies'\n\\item 'Age1stBaby'\n\\item 'SleepHrsNight'\n\\item 'SleepTrouble'\n\\item 'PhysActive'\n\\item 'PhysActiveDays'\n\\item 'TVHrsDay'\n\\item 'CompHrsDay'\n\\item 'TVHrsDayChild'\n\\item 'CompHrsDayChild'\n\\item 'Alcohol12PlusYr'\n\\item 'AlcoholDay'\n\\item 'AlcoholYear'\n\\item 'SmokeNow'\n\\item 'Smoke100'\n\\item 'Smoke100n'\n\\item 'SmokeAge'\n\\item 'Marijuana'\n\\item 'AgeFirstMarij'\n\\item 'RegularMarij'\n\\item 'AgeRegMarij'\n\\item 'HardDrugs'\n\\item 'SexEver'\n\\item 'SexAge'\n\\item 'SexNumPartnLife'\n\\item 'SexNumPartYear'\n\\item 'SameSex'\n\\item 'SexOrientation'\n\\item 'PregnantNow'\n\\end{enumerate*}\n",
            "text/plain": [
              " [1] \"ID\"               \"SurveyYr\"         \"Gender\"           \"Age\"             \n",
              " [5] \"AgeDecade\"        \"AgeMonths\"        \"Race1\"            \"Race3\"           \n",
              " [9] \"Education\"        \"MaritalStatus\"    \"HHIncome\"         \"HHIncomeMid\"     \n",
              "[13] \"Poverty\"          \"HomeRooms\"        \"HomeOwn\"          \"Work\"            \n",
              "[17] \"Weight\"           \"Length\"           \"HeadCirc\"         \"Height\"          \n",
              "[21] \"BMI\"              \"BMICatUnder20yrs\" \"BMI_WHO\"          \"Pulse\"           \n",
              "[25] \"BPSysAve\"         \"BPDiaAve\"         \"BPSys1\"           \"BPDia1\"          \n",
              "[29] \"BPSys2\"           \"BPDia2\"           \"BPSys3\"           \"BPDia3\"          \n",
              "[33] \"Testosterone\"     \"DirectChol\"       \"TotChol\"          \"UrineVol1\"       \n",
              "[37] \"UrineFlow1\"       \"UrineVol2\"        \"UrineFlow2\"       \"Diabetes\"        \n",
              "[41] \"DiabetesAge\"      \"HealthGen\"        \"DaysPhysHlthBad\"  \"DaysMentHlthBad\" \n",
              "[45] \"LittleInterest\"   \"Depressed\"        \"nPregnancies\"     \"nBabies\"         \n",
              "[49] \"Age1stBaby\"       \"SleepHrsNight\"    \"SleepTrouble\"     \"PhysActive\"      \n",
              "[53] \"PhysActiveDays\"   \"TVHrsDay\"         \"CompHrsDay\"       \"TVHrsDayChild\"   \n",
              "[57] \"CompHrsDayChild\"  \"Alcohol12PlusYr\"  \"AlcoholDay\"       \"AlcoholYear\"     \n",
              "[61] \"SmokeNow\"         \"Smoke100\"         \"Smoke100n\"        \"SmokeAge\"        \n",
              "[65] \"Marijuana\"        \"AgeFirstMarij\"    \"RegularMarij\"     \"AgeRegMarij\"     \n",
              "[69] \"HardDrugs\"        \"SexEver\"          \"SexAge\"           \"SexNumPartnLife\" \n",
              "[73] \"SexNumPartYear\"   \"SameSex\"          \"SexOrientation\"   \"PregnantNow\"     "
            ]
          },
          "metadata": {}
        }
      ]
    },
    {
      "cell_type": "code",
      "source": [
        "exp_mdl <- NHANES %>% select(-ID) %>% lm(DaysMentHlthBad ~ .)"
      ],
      "metadata": {
        "colab": {
          "base_uri": "https://localhost:8080/",
          "height": 402
        },
        "id": "thMBbarcVeAc",
        "outputId": "103b540a-bd24-432b-e696-8b0d7f06278e"
      },
      "execution_count": 50,
      "outputs": [
        {
          "output_type": "error",
          "ename": "ERROR",
          "evalue": "Error in as.data.frame.default(data): cannot coerce class ‘\"formula\"’ to a data.frame\n",
          "traceback": [
            "Error in as.data.frame.default(data): cannot coerce class ‘\"formula\"’ to a data.frame\nTraceback:\n",
            "1. lm(., DaysMentHlthBad ~ .)",
            "2. eval(mf, parent.frame())",
            "3. eval(mf, parent.frame())",
            "4. stats::model.frame(formula = ., data = DaysMentHlthBad ~ ., drop.unused.levels = TRUE)",
            "5. model.frame.default(formula = ., data = DaysMentHlthBad ~ ., \n .     drop.unused.levels = TRUE)",
            "6. as.data.frame(data)",
            "7. as.data.frame.default(data)",
            "8. stop(gettextf(\"cannot coerce class %s to a data.frame\", sQuote(deparse(class(x))[1L])), \n .     domain = NA)",
            "9. .handleSimpleError(function (cnd) \n . {\n .     watcher$capture_plot_and_output()\n .     cnd <- sanitize_call(cnd)\n .     watcher$push(cnd)\n .     switch(on_error, continue = invokeRestart(\"eval_continue\"), \n .         stop = invokeRestart(\"eval_stop\"), error = NULL)\n . }, \"cannot coerce class ‘\\\"formula\\\"’ to a data.frame\", base::quote(as.data.frame.default(data)))"
          ]
        }
      ]
    },
    {
      "cell_type": "code",
      "source": [
        "NHANES %>% count(HardDrugs)"
      ],
      "metadata": {
        "colab": {
          "base_uri": "https://localhost:8080/",
          "height": 192
        },
        "id": "Z27nm_ADVHSc",
        "outputId": "d29e6551-84dc-4150-9bf0-67c4f7e2828a"
      },
      "execution_count": 46,
      "outputs": [
        {
          "output_type": "display_data",
          "data": {
            "text/html": [
              "<table class=\"dataframe\">\n",
              "<caption>A tibble: 3 × 2</caption>\n",
              "<thead>\n",
              "\t<tr><th scope=col>HardDrugs</th><th scope=col>n</th></tr>\n",
              "\t<tr><th scope=col>&lt;fct&gt;</th><th scope=col>&lt;int&gt;</th></tr>\n",
              "</thead>\n",
              "<tbody>\n",
              "\t<tr><td>No </td><td>4700</td></tr>\n",
              "\t<tr><td>Yes</td><td>1065</td></tr>\n",
              "\t<tr><td>NA </td><td>4235</td></tr>\n",
              "</tbody>\n",
              "</table>\n"
            ],
            "text/markdown": "\nA tibble: 3 × 2\n\n| HardDrugs &lt;fct&gt; | n &lt;int&gt; |\n|---|---|\n| No  | 4700 |\n| Yes | 1065 |\n| NA  | 4235 |\n\n",
            "text/latex": "A tibble: 3 × 2\n\\begin{tabular}{ll}\n HardDrugs & n\\\\\n <fct> & <int>\\\\\n\\hline\n\t No  & 4700\\\\\n\t Yes & 1065\\\\\n\t NA  & 4235\\\\\n\\end{tabular}\n",
            "text/plain": [
              "  HardDrugs n   \n",
              "1 No        4700\n",
              "2 Yes       1065\n",
              "3 NA        4235"
            ]
          },
          "metadata": {}
        }
      ]
    },
    {
      "cell_type": "code",
      "source": [
        "summary(NHANES$TotChol)"
      ],
      "metadata": {
        "colab": {
          "base_uri": "https://localhost:8080/",
          "height": 52
        },
        "id": "_-Ff3N4jRBhv",
        "outputId": "5c89a40a-4fd0-466f-e9ef-e885a61e56c3"
      },
      "execution_count": 22,
      "outputs": [
        {
          "output_type": "display_data",
          "data": {
            "text/plain": [
              "   Min. 1st Qu.  Median    Mean 3rd Qu.    Max.    NA's \n",
              "  1.530   4.110   4.780   4.879   5.530  13.650    1526 "
            ]
          },
          "metadata": {}
        }
      ]
    },
    {
      "cell_type": "code",
      "source": [
        "df %>% filter(DaysMentHlthBad > 0) %>% ggplot(aes(x=DaysMentHlthBad)) + geom_histogram()"
      ],
      "metadata": {
        "colab": {
          "base_uri": "https://localhost:8080/",
          "height": 454
        },
        "id": "z9orxEqbO1bY",
        "outputId": "2041733e-1fca-4742-c501-cd985bbe656f"
      },
      "execution_count": 10,
      "outputs": [
        {
          "output_type": "stream",
          "name": "stderr",
          "text": [
            "\u001b[1m\u001b[22m`stat_bin()` using `bins = 30`. Pick better value with `binwidth`.\n"
          ]
        },
        {
          "output_type": "display_data",
          "data": {
            "text/plain": [
              "plot without title"
            ],
            "image/png": "[encoded data removed]"
          },
          "metadata": {
            "image/png": {
              "width": 420,
              "height": 420
            }
          }
        }
      ]
    },
    {
      "cell_type": "code",
      "source": [
        "df %>% colnames"
      ],
      "metadata": {
        "colab": {
          "base_uri": "https://localhost:8080/",
          "height": 34
        },
        "id": "4X5AM_dFPszq",
        "outputId": "35e172d9-a674-499c-acd1-81b7178c16e9"
      },
      "execution_count": 14,
      "outputs": [
        {
          "output_type": "display_data",
          "data": {
            "text/html": [
              "<style>\n",
              ".list-inline {list-style: none; margin:0; padding: 0}\n",
              ".list-inline>li {display: inline-block}\n",
              ".list-inline>li:not(:last-child)::after {content: \"\\00b7\"; padding: 0 .5ex}\n",
              "</style>\n",
              "<ol class=list-inline><li>'Age'</li><li>'MaritalStatus'</li><li>'Education'</li><li>'DaysMentHlthBad'</li><li>'SleepHrsNight'</li><li>'Work'</li><li>'BMI'</li></ol>\n"
            ],
            "text/markdown": "1. 'Age'\n2. 'MaritalStatus'\n3. 'Education'\n4. 'DaysMentHlthBad'\n5. 'SleepHrsNight'\n6. 'Work'\n7. 'BMI'\n\n\n",
            "text/latex": "\\begin{enumerate*}\n\\item 'Age'\n\\item 'MaritalStatus'\n\\item 'Education'\n\\item 'DaysMentHlthBad'\n\\item 'SleepHrsNight'\n\\item 'Work'\n\\item 'BMI'\n\\end{enumerate*}\n",
            "text/plain": [
              "[1] \"Age\"             \"MaritalStatus\"   \"Education\"       \"DaysMentHlthBad\"\n",
              "[5] \"SleepHrsNight\"   \"Work\"            \"BMI\"            "
            ]
          },
          "metadata": {}
        }
      ]
    },
    {
      "cell_type": "code",
      "source": [
        "df_filtered <- df %>% filter(DaysMentHlthBad > 0)\n",
        "summary(df_filtered$DaysMentHlthBad)"
      ],
      "metadata": {
        "colab": {
          "base_uri": "https://localhost:8080/",
          "height": 52
        },
        "id": "smpn9sTFO7b3",
        "outputId": "a3cd37e1-7318-4d1d-938a-43037fceb512"
      },
      "execution_count": 13,
      "outputs": [
        {
          "output_type": "display_data",
          "data": {
            "text/plain": [
              "   Min. 1st Qu.  Median    Mean 3rd Qu.    Max. \n",
              "  1.000   2.000   4.000   7.085  10.000  30.000 "
            ]
          },
          "metadata": {}
        }
      ]
    },
    {
      "cell_type": "code",
      "source": [
        "modl1 <- lm(DaysMentHlthBad ~ SleepHrsNight + BMI + Work, data = df)\n",
        "summary(modl1)"
      ],
      "metadata": {
        "colab": {
          "base_uri": "https://localhost:8080/",
          "height": 364
        },
        "id": "fk2cirxyTuSM",
        "outputId": "3e5dd41f-519a-4644-b85a-998a53ec0480"
      },
      "execution_count": 32,
      "outputs": [
        {
          "output_type": "display_data",
          "data": {
            "text/plain": [
              "\n",
              "Call:\n",
              "lm(formula = DaysMentHlthBad ~ SleepHrsNight + BMI + Work, data = df)\n",
              "\n",
              "Residuals:\n",
              "    Min      1Q  Median      3Q     Max \n",
              "-5.9431 -2.7582 -2.0242 -0.0995 28.5355 \n",
              "\n",
              "Coefficients:\n",
              "              Estimate Std. Error t value Pr(>|t|)    \n",
              "(Intercept)    7.24252    1.49062   4.859 1.34e-06 ***\n",
              "SleepHrsNight -0.65313    0.15384  -4.246 2.35e-05 ***\n",
              "BMI           -0.01924    0.03078  -0.625    0.532    \n",
              "WorkWorking    0.60148    0.39794   1.511    0.131    \n",
              "---\n",
              "Signif. codes:  0 ‘***’ 0.001 ‘**’ 0.01 ‘*’ 0.05 ‘.’ 0.1 ‘ ’ 1\n",
              "\n",
              "Residual standard error: 5.753 on 1182 degrees of freedom\n",
              "Multiple R-squared:  0.01879,\tAdjusted R-squared:  0.0163 \n",
              "F-statistic: 7.546 on 3 and 1182 DF,  p-value: 5.296e-05\n"
            ]
          },
          "metadata": {}
        }
      ]
    },
    {
      "cell_type": "code",
      "source": [
        "modl2 <- lm(DaysMentHlthBad ~ SleepHrsNight*Work + BMI, data = df)\n",
        "summary(modl2)"
      ],
      "metadata": {
        "colab": {
          "base_uri": "https://localhost:8080/",
          "height": 382
        },
        "id": "SuY-xvAbTuP7",
        "outputId": "583e00bf-2c36-42b1-dc2e-59eb92407fe5"
      },
      "execution_count": 34,
      "outputs": [
        {
          "output_type": "display_data",
          "data": {
            "text/plain": [
              "\n",
              "Call:\n",
              "lm(formula = DaysMentHlthBad ~ SleepHrsNight * Work + BMI, data = df)\n",
              "\n",
              "Residuals:\n",
              "    Min      1Q  Median      3Q     Max \n",
              "-5.1848 -2.7557 -2.1470 -0.1857 28.2383 \n",
              "\n",
              "Coefficients:\n",
              "                          Estimate Std. Error t value Pr(>|t|)    \n",
              "(Intercept)                9.35563    2.16414   4.323 1.67e-05 ***\n",
              "SleepHrsNight             -0.93756    0.26129  -3.588 0.000347 ***\n",
              "WorkWorking               -2.55332    2.37662  -1.074 0.282885    \n",
              "BMI                       -0.01981    0.03077  -0.644 0.519907    \n",
              "SleepHrsNight:WorkWorking  0.43483    0.32295   1.346 0.178423    \n",
              "---\n",
              "Signif. codes:  0 ‘***’ 0.001 ‘**’ 0.01 ‘*’ 0.05 ‘.’ 0.1 ‘ ’ 1\n",
              "\n",
              "Residual standard error: 5.751 on 1181 degrees of freedom\n",
              "Multiple R-squared:  0.0203,\tAdjusted R-squared:  0.01698 \n",
              "F-statistic: 6.117 on 4 and 1181 DF,  p-value: 7.155e-05\n"
            ]
          },
          "metadata": {}
        }
      ]
    },
    {
      "cell_type": "code",
      "source": [
        "modl3 <- lm(DaysMentHlthBad ~ SleepHrsNight + Work + BMI, data = df_filtered)\n",
        "summary(modl3)"
      ],
      "metadata": {
        "colab": {
          "base_uri": "https://localhost:8080/",
          "height": 364
        },
        "id": "oL96ynzlTuNA",
        "outputId": "b2c33d4c-bc5a-4150-a237-22fa45e07471"
      },
      "execution_count": 37,
      "outputs": [
        {
          "output_type": "display_data",
          "data": {
            "text/plain": [
              "\n",
              "Call:\n",
              "lm(formula = DaysMentHlthBad ~ SleepHrsNight + Work + BMI, data = df_filtered)\n",
              "\n",
              "Residuals:\n",
              "   Min     1Q Median     3Q    Max \n",
              "-8.562 -5.075 -3.160  1.945 24.995 \n",
              "\n",
              "Coefficients:\n",
              "              Estimate Std. Error t value Pr(>|t|)    \n",
              "(Intercept)   13.42670    3.35106   4.007 7.29e-05 ***\n",
              "SleepHrsNight -1.12892    0.34942  -3.231  0.00133 ** \n",
              "WorkWorking    1.16641    0.95128   1.226  0.22083    \n",
              "BMI            0.02197    0.06962   0.316  0.75245    \n",
              "---\n",
              "Signif. codes:  0 ‘***’ 0.001 ‘**’ 0.01 ‘*’ 0.05 ‘.’ 0.1 ‘ ’ 1\n",
              "\n",
              "Residual standard error: 7.797 on 419 degrees of freedom\n",
              "Multiple R-squared:  0.02805,\tAdjusted R-squared:  0.02109 \n",
              "F-statistic: 4.031 on 3 and 419 DF,  p-value: 0.007607\n"
            ]
          },
          "metadata": {}
        }
      ]
    },
    {
      "cell_type": "code",
      "source": [
        "modl4 <- lm(DaysMentHlthBad ~ SleepHrsNight*Work + BMI, data = df_filtered)\n",
        "summary(modl4)"
      ],
      "metadata": {
        "colab": {
          "base_uri": "https://localhost:8080/",
          "height": 382
        },
        "id": "RyWV6I-gTuJk",
        "outputId": "1f8c773d-6fce-47f3-a81a-66c27e260c1c"
      },
      "execution_count": 38,
      "outputs": [
        {
          "output_type": "display_data",
          "data": {
            "text/plain": [
              "\n",
              "Call:\n",
              "lm(formula = DaysMentHlthBad ~ SleepHrsNight * Work + BMI, data = df_filtered)\n",
              "\n",
              "Residuals:\n",
              "   Min     1Q Median     3Q    Max \n",
              "-8.569 -5.072 -3.157  1.937 25.002 \n",
              "\n",
              "Coefficients:\n",
              "                          Estimate Std. Error t value Pr(>|t|)   \n",
              "(Intercept)               13.37768    4.80754   2.783  0.00564 **\n",
              "SleepHrsNight             -1.12192    0.60346  -1.859  0.06371 . \n",
              "WorkWorking                1.23901    5.18791   0.239  0.81136   \n",
              "BMI                        0.02200    0.06973   0.316  0.75252   \n",
              "SleepHrsNight:WorkWorking -0.01049    0.73683  -0.014  0.98865   \n",
              "---\n",
              "Signif. codes:  0 ‘***’ 0.001 ‘**’ 0.01 ‘*’ 0.05 ‘.’ 0.1 ‘ ’ 1\n",
              "\n",
              "Residual standard error: 7.807 on 418 degrees of freedom\n",
              "Multiple R-squared:  0.02805,\tAdjusted R-squared:  0.01875 \n",
              "F-statistic: 3.016 on 4 and 418 DF,  p-value: 0.01795\n"
            ]
          },
          "metadata": {}
        }
      ]
    },
    {
      "cell_type": "code",
      "source": [
        "modl5 <- lm(DaysMentHlthBad ~ SleepHrsNight + Work + BMI + TotChol + AlcoholDay + HardDrugs, data = df)\n",
        "summary(modl5)"
      ],
      "metadata": {
        "colab": {
          "base_uri": "https://localhost:8080/",
          "height": 434
        },
        "id": "wE3wpwtDTuHL",
        "outputId": "7d9bb905-b652-4f30-a2a3-65c484599d1d"
      },
      "execution_count": 49,
      "outputs": [
        {
          "output_type": "display_data",
          "data": {
            "text/plain": [
              "\n",
              "Call:\n",
              "lm(formula = DaysMentHlthBad ~ SleepHrsNight + Work + BMI + TotChol + \n",
              "    AlcoholDay + HardDrugs, data = df)\n",
              "\n",
              "Residuals:\n",
              "   Min     1Q Median     3Q    Max \n",
              "-5.277 -2.754 -1.886 -0.009 29.027 \n",
              "\n",
              "Coefficients:\n",
              "               Estimate Std. Error t value Pr(>|t|)    \n",
              "(Intercept)    7.370668   2.203708   3.345 0.000858 ***\n",
              "SleepHrsNight -0.825316   0.189979  -4.344 1.56e-05 ***\n",
              "WorkWorking   -0.019819   0.532447  -0.037 0.970316    \n",
              "BMI            0.009955   0.039249   0.254 0.799845    \n",
              "TotChol        0.178280   0.183395   0.972 0.331261    \n",
              "AlcoholDay    -0.035173   0.171045  -0.206 0.837122    \n",
              "HardDrugsYes   0.796844   0.669775   1.190 0.234472    \n",
              "---\n",
              "Signif. codes:  0 ‘***’ 0.001 ‘**’ 0.01 ‘*’ 0.05 ‘.’ 0.1 ‘ ’ 1\n",
              "\n",
              "Residual standard error: 5.931 on 896 degrees of freedom\n",
              "Multiple R-squared:  0.02491,\tAdjusted R-squared:  0.01838 \n",
              "F-statistic: 3.815 on 6 and 896 DF,  p-value: 0.000921\n"
            ]
          },
          "metadata": {}
        }
      ]
    },
    {
      "cell_type": "code",
      "source": [
        "df_log <- df %>% filter(DaysMentHlthBad > 0) %>% mutate(DaysMentHlthBad = log(DaysMentHlthBad))\n",
        "model1 <- lm(DaysMentHlthBad ~ SleepHrsNight + Work + BMI, data = df_log)\n",
        "summary(model1)"
      ],
      "metadata": {
        "colab": {
          "base_uri": "https://localhost:8080/",
          "height": 364
        },
        "id": "U-2ZlZD_PJB3",
        "outputId": "e5fadff5-0fbb-451f-84e8-ac3143638fdd"
      },
      "execution_count": 28,
      "outputs": [
        {
          "output_type": "display_data",
          "data": {
            "text/plain": [
              "\n",
              "Call:\n",
              "lm(formula = DaysMentHlthBad ~ SleepHrsNight + Work + BMI, data = df_log)\n",
              "\n",
              "Residuals:\n",
              "    Min      1Q  Median      3Q     Max \n",
              "-1.7558 -0.6558 -0.1139  0.7081  2.1920 \n",
              "\n",
              "Coefficients:\n",
              "               Estimate Std. Error t value Pr(>|t|)    \n",
              "(Intercept)    1.945941   0.407529   4.775 2.49e-06 ***\n",
              "SleepHrsNight -0.130391   0.042494  -3.068  0.00229 ** \n",
              "WorkWorking    0.091807   0.115687   0.794  0.42789    \n",
              "BMI            0.013243   0.008466   1.564  0.11851    \n",
              "---\n",
              "Signif. codes:  0 ‘***’ 0.001 ‘**’ 0.01 ‘*’ 0.05 ‘.’ 0.1 ‘ ’ 1\n",
              "\n",
              "Residual standard error: 0.9482 on 419 degrees of freedom\n",
              "Multiple R-squared:  0.03136,\tAdjusted R-squared:  0.02442 \n",
              "F-statistic: 4.521 on 3 and 419 DF,  p-value: 0.00391\n"
            ]
          },
          "metadata": {}
        }
      ]
    },
    {
      "cell_type": "code",
      "source": [
        "model2 <- lm(DaysMentHlthBad ~ SleepHrsNight + Work*BMI, data = df)\n",
        "summary(model2)"
      ],
      "metadata": {
        "colab": {
          "base_uri": "https://localhost:8080/",
          "height": 263
        },
        "id": "UtZFkp4cPyQG",
        "outputId": "069458d3-8919-4f0c-9874-f8fb8b16078d"
      },
      "execution_count": 26,
      "outputs": [
        {
          "output_type": "error",
          "ename": "ERROR",
          "evalue": "Error in lm.fit(x, y, offset = offset, singular.ok = singular.ok, ...): NA/NaN/Inf in 'y'\n",
          "traceback": [
            "Error in lm.fit(x, y, offset = offset, singular.ok = singular.ok, ...): NA/NaN/Inf in 'y'\nTraceback:\n",
            "1. lm.fit(x, y, offset = offset, singular.ok = singular.ok, ...)",
            "2. .handleSimpleError(function (cnd) \n . {\n .     watcher$capture_plot_and_output()\n .     cnd <- sanitize_call(cnd)\n .     watcher$push(cnd)\n .     switch(on_error, continue = invokeRestart(\"eval_continue\"), \n .         stop = invokeRestart(\"eval_stop\"), error = NULL)\n . }, \"NA/NaN/Inf in 'y'\", base::quote(lm.fit(x, y, offset = offset, \n .     singular.ok = singular.ok, ...)))"
          ]
        }
      ]
    },
    {
      "cell_type": "code",
      "source": [
        "model1 %>%\n",
        "  fortify(model1$model) %>%\n",
        "  ggplot(aes(x = .resid)) +\n",
        "  geom_histogram() +\n",
        "  labs(x = \"Residuals\",\n",
        "       title = \"Histogram of Residuals\")"
      ],
      "metadata": {
        "colab": {
          "base_uri": "https://localhost:8080/",
          "height": 454
        },
        "id": "pM-lpaw9Rd61",
        "outputId": "38ee9bfd-09f2-4bef-f0dc-371473bba34c"
      },
      "execution_count": 29,
      "outputs": [
        {
          "output_type": "stream",
          "name": "stderr",
          "text": [
            "\u001b[1m\u001b[22m`stat_bin()` using `bins = 30`. Pick better value with `binwidth`.\n"
          ]
        },
        {
          "output_type": "display_data",
          "data": {
            "text/plain": [
              "plot without title"
            ],
            "image/png": "[encoded data removed]"
          },
          "metadata": {
            "image/png": {
              "width": 420,
              "height": 420
            }
          }
        }
      ]
    },
    {
      "cell_type": "code",
      "source": [
        "stargazer(modl1, modl2, modl3, modl4, modl5,\n",
        "          type = \"text\",           # use \"html\" or \"latex\" if needed\n",
        "          title = \"Regression Results\",\n",
        "          column.labels = c(\"Model 1\", \"Model 2\", \"Model 3\", \"Model 4\", \"Model 5\"),\n",
        "          dep.var.labels = \"Days of Bad Mental Health\",\n",
        "          covariate.labels = c(\"Sleep Hours/Night\", \"Working\", \"BMI\"),\n",
        "          omit.stat = c(\"f\", \"ser\"),  # optional: omit F-statistic and standard error\n",
        "          no.space = TRUE)"
      ],
      "metadata": {
        "colab": {
          "base_uri": "https://localhost:8080/"
        },
        "id": "OHtNRH8vSNAE",
        "outputId": "5cc95d25-ef63-4351-ef9f-0b1683dbd2e1"
      },
      "execution_count": 57,
      "outputs": [
        {
          "output_type": "stream",
          "name": "stdout",
          "text": [
            "\n",
            "Regression Results\n",
            "===================================================================\n",
            "                                 Dependent variable:               \n",
            "                  -------------------------------------------------\n",
            "                              Days of Bad Mental Health            \n",
            "                   Model 1   Model 2   Model 3   Model 4   Model 5 \n",
            "                     (1)       (2)       (3)       (4)       (5)   \n",
            "-------------------------------------------------------------------\n",
            "Sleep Hours/Night -0.653*** -0.938*** -1.129***  -1.122*  -0.825***\n",
            "                   (0.154)   (0.261)   (0.349)   (0.603)   (0.190) \n",
            "Working            -0.019    -0.020     0.022     0.022     0.010  \n",
            "                   (0.031)   (0.031)   (0.070)   (0.070)   (0.039) \n",
            "BMI                           0.435              -0.010            \n",
            "                             (0.323)             (0.737)           \n",
            "TotChol                                                     0.178  \n",
            "                                                           (0.183) \n",
            "AlcoholDay                                                 -0.035  \n",
            "                                                           (0.171) \n",
            "HardDrugsYes                                                0.797  \n",
            "                                                           (0.670) \n",
            "WorkWorking         0.601    -2.553     1.166     1.239    -0.020  \n",
            "                   (0.398)   (2.377)   (0.951)   (5.188)   (0.532) \n",
            "Constant          7.243***  9.356***  13.427*** 13.378*** 7.371*** \n",
            "                   (1.491)   (2.164)   (3.351)   (4.808)   (2.204) \n",
            "-------------------------------------------------------------------\n",
            "Observations        1,186     1,186      423       423       903   \n",
            "R2                  0.019     0.020     0.028     0.028     0.025  \n",
            "Adjusted R2         0.016     0.017     0.021     0.019     0.018  \n",
            "===================================================================\n",
            "Note:                                   *p<0.1; **p<0.05; ***p<0.01\n"
          ]
        }
      ]
    },
    {
      "cell_type": "code",
      "source": [],
      "metadata": {
        "id": "O9gHMFsLV-YT"
      },
      "execution_count": null,
      "outputs": []
    }
  ]
}