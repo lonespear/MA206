{
  "nbformat": 4,
  "nbformat_minor": 0,
  "metadata": {
    "colab": {
      "provenance": [],
      "authorship_tag": "ABX9TyP6aCpFJiDHru7+phQ5fmON",
      "include_colab_link": true
    },
    "kernelspec": {
      "name": "ir",
      "display_name": "R"
    },
    "language_info": {
      "name": "R"
    }
  },
  "cells": [
    {
      "cell_type": "markdown",
      "metadata": {
        "id": "view-in-github",
        "colab_type": "text"
      },
      "source": [
        "<a href=\"https://colab.research.google.com/github/lonespear/MA206/blob/main/Lesson_20.ipynb\" target=\"_parent\"><img src=\"https://colab.research.google.com/assets/colab-badge.svg\" alt=\"Open In Colab\"/></a>"
      ]
    },
    {
      "cell_type": "markdown",
      "source": [
        "# Lesson 20: Linear Regression III, Interaction Models"
      ],
      "metadata": {
        "id": "1VSDFvl4ZlR1"
      }
    },
    {
      "cell_type": "code",
      "execution_count": 6,
      "metadata": {
        "colab": {
          "base_uri": "https://localhost:8080/"
        },
        "id": "Fqt4DVDzZKGQ",
        "outputId": "7d34df6d-492c-4f46-be4c-cc666a712f84"
      },
      "outputs": [
        {
          "output_type": "stream",
          "name": "stderr",
          "text": [
            "\u001b[1mRows: \u001b[22m\u001b[34m1304\u001b[39m \u001b[1mColumns: \u001b[22m\u001b[34m14\u001b[39m\n",
            "\u001b[36m──\u001b[39m \u001b[1mColumn specification\u001b[22m \u001b[36m────────────────────────────────────────────────────────\u001b[39m\n",
            "\u001b[1mDelimiter:\u001b[22m \",\"\n",
            "\u001b[31mchr\u001b[39m (6): set_name, theme, ages, packaging, weight, size\n",
            "\u001b[32mdbl\u001b[39m (8): item_number, pieces, price, amazon_price, year, pages, minifigures,...\n",
            "\n",
            "\u001b[36mℹ\u001b[39m Use `spec()` to retrieve the full column specification for this data.\n",
            "\u001b[36mℹ\u001b[39m Specify the column types or set `show_col_types = FALSE` to quiet this message.\n",
            "\u001b[1mRows: \u001b[22m\u001b[34m3547\u001b[39m \u001b[1mColumns: \u001b[22m\u001b[34m12\u001b[39m\n",
            "\u001b[36m──\u001b[39m \u001b[1mColumn specification\u001b[22m \u001b[36m────────────────────────────────────────────────────────\u001b[39m\n",
            "\u001b[1mDelimiter:\u001b[22m \",\"\n",
            "\u001b[31mchr\u001b[39m (5): Group, Weapon, Region, Country, Target\n",
            "\u001b[32mdbl\u001b[39m (7): Year, Month, DayOfWeek, Wounded, Killed, MaleAttackers, FemaleAttac...\n",
            "\n",
            "\u001b[36mℹ\u001b[39m Use `spec()` to retrieve the full column specification for this data.\n",
            "\u001b[36mℹ\u001b[39m Specify the column types or set `show_col_types = FALSE` to quiet this message.\n"
          ]
        }
      ],
      "source": [
        "library(tidyverse)\n",
        "legos <- read_csv(\"https://raw.githubusercontent.com/lonespear/MA206/refs/heads/main/lego_population.csv\")\n",
        "attacks <- read_csv(\"https://raw.githubusercontent.com/lonespear/MA206/refs/heads/main/Attacks.csv\")"
      ]
    },
    {
      "cell_type": "code",
      "source": [
        "legos %>% head"
      ],
      "metadata": {
        "colab": {
          "base_uri": "https://localhost:8080/",
          "height": 286
        },
        "id": "T9OPO32A8Zfh",
        "outputId": "3734116a-d962-4120-c0ea-a124d3292c2a"
      },
      "execution_count": 7,
      "outputs": [
        {
          "output_type": "display_data",
          "data": {
            "text/html": [
              "<table class=\"dataframe\">\n",
              "<caption>A tibble: 6 × 14</caption>\n",
              "<thead>\n",
              "\t<tr><th scope=col>item_number</th><th scope=col>set_name</th><th scope=col>theme</th><th scope=col>pieces</th><th scope=col>price</th><th scope=col>amazon_price</th><th scope=col>year</th><th scope=col>ages</th><th scope=col>pages</th><th scope=col>minifigures</th><th scope=col>packaging</th><th scope=col>weight</th><th scope=col>unique_pieces</th><th scope=col>size</th></tr>\n",
              "\t<tr><th scope=col>&lt;dbl&gt;</th><th scope=col>&lt;chr&gt;</th><th scope=col>&lt;chr&gt;</th><th scope=col>&lt;dbl&gt;</th><th scope=col>&lt;dbl&gt;</th><th scope=col>&lt;dbl&gt;</th><th scope=col>&lt;dbl&gt;</th><th scope=col>&lt;chr&gt;</th><th scope=col>&lt;dbl&gt;</th><th scope=col>&lt;dbl&gt;</th><th scope=col>&lt;chr&gt;</th><th scope=col>&lt;chr&gt;</th><th scope=col>&lt;dbl&gt;</th><th scope=col>&lt;chr&gt;</th></tr>\n",
              "</thead>\n",
              "<tbody>\n",
              "\t<tr><td>41916</td><td>Extra Dots - Series 2   </td><td>DOTS   </td><td>109</td><td>3.99</td><td>3.44</td><td>2020</td><td>Ages_6+</td><td>NA</td><td>NA</td><td>Foil pack</td><td>NA</td><td> 6</td><td>Small</td></tr>\n",
              "\t<tr><td>41908</td><td>Extra Dots - Series 1   </td><td>DOTS   </td><td>109</td><td>3.99</td><td>3.99</td><td>2020</td><td>Ages_6+</td><td>NA</td><td>NA</td><td>Foil pack</td><td>NA</td><td> 6</td><td>Small</td></tr>\n",
              "\t<tr><td>11006</td><td>Creative Blue Bricks    </td><td>Classic</td><td> 52</td><td>4.99</td><td>4.93</td><td>2020</td><td>Ages_4+</td><td>37</td><td>NA</td><td>Box      </td><td>NA</td><td>28</td><td>Small</td></tr>\n",
              "\t<tr><td>11007</td><td>Creative Green Bricks   </td><td>Classic</td><td> 60</td><td>4.99</td><td>4.93</td><td>2020</td><td>Ages_4+</td><td>37</td><td>NA</td><td>Box      </td><td>NA</td><td>36</td><td>Small</td></tr>\n",
              "\t<tr><td>41901</td><td>Funky Animals Bracelet  </td><td>DOTS   </td><td> 33</td><td>4.99</td><td>4.99</td><td>2020</td><td>Ages_6+</td><td>NA</td><td>NA</td><td>Foil pack</td><td>NA</td><td>10</td><td>Small</td></tr>\n",
              "\t<tr><td>41902</td><td>Sparkly Unicorn Bracelet</td><td>DOTS   </td><td> 33</td><td>4.99</td><td>4.99</td><td>2020</td><td>Ages_6+</td><td>NA</td><td>NA</td><td>Foil pack</td><td>NA</td><td> 9</td><td>Small</td></tr>\n",
              "</tbody>\n",
              "</table>\n"
            ],
            "text/markdown": "\nA tibble: 6 × 14\n\n| item_number &lt;dbl&gt; | set_name &lt;chr&gt; | theme &lt;chr&gt; | pieces &lt;dbl&gt; | price &lt;dbl&gt; | amazon_price &lt;dbl&gt; | year &lt;dbl&gt; | ages &lt;chr&gt; | pages &lt;dbl&gt; | minifigures &lt;dbl&gt; | packaging &lt;chr&gt; | weight &lt;chr&gt; | unique_pieces &lt;dbl&gt; | size &lt;chr&gt; |\n|---|---|---|---|---|---|---|---|---|---|---|---|---|---|\n| 41916 | Extra Dots - Series 2    | DOTS    | 109 | 3.99 | 3.44 | 2020 | Ages_6+ | NA | NA | Foil pack | NA |  6 | Small |\n| 41908 | Extra Dots - Series 1    | DOTS    | 109 | 3.99 | 3.99 | 2020 | Ages_6+ | NA | NA | Foil pack | NA |  6 | Small |\n| 11006 | Creative Blue Bricks     | Classic |  52 | 4.99 | 4.93 | 2020 | Ages_4+ | 37 | NA | Box       | NA | 28 | Small |\n| 11007 | Creative Green Bricks    | Classic |  60 | 4.99 | 4.93 | 2020 | Ages_4+ | 37 | NA | Box       | NA | 36 | Small |\n| 41901 | Funky Animals Bracelet   | DOTS    |  33 | 4.99 | 4.99 | 2020 | Ages_6+ | NA | NA | Foil pack | NA | 10 | Small |\n| 41902 | Sparkly Unicorn Bracelet | DOTS    |  33 | 4.99 | 4.99 | 2020 | Ages_6+ | NA | NA | Foil pack | NA |  9 | Small |\n\n",
            "text/latex": "A tibble: 6 × 14\n\\begin{tabular}{llllllllllllll}\n item\\_number & set\\_name & theme & pieces & price & amazon\\_price & year & ages & pages & minifigures & packaging & weight & unique\\_pieces & size\\\\\n <dbl> & <chr> & <chr> & <dbl> & <dbl> & <dbl> & <dbl> & <chr> & <dbl> & <dbl> & <chr> & <chr> & <dbl> & <chr>\\\\\n\\hline\n\t 41916 & Extra Dots - Series 2    & DOTS    & 109 & 3.99 & 3.44 & 2020 & Ages\\_6+ & NA & NA & Foil pack & NA &  6 & Small\\\\\n\t 41908 & Extra Dots - Series 1    & DOTS    & 109 & 3.99 & 3.99 & 2020 & Ages\\_6+ & NA & NA & Foil pack & NA &  6 & Small\\\\\n\t 11006 & Creative Blue Bricks     & Classic &  52 & 4.99 & 4.93 & 2020 & Ages\\_4+ & 37 & NA & Box       & NA & 28 & Small\\\\\n\t 11007 & Creative Green Bricks    & Classic &  60 & 4.99 & 4.93 & 2020 & Ages\\_4+ & 37 & NA & Box       & NA & 36 & Small\\\\\n\t 41901 & Funky Animals Bracelet   & DOTS    &  33 & 4.99 & 4.99 & 2020 & Ages\\_6+ & NA & NA & Foil pack & NA & 10 & Small\\\\\n\t 41902 & Sparkly Unicorn Bracelet & DOTS    &  33 & 4.99 & 4.99 & 2020 & Ages\\_6+ & NA & NA & Foil pack & NA &  9 & Small\\\\\n\\end{tabular}\n",
            "text/plain": [
              "  item_number set_name                 theme   pieces price amazon_price year\n",
              "1 41916       Extra Dots - Series 2    DOTS    109    3.99  3.44         2020\n",
              "2 41908       Extra Dots - Series 1    DOTS    109    3.99  3.99         2020\n",
              "3 11006       Creative Blue Bricks     Classic  52    4.99  4.93         2020\n",
              "4 11007       Creative Green Bricks    Classic  60    4.99  4.93         2020\n",
              "5 41901       Funky Animals Bracelet   DOTS     33    4.99  4.99         2020\n",
              "6 41902       Sparkly Unicorn Bracelet DOTS     33    4.99  4.99         2020\n",
              "  ages    pages minifigures packaging weight unique_pieces size \n",
              "1 Ages_6+ NA    NA          Foil pack NA      6            Small\n",
              "2 Ages_6+ NA    NA          Foil pack NA      6            Small\n",
              "3 Ages_4+ 37    NA          Box       NA     28            Small\n",
              "4 Ages_4+ 37    NA          Box       NA     36            Small\n",
              "5 Ages_6+ NA    NA          Foil pack NA     10            Small\n",
              "6 Ages_6+ NA    NA          Foil pack NA      9            Small"
            ]
          },
          "metadata": {}
        }
      ]
    },
    {
      "cell_type": "code",
      "source": [
        "legos$minifigures %>% unique"
      ],
      "metadata": {
        "colab": {
          "base_uri": "https://localhost:8080/",
          "height": 34
        },
        "id": "8I1Tkq4O8l7A",
        "outputId": "d8da62be-69e6-4680-c577-f3f4f5519685"
      },
      "execution_count": 13,
      "outputs": [
        {
          "output_type": "display_data",
          "data": {
            "text/html": [
              "<style>\n",
              ".list-inline {list-style: none; margin:0; padding: 0}\n",
              ".list-inline>li {display: inline-block}\n",
              ".list-inline>li:not(:last-child)::after {content: \"\\00b7\"; padding: 0 .5ex}\n",
              "</style>\n",
              "<ol class=list-inline><li>&lt;NA&gt;</li><li>1</li><li>2</li><li>3</li><li>4</li><li>6</li><li>5</li><li>9</li><li>8</li><li>14</li><li>7</li><li>17</li><li>15</li><li>10</li><li>13</li><li>11</li><li>28</li><li>19</li></ol>\n"
            ],
            "text/markdown": "1. &lt;NA&gt;\n2. 1\n3. 2\n4. 3\n5. 4\n6. 6\n7. 5\n8. 9\n9. 8\n10. 14\n11. 7\n12. 17\n13. 15\n14. 10\n15. 13\n16. 11\n17. 28\n18. 19\n\n\n",
            "text/latex": "\\begin{enumerate*}\n\\item <NA>\n\\item 1\n\\item 2\n\\item 3\n\\item 4\n\\item 6\n\\item 5\n\\item 9\n\\item 8\n\\item 14\n\\item 7\n\\item 17\n\\item 15\n\\item 10\n\\item 13\n\\item 11\n\\item 28\n\\item 19\n\\end{enumerate*}\n",
            "text/plain": [
              " [1] NA  1  2  3  4  6  5  9  8 14  7 17 15 10 13 11 28 19"
            ]
          },
          "metadata": {}
        }
      ]
    },
    {
      "cell_type": "code",
      "source": [
        "cor(attacks$Wounded, attacks$Killed)"
      ],
      "metadata": {
        "colab": {
          "base_uri": "https://localhost:8080/",
          "height": 34
        },
        "id": "3me0a32N8vIs",
        "outputId": "3e16b540-0335-4dbc-9171-12340e85de35"
      },
      "execution_count": 5,
      "outputs": [
        {
          "output_type": "display_data",
          "data": {
            "text/html": [
              "0.791575513573905"
            ],
            "text/markdown": "0.791575513573905",
            "text/latex": "0.791575513573905",
            "text/plain": [
              "[1] 0.7915755"
            ]
          },
          "metadata": {}
        }
      ]
    },
    {
      "cell_type": "code",
      "source": [],
      "metadata": {
        "id": "aahcuOkv835N"
      },
      "execution_count": null,
      "outputs": []
    }
  ]
}