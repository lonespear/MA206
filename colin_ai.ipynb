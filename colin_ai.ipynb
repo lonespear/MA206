{
  "nbformat": 4,
  "nbformat_minor": 0,
  "metadata": {
    "colab": {
      "provenance": [],
      "authorship_tag": "ABX9TyMoTlgqwFodkRb6Im6p4RW6",
      "include_colab_link": true
    },
    "kernelspec": {
      "name": "ir",
      "display_name": "R"
    },
    "language_info": {
      "name": "R"
    }
  },
  "cells": [
    {
      "cell_type": "markdown",
      "metadata": {
        "id": "view-in-github",
        "colab_type": "text"
      },
      "source": [
        "<a href=\"https://colab.research.google.com/github/lonespear/MA206/blob/main/colin_ai.ipynb\" target=\"_parent\"><img src=\"https://colab.research.google.com/assets/colab-badge.svg\" alt=\"Open In Colab\"/></a>"
      ]
    },
    {
      "cell_type": "code",
      "execution_count": 3,
      "metadata": {
        "colab": {
          "base_uri": "https://localhost:8080/"
        },
        "id": "WieqtKCSnY5I",
        "outputId": "ad2c411c-8e3c-478d-ef1c-3e6ad9afd495"
      },
      "outputs": [
        {
          "output_type": "stream",
          "name": "stderr",
          "text": [
            "── \u001b[1mAttaching core tidyverse packages\u001b[22m ──────────────────────── tidyverse 2.0.0 ──\n",
            "\u001b[32m✔\u001b[39m \u001b[34mforcats  \u001b[39m 1.0.0     \u001b[32m✔\u001b[39m \u001b[34mreadr    \u001b[39m 2.1.5\n",
            "\u001b[32m✔\u001b[39m \u001b[34mggplot2  \u001b[39m 3.5.1     \u001b[32m✔\u001b[39m \u001b[34mstringr  \u001b[39m 1.5.1\n",
            "\u001b[32m✔\u001b[39m \u001b[34mlubridate\u001b[39m 1.9.4     \u001b[32m✔\u001b[39m \u001b[34mtibble   \u001b[39m 3.2.1\n",
            "\u001b[32m✔\u001b[39m \u001b[34mpurrr    \u001b[39m 1.0.4     \u001b[32m✔\u001b[39m \u001b[34mtidyr    \u001b[39m 1.3.1\n",
            "── \u001b[1mConflicts\u001b[22m ────────────────────────────────────────── tidyverse_conflicts() ──\n",
            "\u001b[31m✖\u001b[39m \u001b[34mdplyr\u001b[39m::\u001b[32mfilter()\u001b[39m masks \u001b[34mstats\u001b[39m::filter()\n",
            "\u001b[31m✖\u001b[39m \u001b[34mdplyr\u001b[39m::\u001b[32mlag()\u001b[39m    masks \u001b[34mstats\u001b[39m::lag()\n",
            "\u001b[36mℹ\u001b[39m Use the conflicted package (\u001b[3m\u001b[34m<http://conflicted.r-lib.org/>\u001b[39m\u001b[23m) to force all conflicts to become errors\n"
          ]
        }
      ],
      "source": [
        "library(tidyverse)"
      ]
    },
    {
      "cell_type": "code",
      "source": [
        "res_df <- read_csv(\"results.csv\")\n",
        "driver_df <- read_csv(\"driver_standings.csv\")\n",
        "const_df <- read_csv(\"constructor_results.csv\")\n",
        "drivers <- read_csv(\"drivers.csv\") %>% select(driverId, driverRef)\n",
        "constructors <- read_csv(\"constructors.csv\") %>% select(constructorId, name)"
      ],
      "metadata": {
        "colab": {
          "base_uri": "https://localhost:8080/"
        },
        "id": "58ZGJ-RrnmQG",
        "outputId": "b584bfd6-2b3a-4c37-906f-28657002ddcd"
      },
      "execution_count": 4,
      "outputs": [
        {
          "output_type": "stream",
          "name": "stderr",
          "text": [
            "Warning message:\n",
            "“\u001b[1m\u001b[22mOne or more parsing issues, call `problems()` on your data frame for details,\n",
            "e.g.:\n",
            "  dat <- vroom(...)\n",
            "  problems(dat)”\n",
            "\u001b[1mRows: \u001b[22m\u001b[34m26759\u001b[39m \u001b[1mColumns: \u001b[22m\u001b[34m18\u001b[39m\n",
            "\u001b[36m──\u001b[39m \u001b[1mColumn specification\u001b[22m \u001b[36m────────────────────────────────────────────────────────\u001b[39m\n",
            "\u001b[1mDelimiter:\u001b[22m \",\"\n",
            "\u001b[31mchr\u001b[39m  (8): position, positionText, time, milliseconds, fastestLap, rank, fast...\n",
            "\u001b[32mdbl\u001b[39m (10): resultId, raceId, driverId, constructorId, number, grid, positionO...\n",
            "\n",
            "\u001b[36mℹ\u001b[39m Use `spec()` to retrieve the full column specification for this data.\n",
            "\u001b[36mℹ\u001b[39m Specify the column types or set `show_col_types = FALSE` to quiet this message.\n",
            "Warning message:\n",
            "“\u001b[1m\u001b[22mOne or more parsing issues, call `problems()` on your data frame for details,\n",
            "e.g.:\n",
            "  dat <- vroom(...)\n",
            "  problems(dat)”\n",
            "\u001b[1mRows: \u001b[22m\u001b[34m34863\u001b[39m \u001b[1mColumns: \u001b[22m\u001b[34m7\u001b[39m\n",
            "\u001b[36m──\u001b[39m \u001b[1mColumn specification\u001b[22m \u001b[36m────────────────────────────────────────────────────────\u001b[39m\n",
            "\u001b[1mDelimiter:\u001b[22m \",\"\n",
            "\u001b[32mdbl\u001b[39m (7): driverStandingsId, raceId, driverId, points, position, positionText...\n",
            "\n",
            "\u001b[36mℹ\u001b[39m Use `spec()` to retrieve the full column specification for this data.\n",
            "\u001b[36mℹ\u001b[39m Specify the column types or set `show_col_types = FALSE` to quiet this message.\n",
            "\u001b[1mRows: \u001b[22m\u001b[34m12625\u001b[39m \u001b[1mColumns: \u001b[22m\u001b[34m5\u001b[39m\n",
            "\u001b[36m──\u001b[39m \u001b[1mColumn specification\u001b[22m \u001b[36m────────────────────────────────────────────────────────\u001b[39m\n",
            "\u001b[1mDelimiter:\u001b[22m \",\"\n",
            "\u001b[31mchr\u001b[39m (1): status\n",
            "\u001b[32mdbl\u001b[39m (4): constructorResultsId, raceId, constructorId, points\n",
            "\n",
            "\u001b[36mℹ\u001b[39m Use `spec()` to retrieve the full column specification for this data.\n",
            "\u001b[36mℹ\u001b[39m Specify the column types or set `show_col_types = FALSE` to quiet this message.\n",
            "\u001b[1mRows: \u001b[22m\u001b[34m861\u001b[39m \u001b[1mColumns: \u001b[22m\u001b[34m9\u001b[39m\n",
            "\u001b[36m──\u001b[39m \u001b[1mColumn specification\u001b[22m \u001b[36m────────────────────────────────────────────────────────\u001b[39m\n",
            "\u001b[1mDelimiter:\u001b[22m \",\"\n",
            "\u001b[31mchr\u001b[39m  (7): driverRef, number, code, forename, surname, nationality, url\n",
            "\u001b[32mdbl\u001b[39m  (1): driverId\n",
            "\u001b[34mdate\u001b[39m (1): dob\n",
            "\n",
            "\u001b[36mℹ\u001b[39m Use `spec()` to retrieve the full column specification for this data.\n",
            "\u001b[36mℹ\u001b[39m Specify the column types or set `show_col_types = FALSE` to quiet this message.\n",
            "\u001b[1mRows: \u001b[22m\u001b[34m212\u001b[39m \u001b[1mColumns: \u001b[22m\u001b[34m5\u001b[39m\n",
            "\u001b[36m──\u001b[39m \u001b[1mColumn specification\u001b[22m \u001b[36m────────────────────────────────────────────────────────\u001b[39m\n",
            "\u001b[1mDelimiter:\u001b[22m \",\"\n",
            "\u001b[31mchr\u001b[39m (4): constructorRef, name, nationality, url\n",
            "\u001b[32mdbl\u001b[39m (1): constructorId\n",
            "\n",
            "\u001b[36mℹ\u001b[39m Use `spec()` to retrieve the full column specification for this data.\n",
            "\u001b[36mℹ\u001b[39m Specify the column types or set `show_col_types = FALSE` to quiet this message.\n"
          ]
        }
      ]
    },
    {
      "cell_type": "code",
      "source": [
        "df <- res_df %>%\n",
        "  left_join(const_df, by = c(\"raceId\", \"constructorId\")) %>%  # safer join\n",
        "  left_join(driver_df, by = c(\"raceId\", \"driverId\")) %>%\n",
        "  left_join(drivers, by = \"driverId\") %>%\n",
        "  left_join(constructors, by = \"constructorId\")\n",
        "\n"
      ],
      "metadata": {
        "id": "g5fYugIioCP1"
      },
      "execution_count": 7,
      "outputs": []
    },
    {
      "cell_type": "code",
      "source": [
        "df %>% count(name, sort=TRUE)"
      ],
      "metadata": {
        "colab": {
          "base_uri": "https://localhost:8080/",
          "height": 506
        },
        "id": "NGPupuggy6kj",
        "outputId": "816b59ac-7a2d-4ec5-b91f-0334b87b059a"
      },
      "execution_count": 32,
      "outputs": [
        {
          "output_type": "display_data",
          "data": {
            "text/html": [
              "<table class=\"dataframe\">\n",
              "<caption>A spec_tbl_df: 13 × 2</caption>\n",
              "<thead>\n",
              "\t<tr><th scope=col>name</th><th scope=col>n</th></tr>\n",
              "\t<tr><th scope=col>&lt;chr&gt;</th><th scope=col>&lt;int&gt;</th></tr>\n",
              "</thead>\n",
              "<tbody>\n",
              "\t<tr><td>Mercedes  </td><td>316</td></tr>\n",
              "\t<tr><td>McLaren   </td><td>315</td></tr>\n",
              "\t<tr><td>Ferrari   </td><td>222</td></tr>\n",
              "\t<tr><td>Red Bull  </td><td>186</td></tr>\n",
              "\t<tr><td>Benetton  </td><td> 68</td></tr>\n",
              "\t<tr><td>Team Lotus</td><td> 48</td></tr>\n",
              "\t<tr><td>Renault   </td><td> 46</td></tr>\n",
              "\t<tr><td>Toro Rosso</td><td> 23</td></tr>\n",
              "\t<tr><td>Maserati  </td><td> 21</td></tr>\n",
              "\t<tr><td>Williams  </td><td> 19</td></tr>\n",
              "\t<tr><td>Alfa Romeo</td><td> 15</td></tr>\n",
              "\t<tr><td>Toleman   </td><td> 15</td></tr>\n",
              "\t<tr><td>Jordan    </td><td>  1</td></tr>\n",
              "</tbody>\n",
              "</table>\n"
            ],
            "text/markdown": "\nA spec_tbl_df: 13 × 2\n\n| name &lt;chr&gt; | n &lt;int&gt; |\n|---|---|\n| Mercedes   | 316 |\n| McLaren    | 315 |\n| Ferrari    | 222 |\n| Red Bull   | 186 |\n| Benetton   |  68 |\n| Team Lotus |  48 |\n| Renault    |  46 |\n| Toro Rosso |  23 |\n| Maserati   |  21 |\n| Williams   |  19 |\n| Alfa Romeo |  15 |\n| Toleman    |  15 |\n| Jordan     |   1 |\n\n",
            "text/latex": "A spec\\_tbl\\_df: 13 × 2\n\\begin{tabular}{ll}\n name & n\\\\\n <chr> & <int>\\\\\n\\hline\n\t Mercedes   & 316\\\\\n\t McLaren    & 315\\\\\n\t Ferrari    & 222\\\\\n\t Red Bull   & 186\\\\\n\t Benetton   &  68\\\\\n\t Team Lotus &  48\\\\\n\t Renault    &  46\\\\\n\t Toro Rosso &  23\\\\\n\t Maserati   &  21\\\\\n\t Williams   &  19\\\\\n\t Alfa Romeo &  15\\\\\n\t Toleman    &  15\\\\\n\t Jordan     &   1\\\\\n\\end{tabular}\n",
            "text/plain": [
              "   name       n  \n",
              "1  Mercedes   316\n",
              "2  McLaren    315\n",
              "3  Ferrari    222\n",
              "4  Red Bull   186\n",
              "5  Benetton    68\n",
              "6  Team Lotus  48\n",
              "7  Renault     46\n",
              "8  Toro Rosso  23\n",
              "9  Maserati    21\n",
              "10 Williams    19\n",
              "11 Alfa Romeo  15\n",
              "12 Toleman     15\n",
              "13 Jordan       1"
            ]
          },
          "metadata": {}
        }
      ]
    },
    {
      "cell_type": "code",
      "source": [
        "df <- df %>% filter((driverId == 830 | driverId == 579 | driverId == 102 |\n",
        "  driverId == 30 | driverId == 1 | driverId == 117 ) & (name == \"Mercedes\" | name == \"McLaren\" | name == \"Ferrari\" | name == \"Red Bull\" | name == \"Benetton\"))"
      ],
      "metadata": {
        "id": "DPV1uEZTo2w1"
      },
      "execution_count": 49,
      "outputs": []
    },
    {
      "cell_type": "code",
      "source": [
        "df %>% count(name)"
      ],
      "metadata": {
        "colab": {
          "base_uri": "https://localhost:8080/",
          "height": 224
        },
        "id": "9khDd4Ykrp5i",
        "outputId": "b0f07225-f288-49a5-844d-e22d2dd99fa6"
      },
      "execution_count": 54,
      "outputs": [
        {
          "output_type": "display_data",
          "data": {
            "text/html": [
              "<table class=\"dataframe\">\n",
              "<caption>A spec_tbl_df: 4 × 2</caption>\n",
              "<thead>\n",
              "\t<tr><th scope=col>name</th><th scope=col>n</th></tr>\n",
              "\t<tr><th scope=col>&lt;chr&gt;</th><th scope=col>&lt;int&gt;</th></tr>\n",
              "</thead>\n",
              "<tbody>\n",
              "\t<tr><td>Benetton</td><td> 68</td></tr>\n",
              "\t<tr><td>Ferrari </td><td>222</td></tr>\n",
              "\t<tr><td>McLaren </td><td>315</td></tr>\n",
              "\t<tr><td>Mercedes</td><td>316</td></tr>\n",
              "</tbody>\n",
              "</table>\n"
            ],
            "text/markdown": "\nA spec_tbl_df: 4 × 2\n\n| name &lt;chr&gt; | n &lt;int&gt; |\n|---|---|\n| Benetton |  68 |\n| Ferrari  | 222 |\n| McLaren  | 315 |\n| Mercedes | 316 |\n\n",
            "text/latex": "A spec\\_tbl\\_df: 4 × 2\n\\begin{tabular}{ll}\n name & n\\\\\n <chr> & <int>\\\\\n\\hline\n\t Benetton &  68\\\\\n\t Ferrari  & 222\\\\\n\t McLaren  & 315\\\\\n\t Mercedes & 316\\\\\n\\end{tabular}\n",
            "text/plain": [
              "  name     n  \n",
              "1 Benetton  68\n",
              "2 Ferrari  222\n",
              "3 McLaren  315\n",
              "4 Mercedes 316"
            ]
          },
          "metadata": {}
        }
      ]
    },
    {
      "cell_type": "code",
      "source": [
        "df %>% colnames"
      ],
      "metadata": {
        "colab": {
          "base_uri": "https://localhost:8080/",
          "height": 52
        },
        "id": "44kl0uktrzBi",
        "outputId": "a9561de8-5a5c-4ca9-8f56-152b02f1e99d"
      },
      "execution_count": 51,
      "outputs": [
        {
          "output_type": "display_data",
          "data": {
            "text/html": [
              "<style>\n",
              ".list-inline {list-style: none; margin:0; padding: 0}\n",
              ".list-inline>li {display: inline-block}\n",
              ".list-inline>li:not(:last-child)::after {content: \"\\00b7\"; padding: 0 .5ex}\n",
              "</style>\n",
              "<ol class=list-inline><li>'resultId'</li><li>'raceId'</li><li>'driverId'</li><li>'constructorId'</li><li>'number'</li><li>'grid'</li><li>'position.x'</li><li>'positionText.x'</li><li>'positionOrder'</li><li>'points.x'</li><li>'laps'</li><li>'time'</li><li>'milliseconds'</li><li>'fastestLap'</li><li>'rank'</li><li>'fastestLapTime'</li><li>'fastestLapSpeed'</li><li>'statusId'</li><li>'constructorResultsId'</li><li>'points.y'</li><li>'status'</li><li>'driverStandingsId'</li><li>'points'</li><li>'position.y'</li><li>'positionText.y'</li><li>'wins'</li><li>'driverRef'</li><li>'name'</li></ol>\n"
            ],
            "text/markdown": "1. 'resultId'\n2. 'raceId'\n3. 'driverId'\n4. 'constructorId'\n5. 'number'\n6. 'grid'\n7. 'position.x'\n8. 'positionText.x'\n9. 'positionOrder'\n10. 'points.x'\n11. 'laps'\n12. 'time'\n13. 'milliseconds'\n14. 'fastestLap'\n15. 'rank'\n16. 'fastestLapTime'\n17. 'fastestLapSpeed'\n18. 'statusId'\n19. 'constructorResultsId'\n20. 'points.y'\n21. 'status'\n22. 'driverStandingsId'\n23. 'points'\n24. 'position.y'\n25. 'positionText.y'\n26. 'wins'\n27. 'driverRef'\n28. 'name'\n\n\n",
            "text/latex": "\\begin{enumerate*}\n\\item 'resultId'\n\\item 'raceId'\n\\item 'driverId'\n\\item 'constructorId'\n\\item 'number'\n\\item 'grid'\n\\item 'position.x'\n\\item 'positionText.x'\n\\item 'positionOrder'\n\\item 'points.x'\n\\item 'laps'\n\\item 'time'\n\\item 'milliseconds'\n\\item 'fastestLap'\n\\item 'rank'\n\\item 'fastestLapTime'\n\\item 'fastestLapSpeed'\n\\item 'statusId'\n\\item 'constructorResultsId'\n\\item 'points.y'\n\\item 'status'\n\\item 'driverStandingsId'\n\\item 'points'\n\\item 'position.y'\n\\item 'positionText.y'\n\\item 'wins'\n\\item 'driverRef'\n\\item 'name'\n\\end{enumerate*}\n",
            "text/plain": [
              " [1] \"resultId\"             \"raceId\"               \"driverId\"            \n",
              " [4] \"constructorId\"        \"number\"               \"grid\"                \n",
              " [7] \"position.x\"           \"positionText.x\"       \"positionOrder\"       \n",
              "[10] \"points.x\"             \"laps\"                 \"time\"                \n",
              "[13] \"milliseconds\"         \"fastestLap\"           \"rank\"                \n",
              "[16] \"fastestLapTime\"       \"fastestLapSpeed\"      \"statusId\"            \n",
              "[19] \"constructorResultsId\" \"points.y\"             \"status\"              \n",
              "[22] \"driverStandingsId\"    \"points\"               \"position.y\"          \n",
              "[25] \"positionText.y\"       \"wins\"                 \"driverRef\"           \n",
              "[28] \"name\"                "
            ]
          },
          "metadata": {}
        }
      ]
    },
    {
      "cell_type": "markdown",
      "source": [
        "Points, driver, constructor, grid, position\n",
        "Is Max Verstappen placing in a higher position per race than other world champtionship winnters?\n",
        "\n",
        "\\\\\n",
        "\n",
        "$$\n",
        "\\widehat{position} = \\beta_0 + \\beta_1 Driver + \\beta_2 Constructor + \\beta_3 Grid + \\beta_4 Wins\n",
        "$$"
      ],
      "metadata": {
        "id": "h4gmPJoNr56T"
      }
    },
    {
      "cell_type": "code",
      "source": [
        "model1 <- lm(as.integer(position.x) ~ driverRef + name + grid + wins , data=df)"
      ],
      "metadata": {
        "colab": {
          "base_uri": "https://localhost:8080/"
        },
        "id": "2VsQWP0ar4eh",
        "outputId": "07d381fd-68e2-421d-94b0-e3a538b35c6d"
      },
      "execution_count": 52,
      "outputs": [
        {
          "output_type": "stream",
          "name": "stderr",
          "text": [
            "Warning message in eval(predvars, data, env):\n",
            "“NAs introduced by coercion”\n"
          ]
        }
      ]
    },
    {
      "cell_type": "code",
      "source": [
        "summary(model1)"
      ],
      "metadata": {
        "colab": {
          "base_uri": "https://localhost:8080/",
          "height": 503
        },
        "id": "Fhw4nIKAyOKq",
        "outputId": "161d3a6c-a320-4d36-c0d2-dde603097989"
      },
      "execution_count": 53,
      "outputs": [
        {
          "output_type": "display_data",
          "data": {
            "text/plain": [
              "\n",
              "Call:\n",
              "lm(formula = as.integer(position.x) ~ driverRef + name + grid + \n",
              "    wins, data = df)\n",
              "\n",
              "Residuals:\n",
              "    Min      1Q  Median      3Q     Max \n",
              "-6.9987 -1.5130 -0.6104  0.6637 16.7108 \n",
              "\n",
              "Coefficients:\n",
              "                            Estimate Std. Error t value Pr(>|t|)    \n",
              "(Intercept)                  0.13424    0.77568   0.173  0.86265    \n",
              "driverRefhamilton           -0.03641    0.65747  -0.055  0.95585    \n",
              "driverRefmichael_schumacher  1.80549    0.66959   2.696  0.00717 ** \n",
              "driverRefprost              -0.68825    0.71631  -0.961  0.33695    \n",
              "driverRefsenna              -0.15813    0.76568  -0.207  0.83643    \n",
              "nameFerrari                  0.72243    0.44822   1.612  0.10743    \n",
              "nameMcLaren                  3.08911    0.58255   5.303 1.50e-07 ***\n",
              "nameMercedes                 2.86029    0.53778   5.319 1.38e-07 ***\n",
              "grid                         0.29994    0.02500  11.997  < 2e-16 ***\n",
              "wins                        -0.22529    0.03595  -6.266 6.24e-10 ***\n",
              "---\n",
              "Signif. codes:  0 ‘***’ 0.001 ‘**’ 0.01 ‘*’ 0.05 ‘.’ 0.1 ‘ ’ 1\n",
              "\n",
              "Residual standard error: 2.694 on 749 degrees of freedom\n",
              "  (162 observations deleted due to missingness)\n",
              "Multiple R-squared:  0.3381,\tAdjusted R-squared:  0.3301 \n",
              "F-statistic: 42.51 on 9 and 749 DF,  p-value: < 2.2e-16\n"
            ]
          },
          "metadata": {}
        }
      ]
    },
    {
      "cell_type": "code",
      "source": [
        "model2 <- lm(as.integer(position.x) ~ driverRef + name + grid + wins + as.integer(rank), data=df)\n",
        "summary(model2)"
      ],
      "metadata": {
        "colab": {
          "base_uri": "https://localhost:8080/",
          "height": 520
        },
        "id": "CUuyMKomytxr",
        "outputId": "944930b4-d8a5-457f-d91f-baff01a54721"
      },
      "execution_count": 58,
      "outputs": [
        {
          "output_type": "stream",
          "name": "stderr",
          "text": [
            "Warning message in eval(predvars, data, env):\n",
            "“NAs introduced by coercion”\n",
            "Warning message in eval(predvars, data, env):\n",
            "“NAs introduced by coercion”\n"
          ]
        },
        {
          "output_type": "display_data",
          "data": {
            "text/plain": [
              "\n",
              "Call:\n",
              "lm(formula = as.integer(position.x) ~ driverRef + name + grid + \n",
              "    wins + as.integer(rank), data = df)\n",
              "\n",
              "Residuals:\n",
              "    Min      1Q  Median      3Q     Max \n",
              "-5.8969 -1.3662 -0.5363  0.8490 13.3176 \n",
              "\n",
              "Coefficients:\n",
              "                            Estimate Std. Error t value Pr(>|t|)    \n",
              "(Intercept)                 -0.61624    0.66560  -0.926 0.355073    \n",
              "driverRefmichael_schumacher  1.92744    0.49272   3.912 0.000107 ***\n",
              "nameMcLaren                  2.39378    0.72187   3.316 0.000994 ***\n",
              "nameMercedes                 1.97195    0.61075   3.229 0.001344 ** \n",
              "grid                         0.19272    0.02873   6.707 6.61e-11 ***\n",
              "wins                        -0.12415    0.04421  -2.809 0.005215 ** \n",
              "as.integer(rank)             0.40484    0.03933  10.293  < 2e-16 ***\n",
              "---\n",
              "Signif. codes:  0 ‘***’ 0.001 ‘**’ 0.01 ‘*’ 0.05 ‘.’ 0.1 ‘ ’ 1\n",
              "\n",
              "Residual standard error: 2.598 on 409 degrees of freedom\n",
              "  (505 observations deleted due to missingness)\n",
              "Multiple R-squared:  0.5127,\tAdjusted R-squared:  0.5055 \n",
              "F-statistic: 71.71 on 6 and 409 DF,  p-value: < 2.2e-16\n"
            ]
          },
          "metadata": {}
        }
      ]
    },
    {
      "cell_type": "code",
      "source": [
        "df$rank[1:5]"
      ],
      "metadata": {
        "colab": {
          "base_uri": "https://localhost:8080/",
          "height": 34
        },
        "id": "m5XycVrh0SMU",
        "outputId": "f9a2c3bf-1e01-4ebd-cd86-37f0a6aab212"
      },
      "execution_count": 55,
      "outputs": [
        {
          "output_type": "display_data",
          "data": {
            "text/html": [
              "<style>\n",
              ".list-inline {list-style: none; margin:0; padding: 0}\n",
              ".list-inline>li {display: inline-block}\n",
              ".list-inline>li:not(:last-child)::after {content: \"\\00b7\"; padding: 0 .5ex}\n",
              "</style>\n",
              "<ol class=list-inline><li>'2'</li><li>'3'</li><li>'19'</li><li>'3'</li><li>'2'</li></ol>\n"
            ],
            "text/markdown": "1. '2'\n2. '3'\n3. '19'\n4. '3'\n5. '2'\n\n\n",
            "text/latex": "\\begin{enumerate*}\n\\item '2'\n\\item '3'\n\\item '19'\n\\item '3'\n\\item '2'\n\\end{enumerate*}\n",
            "text/plain": [
              "[1] \"2\"  \"3\"  \"19\" \"3\"  \"2\" "
            ]
          },
          "metadata": {}
        }
      ]
    },
    {
      "cell_type": "code",
      "source": [],
      "metadata": {
        "id": "doVcvYOI0UMJ"
      },
      "execution_count": null,
      "outputs": []
    }
  ]
}