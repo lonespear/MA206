{
  "nbformat": 4,
  "nbformat_minor": 0,
  "metadata": {
    "colab": {
      "provenance": [],
      "authorship_tag": "ABX9TyMBm8gN2+IXZlx8Pqirc2wR",
      "include_colab_link": true
    },
    "kernelspec": {
      "name": "ir",
      "display_name": "R"
    },
    "language_info": {
      "name": "R"
    }
  },
  "cells": [
    {
      "cell_type": "markdown",
      "metadata": {
        "id": "view-in-github",
        "colab_type": "text"
      },
      "source": [
        "<a href=\"https://colab.research.google.com/github/lonespear/MA206/blob/main/Lesson_16.ipynb\" target=\"_parent\"><img src=\"https://colab.research.google.com/assets/colab-badge.svg\" alt=\"Open In Colab\"/></a>"
      ]
    },
    {
      "cell_type": "code",
      "source": [
        "library(tidyverse)\n",
        "schizo <- read_csv(\"https://raw.githubusercontent.com/lonespear/MA206/refs/heads/main/schizophrenia.csv\")\n",
        "amlxray <- read_csv(\"https://raw.githubusercontent.com/lonespear/MA206/refs/heads/main/amlxray.csv\")\n",
        "# data retrieved from kaggle.com via asinow/schizohealth-dataset and faraway::amlxray"
      ],
      "metadata": {
        "colab": {
          "base_uri": "https://localhost:8080/"
        },
        "id": "jQ9Hp67gKuRM",
        "outputId": "443895dc-418d-4725-ba6e-98b91393c86e"
      },
      "execution_count": 16,
      "outputs": [
        {
          "output_type": "stream",
          "name": "stderr",
          "text": [
            "\u001b[1mRows: \u001b[22m\u001b[34m10000\u001b[39m \u001b[1mColumns: \u001b[22m\u001b[34m20\u001b[39m\n",
            "\u001b[36m──\u001b[39m \u001b[1mColumn specification\u001b[22m \u001b[36m────────────────────────────────────────────────────────\u001b[39m\n",
            "\u001b[1mDelimiter:\u001b[22m \",\"\n",
            "\u001b[32mdbl\u001b[39m (20): Patient_ID, Age, Gender, Education_Level, Marital_Status, Occupati...\n",
            "\n",
            "\u001b[36mℹ\u001b[39m Use `spec()` to retrieve the full column specification for this data.\n",
            "\u001b[36mℹ\u001b[39m Specify the column types or set `show_col_types = FALSE` to quiet this message.\n",
            "\u001b[1m\u001b[22mNew names:\n",
            "\u001b[36m•\u001b[39m `` -> `...1`\n",
            "\u001b[1mRows: \u001b[22m\u001b[34m238\u001b[39m \u001b[1mColumns: \u001b[22m\u001b[34m12\u001b[39m\n",
            "\u001b[36m──\u001b[39m \u001b[1mColumn specification\u001b[22m \u001b[36m────────────────────────────────────────────────────────\u001b[39m\n",
            "\u001b[1mDelimiter:\u001b[22m \",\"\n",
            "\u001b[31mchr\u001b[39m (7): Sex, downs, Mray, MupRay, MlowRay, Fray, Cray\n",
            "\u001b[32mdbl\u001b[39m (5): ...1, ID, disease, age, CnRay\n",
            "\n",
            "\u001b[36mℹ\u001b[39m Use `spec()` to retrieve the full column specification for this data.\n",
            "\u001b[36mℹ\u001b[39m Specify the column types or set `show_col_types = FALSE` to quiet this message.\n"
          ]
        }
      ]
    },
    {
      "cell_type": "markdown",
      "source": [
        "# Lesson 16: Two Sample and Paired Test Practice"
      ],
      "metadata": {
        "id": "B0be-YfQnTVz"
      }
    },
    {
      "cell_type": "markdown",
      "source": [
        "**Schizophrenia Dataset Data Dictionary**\n",
        "\n",
        "| Column Name                 | Description |\n",
        "|-----------------------------|-------------|\n",
        "| **Patient_ID**              | Unique identifier for each patient |\n",
        "| **Age**                     | Age of the patient (in years) |\n",
        "| **Gender**                  | 0 = Female, 1 = Male |\n",
        "| **Education_Level**         | Level of education attained (categorical) |\n",
        "| **Marital_Status**         | Marital status (categorical) |\n",
        "| **Occupation**             | Employment status or job category (categorical) |\n",
        "| **Income_Level**           | Socioeconomic status (categorical) |\n",
        "| **Living_Area**            | 0 = Urban, 1 = Rural |\n",
        "| **Diagnosis**              | 0 = No schizophrenia, 1 = Schizophrenia diagnosis |\n",
        "| **Illness_Duration**       | Number of years since schizophrenia diagnosis |\n",
        "| **Hospitalizations**       | Number of times the patient has been hospitalized |\n",
        "| **Family_History_Schizophrenia** | 0 = No family history, 1 = Has a family history of schizophrenia |\n",
        "| **Substance_Use**          | 0 = No substance use, 1 = History of substance use |\n",
        "| **Suicide_Attempt**        | 0 = No history, 1 = Previous suicide attempt |\n",
        "| **Positive_Symptom_Score** | Severity score for positive schizophrenia symptoms |\n",
        "| **Negative_Symptom_Score** | Severity score for negative schizophrenia symptoms |\n",
        "| **GAF_Score**              | Global Assessment of Functioning score (higher is better) |\n",
        "| **Social_Support**         | 0 = Low, 1 = Moderate, 2 = High |\n",
        "| **Stress_Factors**         | Scale indicating the presence of stressors |\n",
        "| **Medication_Adherence**   | 0 = Low, 1 = Moderate, 2 = High adherence to prescribed medication |\n",
        "\n",
        "This dictionary provides a description of each column in the dataset to help with data analysis and interpretation.\n",
        "\n"
      ],
      "metadata": {
        "id": "0phUvhDUkB7r"
      }
    },
    {
      "cell_type": "code",
      "source": [
        "schizo %>% head"
      ],
      "metadata": {
        "colab": {
          "base_uri": "https://localhost:8080/",
          "height": 306
        },
        "id": "TWc9q78MZG1g",
        "outputId": "2f2d4e63-14aa-4a20-c762-9d3804cad398"
      },
      "execution_count": 10,
      "outputs": [
        {
          "output_type": "display_data",
          "data": {
            "text/html": [
              "<table class=\"dataframe\">\n",
              "<caption>A tibble: 6 × 20</caption>\n",
              "<thead>\n",
              "\t<tr><th scope=col>Patient_ID</th><th scope=col>Age</th><th scope=col>Gender</th><th scope=col>Education_Level</th><th scope=col>Marital_Status</th><th scope=col>Occupation</th><th scope=col>Income_Level</th><th scope=col>Living_Area</th><th scope=col>Diagnosis</th><th scope=col>Illness_Duration</th><th scope=col>Hospitalizations</th><th scope=col>Family_History_Schizophrenia</th><th scope=col>Substance_Use</th><th scope=col>Suicide_Attempt</th><th scope=col>Positive_Symptom_Score</th><th scope=col>Negative_Symptom_Score</th><th scope=col>GAF_Score</th><th scope=col>Social_Support</th><th scope=col>Stress_Factors</th><th scope=col>Medication_Adherence</th></tr>\n",
              "\t<tr><th scope=col>&lt;dbl&gt;</th><th scope=col>&lt;dbl&gt;</th><th scope=col>&lt;dbl&gt;</th><th scope=col>&lt;dbl&gt;</th><th scope=col>&lt;dbl&gt;</th><th scope=col>&lt;dbl&gt;</th><th scope=col>&lt;dbl&gt;</th><th scope=col>&lt;dbl&gt;</th><th scope=col>&lt;dbl&gt;</th><th scope=col>&lt;dbl&gt;</th><th scope=col>&lt;dbl&gt;</th><th scope=col>&lt;dbl&gt;</th><th scope=col>&lt;dbl&gt;</th><th scope=col>&lt;dbl&gt;</th><th scope=col>&lt;dbl&gt;</th><th scope=col>&lt;dbl&gt;</th><th scope=col>&lt;dbl&gt;</th><th scope=col>&lt;dbl&gt;</th><th scope=col>&lt;dbl&gt;</th><th scope=col>&lt;dbl&gt;</th></tr>\n",
              "</thead>\n",
              "<tbody>\n",
              "\t<tr><td>1</td><td>72</td><td>1</td><td>4</td><td>2</td><td>0</td><td>2</td><td>1</td><td>0</td><td> 0</td><td>0</td><td>0</td><td>0</td><td>0</td><td>32</td><td>48</td><td>72</td><td>0</td><td>2</td><td>2</td></tr>\n",
              "\t<tr><td>2</td><td>49</td><td>1</td><td>5</td><td>2</td><td>2</td><td>1</td><td>0</td><td>1</td><td>35</td><td>1</td><td>1</td><td>1</td><td>1</td><td>51</td><td>63</td><td>40</td><td>2</td><td>2</td><td>0</td></tr>\n",
              "\t<tr><td>3</td><td>53</td><td>1</td><td>5</td><td>3</td><td>2</td><td>1</td><td>0</td><td>1</td><td>32</td><td>0</td><td>1</td><td>0</td><td>0</td><td>72</td><td>85</td><td>51</td><td>0</td><td>1</td><td>1</td></tr>\n",
              "\t<tr><td>4</td><td>67</td><td>1</td><td>3</td><td>2</td><td>0</td><td>2</td><td>0</td><td>0</td><td> 0</td><td>0</td><td>0</td><td>1</td><td>0</td><td>10</td><td>21</td><td>74</td><td>1</td><td>1</td><td>2</td></tr>\n",
              "\t<tr><td>5</td><td>54</td><td>0</td><td>1</td><td>2</td><td>0</td><td>2</td><td>1</td><td>0</td><td> 0</td><td>0</td><td>0</td><td>0</td><td>0</td><td> 4</td><td>27</td><td>98</td><td>0</td><td>1</td><td>0</td></tr>\n",
              "\t<tr><td>6</td><td>65</td><td>0</td><td>1</td><td>2</td><td>2</td><td>1</td><td>1</td><td>0</td><td> 0</td><td>0</td><td>0</td><td>0</td><td>0</td><td>20</td><td>30</td><td>89</td><td>2</td><td>2</td><td>0</td></tr>\n",
              "</tbody>\n",
              "</table>\n"
            ],
            "text/markdown": "\nA tibble: 6 × 20\n\n| Patient_ID &lt;dbl&gt; | Age &lt;dbl&gt; | Gender &lt;dbl&gt; | Education_Level &lt;dbl&gt; | Marital_Status &lt;dbl&gt; | Occupation &lt;dbl&gt; | Income_Level &lt;dbl&gt; | Living_Area &lt;dbl&gt; | Diagnosis &lt;dbl&gt; | Illness_Duration &lt;dbl&gt; | Hospitalizations &lt;dbl&gt; | Family_History_Schizophrenia &lt;dbl&gt; | Substance_Use &lt;dbl&gt; | Suicide_Attempt &lt;dbl&gt; | Positive_Symptom_Score &lt;dbl&gt; | Negative_Symptom_Score &lt;dbl&gt; | GAF_Score &lt;dbl&gt; | Social_Support &lt;dbl&gt; | Stress_Factors &lt;dbl&gt; | Medication_Adherence &lt;dbl&gt; |\n|---|---|---|---|---|---|---|---|---|---|---|---|---|---|---|---|---|---|---|---|\n| 1 | 72 | 1 | 4 | 2 | 0 | 2 | 1 | 0 |  0 | 0 | 0 | 0 | 0 | 32 | 48 | 72 | 0 | 2 | 2 |\n| 2 | 49 | 1 | 5 | 2 | 2 | 1 | 0 | 1 | 35 | 1 | 1 | 1 | 1 | 51 | 63 | 40 | 2 | 2 | 0 |\n| 3 | 53 | 1 | 5 | 3 | 2 | 1 | 0 | 1 | 32 | 0 | 1 | 0 | 0 | 72 | 85 | 51 | 0 | 1 | 1 |\n| 4 | 67 | 1 | 3 | 2 | 0 | 2 | 0 | 0 |  0 | 0 | 0 | 1 | 0 | 10 | 21 | 74 | 1 | 1 | 2 |\n| 5 | 54 | 0 | 1 | 2 | 0 | 2 | 1 | 0 |  0 | 0 | 0 | 0 | 0 |  4 | 27 | 98 | 0 | 1 | 0 |\n| 6 | 65 | 0 | 1 | 2 | 2 | 1 | 1 | 0 |  0 | 0 | 0 | 0 | 0 | 20 | 30 | 89 | 2 | 2 | 0 |\n\n",
            "text/latex": "A tibble: 6 × 20\n\\begin{tabular}{llllllllllllllllllll}\n Patient\\_ID & Age & Gender & Education\\_Level & Marital\\_Status & Occupation & Income\\_Level & Living\\_Area & Diagnosis & Illness\\_Duration & Hospitalizations & Family\\_History\\_Schizophrenia & Substance\\_Use & Suicide\\_Attempt & Positive\\_Symptom\\_Score & Negative\\_Symptom\\_Score & GAF\\_Score & Social\\_Support & Stress\\_Factors & Medication\\_Adherence\\\\\n <dbl> & <dbl> & <dbl> & <dbl> & <dbl> & <dbl> & <dbl> & <dbl> & <dbl> & <dbl> & <dbl> & <dbl> & <dbl> & <dbl> & <dbl> & <dbl> & <dbl> & <dbl> & <dbl> & <dbl>\\\\\n\\hline\n\t 1 & 72 & 1 & 4 & 2 & 0 & 2 & 1 & 0 &  0 & 0 & 0 & 0 & 0 & 32 & 48 & 72 & 0 & 2 & 2\\\\\n\t 2 & 49 & 1 & 5 & 2 & 2 & 1 & 0 & 1 & 35 & 1 & 1 & 1 & 1 & 51 & 63 & 40 & 2 & 2 & 0\\\\\n\t 3 & 53 & 1 & 5 & 3 & 2 & 1 & 0 & 1 & 32 & 0 & 1 & 0 & 0 & 72 & 85 & 51 & 0 & 1 & 1\\\\\n\t 4 & 67 & 1 & 3 & 2 & 0 & 2 & 0 & 0 &  0 & 0 & 0 & 1 & 0 & 10 & 21 & 74 & 1 & 1 & 2\\\\\n\t 5 & 54 & 0 & 1 & 2 & 0 & 2 & 1 & 0 &  0 & 0 & 0 & 0 & 0 &  4 & 27 & 98 & 0 & 1 & 0\\\\\n\t 6 & 65 & 0 & 1 & 2 & 2 & 1 & 1 & 0 &  0 & 0 & 0 & 0 & 0 & 20 & 30 & 89 & 2 & 2 & 0\\\\\n\\end{tabular}\n",
            "text/plain": [
              "  Patient_ID Age Gender Education_Level Marital_Status Occupation Income_Level\n",
              "1 1          72  1      4               2              0          2           \n",
              "2 2          49  1      5               2              2          1           \n",
              "3 3          53  1      5               3              2          1           \n",
              "4 4          67  1      3               2              0          2           \n",
              "5 5          54  0      1               2              0          2           \n",
              "6 6          65  0      1               2              2          1           \n",
              "  Living_Area Diagnosis Illness_Duration Hospitalizations\n",
              "1 1           0          0               0               \n",
              "2 0           1         35               1               \n",
              "3 0           1         32               0               \n",
              "4 0           0          0               0               \n",
              "5 1           0          0               0               \n",
              "6 1           0          0               0               \n",
              "  Family_History_Schizophrenia Substance_Use Suicide_Attempt\n",
              "1 0                            0             0              \n",
              "2 1                            1             1              \n",
              "3 1                            0             0              \n",
              "4 0                            1             0              \n",
              "5 0                            0             0              \n",
              "6 0                            0             0              \n",
              "  Positive_Symptom_Score Negative_Symptom_Score GAF_Score Social_Support\n",
              "1 32                     48                     72        0             \n",
              "2 51                     63                     40        2             \n",
              "3 72                     85                     51        0             \n",
              "4 10                     21                     74        1             \n",
              "5  4                     27                     98        0             \n",
              "6 20                     30                     89        2             \n",
              "  Stress_Factors Medication_Adherence\n",
              "1 2              2                   \n",
              "2 2              0                   \n",
              "3 1              1                   \n",
              "4 1              2                   \n",
              "5 1              0                   \n",
              "6 2              0                   "
            ]
          },
          "metadata": {}
        }
      ]
    },
    {
      "cell_type": "markdown",
      "source": [
        "### Schizophrenia Dataset Analysis Questions (determine appropriate test and execute)\n",
        "\n",
        "1. **Do individuals diagnosed with schizophrenia have significantly lower GAF scores than those without a diagnosis?**  \n",
        "   - Null Hypothesis: There is no difference in mean GAF scores between diagnosed and non-diagnosed individuals.\n",
        "   - Alternative Hypothesis: Diagnosed individuals have lower mean GAF scores."
      ],
      "metadata": {
        "id": "XbpA29eylJXv"
      }
    },
    {
      "cell_type": "code",
      "source": [],
      "metadata": {
        "id": "PHBJy6g2zU1H"
      },
      "execution_count": null,
      "outputs": []
    },
    {
      "cell_type": "markdown",
      "source": [
        "2. **Do individuals with a history of suicide attempts have a higher probability of being diagnosed with schizophrenia than those without?**  \n",
        "   - Null Hypothesis: The proportion of schizophrenia diagnoses is the same for individuals with and without suicide attempts.\n",
        "   - Alternative Hypothesis: Individuals with prior suicide attempts have a higher proportion of schizophrenia diagnoses."
      ],
      "metadata": {
        "id": "BsR-IMzBlQqN"
      }
    },
    {
      "cell_type": "code",
      "source": [],
      "metadata": {
        "id": "AgjIwX_JlXnx"
      },
      "execution_count": null,
      "outputs": []
    },
    {
      "cell_type": "markdown",
      "source": [
        "3. **Do patients with a history of substance use have significantly different Negative Symptom Scores compared to those who do not use substances?**  \n",
        "   - Null Hypothesis: No difference in mean Negative Symptom Scores between substance users and non-users.\n",
        "   - Alternative Hypothesis: Substance users have different (higher/lower) Negative Symptom Scores."
      ],
      "metadata": {
        "id": "o8BOg9Lklaoy"
      }
    },
    {
      "cell_type": "code",
      "source": [],
      "metadata": {
        "id": "tW-Bzrselb-8"
      },
      "execution_count": null,
      "outputs": []
    },
    {
      "cell_type": "markdown",
      "source": [
        "4. **Are males more likely than females to have a schizophrenia diagnosis?**  \n",
        "   - Null Hypothesis: The proportion of schizophrenia diagnoses is the same for both genders.\n",
        "   - Alternative Hypothesis: Males have a higher proportion of schizophrenia diagnoses."
      ],
      "metadata": {
        "id": "c_O80cR5ldAw"
      }
    },
    {
      "cell_type": "code",
      "source": [],
      "metadata": {
        "id": "KuYylAxfxskb"
      },
      "execution_count": null,
      "outputs": []
    },
    {
      "cell_type": "markdown",
      "source": [
        "5. **Is there a significant difference in mean hospitalization count between male and female patients?**  \n",
        "   - Null Hypothesis: Male and female patients have the same mean number of hospitalizations.\n",
        "   - Alternative Hypothesis: One gender has a significantly higher mean hospitalization count."
      ],
      "metadata": {
        "id": "eunN0cKGlgPj"
      }
    },
    {
      "cell_type": "code",
      "source": [],
      "metadata": {
        "id": "-az0zCxtljbg"
      },
      "execution_count": null,
      "outputs": []
    },
    {
      "cell_type": "markdown",
      "source": [
        "6. **Do urban and rural patients differ in their average stress factor scores?**  \n",
        "   - Null Hypothesis: The mean stress factor score is the same for urban and rural individuals.\n",
        "   - Alternative Hypothesis: There is a significant difference in mean stress factor scores."
      ],
      "metadata": {
        "id": "_CfXHm1sllax"
      }
    },
    {
      "cell_type": "code",
      "source": [],
      "metadata": {
        "id": "-IEpMVTAlr6P"
      },
      "execution_count": null,
      "outputs": []
    },
    {
      "cell_type": "markdown",
      "source": [
        "7. **Are individuals with a family history of schizophrenia more likely to have a schizophrenia diagnosis?**  \n",
        "   - Null Hypothesis: The proportion of schizophrenia diagnoses is the same regardless of family history.\n",
        "   - Alternative Hypothesis: A higher proportion of individuals with a family history have schizophrenia."
      ],
      "metadata": {
        "id": "D50heBOdlooX"
      }
    },
    {
      "cell_type": "code",
      "source": [],
      "metadata": {
        "id": "b6qPmwAjltPr"
      },
      "execution_count": null,
      "outputs": []
    },
    {
      "cell_type": "markdown",
      "source": [
        "8. **Is there a significant difference in Positive Symptom Scores between individuals with and without a family history of schizophrenia?**  \n",
        "   - Null Hypothesis: The mean Positive Symptom Score is the same for both groups.\n",
        "   - Alternative Hypothesis: Individuals with a family history of schizophrenia have higher Positive Symptom Scores."
      ],
      "metadata": {
        "id": "D4Z1n9qxlswJ"
      }
    },
    {
      "cell_type": "code",
      "source": [],
      "metadata": {
        "id": "ET5MGMhrlxsZ"
      },
      "execution_count": 17,
      "outputs": []
    },
    {
      "cell_type": "markdown",
      "source": [
        "9. **Is medication adherence different between individuals living in urban vs. rural areas?**  \n",
        "   - Null Hypothesis: The proportion of individuals with high medication adherence is the same in urban and rural areas.\n",
        "   - Alternative Hypothesis: There is a significant difference in adherence rates."
      ],
      "metadata": {
        "id": "6B_bE5LRlzWK"
      }
    },
    {
      "cell_type": "code",
      "source": [],
      "metadata": {
        "id": "MK8dZ5m_l0WY"
      },
      "execution_count": null,
      "outputs": []
    },
    {
      "cell_type": "markdown",
      "source": [
        "\n",
        "\n",
        "10. **Are individuals with low social support more likely to have a history of hospitalizations?**  \n",
        "   - Null Hypothesis: The proportion of individuals with at least one hospitalization is the same across social support levels.\n",
        "   - Alternative Hypothesis: Individuals with low social support have a higher proportion of hospitalizations.\n",
        "\n"
      ],
      "metadata": {
        "id": "4wBeqJ0Bk81Y"
      }
    },
    {
      "cell_type": "code",
      "source": [],
      "metadata": {
        "id": "f0lHukXJlAAO"
      },
      "execution_count": null,
      "outputs": []
    },
    {
      "cell_type": "markdown",
      "source": [
        "## **Paired Data and Paired T-Test Problems (AML X-ray Dataset)**\n",
        "\n",
        "### **Data Dictionary**\n",
        "\n",
        "| Column Name  | Description |\n",
        "|-------------|-------------|\n",
        "| **ID**       | Unique identifier for matched pairs |\n",
        "| **Disease**  | 0 = Control, 1 = AML case |\n",
        "| **Sex**      | Gender of the child (M/F) |\n",
        "| **Downs**    | Presence of Down Syndrome: No or Yes |\n",
        "| **Age**      | Age in years |\n",
        "| **Mray**     | Did the mother ever have an X-ray: No or Yes |\n",
        "| **MupRay**   | Did the mother have an upper-body X-ray during pregnancy: No or Yes |\n",
        "| **MlowRay**  | Did the mother have a lower-body X-ray during pregnancy: No or Yes |\n",
        "| **Fray**     | Did the father ever have an X-ray: No or Yes |\n",
        "| **Cray**     | Did the child ever have an X-ray: No or Yes |\n",
        "| **CnRay**    | Total number of X-rays of the child: 1 = None, 2 = 1-2, 3 = 3-4, 4 = 5 or more |\n",
        "\n",
        "#### **Problem 11: Investigating Maternal X-ray Exposure and Childhood AML**\n",
        "**Research Question:** Does having an upper-body X-ray during pregnancy (MupRay) increase the likelihood of childhood acute myeloid leukemia (AML)?\n",
        "- **Null Hypothesis (H₀):** There is no significant difference in the mean number of upper-body X-rays during pregnancy between AML cases and matched controls.\n",
        "- **Alternative Hypothesis (H₁):** Mothers of AML cases had a significantly higher mean number of upper-body X-rays during pregnancy than mothers of controls."
      ],
      "metadata": {
        "id": "DrV11aYJvpXs"
      }
    },
    {
      "cell_type": "code",
      "source": [],
      "metadata": {
        "id": "eN9Wox4Gv0L5"
      },
      "execution_count": null,
      "outputs": []
    },
    {
      "cell_type": "markdown",
      "source": [
        "#### **Problem 12: Comparing X-ray Exposure in Parents of AML Cases and Controls**\n",
        "**Research Question:** Is there a significant difference in the frequency of X-ray exposure between fathers of AML cases and fathers of controls?\n",
        "- **Null Hypothesis (H₀):** There is no significant difference in the number of X-rays (Fray) between fathers of AML cases and matched controls.\n",
        "- **Alternative Hypothesis (H₁):** Fathers of AML cases had significantly different exposure to X-rays than fathers of controls."
      ],
      "metadata": {
        "id": "nRfcGmcbv1Fx"
      }
    },
    {
      "cell_type": "code",
      "source": [],
      "metadata": {
        "id": "sVN6MleAv7x3"
      },
      "execution_count": null,
      "outputs": []
    },
    {
      "cell_type": "markdown",
      "source": [
        "#### **Problem 13: Childhood X-ray Exposure and AML Diagnosis**\n",
        "**Research Question:** Do children diagnosed with AML have significantly more X-rays than their matched controls?\n",
        "- **Null Hypothesis (H₀):** The mean number of X-rays (CnRay) in AML cases is not significantly different from their matched controls.\n",
        "- **Alternative Hypothesis (H₁):** The mean number of X-rays (CnRay) in AML cases is significantly different from their matched controls."
      ],
      "metadata": {
        "id": "8AyTjyUev9hO"
      }
    },
    {
      "cell_type": "code",
      "source": [],
      "metadata": {
        "id": "PcPJJgnlwCB3"
      },
      "execution_count": null,
      "outputs": []
    },
    {
      "cell_type": "markdown",
      "source": [
        "#### **Problem 14: Down Syndrome and AML Risk**\n",
        "**Research Question:** Is there a difference in the mean age of individuals with Down Syndrome among AML cases and their matched controls?\n",
        "- **Null Hypothesis (H₀):** The mean age of individuals with Down Syndrome (Downs) is the same in AML cases and their matched controls.\n",
        "- **Alternative Hypothesis (H₁):** The mean age of individuals with Down Syndrome differs between AML cases and controls."
      ],
      "metadata": {
        "id": "A-SEES1qwCaA"
      }
    },
    {
      "cell_type": "code",
      "source": [],
      "metadata": {
        "id": "6pqekzrGwF4C"
      },
      "execution_count": null,
      "outputs": []
    },
    {
      "cell_type": "markdown",
      "source": [
        "#### **Problem 15: Age at Diagnosis and AML Risk**\n",
        "**Research Question:** Do AML cases tend to be diagnosed at an older age compared to their matched controls?\n",
        "- **Null Hypothesis (H₀):** There is no significant difference in the age at diagnosis (Age) between AML cases and their matched controls.\n",
        "- **Alternative Hypothesis (H₁):** AML cases tend to be diagnosed at a significantly different age than their matched controls."
      ],
      "metadata": {
        "id": "geKAOVNxuXdx"
      }
    },
    {
      "cell_type": "code",
      "source": [],
      "metadata": {
        "id": "lw8ZwRQCvkDj"
      },
      "execution_count": 11,
      "outputs": []
    }
  ]
}