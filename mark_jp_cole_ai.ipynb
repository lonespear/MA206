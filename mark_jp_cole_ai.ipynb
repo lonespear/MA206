{
  "nbformat": 4,
  "nbformat_minor": 0,
  "metadata": {
    "colab": {
      "provenance": [],
      "authorship_tag": "ABX9TyMTRIrC6O3e67xg930+f0Bi",
      "include_colab_link": true
    },
    "kernelspec": {
      "name": "ir",
      "display_name": "R"
    },
    "language_info": {
      "name": "R"
    }
  },
  "cells": [
    {
      "cell_type": "markdown",
      "metadata": {
        "id": "view-in-github",
        "colab_type": "text"
      },
      "source": [
        "<a href=\"https://colab.research.google.com/github/lonespear/MA206/blob/main/mark_jp_cole_ai.ipynb\" target=\"_parent\"><img src=\"https://colab.research.google.com/assets/colab-badge.svg\" alt=\"Open In Colab\"/></a>"
      ]
    },
    {
      "cell_type": "code",
      "execution_count": 1,
      "metadata": {
        "colab": {
          "base_uri": "https://localhost:8080/"
        },
        "id": "Mg6RX2OQnCh-",
        "outputId": "25754ed6-0bf9-4199-9bcf-3ef1c2a04391"
      },
      "outputs": [
        {
          "output_type": "stream",
          "name": "stderr",
          "text": [
            "── \u001b[1mAttaching core tidyverse packages\u001b[22m ──────────────────────── tidyverse 2.0.0 ──\n",
            "\u001b[32m✔\u001b[39m \u001b[34mdplyr    \u001b[39m 1.1.4     \u001b[32m✔\u001b[39m \u001b[34mreadr    \u001b[39m 2.1.5\n",
            "\u001b[32m✔\u001b[39m \u001b[34mforcats  \u001b[39m 1.0.0     \u001b[32m✔\u001b[39m \u001b[34mstringr  \u001b[39m 1.5.1\n",
            "\u001b[32m✔\u001b[39m \u001b[34mggplot2  \u001b[39m 3.5.1     \u001b[32m✔\u001b[39m \u001b[34mtibble   \u001b[39m 3.2.1\n",
            "\u001b[32m✔\u001b[39m \u001b[34mlubridate\u001b[39m 1.9.4     \u001b[32m✔\u001b[39m \u001b[34mtidyr    \u001b[39m 1.3.1\n",
            "\u001b[32m✔\u001b[39m \u001b[34mpurrr    \u001b[39m 1.0.4     \n",
            "── \u001b[1mConflicts\u001b[22m ────────────────────────────────────────── tidyverse_conflicts() ──\n",
            "\u001b[31m✖\u001b[39m \u001b[34mdplyr\u001b[39m::\u001b[32mfilter()\u001b[39m masks \u001b[34mstats\u001b[39m::filter()\n",
            "\u001b[31m✖\u001b[39m \u001b[34mdplyr\u001b[39m::\u001b[32mlag()\u001b[39m    masks \u001b[34mstats\u001b[39m::lag()\n",
            "\u001b[36mℹ\u001b[39m Use the conflicted package (\u001b[3m\u001b[34m<http://conflicted.r-lib.org/>\u001b[39m\u001b[23m) to force all conflicts to become errors\n",
            "\u001b[1mRows: \u001b[22m\u001b[34m490\u001b[39m \u001b[1mColumns: \u001b[22m\u001b[34m34\u001b[39m\n",
            "\u001b[36m──\u001b[39m \u001b[1mColumn specification\u001b[22m \u001b[36m────────────────────────────────────────────────────────\u001b[39m\n",
            "\u001b[1mDelimiter:\u001b[22m \",\"\n",
            "\u001b[31mchr\u001b[39m  (7): Name, Birth_Place, Birthdate, Collage, Experience, Pos, Team\n",
            "\u001b[32mdbl\u001b[39m (27): Games Played, MIN, PTS, FGM, FGA, FG%, 3PM, 3PA, 3P%, FTM, FTA, FT...\n",
            "\n",
            "\u001b[36mℹ\u001b[39m Use `spec()` to retrieve the full column specification for this data.\n",
            "\u001b[36mℹ\u001b[39m Specify the column types or set `show_col_types = FALSE` to quiet this message.\n"
          ]
        }
      ],
      "source": [
        "library(tidyverse)\n",
        "df <- read_csv(\"players_stats.csv\")"
      ]
    },
    {
      "cell_type": "code",
      "source": [
        "df <- df %>% mutate(\n",
        "  rpmp = REB / MIN\n",
        ")"
      ],
      "metadata": {
        "id": "RD9CzhFJnf8h"
      },
      "execution_count": 4,
      "outputs": []
    },
    {
      "cell_type": "code",
      "source": [
        "df %>% colnames"
      ],
      "metadata": {
        "colab": {
          "base_uri": "https://localhost:8080/",
          "height": 52
        },
        "id": "o4Rm8LPonQol",
        "outputId": "47fcee07-5f08-4d97-a4da-55f451b806ed"
      },
      "execution_count": 2,
      "outputs": [
        {
          "output_type": "display_data",
          "data": {
            "text/html": [
              "<style>\n",
              ".list-inline {list-style: none; margin:0; padding: 0}\n",
              ".list-inline>li {display: inline-block}\n",
              ".list-inline>li:not(:last-child)::after {content: \"\\00b7\"; padding: 0 .5ex}\n",
              "</style>\n",
              "<ol class=list-inline><li>'Name'</li><li>'Games Played'</li><li>'MIN'</li><li>'PTS'</li><li>'FGM'</li><li>'FGA'</li><li>'FG%'</li><li>'3PM'</li><li>'3PA'</li><li>'3P%'</li><li>'FTM'</li><li>'FTA'</li><li>'FT%'</li><li>'OREB'</li><li>'DREB'</li><li>'REB'</li><li>'AST'</li><li>'STL'</li><li>'BLK'</li><li>'TOV'</li><li>'PF'</li><li>'EFF'</li><li>'AST/TOV'</li><li>'STL/TOV'</li><li>'Age'</li><li>'Birth_Place'</li><li>'Birthdate'</li><li>'Collage'</li><li>'Experience'</li><li>'Height'</li><li>'Pos'</li><li>'Team'</li><li>'Weight'</li><li>'BMI'</li></ol>\n"
            ],
            "text/markdown": "1. 'Name'\n2. 'Games Played'\n3. 'MIN'\n4. 'PTS'\n5. 'FGM'\n6. 'FGA'\n7. 'FG%'\n8. '3PM'\n9. '3PA'\n10. '3P%'\n11. 'FTM'\n12. 'FTA'\n13. 'FT%'\n14. 'OREB'\n15. 'DREB'\n16. 'REB'\n17. 'AST'\n18. 'STL'\n19. 'BLK'\n20. 'TOV'\n21. 'PF'\n22. 'EFF'\n23. 'AST/TOV'\n24. 'STL/TOV'\n25. 'Age'\n26. 'Birth_Place'\n27. 'Birthdate'\n28. 'Collage'\n29. 'Experience'\n30. 'Height'\n31. 'Pos'\n32. 'Team'\n33. 'Weight'\n34. 'BMI'\n\n\n",
            "text/latex": "\\begin{enumerate*}\n\\item 'Name'\n\\item 'Games Played'\n\\item 'MIN'\n\\item 'PTS'\n\\item 'FGM'\n\\item 'FGA'\n\\item 'FG\\%'\n\\item '3PM'\n\\item '3PA'\n\\item '3P\\%'\n\\item 'FTM'\n\\item 'FTA'\n\\item 'FT\\%'\n\\item 'OREB'\n\\item 'DREB'\n\\item 'REB'\n\\item 'AST'\n\\item 'STL'\n\\item 'BLK'\n\\item 'TOV'\n\\item 'PF'\n\\item 'EFF'\n\\item 'AST/TOV'\n\\item 'STL/TOV'\n\\item 'Age'\n\\item 'Birth\\_Place'\n\\item 'Birthdate'\n\\item 'Collage'\n\\item 'Experience'\n\\item 'Height'\n\\item 'Pos'\n\\item 'Team'\n\\item 'Weight'\n\\item 'BMI'\n\\end{enumerate*}\n",
            "text/plain": [
              " [1] \"Name\"         \"Games Played\" \"MIN\"          \"PTS\"          \"FGM\"         \n",
              " [6] \"FGA\"          \"FG%\"          \"3PM\"          \"3PA\"          \"3P%\"         \n",
              "[11] \"FTM\"          \"FTA\"          \"FT%\"          \"OREB\"         \"DREB\"        \n",
              "[16] \"REB\"          \"AST\"          \"STL\"          \"BLK\"          \"TOV\"         \n",
              "[21] \"PF\"           \"EFF\"          \"AST/TOV\"      \"STL/TOV\"      \"Age\"         \n",
              "[26] \"Birth_Place\"  \"Birthdate\"    \"Collage\"      \"Experience\"   \"Height\"      \n",
              "[31] \"Pos\"          \"Team\"         \"Weight\"       \"BMI\"         "
            ]
          },
          "metadata": {}
        }
      ]
    },
    {
      "cell_type": "code",
      "source": [
        "model1 <- lm(REB ~ MIN + Height + Pos, data= df)\n",
        "summary(model1)"
      ],
      "metadata": {
        "colab": {
          "base_uri": "https://localhost:8080/",
          "height": 455
        },
        "id": "_AeyI1U5nTAU",
        "outputId": "8c130aa3-37ed-428b-8b44-5b7f07006c8c"
      },
      "execution_count": 6,
      "outputs": [
        {
          "output_type": "display_data",
          "data": {
            "text/plain": [
              "\n",
              "Call:\n",
              "lm(formula = REB ~ MIN + Height + Pos, data = df)\n",
              "\n",
              "Residuals:\n",
              "    Min      1Q  Median      3Q     Max \n",
              "-209.28  -58.81   -4.03   45.14  566.65 \n",
              "\n",
              "Coefficients:\n",
              "              Estimate Std. Error t value Pr(>|t|)    \n",
              "(Intercept) -3.613e+02  2.476e+02  -1.459   0.1452    \n",
              "MIN          1.820e-01  5.408e-03  33.648  < 2e-16 ***\n",
              "Height       2.446e+00  1.192e+00   2.052   0.0408 *  \n",
              "PosPF       -6.813e+01  1.527e+01  -4.460 1.06e-05 ***\n",
              "PosPG       -1.872e+02  3.061e+01  -6.114 2.25e-09 ***\n",
              "PosSF       -1.636e+02  1.770e+01  -9.242  < 2e-16 ***\n",
              "PosSG       -1.891e+02  2.304e+01  -8.208 2.87e-15 ***\n",
              "---\n",
              "Signif. codes:  0 ‘***’ 0.001 ‘**’ 0.01 ‘*’ 0.05 ‘.’ 0.1 ‘ ’ 1\n",
              "\n",
              "Residual standard error: 90.72 on 415 degrees of freedom\n",
              "  (68 observations deleted due to missingness)\n",
              "Multiple R-squared:  0.7884,\tAdjusted R-squared:  0.7854 \n",
              "F-statistic: 257.7 on 6 and 415 DF,  p-value: < 2.2e-16\n"
            ]
          },
          "metadata": {}
        }
      ]
    },
    {
      "cell_type": "code",
      "source": [
        "model2 <- lm(rpmp ~ Height + Pos, data= df)\n",
        "summary(model2)"
      ],
      "metadata": {
        "colab": {
          "base_uri": "https://localhost:8080/",
          "height": 436
        },
        "id": "zhmAdXJUnc3-",
        "outputId": "671635a3-0b8b-42d1-a34d-fc2b48223722"
      },
      "execution_count": 10,
      "outputs": [
        {
          "output_type": "display_data",
          "data": {
            "text/plain": [
              "\n",
              "Call:\n",
              "lm(formula = rpmp ~ Height + Pos, data = df)\n",
              "\n",
              "Residuals:\n",
              "     Min       1Q   Median       3Q      Max \n",
              "-0.24287 -0.02869 -0.00424  0.02648  0.76072 \n",
              "\n",
              "Coefficients:\n",
              "              Estimate Std. Error t value Pr(>|t|)    \n",
              "(Intercept) -0.0114412  0.1724809  -0.066 0.947144    \n",
              "Height       0.0014367  0.0008287   1.734 0.083696 .  \n",
              "PosPF       -0.0366211  0.0106618  -3.435 0.000653 ***\n",
              "PosPG       -0.1515423  0.0212847  -7.120 4.78e-12 ***\n",
              "PosSF       -0.1247331  0.0123377 -10.110  < 2e-16 ***\n",
              "PosSG       -0.1466120  0.0160501  -9.135  < 2e-16 ***\n",
              "---\n",
              "Signif. codes:  0 ‘***’ 0.001 ‘**’ 0.01 ‘*’ 0.05 ‘.’ 0.1 ‘ ’ 1\n",
              "\n",
              "Residual standard error: 0.06332 on 416 degrees of freedom\n",
              "  (68 observations deleted due to missingness)\n",
              "Multiple R-squared:  0.5624,\tAdjusted R-squared:  0.5571 \n",
              "F-statistic: 106.9 on 5 and 416 DF,  p-value: < 2.2e-16\n"
            ]
          },
          "metadata": {}
        }
      ]
    },
    {
      "cell_type": "code",
      "source": [
        "model3 <- lm(rpmp ~ Height + Pos + PTS, data= df)\n",
        "summary(model3)"
      ],
      "metadata": {
        "colab": {
          "base_uri": "https://localhost:8080/",
          "height": 455
        },
        "id": "hXvwh5zpns5l",
        "outputId": "6112d089-a317-40fc-a8bb-4e3e7aee1a3f"
      },
      "execution_count": 14,
      "outputs": [
        {
          "output_type": "display_data",
          "data": {
            "text/plain": [
              "\n",
              "Call:\n",
              "lm(formula = rpmp ~ Height + Pos + PTS, data = df)\n",
              "\n",
              "Residuals:\n",
              "     Min       1Q   Median       3Q      Max \n",
              "-0.23817 -0.02752 -0.00377  0.02542  0.76521 \n",
              "\n",
              "Coefficients:\n",
              "              Estimate Std. Error t value Pr(>|t|)    \n",
              "(Intercept)  3.289e-03  1.726e-01   0.019 0.984806    \n",
              "Height       1.342e-03  8.306e-04   1.615 0.107040    \n",
              "PosPF       -3.682e-02  1.065e-02  -3.457 0.000603 ***\n",
              "PosPG       -1.542e-01  2.135e-02  -7.223 2.45e-12 ***\n",
              "PosSF       -1.254e-01  1.233e-02 -10.168  < 2e-16 ***\n",
              "PosSG       -1.484e-01  1.608e-02  -9.225  < 2e-16 ***\n",
              "PTS          1.001e-05  7.272e-06   1.376 0.169479    \n",
              "---\n",
              "Signif. codes:  0 ‘***’ 0.001 ‘**’ 0.01 ‘*’ 0.05 ‘.’ 0.1 ‘ ’ 1\n",
              "\n",
              "Residual standard error: 0.06325 on 415 degrees of freedom\n",
              "  (68 observations deleted due to missingness)\n",
              "Multiple R-squared:  0.5644,\tAdjusted R-squared:  0.5581 \n",
              "F-statistic:  89.6 on 6 and 415 DF,  p-value: < 2.2e-16\n"
            ]
          },
          "metadata": {}
        }
      ]
    },
    {
      "cell_type": "code",
      "source": [
        "model4 <- lm(rpmp ~ Height + Pos + PTS + FGM, data= df)\n",
        "summary(model4)"
      ],
      "metadata": {
        "colab": {
          "base_uri": "https://localhost:8080/",
          "height": 473
        },
        "id": "tOsVLU7AoIyB",
        "outputId": "2fc957cc-cb20-4ded-b637-20f84aa5a40e"
      },
      "execution_count": 15,
      "outputs": [
        {
          "output_type": "display_data",
          "data": {
            "text/plain": [
              "\n",
              "Call:\n",
              "lm(formula = rpmp ~ Height + Pos + PTS + FGM, data = df)\n",
              "\n",
              "Residuals:\n",
              "     Min       1Q   Median       3Q      Max \n",
              "-0.23582 -0.02695 -0.00322  0.02435  0.76753 \n",
              "\n",
              "Coefficients:\n",
              "              Estimate Std. Error t value Pr(>|t|)    \n",
              "(Intercept)  6.266e-03  1.724e-01   0.036  0.97103    \n",
              "Height       1.307e-03  8.300e-04   1.575  0.11604    \n",
              "PosPF       -3.524e-02  1.070e-02  -3.294  0.00107 ** \n",
              "PosPG       -1.505e-01  2.149e-02  -7.002 1.03e-11 ***\n",
              "PosSF       -1.210e-01  1.272e-02  -9.510  < 2e-16 ***\n",
              "PosSG       -1.438e-01  1.640e-02  -8.767  < 2e-16 ***\n",
              "PTS         -6.895e-05  5.675e-05  -1.215  0.22508    \n",
              "FGM          2.150e-04  1.533e-04   1.403  0.16141    \n",
              "---\n",
              "Signif. codes:  0 ‘***’ 0.001 ‘**’ 0.01 ‘*’ 0.05 ‘.’ 0.1 ‘ ’ 1\n",
              "\n",
              "Residual standard error: 0.06318 on 414 degrees of freedom\n",
              "  (68 observations deleted due to missingness)\n",
              "Multiple R-squared:  0.5664,\tAdjusted R-squared:  0.5591 \n",
              "F-statistic: 77.26 on 7 and 414 DF,  p-value: < 2.2e-16\n"
            ]
          },
          "metadata": {}
        }
      ]
    },
    {
      "cell_type": "code",
      "source": [
        "model5 <- lm(rpmp ~ Height + Pos + PTS + FGM + FGA, data= df)\n",
        "summary(model5)"
      ],
      "metadata": {
        "colab": {
          "base_uri": "https://localhost:8080/",
          "height": 491
        },
        "id": "ekHfU9_goTE5",
        "outputId": "53c3bb76-9242-4f6d-fa2d-2ae4e8359bf7"
      },
      "execution_count": 16,
      "outputs": [
        {
          "output_type": "display_data",
          "data": {
            "text/plain": [
              "\n",
              "Call:\n",
              "lm(formula = rpmp ~ Height + Pos + PTS + FGM + FGA, data = df)\n",
              "\n",
              "Residuals:\n",
              "     Min       1Q   Median       3Q      Max \n",
              "-0.23775 -0.02860 -0.00425  0.02573  0.76511 \n",
              "\n",
              "Coefficients:\n",
              "              Estimate Std. Error t value Pr(>|t|)    \n",
              "(Intercept)  1.725e-02  1.701e-01   0.101 0.919259    \n",
              "Height       1.226e-03  8.189e-04   1.496 0.135292    \n",
              "PosPF       -2.747e-02  1.078e-02  -2.550 0.011148 *  \n",
              "PosPG       -1.355e-01  2.161e-02  -6.269 9.14e-10 ***\n",
              "PosSF       -1.089e-01  1.300e-02  -8.380 8.39e-16 ***\n",
              "PosSG       -1.295e-01  1.667e-02  -7.767 6.41e-14 ***\n",
              "PTS          9.667e-06  6.019e-05   0.161 0.872475    \n",
              "FGM          5.435e-04  1.772e-04   3.067 0.002302 ** \n",
              "FGA         -2.538e-04  7.142e-05  -3.553 0.000424 ***\n",
              "---\n",
              "Signif. codes:  0 ‘***’ 0.001 ‘**’ 0.01 ‘*’ 0.05 ‘.’ 0.1 ‘ ’ 1\n",
              "\n",
              "Residual standard error: 0.06231 on 413 degrees of freedom\n",
              "  (68 observations deleted due to missingness)\n",
              "Multiple R-squared:  0.5793,\tAdjusted R-squared:  0.5711 \n",
              "F-statistic: 71.08 on 8 and 413 DF,  p-value: < 2.2e-16\n"
            ]
          },
          "metadata": {}
        }
      ]
    },
    {
      "cell_type": "code",
      "source": [
        "install.packages(\"stargazer\")\n",
        "library(stargazer)"
      ],
      "metadata": {
        "colab": {
          "base_uri": "https://localhost:8080/"
        },
        "id": "MqJzYJ_xoWwr",
        "outputId": "053cd2aa-f1a7-46f2-ff28-cda33b31a4d3"
      },
      "execution_count": 18,
      "outputs": [
        {
          "output_type": "stream",
          "name": "stderr",
          "text": [
            "Installing package into ‘/usr/local/lib/R/site-library’\n",
            "(as ‘lib’ is unspecified)\n",
            "\n",
            "\n",
            "Please cite as: \n",
            "\n",
            "\n",
            " Hlavac, Marek (2022). stargazer: Well-Formatted Regression and Summary Statistics Tables.\n",
            "\n",
            " R package version 5.2.3. https://CRAN.R-project.org/package=stargazer \n",
            "\n",
            "\n"
          ]
        }
      ]
    },
    {
      "cell_type": "code",
      "source": [
        "stargazer(model2, model3, model4, model5,\n",
        "          type = \"text\", # or \"html\" or \"latex\" depending on your output preference\n",
        "          column.labels = c(\"Model 2\", \"Model 3\", \"Model 4\", \"Model 5\"),\n",
        "          title = \"Regression Results\",\n",
        "          align = TRUE,\n",
        "          no.space = TRUE)"
      ],
      "metadata": {
        "colab": {
          "base_uri": "https://localhost:8080/"
        },
        "id": "eEO68f_4olAl",
        "outputId": "18d4dab8-a983-4aa5-e2ff-72e0dc12e58a"
      },
      "execution_count": 21,
      "outputs": [
        {
          "output_type": "stream",
          "name": "stdout",
          "text": [
            "\n",
            "Regression Results\n",
            "====================================================================================================================\n",
            "                                                          Dependent variable:                                       \n",
            "                    ------------------------------------------------------------------------------------------------\n",
            "                                                                  rpmp                                              \n",
            "                            Model 2                  Model 3                 Model 4                 Model 5        \n",
            "                              (1)                      (2)                     (3)                     (4)          \n",
            "--------------------------------------------------------------------------------------------------------------------\n",
            "Height                       0.001*                   0.001                   0.001                   0.001         \n",
            "                            (0.001)                  (0.001)                 (0.001)                 (0.001)        \n",
            "PosPF                      -0.037***                -0.037***               -0.035***               -0.027**        \n",
            "                            (0.011)                  (0.011)                 (0.011)                 (0.011)        \n",
            "PosPG                      -0.152***                -0.154***               -0.150***               -0.135***       \n",
            "                            (0.021)                  (0.021)                 (0.021)                 (0.022)        \n",
            "PosSF                      -0.125***                -0.125***               -0.121***               -0.109***       \n",
            "                            (0.012)                  (0.012)                 (0.013)                 (0.013)        \n",
            "PosSG                      -0.147***                -0.148***               -0.144***               -0.129***       \n",
            "                            (0.016)                  (0.016)                 (0.016)                 (0.017)        \n",
            "PTS                                                  0.00001                 -0.0001                 0.00001        \n",
            "                                                    (0.00001)               (0.0001)                (0.0001)        \n",
            "FGM                                                                          0.0002                 0.001***        \n",
            "                                                                            (0.0002)                (0.0002)        \n",
            "FGA                                                                                                -0.0003***       \n",
            "                                                                                                    (0.0001)        \n",
            "Constant                     -0.011                   0.003                   0.006                   0.017         \n",
            "                            (0.172)                  (0.173)                 (0.172)                 (0.170)        \n",
            "--------------------------------------------------------------------------------------------------------------------\n",
            "Observations                  422                      422                     422                     422          \n",
            "R2                           0.562                    0.564                   0.566                   0.579         \n",
            "Adjusted R2                  0.557                    0.558                   0.559                   0.571         \n",
            "Residual Std. Error     0.063 (df = 416)        0.063 (df = 415)        0.063 (df = 414)        0.062 (df = 413)    \n",
            "F Statistic         106.915*** (df = 5; 416) 89.603*** (df = 6; 415) 77.263*** (df = 7; 414) 71.082*** (df = 8; 413)\n",
            "====================================================================================================================\n",
            "Note:                                                                                    *p<0.1; **p<0.05; ***p<0.01\n"
          ]
        }
      ]
    },
    {
      "cell_type": "code",
      "source": [],
      "metadata": {
        "id": "Gh7k8Aw4oy74"
      },
      "execution_count": null,
      "outputs": []
    }
  ]
}