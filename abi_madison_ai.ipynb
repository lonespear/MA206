{
  "nbformat": 4,
  "nbformat_minor": 0,
  "metadata": {
    "colab": {
      "provenance": [],
      "authorship_tag": "ABX9TyNcdqry3Im0+VAuf207WdZT",
      "include_colab_link": true
    },
    "kernelspec": {
      "name": "ir",
      "display_name": "R"
    },
    "language_info": {
      "name": "R"
    }
  },
  "cells": [
    {
      "cell_type": "markdown",
      "metadata": {
        "id": "view-in-github",
        "colab_type": "text"
      },
      "source": [
        "<a href=\"https://colab.research.google.com/github/lonespear/MA206/blob/main/abi_madison_ai.ipynb\" target=\"_parent\"><img src=\"https://colab.research.google.com/assets/colab-badge.svg\" alt=\"Open In Colab\"/></a>"
      ]
    },
    {
      "cell_type": "code",
      "source": [
        "install.packages(\"stargazer\")"
      ],
      "metadata": {
        "colab": {
          "base_uri": "https://localhost:8080/"
        },
        "id": "oZuxNbvmS8T1",
        "outputId": "8f595937-a73b-4e3d-d542-fea823980470"
      },
      "execution_count": 1,
      "outputs": [
        {
          "output_type": "stream",
          "name": "stderr",
          "text": [
            "Installing package into ‘/usr/local/lib/R/site-library’\n",
            "(as ‘lib’ is unspecified)\n",
            "\n"
          ]
        }
      ]
    },
    {
      "cell_type": "code",
      "execution_count": 2,
      "metadata": {
        "colab": {
          "base_uri": "https://localhost:8080/"
        },
        "id": "_MEV2RsbS0rE",
        "outputId": "8a6d7777-ee22-4cf9-c209-d9d983bad5ad"
      },
      "outputs": [
        {
          "output_type": "stream",
          "name": "stderr",
          "text": [
            "── \u001b[1mAttaching core tidyverse packages\u001b[22m ──────────────────────── tidyverse 2.0.0 ──\n",
            "\u001b[32m✔\u001b[39m \u001b[34mdplyr    \u001b[39m 1.1.4     \u001b[32m✔\u001b[39m \u001b[34mreadr    \u001b[39m 2.1.5\n",
            "\u001b[32m✔\u001b[39m \u001b[34mforcats  \u001b[39m 1.0.0     \u001b[32m✔\u001b[39m \u001b[34mstringr  \u001b[39m 1.5.1\n",
            "\u001b[32m✔\u001b[39m \u001b[34mggplot2  \u001b[39m 3.5.1     \u001b[32m✔\u001b[39m \u001b[34mtibble   \u001b[39m 3.2.1\n",
            "\u001b[32m✔\u001b[39m \u001b[34mlubridate\u001b[39m 1.9.4     \u001b[32m✔\u001b[39m \u001b[34mtidyr    \u001b[39m 1.3.1\n",
            "\u001b[32m✔\u001b[39m \u001b[34mpurrr    \u001b[39m 1.0.4     \n",
            "── \u001b[1mConflicts\u001b[22m ────────────────────────────────────────── tidyverse_conflicts() ──\n",
            "\u001b[31m✖\u001b[39m \u001b[34mdplyr\u001b[39m::\u001b[32mfilter()\u001b[39m masks \u001b[34mstats\u001b[39m::filter()\n",
            "\u001b[31m✖\u001b[39m \u001b[34mdplyr\u001b[39m::\u001b[32mlag()\u001b[39m    masks \u001b[34mstats\u001b[39m::lag()\n",
            "\u001b[36mℹ\u001b[39m Use the conflicted package (\u001b[3m\u001b[34m<http://conflicted.r-lib.org/>\u001b[39m\u001b[23m) to force all conflicts to become errors\n",
            "\n",
            "Please cite as: \n",
            "\n",
            "\n",
            " Hlavac, Marek (2022). stargazer: Well-Formatted Regression and Summary Statistics Tables.\n",
            "\n",
            " R package version 5.2.3. https://CRAN.R-project.org/package=stargazer \n",
            "\n",
            "\n"
          ]
        }
      ],
      "source": [
        "library(tidyverse)\n",
        "library(stargazer)"
      ]
    },
    {
      "cell_type": "code",
      "source": [
        "df <- read_csv(\"gpa.csv\") %>% filter(`Prog Code` == \"MCB\" | `Prog Code` == \"BCH\")"
      ],
      "metadata": {
        "colab": {
          "base_uri": "https://localhost:8080/"
        },
        "id": "cP6b6Ks4S_WL",
        "outputId": "38a62527-18a3-490b-d4f4-e9c54aab1c57"
      },
      "execution_count": 10,
      "outputs": [
        {
          "output_type": "stream",
          "name": "stderr",
          "text": [
            "\u001b[1mRows: \u001b[22m\u001b[34m3046\u001b[39m \u001b[1mColumns: \u001b[22m\u001b[34m10\u001b[39m\n",
            "\u001b[36m──\u001b[39m \u001b[1mColumn specification\u001b[22m \u001b[36m────────────────────────────────────────────────────────\u001b[39m\n",
            "\u001b[1mDelimiter:\u001b[22m \",\"\n",
            "\u001b[31mchr\u001b[39m (2): Prog Code, Gender\n",
            "\u001b[32mdbl\u001b[39m (8): ID No, YoG, CGPA, CGPA100, CGPA200, CGPA300, CGPA400, SGPA\n",
            "\n",
            "\u001b[36mℹ\u001b[39m Use `spec()` to retrieve the full column specification for this data.\n",
            "\u001b[36mℹ\u001b[39m Specify the column types or set `show_col_types = FALSE` to quiet this message.\n"
          ]
        }
      ]
    },
    {
      "cell_type": "code",
      "source": [
        "df %>% colnames"
      ],
      "metadata": {
        "colab": {
          "base_uri": "https://localhost:8080/",
          "height": 34
        },
        "id": "pABqhgOiTaNf",
        "outputId": "6b81ac76-c225-41c8-8958-e4efc153d257"
      },
      "execution_count": 11,
      "outputs": [
        {
          "output_type": "display_data",
          "data": {
            "text/html": [
              "<style>\n",
              ".list-inline {list-style: none; margin:0; padding: 0}\n",
              ".list-inline>li {display: inline-block}\n",
              ".list-inline>li:not(:last-child)::after {content: \"\\00b7\"; padding: 0 .5ex}\n",
              "</style>\n",
              "<ol class=list-inline><li>'ID No'</li><li>'Prog Code'</li><li>'Gender'</li><li>'YoG'</li><li>'CGPA'</li><li>'CGPA100'</li><li>'CGPA200'</li><li>'CGPA300'</li><li>'CGPA400'</li><li>'SGPA'</li></ol>\n"
            ],
            "text/markdown": "1. 'ID No'\n2. 'Prog Code'\n3. 'Gender'\n4. 'YoG'\n5. 'CGPA'\n6. 'CGPA100'\n7. 'CGPA200'\n8. 'CGPA300'\n9. 'CGPA400'\n10. 'SGPA'\n\n\n",
            "text/latex": "\\begin{enumerate*}\n\\item 'ID No'\n\\item 'Prog Code'\n\\item 'Gender'\n\\item 'YoG'\n\\item 'CGPA'\n\\item 'CGPA100'\n\\item 'CGPA200'\n\\item 'CGPA300'\n\\item 'CGPA400'\n\\item 'SGPA'\n\\end{enumerate*}\n",
            "text/plain": [
              " [1] \"ID No\"     \"Prog Code\" \"Gender\"    \"YoG\"       \"CGPA\"      \"CGPA100\"  \n",
              " [7] \"CGPA200\"   \"CGPA300\"   \"CGPA400\"   \"SGPA\"     "
            ]
          },
          "metadata": {}
        }
      ]
    },
    {
      "cell_type": "code",
      "source": [
        "df %>% count(`Prog Code`, sort=TRUE)"
      ],
      "metadata": {
        "colab": {
          "base_uri": "https://localhost:8080/",
          "height": 161
        },
        "id": "5Qp_nWuGTKEe",
        "outputId": "e1ec0fb6-7d76-45b7-9de0-5920e3e4d5d3"
      },
      "execution_count": 12,
      "outputs": [
        {
          "output_type": "display_data",
          "data": {
            "text/html": [
              "<table class=\"dataframe\">\n",
              "<caption>A spec_tbl_df: 2 × 2</caption>\n",
              "<thead>\n",
              "\t<tr><th scope=col>Prog Code</th><th scope=col>n</th></tr>\n",
              "\t<tr><th scope=col>&lt;chr&gt;</th><th scope=col>&lt;int&gt;</th></tr>\n",
              "</thead>\n",
              "<tbody>\n",
              "\t<tr><td>MCB</td><td>164</td></tr>\n",
              "\t<tr><td>BCH</td><td>148</td></tr>\n",
              "</tbody>\n",
              "</table>\n"
            ],
            "text/markdown": "\nA spec_tbl_df: 2 × 2\n\n| Prog Code &lt;chr&gt; | n &lt;int&gt; |\n|---|---|\n| MCB | 164 |\n| BCH | 148 |\n\n",
            "text/latex": "A spec\\_tbl\\_df: 2 × 2\n\\begin{tabular}{ll}\n Prog Code & n\\\\\n <chr> & <int>\\\\\n\\hline\n\t MCB & 164\\\\\n\t BCH & 148\\\\\n\\end{tabular}\n",
            "text/plain": [
              "  Prog Code n  \n",
              "1 MCB       164\n",
              "2 BCH       148"
            ]
          },
          "metadata": {}
        }
      ]
    },
    {
      "cell_type": "code",
      "source": [
        "model1 <- lm(CGPA400 ~ CGPA100, data=df)\n",
        "summary(model1)"
      ],
      "metadata": {
        "colab": {
          "base_uri": "https://localhost:8080/",
          "height": 329
        },
        "id": "eBNPcDnwTKu8",
        "outputId": "9f5eb10f-ae0b-4adf-e9be-05eb307b3ad9"
      },
      "execution_count": 13,
      "outputs": [
        {
          "output_type": "display_data",
          "data": {
            "text/plain": [
              "\n",
              "Call:\n",
              "lm(formula = CGPA400 ~ CGPA100, data = df)\n",
              "\n",
              "Residuals:\n",
              "     Min       1Q   Median       3Q      Max \n",
              "-1.80862 -0.27543  0.03986  0.32418  1.35895 \n",
              "\n",
              "Coefficients:\n",
              "            Estimate Std. Error t value Pr(>|t|)    \n",
              "(Intercept)  0.53308    0.15977   3.337 0.000951 ***\n",
              "CGPA100      0.93932    0.04588  20.472  < 2e-16 ***\n",
              "---\n",
              "Signif. codes:  0 ‘***’ 0.001 ‘**’ 0.01 ‘*’ 0.05 ‘.’ 0.1 ‘ ’ 1\n",
              "\n",
              "Residual standard error: 0.5084 on 310 degrees of freedom\n",
              "Multiple R-squared:  0.5748,\tAdjusted R-squared:  0.5734 \n",
              "F-statistic: 419.1 on 1 and 310 DF,  p-value: < 2.2e-16\n"
            ]
          },
          "metadata": {}
        }
      ]
    },
    {
      "cell_type": "code",
      "source": [
        "model2 <- lm(CGPA400 ~ CGPA100 + Gender, data=df)\n",
        "summary(model2)"
      ],
      "metadata": {
        "colab": {
          "base_uri": "https://localhost:8080/",
          "height": 347
        },
        "id": "7cQ2OFhGTR18",
        "outputId": "13315d5b-e99c-44a3-96c1-d407af17786f"
      },
      "execution_count": 14,
      "outputs": [
        {
          "output_type": "display_data",
          "data": {
            "text/plain": [
              "\n",
              "Call:\n",
              "lm(formula = CGPA400 ~ CGPA100 + Gender, data = df)\n",
              "\n",
              "Residuals:\n",
              "     Min       1Q   Median       3Q      Max \n",
              "-1.68147 -0.27691  0.03818  0.33637  1.48559 \n",
              "\n",
              "Coefficients:\n",
              "            Estimate Std. Error t value Pr(>|t|)    \n",
              "(Intercept)  0.61444    0.16194   3.794 0.000178 ***\n",
              "CGPA100      0.92652    0.04582  20.222  < 2e-16 ***\n",
              "GenderMale  -0.16959    0.06925  -2.449 0.014887 *  \n",
              "---\n",
              "Signif. codes:  0 ‘***’ 0.001 ‘**’ 0.01 ‘*’ 0.05 ‘.’ 0.1 ‘ ’ 1\n",
              "\n",
              "Residual standard error: 0.5044 on 309 degrees of freedom\n",
              "Multiple R-squared:  0.5829,\tAdjusted R-squared:  0.5802 \n",
              "F-statistic: 215.9 on 2 and 309 DF,  p-value: < 2.2e-16\n"
            ]
          },
          "metadata": {}
        }
      ]
    },
    {
      "cell_type": "code",
      "source": [
        "model3 <- lm(CGPA400 ~ CGPA100 + Gender + `Prog Code`, data=df)\n",
        "summary(model3)"
      ],
      "metadata": {
        "colab": {
          "base_uri": "https://localhost:8080/",
          "height": 364
        },
        "id": "zTqWYzY5T-mb",
        "outputId": "4eaada07-a4d9-4c20-f629-4a9ad64a4cc5"
      },
      "execution_count": 15,
      "outputs": [
        {
          "output_type": "display_data",
          "data": {
            "text/plain": [
              "\n",
              "Call:\n",
              "lm(formula = CGPA400 ~ CGPA100 + Gender + `Prog Code`, data = df)\n",
              "\n",
              "Residuals:\n",
              "     Min       1Q   Median       3Q      Max \n",
              "-1.80445 -0.27435  0.02007  0.30970  1.61883 \n",
              "\n",
              "Coefficients:\n",
              "               Estimate Std. Error t value Pr(>|t|)    \n",
              "(Intercept)     0.38871    0.16459   2.362   0.0188 *  \n",
              "CGPA100         0.95228    0.04477  21.270  < 2e-16 ***\n",
              "GenderMale     -0.15437    0.06722  -2.297   0.0223 *  \n",
              "`Prog Code`MCB  0.25519    0.05591   4.564 7.26e-06 ***\n",
              "---\n",
              "Signif. codes:  0 ‘***’ 0.001 ‘**’ 0.01 ‘*’ 0.05 ‘.’ 0.1 ‘ ’ 1\n",
              "\n",
              "Residual standard error: 0.4889 on 308 degrees of freedom\n",
              "Multiple R-squared:  0.6093,\tAdjusted R-squared:  0.6055 \n",
              "F-statistic: 160.1 on 3 and 308 DF,  p-value: < 2.2e-16\n"
            ]
          },
          "metadata": {}
        }
      ]
    },
    {
      "cell_type": "code",
      "source": [
        "model4 <- lm(CGPA400 ~ CGPA100*Gender + `Prog Code`, data=df)\n",
        "summary(model4)"
      ],
      "metadata": {
        "colab": {
          "base_uri": "https://localhost:8080/",
          "height": 382
        },
        "id": "T5QcIBTiUDYL",
        "outputId": "66a59c8d-706e-43f3-d9c2-4ee3f49f4e8b"
      },
      "execution_count": 16,
      "outputs": [
        {
          "output_type": "display_data",
          "data": {
            "text/plain": [
              "\n",
              "Call:\n",
              "lm(formula = CGPA400 ~ CGPA100 * Gender + `Prog Code`, data = df)\n",
              "\n",
              "Residuals:\n",
              "     Min       1Q   Median       3Q      Max \n",
              "-1.82490 -0.26372  0.01378  0.31626  1.59919 \n",
              "\n",
              "Coefficients:\n",
              "                   Estimate Std. Error t value Pr(>|t|)    \n",
              "(Intercept)         0.33174    0.18094   1.833   0.0677 .  \n",
              "CGPA100             0.96814    0.04942  19.588  < 2e-16 ***\n",
              "GenderMale          0.14402    0.39818   0.362   0.7178    \n",
              "`Prog Code`MCB      0.25896    0.05617   4.610 5.91e-06 ***\n",
              "CGPA100:GenderMale -0.08980    0.11810  -0.760   0.4476    \n",
              "---\n",
              "Signif. codes:  0 ‘***’ 0.001 ‘**’ 0.01 ‘*’ 0.05 ‘.’ 0.1 ‘ ’ 1\n",
              "\n",
              "Residual standard error: 0.4893 on 307 degrees of freedom\n",
              "Multiple R-squared:  0.6101,\tAdjusted R-squared:  0.605 \n",
              "F-statistic: 120.1 on 4 and 307 DF,  p-value: < 2.2e-16\n"
            ]
          },
          "metadata": {}
        }
      ]
    },
    {
      "cell_type": "code",
      "source": [
        "model5 <- lm(CGPA400 ~ CGPA100*`Prog Code` + Gender, data=df)\n",
        "summary(model5)"
      ],
      "metadata": {
        "colab": {
          "base_uri": "https://localhost:8080/",
          "height": 382
        },
        "id": "NbMuZYoxUIGK",
        "outputId": "001e5652-d3b7-4b71-bfcc-a1f1acb2cfee"
      },
      "execution_count": 18,
      "outputs": [
        {
          "output_type": "display_data",
          "data": {
            "text/plain": [
              "\n",
              "Call:\n",
              "lm(formula = CGPA400 ~ CGPA100 * `Prog Code` + Gender, data = df)\n",
              "\n",
              "Residuals:\n",
              "     Min       1Q   Median       3Q      Max \n",
              "-1.77913 -0.25952  0.02219  0.29657  1.59290 \n",
              "\n",
              "Coefficients:\n",
              "                       Estimate Std. Error t value Pr(>|t|)    \n",
              "(Intercept)             0.62081    0.23584   2.632  0.00891 ** \n",
              "CGPA100                 0.88670    0.06544  13.549  < 2e-16 ***\n",
              "`Prog Code`MCB         -0.16632    0.31221  -0.533  0.59461    \n",
              "GenderMale             -0.16379    0.06747  -2.428  0.01577 *  \n",
              "CGPA100:`Prog Code`MCB  0.12266    0.08939   1.372  0.17100    \n",
              "---\n",
              "Signif. codes:  0 ‘***’ 0.001 ‘**’ 0.01 ‘*’ 0.05 ‘.’ 0.1 ‘ ’ 1\n",
              "\n",
              "Residual standard error: 0.4882 on 307 degrees of freedom\n",
              "Multiple R-squared:  0.6117,\tAdjusted R-squared:  0.6067 \n",
              "F-statistic: 120.9 on 4 and 307 DF,  p-value: < 2.2e-16\n"
            ]
          },
          "metadata": {}
        }
      ]
    },
    {
      "cell_type": "code",
      "source": [
        "library(stargazer)\n",
        "\n",
        "# Generate the summary table for models\n",
        "stargazer(model1, model2, model3, model4, model5,\n",
        "          type = \"text\",        # or \"html\" or \"latex\" depending on your output needs\n",
        "          title = \"Regression Results\",\n",
        "          align = TRUE,\n",
        "          no.space = TRUE)"
      ],
      "metadata": {
        "colab": {
          "base_uri": "https://localhost:8080/"
        },
        "id": "Il5j_-4BUZ4q",
        "outputId": "9a650b5b-ce3a-4dd9-a20c-4d4f91358127"
      },
      "execution_count": 19,
      "outputs": [
        {
          "output_type": "stream",
          "name": "stdout",
          "text": [
            "\n",
            "Regression Results\n",
            "===================================================================================================================================================\n",
            "                                                                           Dependent variable:                                                     \n",
            "                       ----------------------------------------------------------------------------------------------------------------------------\n",
            "                                                                                 CGPA400                                                           \n",
            "                                 (1)                      (2)                      (3)                      (4)                      (5)           \n",
            "---------------------------------------------------------------------------------------------------------------------------------------------------\n",
            "CGPA100                        0.939***                 0.927***                 0.952***                 0.968***                 0.887***        \n",
            "                               (0.046)                  (0.046)                  (0.045)                  (0.049)                  (0.065)         \n",
            "GenderMale                                              -0.170**                 -0.154**                  0.144                   -0.164**        \n",
            "                                                        (0.069)                  (0.067)                  (0.398)                  (0.067)         \n",
            "CGPA100:`Prog Code`MCB                                                                                                              0.123          \n",
            "                                                                                                                                   (0.089)         \n",
            "`Prog Code`MCB                                                                   0.255***                 0.259***                  -0.166         \n",
            "                                                                                 (0.056)                  (0.056)                  (0.312)         \n",
            "CGPA100:GenderMale                                                                                         -0.090                                  \n",
            "                                                                                                          (0.118)                                  \n",
            "Constant                       0.533***                 0.614***                 0.389**                   0.332*                  0.621***        \n",
            "                               (0.160)                  (0.162)                  (0.165)                  (0.181)                  (0.236)         \n",
            "---------------------------------------------------------------------------------------------------------------------------------------------------\n",
            "Observations                     312                      312                      312                      312                      312           \n",
            "R2                              0.575                    0.583                    0.609                    0.610                    0.612          \n",
            "Adjusted R2                     0.573                    0.580                    0.606                    0.605                    0.607          \n",
            "Residual Std. Error        0.508 (df = 310)         0.504 (df = 309)         0.489 (df = 308)         0.489 (df = 307)         0.488 (df = 307)    \n",
            "F Statistic            419.095*** (df = 1; 310) 215.924*** (df = 2; 309) 160.132*** (df = 3; 308) 120.079*** (df = 4; 307) 120.914*** (df = 4; 307)\n",
            "===================================================================================================================================================\n",
            "Note:                                                                                                                   *p<0.1; **p<0.05; ***p<0.01\n"
          ]
        }
      ]
    },
    {
      "cell_type": "code",
      "source": [
        "library(stargazer)\n",
        "\n",
        "# Generate the summary table for models\n",
        "stargazer(model1, model2, model3, model4, model5,\n",
        "          type = \"latex\",        # or \"html\" or \"latex\" depending on your output needs\n",
        "          title = \"Regression Results\",\n",
        "          align = TRUE,\n",
        "          no.space = TRUE)"
      ],
      "metadata": {
        "colab": {
          "base_uri": "https://localhost:8080/"
        },
        "id": "lZyp1EerVArr",
        "outputId": "d76f684d-0796-402c-9aba-7c3c84b626de"
      },
      "execution_count": 20,
      "outputs": [
        {
          "output_type": "stream",
          "name": "stdout",
          "text": [
            "\n",
            "% Table created by stargazer v.5.2.3 by Marek Hlavac, Social Policy Institute. E-mail: marek.hlavac at gmail.com\n",
            "% Date and time: Tue, Apr 08, 2025 - 04:57:20 PM\n",
            "% Requires LaTeX packages: dcolumn \n",
            "\\begin{table}[!htbp] \\centering \n",
            "  \\caption{Regression Results} \n",
            "  \\label{} \n",
            "\\begin{tabular}{@{\\extracolsep{5pt}}lD{.}{.}{-3} D{.}{.}{-3} D{.}{.}{-3} D{.}{.}{-3} D{.}{.}{-3} } \n",
            "\\\\[-1.8ex]\\hline \n",
            "\\hline \\\\[-1.8ex] \n",
            " & \\multicolumn{5}{c}{\\textit{Dependent variable:}} \\\\ \n",
            "\\cline{2-6} \n",
            "\\\\[-1.8ex] & \\multicolumn{5}{c}{CGPA400} \\\\ \n",
            "\\\\[-1.8ex] & \\multicolumn{1}{c}{(1)} & \\multicolumn{1}{c}{(2)} & \\multicolumn{1}{c}{(3)} & \\multicolumn{1}{c}{(4)} & \\multicolumn{1}{c}{(5)}\\\\ \n",
            "\\hline \\\\[-1.8ex] \n",
            " CGPA100 & 0.939^{***} & 0.927^{***} & 0.952^{***} & 0.968^{***} & 0.887^{***} \\\\ \n",
            "  & (0.046) & (0.046) & (0.045) & (0.049) & (0.065) \\\\ \n",
            "  GenderMale &  & -0.170^{**} & -0.154^{**} & 0.144 & -0.164^{**} \\\\ \n",
            "  &  & (0.069) & (0.067) & (0.398) & (0.067) \\\\ \n",
            "  CGPA100:`Prog Code`MCB &  &  &  &  & 0.123 \\\\ \n",
            "  &  &  &  &  & (0.089) \\\\ \n",
            "  `Prog Code`MCB &  &  & 0.255^{***} & 0.259^{***} & -0.166 \\\\ \n",
            "  &  &  & (0.056) & (0.056) & (0.312) \\\\ \n",
            "  CGPA100:GenderMale &  &  &  & -0.090 &  \\\\ \n",
            "  &  &  &  & (0.118) &  \\\\ \n",
            "  Constant & 0.533^{***} & 0.614^{***} & 0.389^{**} & 0.332^{*} & 0.621^{***} \\\\ \n",
            "  & (0.160) & (0.162) & (0.165) & (0.181) & (0.236) \\\\ \n",
            " \\hline \\\\[-1.8ex] \n",
            "Observations & \\multicolumn{1}{c}{312} & \\multicolumn{1}{c}{312} & \\multicolumn{1}{c}{312} & \\multicolumn{1}{c}{312} & \\multicolumn{1}{c}{312} \\\\ \n",
            "R$^{2}$ & \\multicolumn{1}{c}{0.575} & \\multicolumn{1}{c}{0.583} & \\multicolumn{1}{c}{0.609} & \\multicolumn{1}{c}{0.610} & \\multicolumn{1}{c}{0.612} \\\\ \n",
            "Adjusted R$^{2}$ & \\multicolumn{1}{c}{0.573} & \\multicolumn{1}{c}{0.580} & \\multicolumn{1}{c}{0.606} & \\multicolumn{1}{c}{0.605} & \\multicolumn{1}{c}{0.607} \\\\ \n",
            "Residual Std. Error & \\multicolumn{1}{c}{0.508 (df = 310)} & \\multicolumn{1}{c}{0.504 (df = 309)} & \\multicolumn{1}{c}{0.489 (df = 308)} & \\multicolumn{1}{c}{0.489 (df = 307)} & \\multicolumn{1}{c}{0.488 (df = 307)} \\\\ \n",
            "F Statistic & \\multicolumn{1}{c}{419.095$^{***}$ (df = 1; 310)} & \\multicolumn{1}{c}{215.924$^{***}$ (df = 2; 309)} & \\multicolumn{1}{c}{160.132$^{***}$ (df = 3; 308)} & \\multicolumn{1}{c}{120.079$^{***}$ (df = 4; 307)} & \\multicolumn{1}{c}{120.914$^{***}$ (df = 4; 307)} \\\\ \n",
            "\\hline \n",
            "\\hline \\\\[-1.8ex] \n",
            "\\textit{Note:}  & \\multicolumn{5}{r}{$^{*}$p$<$0.1; $^{**}$p$<$0.05; $^{***}$p$<$0.01} \\\\ \n",
            "\\end{tabular} \n",
            "\\end{table} \n"
          ]
        }
      ]
    },
    {
      "cell_type": "code",
      "source": [],
      "metadata": {
        "id": "NmnTBC5hVb-a"
      },
      "execution_count": null,
      "outputs": []
    }
  ]
}