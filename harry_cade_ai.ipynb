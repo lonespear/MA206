{
  "nbformat": 4,
  "nbformat_minor": 0,
  "metadata": {
    "colab": {
      "provenance": [],
      "authorship_tag": "ABX9TyPnGphvO1M96yApuIPU/1pb",
      "include_colab_link": true
    },
    "kernelspec": {
      "name": "ir",
      "display_name": "R"
    },
    "language_info": {
      "name": "R"
    }
  },
  "cells": [
    {
      "cell_type": "markdown",
      "metadata": {
        "id": "view-in-github",
        "colab_type": "text"
      },
      "source": [
        "<a href=\"https://colab.research.google.com/github/lonespear/MA206/blob/main/harry_cade_ai.ipynb\" target=\"_parent\"><img src=\"https://colab.research.google.com/assets/colab-badge.svg\" alt=\"Open In Colab\"/></a>"
      ]
    },
    {
      "cell_type": "code",
      "execution_count": 3,
      "metadata": {
        "colab": {
          "base_uri": "https://localhost:8080/"
        },
        "id": "1AfIn8qo2Gwx",
        "outputId": "5f9093d2-82f5-40b5-9dd7-d1fa14fcd390"
      },
      "outputs": [
        {
          "output_type": "stream",
          "name": "stderr",
          "text": [
            "\u001b[1mRows: \u001b[22m\u001b[34m2000\u001b[39m \u001b[1mColumns: \u001b[22m\u001b[34m6\u001b[39m\n",
            "\u001b[36m──\u001b[39m \u001b[1mColumn specification\u001b[22m \u001b[36m────────────────────────────────────────────────────────\u001b[39m\n",
            "\u001b[1mDelimiter:\u001b[22m \",\"\n",
            "\u001b[31mchr\u001b[39m (3): Name, Equipment, Sex\n",
            "\u001b[32mdbl\u001b[39m (3): BodyweightKg, TotalKg, Age\n",
            "\n",
            "\u001b[36mℹ\u001b[39m Use `spec()` to retrieve the full column specification for this data.\n",
            "\u001b[36mℹ\u001b[39m Specify the column types or set `show_col_types = FALSE` to quiet this message.\n",
            "Warning message:\n",
            "“\u001b[1m\u001b[22mOne or more parsing issues, call `problems()` on your data frame for details,\n",
            "e.g.:\n",
            "  dat <- vroom(...)\n",
            "  problems(dat)”\n",
            "\u001b[1mRows: \u001b[22m\u001b[34m831704\u001b[39m \u001b[1mColumns: \u001b[22m\u001b[34m42\u001b[39m\n",
            "\u001b[36m──\u001b[39m \u001b[1mColumn specification\u001b[22m \u001b[36m────────────────────────────────────────────────────────\u001b[39m\n",
            "\u001b[1mDelimiter:\u001b[22m \",\"\n",
            "\u001b[31mchr\u001b[39m  (19): Name, Sex, Event, Equipment, AgeClass, BirthYearClass, Division, ...\n",
            "\u001b[32mdbl\u001b[39m  (20): Age, BodyweightKg, Squat1Kg, Squat2Kg, Squat3Kg, Squat4Kg, Best3S...\n",
            "\u001b[33mlgl\u001b[39m   (2): Bench4Kg, Deadlift4Kg\n",
            "\u001b[34mdate\u001b[39m  (1): Date\n",
            "\n",
            "\u001b[36mℹ\u001b[39m Use `spec()` to retrieve the full column specification for this data.\n",
            "\u001b[36mℹ\u001b[39m Specify the column types or set `show_col_types = FALSE` to quiet this message.\n"
          ]
        }
      ],
      "source": [
        "library(tidyverse)\n",
        "df <- read_csv(\"df_final.csv\")\n",
        "lift <- read_csv(\"lift.csv\")"
      ]
    },
    {
      "cell_type": "markdown",
      "source": [
        "# What is the relationship between bodyweight and weightlifting ability?"
      ],
      "metadata": {
        "id": "vXSiB5Zw2mMP"
      }
    },
    {
      "cell_type": "markdown",
      "source": [
        "- Bigger people lift more?\n",
        "-"
      ],
      "metadata": {
        "id": "loAZJY652wrU"
      }
    },
    {
      "cell_type": "code",
      "source": [
        "df %>% head"
      ],
      "metadata": {
        "colab": {
          "base_uri": "https://localhost:8080/",
          "height": 286
        },
        "id": "NPvO5azb2eOp",
        "outputId": "97c8a9f6-6eb4-4c27-e94b-5a83d0ea465a"
      },
      "execution_count": 2,
      "outputs": [
        {
          "output_type": "display_data",
          "data": {
            "text/html": [
              "<table class=\"dataframe\">\n",
              "<caption>A tibble: 6 × 6</caption>\n",
              "<thead>\n",
              "\t<tr><th scope=col>Name</th><th scope=col>BodyweightKg</th><th scope=col>TotalKg</th><th scope=col>Equipment</th><th scope=col>Age</th><th scope=col>Sex</th></tr>\n",
              "\t<tr><th scope=col>&lt;chr&gt;</th><th scope=col>&lt;dbl&gt;</th><th scope=col>&lt;dbl&gt;</th><th scope=col>&lt;chr&gt;</th><th scope=col>&lt;dbl&gt;</th><th scope=col>&lt;chr&gt;</th></tr>\n",
              "</thead>\n",
              "<tbody>\n",
              "\t<tr><td>Aleksandr Lobanov</td><td>102.40</td><td>162.5</td><td>Raw</td><td>23.0</td><td>M</td></tr>\n",
              "\t<tr><td>Laura Rivera     </td><td> 77.00</td><td>340.0</td><td>Raw</td><td>38.0</td><td>F</td></tr>\n",
              "\t<tr><td>Andrey Podlesnyy </td><td> 82.50</td><td>310.0</td><td>Raw</td><td>17.5</td><td>M</td></tr>\n",
              "\t<tr><td>Nate Jamison     </td><td> 98.43</td><td>172.5</td><td>Raw</td><td>35.0</td><td>M</td></tr>\n",
              "\t<tr><td>Jim Selby        </td><td> 67.50</td><td>100.0</td><td>Raw</td><td>  NA</td><td>M</td></tr>\n",
              "\t<tr><td>Justin De La Cruz</td><td> 70.50</td><td>472.5</td><td>Raw</td><td>28.5</td><td>M</td></tr>\n",
              "</tbody>\n",
              "</table>\n"
            ],
            "text/markdown": "\nA tibble: 6 × 6\n\n| Name &lt;chr&gt; | BodyweightKg &lt;dbl&gt; | TotalKg &lt;dbl&gt; | Equipment &lt;chr&gt; | Age &lt;dbl&gt; | Sex &lt;chr&gt; |\n|---|---|---|---|---|---|\n| Aleksandr Lobanov | 102.40 | 162.5 | Raw | 23.0 | M |\n| Laura Rivera      |  77.00 | 340.0 | Raw | 38.0 | F |\n| Andrey Podlesnyy  |  82.50 | 310.0 | Raw | 17.5 | M |\n| Nate Jamison      |  98.43 | 172.5 | Raw | 35.0 | M |\n| Jim Selby         |  67.50 | 100.0 | Raw |   NA | M |\n| Justin De La Cruz |  70.50 | 472.5 | Raw | 28.5 | M |\n\n",
            "text/latex": "A tibble: 6 × 6\n\\begin{tabular}{llllll}\n Name & BodyweightKg & TotalKg & Equipment & Age & Sex\\\\\n <chr> & <dbl> & <dbl> & <chr> & <dbl> & <chr>\\\\\n\\hline\n\t Aleksandr Lobanov & 102.40 & 162.5 & Raw & 23.0 & M\\\\\n\t Laura Rivera      &  77.00 & 340.0 & Raw & 38.0 & F\\\\\n\t Andrey Podlesnyy  &  82.50 & 310.0 & Raw & 17.5 & M\\\\\n\t Nate Jamison      &  98.43 & 172.5 & Raw & 35.0 & M\\\\\n\t Jim Selby         &  67.50 & 100.0 & Raw &   NA & M\\\\\n\t Justin De La Cruz &  70.50 & 472.5 & Raw & 28.5 & M\\\\\n\\end{tabular}\n",
            "text/plain": [
              "  Name              BodyweightKg TotalKg Equipment Age  Sex\n",
              "1 Aleksandr Lobanov 102.40       162.5   Raw       23.0 M  \n",
              "2 Laura Rivera       77.00       340.0   Raw       38.0 F  \n",
              "3 Andrey Podlesnyy   82.50       310.0   Raw       17.5 M  \n",
              "4 Nate Jamison       98.43       172.5   Raw       35.0 M  \n",
              "5 Jim Selby          67.50       100.0   Raw         NA M  \n",
              "6 Justin De La Cruz  70.50       472.5   Raw       28.5 M  "
            ]
          },
          "metadata": {}
        }
      ]
    },
    {
      "cell_type": "code",
      "source": [
        "lift <- sample_n(lift, size=3000) %>% filter(Equipment == \"Raw\" & Division == \"Open\")"
      ],
      "metadata": {
        "colab": {
          "base_uri": "https://localhost:8080/",
          "height": 263
        },
        "id": "PDlTDjVV2gFX",
        "outputId": "8f1bc279-fd40-466d-9623-fc711209c3a6"
      },
      "execution_count": 14,
      "outputs": [
        {
          "output_type": "error",
          "ename": "ERROR",
          "evalue": "Error: object 'Equipment' not found\n",
          "traceback": [
            "Error: object 'Equipment' not found\nTraceback:\n",
            "1. sample_n(., lift, size = 3000)",
            "2. filter(Equipment == \"Raw\" & Division == \"Open\")",
            "3. .handleSimpleError(function (cnd) \n . {\n .     watcher$capture_plot_and_output()\n .     cnd <- sanitize_call(cnd)\n .     watcher$push(cnd)\n .     switch(on_error, continue = invokeRestart(\"eval_continue\"), \n .         stop = invokeRestart(\"eval_stop\"), error = NULL)\n . }, \"object 'Equipment' not found\", base::quote(eval(expr, envir)))"
          ]
        }
      ]
    },
    {
      "cell_type": "code",
      "source": [
        "lift %>% head"
      ],
      "metadata": {
        "colab": {
          "base_uri": "https://localhost:8080/",
          "height": 462
        },
        "id": "KyIwwkPO3xFO",
        "outputId": "3a7d5fee-db1a-4aa3-d1a3-e1cbc268bbb4"
      },
      "execution_count": 13,
      "outputs": [
        {
          "output_type": "display_data",
          "data": {
            "text/html": [
              "<table class=\"dataframe\">\n",
              "<caption>A tibble: 6 × 42</caption>\n",
              "<thead>\n",
              "\t<tr><th scope=col>Name</th><th scope=col>Sex</th><th scope=col>Event</th><th scope=col>Equipment</th><th scope=col>Age</th><th scope=col>AgeClass</th><th scope=col>BirthYearClass</th><th scope=col>Division</th><th scope=col>BodyweightKg</th><th scope=col>WeightClassKg</th><th scope=col>⋯</th><th scope=col>Country</th><th scope=col>State</th><th scope=col>Federation</th><th scope=col>ParentFederation</th><th scope=col>Date</th><th scope=col>MeetCountry</th><th scope=col>MeetState</th><th scope=col>MeetTown</th><th scope=col>MeetName</th><th scope=col>Sanctioned</th></tr>\n",
              "\t<tr><th scope=col>&lt;chr&gt;</th><th scope=col>&lt;chr&gt;</th><th scope=col>&lt;chr&gt;</th><th scope=col>&lt;chr&gt;</th><th scope=col>&lt;dbl&gt;</th><th scope=col>&lt;chr&gt;</th><th scope=col>&lt;chr&gt;</th><th scope=col>&lt;chr&gt;</th><th scope=col>&lt;dbl&gt;</th><th scope=col>&lt;chr&gt;</th><th scope=col>⋯</th><th scope=col>&lt;chr&gt;</th><th scope=col>&lt;chr&gt;</th><th scope=col>&lt;chr&gt;</th><th scope=col>&lt;chr&gt;</th><th scope=col>&lt;date&gt;</th><th scope=col>&lt;chr&gt;</th><th scope=col>&lt;chr&gt;</th><th scope=col>&lt;chr&gt;</th><th scope=col>&lt;chr&gt;</th><th scope=col>&lt;chr&gt;</th></tr>\n",
              "</thead>\n",
              "<tbody>\n",
              "\t<tr><td>Jonas J Pedersen    </td><td>M</td><td>B  </td><td>Raw</td><td>25.5</td><td>24-34</td><td>24-39</td><td>Open</td><td> 85.25</td><td>93 </td><td>⋯</td><td>NA          </td><td>NA</td><td>DSF </td><td>IPF</td><td>2024-09-21</td><td>Denmark  </td><td>NA</td><td>Randers SM  </td><td>DM Klassisk Bænkpres                          </td><td>Yes</td></tr>\n",
              "\t<tr><td>Suzanne Hartwig-Gary</td><td>F</td><td>SBD</td><td>Raw</td><td>47.0</td><td>45-49</td><td>40-49</td><td>Open</td><td> 51.40</td><td>52 </td><td>⋯</td><td>USA         </td><td>NA</td><td>NAPF</td><td>IPF</td><td>2016-03-05</td><td>USA      </td><td>OH</td><td>Columbus    </td><td>Arnolds StartingStrength.com Pro Raw Challenge</td><td>Yes</td></tr>\n",
              "\t<tr><td>Andrea Salaris      </td><td>M</td><td>SBD</td><td>Raw</td><td>30.5</td><td>24-34</td><td>24-39</td><td>Open</td><td> 65.70</td><td>66 </td><td>⋯</td><td>Italy       </td><td>NA</td><td>IPF </td><td>IPF</td><td>2024-06-15</td><td>Lithuania</td><td>NA</td><td>Druskininkai</td><td>World Classic Powerlifting Championships      </td><td>Yes</td></tr>\n",
              "\t<tr><td>Stina Lindell       </td><td>F</td><td>SBD</td><td>Raw</td><td>29.5</td><td>24-34</td><td>24-39</td><td>Open</td><td> 62.30</td><td>63 </td><td>⋯</td><td>Finland     </td><td>NA</td><td>IPF </td><td>IPF</td><td>2018-06-06</td><td>Canada   </td><td>NA</td><td>Calgary     </td><td>World Classic Powerlifting Championships      </td><td>Yes</td></tr>\n",
              "\t<tr><td>Colin Young         </td><td>M</td><td>B  </td><td>Raw</td><td>61.5</td><td>60-64</td><td>60-69</td><td>Open</td><td>104.66</td><td>105</td><td>⋯</td><td>South Africa</td><td>NA</td><td>IPF </td><td>IPF</td><td>2019-05-18</td><td>Japan    </td><td>NA</td><td>Tokyo       </td><td>World Bench Press Championships               </td><td>Yes</td></tr>\n",
              "\t<tr><td>Niclas Strand       </td><td>M</td><td>SBD</td><td>Raw</td><td>28.5</td><td>24-34</td><td>24-39</td><td>Open</td><td> 73.90</td><td>74 </td><td>⋯</td><td>NA          </td><td>NA</td><td>SVNL</td><td>IPF</td><td>2018-02-03</td><td>Finland  </td><td>NA</td><td>Mariehamn   </td><td>Klubbtävling klassiskt styrkelyft             </td><td>Yes</td></tr>\n",
              "</tbody>\n",
              "</table>\n"
            ],
            "text/markdown": "\nA tibble: 6 × 42\n\n| Name &lt;chr&gt; | Sex &lt;chr&gt; | Event &lt;chr&gt; | Equipment &lt;chr&gt; | Age &lt;dbl&gt; | AgeClass &lt;chr&gt; | BirthYearClass &lt;chr&gt; | Division &lt;chr&gt; | BodyweightKg &lt;dbl&gt; | WeightClassKg &lt;chr&gt; | ⋯ ⋯ | Country &lt;chr&gt; | State &lt;chr&gt; | Federation &lt;chr&gt; | ParentFederation &lt;chr&gt; | Date &lt;date&gt; | MeetCountry &lt;chr&gt; | MeetState &lt;chr&gt; | MeetTown &lt;chr&gt; | MeetName &lt;chr&gt; | Sanctioned &lt;chr&gt; |\n|---|---|---|---|---|---|---|---|---|---|---|---|---|---|---|---|---|---|---|---|---|\n| Jonas J Pedersen     | M | B   | Raw | 25.5 | 24-34 | 24-39 | Open |  85.25 | 93  | ⋯ | NA           | NA | DSF  | IPF | 2024-09-21 | Denmark   | NA | Randers SM   | DM Klassisk Bænkpres                           | Yes |\n| Suzanne Hartwig-Gary | F | SBD | Raw | 47.0 | 45-49 | 40-49 | Open |  51.40 | 52  | ⋯ | USA          | NA | NAPF | IPF | 2016-03-05 | USA       | OH | Columbus     | Arnolds StartingStrength.com Pro Raw Challenge | Yes |\n| Andrea Salaris       | M | SBD | Raw | 30.5 | 24-34 | 24-39 | Open |  65.70 | 66  | ⋯ | Italy        | NA | IPF  | IPF | 2024-06-15 | Lithuania | NA | Druskininkai | World Classic Powerlifting Championships       | Yes |\n| Stina Lindell        | F | SBD | Raw | 29.5 | 24-34 | 24-39 | Open |  62.30 | 63  | ⋯ | Finland      | NA | IPF  | IPF | 2018-06-06 | Canada    | NA | Calgary      | World Classic Powerlifting Championships       | Yes |\n| Colin Young          | M | B   | Raw | 61.5 | 60-64 | 60-69 | Open | 104.66 | 105 | ⋯ | South Africa | NA | IPF  | IPF | 2019-05-18 | Japan     | NA | Tokyo        | World Bench Press Championships                | Yes |\n| Niclas Strand        | M | SBD | Raw | 28.5 | 24-34 | 24-39 | Open |  73.90 | 74  | ⋯ | NA           | NA | SVNL | IPF | 2018-02-03 | Finland   | NA | Mariehamn    | Klubbtävling klassiskt styrkelyft              | Yes |\n\n",
            "text/latex": "A tibble: 6 × 42\n\\begin{tabular}{lllllllllllllllllllll}\n Name & Sex & Event & Equipment & Age & AgeClass & BirthYearClass & Division & BodyweightKg & WeightClassKg & ⋯ & Country & State & Federation & ParentFederation & Date & MeetCountry & MeetState & MeetTown & MeetName & Sanctioned\\\\\n <chr> & <chr> & <chr> & <chr> & <dbl> & <chr> & <chr> & <chr> & <dbl> & <chr> & ⋯ & <chr> & <chr> & <chr> & <chr> & <date> & <chr> & <chr> & <chr> & <chr> & <chr>\\\\\n\\hline\n\t Jonas J Pedersen     & M & B   & Raw & 25.5 & 24-34 & 24-39 & Open &  85.25 & 93  & ⋯ & NA           & NA & DSF  & IPF & 2024-09-21 & Denmark   & NA & Randers SM   & DM Klassisk Bænkpres                           & Yes\\\\\n\t Suzanne Hartwig-Gary & F & SBD & Raw & 47.0 & 45-49 & 40-49 & Open &  51.40 & 52  & ⋯ & USA          & NA & NAPF & IPF & 2016-03-05 & USA       & OH & Columbus     & Arnolds StartingStrength.com Pro Raw Challenge & Yes\\\\\n\t Andrea Salaris       & M & SBD & Raw & 30.5 & 24-34 & 24-39 & Open &  65.70 & 66  & ⋯ & Italy        & NA & IPF  & IPF & 2024-06-15 & Lithuania & NA & Druskininkai & World Classic Powerlifting Championships       & Yes\\\\\n\t Stina Lindell        & F & SBD & Raw & 29.5 & 24-34 & 24-39 & Open &  62.30 & 63  & ⋯ & Finland      & NA & IPF  & IPF & 2018-06-06 & Canada    & NA & Calgary      & World Classic Powerlifting Championships       & Yes\\\\\n\t Colin Young          & M & B   & Raw & 61.5 & 60-64 & 60-69 & Open & 104.66 & 105 & ⋯ & South Africa & NA & IPF  & IPF & 2019-05-18 & Japan     & NA & Tokyo        & World Bench Press Championships                & Yes\\\\\n\t Niclas Strand        & M & SBD & Raw & 28.5 & 24-34 & 24-39 & Open &  73.90 & 74  & ⋯ & NA           & NA & SVNL & IPF & 2018-02-03 & Finland   & NA & Mariehamn    & Klubbtävling klassiskt styrkelyft              & Yes\\\\\n\\end{tabular}\n",
            "text/plain": [
              "  Name                 Sex Event Equipment Age  AgeClass BirthYearClass\n",
              "1 Jonas J Pedersen     M   B     Raw       25.5 24-34    24-39         \n",
              "2 Suzanne Hartwig-Gary F   SBD   Raw       47.0 45-49    40-49         \n",
              "3 Andrea Salaris       M   SBD   Raw       30.5 24-34    24-39         \n",
              "4 Stina Lindell        F   SBD   Raw       29.5 24-34    24-39         \n",
              "5 Colin Young          M   B     Raw       61.5 60-64    60-69         \n",
              "6 Niclas Strand        M   SBD   Raw       28.5 24-34    24-39         \n",
              "  Division BodyweightKg WeightClassKg ⋯ Country      State Federation\n",
              "1 Open      85.25       93            ⋯ NA           NA    DSF       \n",
              "2 Open      51.40       52            ⋯ USA          NA    NAPF      \n",
              "3 Open      65.70       66            ⋯ Italy        NA    IPF       \n",
              "4 Open      62.30       63            ⋯ Finland      NA    IPF       \n",
              "5 Open     104.66       105           ⋯ South Africa NA    IPF       \n",
              "6 Open      73.90       74            ⋯ NA           NA    SVNL      \n",
              "  ParentFederation Date       MeetCountry MeetState MeetTown    \n",
              "1 IPF              2024-09-21 Denmark     NA        Randers SM  \n",
              "2 IPF              2016-03-05 USA         OH        Columbus    \n",
              "3 IPF              2024-06-15 Lithuania   NA        Druskininkai\n",
              "4 IPF              2018-06-06 Canada      NA        Calgary     \n",
              "5 IPF              2019-05-18 Japan       NA        Tokyo       \n",
              "6 IPF              2018-02-03 Finland     NA        Mariehamn   \n",
              "  MeetName                                       Sanctioned\n",
              "1 DM Klassisk Bænkpres                           Yes       \n",
              "2 Arnolds StartingStrength.com Pro Raw Challenge Yes       \n",
              "3 World Classic Powerlifting Championships       Yes       \n",
              "4 World Classic Powerlifting Championships       Yes       \n",
              "5 World Bench Press Championships                Yes       \n",
              "6 Klubbtävling klassiskt styrkelyft              Yes       "
            ]
          },
          "metadata": {}
        }
      ]
    },
    {
      "cell_type": "code",
      "source": [
        "lift %>% colnames"
      ],
      "metadata": {
        "colab": {
          "base_uri": "https://localhost:8080/",
          "height": 69
        },
        "id": "DDS9DQS53yaG",
        "outputId": "c25bb2d8-d068-40cc-bc30-e22bd72a8d0f"
      },
      "execution_count": 9,
      "outputs": [
        {
          "output_type": "display_data",
          "data": {
            "text/html": [
              "<style>\n",
              ".list-inline {list-style: none; margin:0; padding: 0}\n",
              ".list-inline>li {display: inline-block}\n",
              ".list-inline>li:not(:last-child)::after {content: \"\\00b7\"; padding: 0 .5ex}\n",
              "</style>\n",
              "<ol class=list-inline><li>'Name'</li><li>'Sex'</li><li>'Event'</li><li>'Equipment'</li><li>'Age'</li><li>'AgeClass'</li><li>'BirthYearClass'</li><li>'Division'</li><li>'BodyweightKg'</li><li>'WeightClassKg'</li><li>'Squat1Kg'</li><li>'Squat2Kg'</li><li>'Squat3Kg'</li><li>'Squat4Kg'</li><li>'Best3SquatKg'</li><li>'Bench1Kg'</li><li>'Bench2Kg'</li><li>'Bench3Kg'</li><li>'Bench4Kg'</li><li>'Best3BenchKg'</li><li>'Deadlift1Kg'</li><li>'Deadlift2Kg'</li><li>'Deadlift3Kg'</li><li>'Deadlift4Kg'</li><li>'Best3DeadliftKg'</li><li>'TotalKg'</li><li>'Place'</li><li>'Dots'</li><li>'Wilks'</li><li>'Glossbrenner'</li><li>'Goodlift'</li><li>'Tested'</li><li>'Country'</li><li>'State'</li><li>'Federation'</li><li>'ParentFederation'</li><li>'Date'</li><li>'MeetCountry'</li><li>'MeetState'</li><li>'MeetTown'</li><li>'MeetName'</li><li>'Sanctioned'</li></ol>\n"
            ],
            "text/markdown": "1. 'Name'\n2. 'Sex'\n3. 'Event'\n4. 'Equipment'\n5. 'Age'\n6. 'AgeClass'\n7. 'BirthYearClass'\n8. 'Division'\n9. 'BodyweightKg'\n10. 'WeightClassKg'\n11. 'Squat1Kg'\n12. 'Squat2Kg'\n13. 'Squat3Kg'\n14. 'Squat4Kg'\n15. 'Best3SquatKg'\n16. 'Bench1Kg'\n17. 'Bench2Kg'\n18. 'Bench3Kg'\n19. 'Bench4Kg'\n20. 'Best3BenchKg'\n21. 'Deadlift1Kg'\n22. 'Deadlift2Kg'\n23. 'Deadlift3Kg'\n24. 'Deadlift4Kg'\n25. 'Best3DeadliftKg'\n26. 'TotalKg'\n27. 'Place'\n28. 'Dots'\n29. 'Wilks'\n30. 'Glossbrenner'\n31. 'Goodlift'\n32. 'Tested'\n33. 'Country'\n34. 'State'\n35. 'Federation'\n36. 'ParentFederation'\n37. 'Date'\n38. 'MeetCountry'\n39. 'MeetState'\n40. 'MeetTown'\n41. 'MeetName'\n42. 'Sanctioned'\n\n\n",
            "text/latex": "\\begin{enumerate*}\n\\item 'Name'\n\\item 'Sex'\n\\item 'Event'\n\\item 'Equipment'\n\\item 'Age'\n\\item 'AgeClass'\n\\item 'BirthYearClass'\n\\item 'Division'\n\\item 'BodyweightKg'\n\\item 'WeightClassKg'\n\\item 'Squat1Kg'\n\\item 'Squat2Kg'\n\\item 'Squat3Kg'\n\\item 'Squat4Kg'\n\\item 'Best3SquatKg'\n\\item 'Bench1Kg'\n\\item 'Bench2Kg'\n\\item 'Bench3Kg'\n\\item 'Bench4Kg'\n\\item 'Best3BenchKg'\n\\item 'Deadlift1Kg'\n\\item 'Deadlift2Kg'\n\\item 'Deadlift3Kg'\n\\item 'Deadlift4Kg'\n\\item 'Best3DeadliftKg'\n\\item 'TotalKg'\n\\item 'Place'\n\\item 'Dots'\n\\item 'Wilks'\n\\item 'Glossbrenner'\n\\item 'Goodlift'\n\\item 'Tested'\n\\item 'Country'\n\\item 'State'\n\\item 'Federation'\n\\item 'ParentFederation'\n\\item 'Date'\n\\item 'MeetCountry'\n\\item 'MeetState'\n\\item 'MeetTown'\n\\item 'MeetName'\n\\item 'Sanctioned'\n\\end{enumerate*}\n",
            "text/plain": [
              " [1] \"Name\"             \"Sex\"              \"Event\"            \"Equipment\"       \n",
              " [5] \"Age\"              \"AgeClass\"         \"BirthYearClass\"   \"Division\"        \n",
              " [9] \"BodyweightKg\"     \"WeightClassKg\"    \"Squat1Kg\"         \"Squat2Kg\"        \n",
              "[13] \"Squat3Kg\"         \"Squat4Kg\"         \"Best3SquatKg\"     \"Bench1Kg\"        \n",
              "[17] \"Bench2Kg\"         \"Bench3Kg\"         \"Bench4Kg\"         \"Best3BenchKg\"    \n",
              "[21] \"Deadlift1Kg\"      \"Deadlift2Kg\"      \"Deadlift3Kg\"      \"Deadlift4Kg\"     \n",
              "[25] \"Best3DeadliftKg\"  \"TotalKg\"          \"Place\"            \"Dots\"            \n",
              "[29] \"Wilks\"            \"Glossbrenner\"     \"Goodlift\"         \"Tested\"          \n",
              "[33] \"Country\"          \"State\"            \"Federation\"       \"ParentFederation\"\n",
              "[37] \"Date\"             \"MeetCountry\"      \"MeetState\"        \"MeetTown\"        \n",
              "[41] \"MeetName\"         \"Sanctioned\"      "
            ]
          },
          "metadata": {}
        }
      ]
    },
    {
      "cell_type": "code",
      "source": [
        "lift %>% dim"
      ],
      "metadata": {
        "colab": {
          "base_uri": "https://localhost:8080/",
          "height": 34
        },
        "id": "6NYJCEaj4EnE",
        "outputId": "9b261730-f3b4-4012-84a4-1028691e634f"
      },
      "execution_count": 15,
      "outputs": [
        {
          "output_type": "display_data",
          "data": {
            "text/html": [
              "<style>\n",
              ".list-inline {list-style: none; margin:0; padding: 0}\n",
              ".list-inline>li {display: inline-block}\n",
              ".list-inline>li:not(:last-child)::after {content: \"\\00b7\"; padding: 0 .5ex}\n",
              "</style>\n",
              "<ol class=list-inline><li>426</li><li>42</li></ol>\n"
            ],
            "text/markdown": "1. 426\n2. 42\n\n\n",
            "text/latex": "\\begin{enumerate*}\n\\item 426\n\\item 42\n\\end{enumerate*}\n",
            "text/plain": [
              "[1] 426  42"
            ]
          },
          "metadata": {}
        }
      ]
    },
    {
      "cell_type": "code",
      "source": [
        "write_csv(lift, 'lift_final.csv')"
      ],
      "metadata": {
        "id": "w-sxq7E24ZV1"
      },
      "execution_count": 16,
      "outputs": []
    },
    {
      "cell_type": "code",
      "source": [
        "model <- lm(TotalKg ~ Age + BodyweightKg + Sex, data=lift)\n",
        "summary(model)"
      ],
      "metadata": {
        "colab": {
          "base_uri": "https://localhost:8080/",
          "height": 382
        },
        "id": "IiV1Op1t47Jk",
        "outputId": "f453368e-ef2a-4e62-f936-7c53489df623"
      },
      "execution_count": 19,
      "outputs": [
        {
          "output_type": "display_data",
          "data": {
            "text/plain": [
              "\n",
              "Call:\n",
              "lm(formula = TotalKg ~ Age + BodyweightKg + Sex, data = lift)\n",
              "\n",
              "Residuals:\n",
              "    Min      1Q  Median      3Q     Max \n",
              "-444.30 -197.29   51.37  134.37  415.47 \n",
              "\n",
              "Coefficients:\n",
              "             Estimate Std. Error t value Pr(>|t|)    \n",
              "(Intercept)  123.8214    52.1576   2.374 0.018147 *  \n",
              "Age           -2.2862     1.2807  -1.785 0.075125 .  \n",
              "BodyweightKg   3.2055     0.5816   5.511 7.01e-08 ***\n",
              "SexM          91.5311    26.7215   3.425 0.000688 ***\n",
              "---\n",
              "Signif. codes:  0 ‘***’ 0.001 ‘**’ 0.01 ‘*’ 0.05 ‘.’ 0.1 ‘ ’ 1\n",
              "\n",
              "Residual standard error: 192.3 on 343 degrees of freedom\n",
              "  (79 observations deleted due to missingness)\n",
              "Multiple R-squared:  0.2063,\tAdjusted R-squared:  0.1993 \n",
              "F-statistic: 29.72 on 3 and 343 DF,  p-value: < 2.2e-16\n"
            ]
          },
          "metadata": {}
        }
      ]
    },
    {
      "cell_type": "code",
      "source": [
        "model1 <- lm(TotalKg ~ Age + BodyweightKg*Sex, data=lift)\n",
        "summary(model1)"
      ],
      "metadata": {
        "colab": {
          "base_uri": "https://localhost:8080/",
          "height": 399
        },
        "id": "7aFpcMMl5FaE",
        "outputId": "aa630f7e-2a6a-4e14-c908-244714d9ba62"
      },
      "execution_count": 20,
      "outputs": [
        {
          "output_type": "display_data",
          "data": {
            "text/plain": [
              "\n",
              "Call:\n",
              "lm(formula = TotalKg ~ Age + BodyweightKg * Sex, data = lift)\n",
              "\n",
              "Residuals:\n",
              "    Min      1Q  Median      3Q     Max \n",
              "-415.41 -200.74   52.94  137.77  423.29 \n",
              "\n",
              "Coefficients:\n",
              "                  Estimate Std. Error t value Pr(>|t|)  \n",
              "(Intercept)        208.816     85.336   2.447   0.0149 *\n",
              "Age                 -2.409      1.283  -1.877   0.0613 .\n",
              "BodyweightKg         1.964      1.146   1.714   0.0874 .\n",
              "SexM               -28.635     99.200  -0.289   0.7730  \n",
              "BodyweightKg:SexM    1.670      1.327   1.258   0.2093  \n",
              "---\n",
              "Signif. codes:  0 ‘***’ 0.001 ‘**’ 0.01 ‘*’ 0.05 ‘.’ 0.1 ‘ ’ 1\n",
              "\n",
              "Residual standard error: 192.1 on 342 degrees of freedom\n",
              "  (79 observations deleted due to missingness)\n",
              "Multiple R-squared:  0.2099,\tAdjusted R-squared:  0.2007 \n",
              "F-statistic: 22.72 on 4 and 342 DF,  p-value: < 2.2e-16\n"
            ]
          },
          "metadata": {}
        }
      ]
    },
    {
      "cell_type": "code",
      "source": [],
      "metadata": {
        "id": "zu959O625b70"
      },
      "execution_count": null,
      "outputs": []
    }
  ]
}