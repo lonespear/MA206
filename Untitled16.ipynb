{
  "nbformat": 4,
  "nbformat_minor": 0,
  "metadata": {
    "colab": {
      "provenance": [],
      "authorship_tag": "ABX9TyM4pg0JJfT2jy5HpMqrPQ6q",
      "include_colab_link": true
    },
    "kernelspec": {
      "name": "ir",
      "display_name": "R"
    },
    "language_info": {
      "name": "R"
    }
  },
  "cells": [
    {
      "cell_type": "markdown",
      "metadata": {
        "id": "view-in-github",
        "colab_type": "text"
      },
      "source": [
        "<a href=\"https://colab.research.google.com/github/lonespear/MA206/blob/main/Untitled16.ipynb\" target=\"_parent\"><img src=\"https://colab.research.google.com/assets/colab-badge.svg\" alt=\"Open In Colab\"/></a>"
      ]
    },
    {
      "cell_type": "code",
      "execution_count": 2,
      "metadata": {
        "colab": {
          "base_uri": "https://localhost:8080/"
        },
        "id": "0yIrR14DKcgp",
        "outputId": "cfb1674e-2017-497c-da37-152ff9269c8e"
      },
      "outputs": [
        {
          "output_type": "stream",
          "name": "stderr",
          "text": [
            "\u001b[1mRows: \u001b[22m\u001b[34m8398\u001b[39m \u001b[1mColumns: \u001b[22m\u001b[34m31\u001b[39m\n",
            "\u001b[36m──\u001b[39m \u001b[1mColumn specification\u001b[22m \u001b[36m────────────────────────────────────────────────────────\u001b[39m\n",
            "\u001b[1mDelimiter:\u001b[22m \",\"\n",
            "\u001b[31mchr\u001b[39m (14): MONTH, ASECFLAG, SEX, RACE, MARST, VETSTAT, EMPSTAT, WORKLY, WKSWO...\n",
            "\u001b[32mdbl\u001b[39m (12): YEAR, SERIAL, CPSID, ASECWTH, PERNUM, CPSIDV, CPSIDP, ASECWT, AGE,...\n",
            "\u001b[33mlgl\u001b[39m  (5): HWTFINL, WTFINL, DIFFMOB, white, post_ADA\n",
            "\n",
            "\u001b[36mℹ\u001b[39m Use `spec()` to retrieve the full column specification for this data.\n",
            "\u001b[36mℹ\u001b[39m Specify the column types or set `show_col_types = FALSE` to quiet this message.\n"
          ]
        }
      ],
      "source": [
        "library(tidyverse)\n",
        "df <- read_csv(\"ada92.csv\") %>% filter(age_range == \"20-39\", disability == \"Disability\", SEX == \"Male\")"
      ]
    },
    {
      "cell_type": "markdown",
      "source": [
        "# Test 1"
      ],
      "metadata": {
        "id": "m77msqyaLfFV"
      }
    },
    {
      "cell_type": "code",
      "source": [
        "df %>% colnames"
      ],
      "metadata": {
        "colab": {
          "base_uri": "https://localhost:8080/",
          "height": 69
        },
        "id": "bUrRf1hpLt_0",
        "outputId": "377aa9df-1aeb-455e-8e59-f0fa75a5d56f"
      },
      "execution_count": 5,
      "outputs": [
        {
          "output_type": "display_data",
          "data": {
            "text/html": [
              "<style>\n",
              ".list-inline {list-style: none; margin:0; padding: 0}\n",
              ".list-inline>li {display: inline-block}\n",
              ".list-inline>li:not(:last-child)::after {content: \"\\00b7\"; padding: 0 .5ex}\n",
              "</style>\n",
              "<ol class=list-inline><li>'YEAR'</li><li>'SERIAL'</li><li>'MONTH'</li><li>'HWTFINL'</li><li>'CPSID'</li><li>'ASECFLAG'</li><li>'ASECWTH'</li><li>'PERNUM'</li><li>'WTFINL'</li><li>'CPSIDV'</li><li>'CPSIDP'</li><li>'ASECWT'</li><li>'AGE'</li><li>'SEX'</li><li>'RACE'</li><li>'MARST'</li><li>'VETSTAT'</li><li>'EMPSTAT'</li><li>'DIFFMOB'</li><li>'WORKLY'</li><li>'WKSWORK1'</li><li>'WKSWORK2'</li><li>'FIRMSIZE'</li><li>'DISABWRK'</li><li>'year_start'</li><li>'weeks_worked'</li><li>'employed_last_year'</li><li>'disability'</li><li>'white'</li><li>'post_ADA'</li><li>'age_range'</li></ol>\n"
            ],
            "text/markdown": "1. 'YEAR'\n2. 'SERIAL'\n3. 'MONTH'\n4. 'HWTFINL'\n5. 'CPSID'\n6. 'ASECFLAG'\n7. 'ASECWTH'\n8. 'PERNUM'\n9. 'WTFINL'\n10. 'CPSIDV'\n11. 'CPSIDP'\n12. 'ASECWT'\n13. 'AGE'\n14. 'SEX'\n15. 'RACE'\n16. 'MARST'\n17. 'VETSTAT'\n18. 'EMPSTAT'\n19. 'DIFFMOB'\n20. 'WORKLY'\n21. 'WKSWORK1'\n22. 'WKSWORK2'\n23. 'FIRMSIZE'\n24. 'DISABWRK'\n25. 'year_start'\n26. 'weeks_worked'\n27. 'employed_last_year'\n28. 'disability'\n29. 'white'\n30. 'post_ADA'\n31. 'age_range'\n\n\n",
            "text/latex": "\\begin{enumerate*}\n\\item 'YEAR'\n\\item 'SERIAL'\n\\item 'MONTH'\n\\item 'HWTFINL'\n\\item 'CPSID'\n\\item 'ASECFLAG'\n\\item 'ASECWTH'\n\\item 'PERNUM'\n\\item 'WTFINL'\n\\item 'CPSIDV'\n\\item 'CPSIDP'\n\\item 'ASECWT'\n\\item 'AGE'\n\\item 'SEX'\n\\item 'RACE'\n\\item 'MARST'\n\\item 'VETSTAT'\n\\item 'EMPSTAT'\n\\item 'DIFFMOB'\n\\item 'WORKLY'\n\\item 'WKSWORK1'\n\\item 'WKSWORK2'\n\\item 'FIRMSIZE'\n\\item 'DISABWRK'\n\\item 'year\\_start'\n\\item 'weeks\\_worked'\n\\item 'employed\\_last\\_year'\n\\item 'disability'\n\\item 'white'\n\\item 'post\\_ADA'\n\\item 'age\\_range'\n\\end{enumerate*}\n",
            "text/plain": [
              " [1] \"YEAR\"               \"SERIAL\"             \"MONTH\"             \n",
              " [4] \"HWTFINL\"            \"CPSID\"              \"ASECFLAG\"          \n",
              " [7] \"ASECWTH\"            \"PERNUM\"             \"WTFINL\"            \n",
              "[10] \"CPSIDV\"             \"CPSIDP\"             \"ASECWT\"            \n",
              "[13] \"AGE\"                \"SEX\"                \"RACE\"              \n",
              "[16] \"MARST\"              \"VETSTAT\"            \"EMPSTAT\"           \n",
              "[19] \"DIFFMOB\"            \"WORKLY\"             \"WKSWORK1\"          \n",
              "[22] \"WKSWORK2\"           \"FIRMSIZE\"           \"DISABWRK\"          \n",
              "[25] \"year_start\"         \"weeks_worked\"       \"employed_last_year\"\n",
              "[28] \"disability\"         \"white\"              \"post_ADA\"          \n",
              "[31] \"age_range\"         "
            ]
          },
          "metadata": {}
        }
      ]
    },
    {
      "cell_type": "code",
      "source": [
        "df %>% select(employed_last_year, post_ADA) %>% table()"
      ],
      "metadata": {
        "colab": {
          "base_uri": "https://localhost:8080/",
          "height": 86
        },
        "id": "U1jvNTv0LDN9",
        "outputId": "852a7f73-2207-48ec-e33b-1bec548e163a"
      },
      "execution_count": 7,
      "outputs": [
        {
          "output_type": "display_data",
          "data": {
            "text/plain": [
              "                  post_ADA\n",
              "employed_last_year FALSE TRUE\n",
              "               No     18   22\n",
              "               Yes    20   17"
            ]
          },
          "metadata": {}
        }
      ]
    },
    {
      "cell_type": "code",
      "source": [
        "null = 0           # Enter the value of your Null Hypothesis Parameter\n",
        "successes_1 = 20    # number of successes in group 1\n",
        "successes_2 = 17    # number of successes in group 2\n",
        "n_1 = 38   # sample size of group 1\n",
        "n_2 = 39   # sample size of group 2\n",
        "n = n_1 + n_2     # total sample size\n",
        "phat_1 = successes_1/n_1\n",
        "phat_2 = successes_2/n_2\n",
        "phat_t = (successes_1 + successes_2)/(n)\n",
        "diff = phat_1-phat_2 # ensure this matches your null hypothesis order\n",
        "sd = sqrt(phat_t*(1-phat_t)*(1/n_1 + 1/n_2))\n",
        "z = (diff-null)/sd  ; z # standardized statistic"
      ],
      "metadata": {
        "colab": {
          "base_uri": "https://localhost:8080/",
          "height": 34
        },
        "id": "nz_JbccnLaGt",
        "outputId": "d957738d-6dea-4692-aa2c-0c761e8535ae"
      },
      "execution_count": 11,
      "outputs": [
        {
          "output_type": "display_data",
          "data": {
            "text/html": [
              "0.793953744738068"
            ],
            "text/markdown": "0.793953744738068",
            "text/latex": "0.793953744738068",
            "text/plain": [
              "[1] 0.7939537"
            ]
          },
          "metadata": {}
        }
      ]
    },
    {
      "cell_type": "code",
      "source": [],
      "metadata": {
        "id": "HpI2LELOL3tJ"
      },
      "execution_count": null,
      "outputs": []
    },
    {
      "cell_type": "code",
      "source": [
        "null =      #Enter the value of your Null Hypothesis Parameter\n",
        "xbar_1 = df %>% filter(post_ADA == FALSE)   # sample mean of group 1\n",
        "xbar_2 =    # sample mean of group 2\n",
        "s_1 =       # sample standard deviation of group 1\n",
        "s_2 =       # sample standard deviation of group 2\n",
        "n_1 =       # sample size of group 1\n",
        "n_2 =       # sample size of group 2\n",
        "n = n_1 + n_2   # total sample size\n",
        "diff = xbar_1 - xbar_2\n",
        "sd = sqrt(s_1^2/n_1 + s_2^2/n_2)\n",
        "t = (diff-null)/sd   ; t # standardized statistic"
      ],
      "metadata": {
        "id": "OskjKSkWMuar"
      },
      "execution_count": null,
      "outputs": []
    }
  ]
}