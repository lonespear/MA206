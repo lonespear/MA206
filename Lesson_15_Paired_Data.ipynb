{
  "nbformat": 4,
  "nbformat_minor": 0,
  "metadata": {
    "colab": {
      "provenance": [],
      "authorship_tag": "ABX9TyMMHWec6/5Hlq09GCFuTvjR",
      "include_colab_link": true
    },
    "kernelspec": {
      "name": "ir",
      "display_name": "R"
    },
    "language_info": {
      "name": "R"
    }
  },
  "cells": [
    {
      "cell_type": "markdown",
      "metadata": {
        "id": "view-in-github",
        "colab_type": "text"
      },
      "source": [
        "<a href=\"https://colab.research.google.com/github/lonespear/MA206/blob/main/Lesson_15_Paired_Data.ipynb\" target=\"_parent\"><img src=\"https://colab.research.google.com/assets/colab-badge.svg\" alt=\"Open In Colab\"/></a>"
      ]
    },
    {
      "cell_type": "code",
      "source": [
        "install.packages('faraway')"
      ],
      "metadata": {
        "colab": {
          "base_uri": "https://localhost:8080/"
        },
        "id": "utQibgLctfIB",
        "outputId": "6b6ec569-f836-4f2b-e12b-2e2d54fe510b"
      },
      "execution_count": 3,
      "outputs": [
        {
          "output_type": "stream",
          "name": "stderr",
          "text": [
            "Installing package into ‘/usr/local/lib/R/site-library’\n",
            "(as ‘lib’ is unspecified)\n",
            "\n",
            "also installing the dependencies ‘rbibutils’, ‘Rdpack’, ‘minqa’, ‘nloptr’, ‘reformulas’, ‘RcppEigen’, ‘lme4’\n",
            "\n",
            "\n"
          ]
        }
      ]
    },
    {
      "cell_type": "code",
      "execution_count": 4,
      "metadata": {
        "id": "NdNccrVjssO4"
      },
      "outputs": [],
      "source": [
        "library(tidyverse)\n",
        "library(faraway)"
      ]
    },
    {
      "cell_type": "code",
      "source": [
        "rep(0, 50)"
      ],
      "metadata": {
        "colab": {
          "base_uri": "https://localhost:8080/",
          "height": 52
        },
        "id": "PNYLWzoMz7Wq",
        "outputId": "90fa5c3f-19da-48b7-d7d5-bf938e159ba2"
      },
      "execution_count": 29,
      "outputs": [
        {
          "output_type": "display_data",
          "data": {
            "text/html": [
              "<style>\n",
              ".list-inline {list-style: none; margin:0; padding: 0}\n",
              ".list-inline>li {display: inline-block}\n",
              ".list-inline>li:not(:last-child)::after {content: \"\\00b7\"; padding: 0 .5ex}\n",
              "</style>\n",
              "<ol class=list-inline><li>0</li><li>0</li><li>0</li><li>0</li><li>0</li><li>0</li><li>0</li><li>0</li><li>0</li><li>0</li><li>0</li><li>0</li><li>0</li><li>0</li><li>0</li><li>0</li><li>0</li><li>0</li><li>0</li><li>0</li><li>0</li><li>0</li><li>0</li><li>0</li><li>0</li><li>0</li><li>0</li><li>0</li><li>0</li><li>0</li><li>0</li><li>0</li><li>0</li><li>0</li><li>0</li><li>0</li><li>0</li><li>0</li><li>0</li><li>0</li><li>0</li><li>0</li><li>0</li><li>0</li><li>0</li><li>0</li><li>0</li><li>0</li><li>0</li><li>0</li></ol>\n"
            ],
            "text/markdown": "1. 0\n2. 0\n3. 0\n4. 0\n5. 0\n6. 0\n7. 0\n8. 0\n9. 0\n10. 0\n11. 0\n12. 0\n13. 0\n14. 0\n15. 0\n16. 0\n17. 0\n18. 0\n19. 0\n20. 0\n21. 0\n22. 0\n23. 0\n24. 0\n25. 0\n26. 0\n27. 0\n28. 0\n29. 0\n30. 0\n31. 0\n32. 0\n33. 0\n34. 0\n35. 0\n36. 0\n37. 0\n38. 0\n39. 0\n40. 0\n41. 0\n42. 0\n43. 0\n44. 0\n45. 0\n46. 0\n47. 0\n48. 0\n49. 0\n50. 0\n\n\n",
            "text/latex": "\\begin{enumerate*}\n\\item 0\n\\item 0\n\\item 0\n\\item 0\n\\item 0\n\\item 0\n\\item 0\n\\item 0\n\\item 0\n\\item 0\n\\item 0\n\\item 0\n\\item 0\n\\item 0\n\\item 0\n\\item 0\n\\item 0\n\\item 0\n\\item 0\n\\item 0\n\\item 0\n\\item 0\n\\item 0\n\\item 0\n\\item 0\n\\item 0\n\\item 0\n\\item 0\n\\item 0\n\\item 0\n\\item 0\n\\item 0\n\\item 0\n\\item 0\n\\item 0\n\\item 0\n\\item 0\n\\item 0\n\\item 0\n\\item 0\n\\item 0\n\\item 0\n\\item 0\n\\item 0\n\\item 0\n\\item 0\n\\item 0\n\\item 0\n\\item 0\n\\item 0\n\\end{enumerate*}\n",
            "text/plain": [
              " [1] 0 0 0 0 0 0 0 0 0 0 0 0 0 0 0 0 0 0 0 0 0 0 0 0 0 0 0 0 0 0 0 0 0 0 0 0 0 0\n",
              "[39] 0 0 0 0 0 0 0 0 0 0 0 0"
            ]
          },
          "metadata": {}
        }
      ]
    },
    {
      "cell_type": "code",
      "source": [
        "set.seed(1991)\n",
        "n = 100\n",
        "X1 = rnorm(n, 105, 25)\n",
        "X2 = rnorm(n, 130, 40)\n",
        "sdc = data.frame(\"time\" = c(X1, X2), \"field\"=c(rep(\"grass\", n),rep(\"sand\",n)))"
      ],
      "metadata": {
        "id": "JzIGwUpXxbLk"
      },
      "execution_count": 41,
      "outputs": []
    },
    {
      "cell_type": "code",
      "source": [
        "sdc %>% ggplot(aes(x=time, fill=field)) + geom_histogram(bins=20) + theme_minimal()"
      ],
      "metadata": {
        "colab": {
          "base_uri": "https://localhost:8080/",
          "height": 437
        },
        "id": "rJJoXoWeyi-k",
        "outputId": "6b8cfa24-d773-414a-b65f-54045188c26d"
      },
      "execution_count": 42,
      "outputs": [
        {
          "output_type": "display_data",
          "data": {
            "text/plain": [
              "plot without title"
            ],
            "image/png": "[encoded data removed]"
          },
          "metadata": {
            "image/png": {
              "width": 420,
              "height": 420
            }
          }
        }
      ]
    },
    {
      "cell_type": "code",
      "source": [
        "sdc_true %>% ggplot(aes(x=time)) + geom_histogram(bins=40) + theme_minimal()"
      ],
      "metadata": {
        "colab": {
          "base_uri": "https://localhost:8080/",
          "height": 263
        },
        "id": "PTQG0nvgx5YU",
        "outputId": "3417e5ab-ec92-4137-dd52-9edf9ca353e6"
      },
      "execution_count": 21,
      "outputs": [
        {
          "output_type": "error",
          "ename": "ERROR",
          "evalue": "Error in hist.default(sdc_true): 'x' must be numeric\n",
          "traceback": [
            "Error in hist.default(sdc_true): 'x' must be numeric\nTraceback:\n",
            "1. hist.default(sdc_true)",
            "2. stop(\"'x' must be numeric\")",
            "3. .handleSimpleError(function (cnd) \n . {\n .     watcher$capture_plot_and_output()\n .     cnd <- sanitize_call(cnd)\n .     watcher$push(cnd)\n .     switch(on_error, continue = invokeRestart(\"eval_continue\"), \n .         stop = invokeRestart(\"eval_stop\"), error = NULL)\n . }, \"'x' must be numeric\", base::quote(hist.default(sdc_true)))"
          ]
        }
      ]
    },
    {
      "cell_type": "code",
      "source": [
        "data(ratdrink)"
      ],
      "metadata": {
        "id": "HL5mHNrus96n"
      },
      "execution_count": 10,
      "outputs": []
    },
    {
      "cell_type": "code",
      "source": [
        "help(ratdrink)"
      ],
      "metadata": {
        "id": "qtRbCqAgvZHc"
      },
      "execution_count": 13,
      "outputs": []
    },
    {
      "cell_type": "code",
      "source": [
        "ratdrink"
      ],
      "metadata": {
        "colab": {
          "base_uri": "https://localhost:8080/",
          "height": 1000
        },
        "id": "FmKCmVM0uyYE",
        "outputId": "5ca98ebb-92a6-4168-f39d-edef4bae0e5c"
      },
      "execution_count": 12,
      "outputs": [
        {
          "output_type": "display_data",
          "data": {
            "text/html": [
              "<table class=\"dataframe\">\n",
              "<caption>A data.frame: 135 × 4</caption>\n",
              "<thead>\n",
              "\t<tr><th></th><th scope=col>wt</th><th scope=col>weeks</th><th scope=col>subject</th><th scope=col>treat</th></tr>\n",
              "\t<tr><th></th><th scope=col>&lt;dbl&gt;</th><th scope=col>&lt;int&gt;</th><th scope=col>&lt;fct&gt;</th><th scope=col>&lt;fct&gt;</th></tr>\n",
              "</thead>\n",
              "<tbody>\n",
              "\t<tr><th scope=row>1</th><td> 57</td><td>0</td><td>1</td><td>control</td></tr>\n",
              "\t<tr><th scope=row>2</th><td> 86</td><td>1</td><td>1</td><td>control</td></tr>\n",
              "\t<tr><th scope=row>3</th><td>114</td><td>2</td><td>1</td><td>control</td></tr>\n",
              "\t<tr><th scope=row>4</th><td>139</td><td>3</td><td>1</td><td>control</td></tr>\n",
              "\t<tr><th scope=row>5</th><td>172</td><td>4</td><td>1</td><td>control</td></tr>\n",
              "\t<tr><th scope=row>6</th><td> 60</td><td>0</td><td>2</td><td>control</td></tr>\n",
              "\t<tr><th scope=row>7</th><td> 93</td><td>1</td><td>2</td><td>control</td></tr>\n",
              "\t<tr><th scope=row>8</th><td>123</td><td>2</td><td>2</td><td>control</td></tr>\n",
              "\t<tr><th scope=row>9</th><td>146</td><td>3</td><td>2</td><td>control</td></tr>\n",
              "\t<tr><th scope=row>10</th><td>177</td><td>4</td><td>2</td><td>control</td></tr>\n",
              "\t<tr><th scope=row>11</th><td> 52</td><td>0</td><td>3</td><td>control</td></tr>\n",
              "\t<tr><th scope=row>12</th><td> 77</td><td>1</td><td>3</td><td>control</td></tr>\n",
              "\t<tr><th scope=row>13</th><td>111</td><td>2</td><td>3</td><td>control</td></tr>\n",
              "\t<tr><th scope=row>14</th><td>144</td><td>3</td><td>3</td><td>control</td></tr>\n",
              "\t<tr><th scope=row>15</th><td>185</td><td>4</td><td>3</td><td>control</td></tr>\n",
              "\t<tr><th scope=row>16</th><td> 49</td><td>0</td><td>4</td><td>control</td></tr>\n",
              "\t<tr><th scope=row>17</th><td> 67</td><td>1</td><td>4</td><td>control</td></tr>\n",
              "\t<tr><th scope=row>18</th><td>100</td><td>2</td><td>4</td><td>control</td></tr>\n",
              "\t<tr><th scope=row>19</th><td>129</td><td>3</td><td>4</td><td>control</td></tr>\n",
              "\t<tr><th scope=row>20</th><td>164</td><td>4</td><td>4</td><td>control</td></tr>\n",
              "\t<tr><th scope=row>21</th><td> 56</td><td>0</td><td>5</td><td>control</td></tr>\n",
              "\t<tr><th scope=row>22</th><td> 81</td><td>1</td><td>5</td><td>control</td></tr>\n",
              "\t<tr><th scope=row>23</th><td>104</td><td>2</td><td>5</td><td>control</td></tr>\n",
              "\t<tr><th scope=row>24</th><td>121</td><td>3</td><td>5</td><td>control</td></tr>\n",
              "\t<tr><th scope=row>25</th><td>151</td><td>4</td><td>5</td><td>control</td></tr>\n",
              "\t<tr><th scope=row>26</th><td> 46</td><td>0</td><td>6</td><td>control</td></tr>\n",
              "\t<tr><th scope=row>27</th><td> 70</td><td>1</td><td>6</td><td>control</td></tr>\n",
              "\t<tr><th scope=row>28</th><td>102</td><td>2</td><td>6</td><td>control</td></tr>\n",
              "\t<tr><th scope=row>29</th><td>131</td><td>3</td><td>6</td><td>control</td></tr>\n",
              "\t<tr><th scope=row>30</th><td>153</td><td>4</td><td>6</td><td>control</td></tr>\n",
              "\t<tr><th scope=row>⋮</th><td>⋮</td><td>⋮</td><td>⋮</td><td>⋮</td></tr>\n",
              "\t<tr><th scope=row>106</th><td> 51</td><td>0</td><td>22</td><td>thiouracil</td></tr>\n",
              "\t<tr><th scope=row>107</th><td> 75</td><td>1</td><td>22</td><td>thiouracil</td></tr>\n",
              "\t<tr><th scope=row>108</th><td>101</td><td>2</td><td>22</td><td>thiouracil</td></tr>\n",
              "\t<tr><th scope=row>109</th><td>123</td><td>3</td><td>22</td><td>thiouracil</td></tr>\n",
              "\t<tr><th scope=row>110</th><td>140</td><td>4</td><td>22</td><td>thiouracil</td></tr>\n",
              "\t<tr><th scope=row>111</th><td> 51</td><td>0</td><td>23</td><td>thiouracil</td></tr>\n",
              "\t<tr><th scope=row>112</th><td> 75</td><td>1</td><td>23</td><td>thiouracil</td></tr>\n",
              "\t<tr><th scope=row>113</th><td> 92</td><td>2</td><td>23</td><td>thiouracil</td></tr>\n",
              "\t<tr><th scope=row>114</th><td>100</td><td>3</td><td>23</td><td>thiouracil</td></tr>\n",
              "\t<tr><th scope=row>115</th><td>119</td><td>4</td><td>23</td><td>thiouracil</td></tr>\n",
              "\t<tr><th scope=row>116</th><td> 56</td><td>0</td><td>24</td><td>thiouracil</td></tr>\n",
              "\t<tr><th scope=row>117</th><td> 78</td><td>1</td><td>24</td><td>thiouracil</td></tr>\n",
              "\t<tr><th scope=row>118</th><td> 95</td><td>2</td><td>24</td><td>thiouracil</td></tr>\n",
              "\t<tr><th scope=row>119</th><td>103</td><td>3</td><td>24</td><td>thiouracil</td></tr>\n",
              "\t<tr><th scope=row>120</th><td>108</td><td>4</td><td>24</td><td>thiouracil</td></tr>\n",
              "\t<tr><th scope=row>121</th><td> 58</td><td>0</td><td>25</td><td>thiouracil</td></tr>\n",
              "\t<tr><th scope=row>122</th><td> 69</td><td>1</td><td>25</td><td>thiouracil</td></tr>\n",
              "\t<tr><th scope=row>123</th><td> 93</td><td>2</td><td>25</td><td>thiouracil</td></tr>\n",
              "\t<tr><th scope=row>124</th><td>116</td><td>3</td><td>25</td><td>thiouracil</td></tr>\n",
              "\t<tr><th scope=row>125</th><td>140</td><td>4</td><td>25</td><td>thiouracil</td></tr>\n",
              "\t<tr><th scope=row>126</th><td> 46</td><td>0</td><td>26</td><td>thiouracil</td></tr>\n",
              "\t<tr><th scope=row>127</th><td> 61</td><td>1</td><td>26</td><td>thiouracil</td></tr>\n",
              "\t<tr><th scope=row>128</th><td> 78</td><td>2</td><td>26</td><td>thiouracil</td></tr>\n",
              "\t<tr><th scope=row>129</th><td> 90</td><td>3</td><td>26</td><td>thiouracil</td></tr>\n",
              "\t<tr><th scope=row>130</th><td>107</td><td>4</td><td>26</td><td>thiouracil</td></tr>\n",
              "\t<tr><th scope=row>131</th><td> 53</td><td>0</td><td>27</td><td>thiouracil</td></tr>\n",
              "\t<tr><th scope=row>132</th><td> 72</td><td>1</td><td>27</td><td>thiouracil</td></tr>\n",
              "\t<tr><th scope=row>133</th><td> 89</td><td>2</td><td>27</td><td>thiouracil</td></tr>\n",
              "\t<tr><th scope=row>134</th><td>104</td><td>3</td><td>27</td><td>thiouracil</td></tr>\n",
              "\t<tr><th scope=row>135</th><td>122</td><td>4</td><td>27</td><td>thiouracil</td></tr>\n",
              "</tbody>\n",
              "</table>\n"
            ],
            "text/markdown": "\nA data.frame: 135 × 4\n\n| <!--/--> | wt &lt;dbl&gt; | weeks &lt;int&gt; | subject &lt;fct&gt; | treat &lt;fct&gt; |\n|---|---|---|---|---|\n| 1 |  57 | 0 | 1 | control |\n| 2 |  86 | 1 | 1 | control |\n| 3 | 114 | 2 | 1 | control |\n| 4 | 139 | 3 | 1 | control |\n| 5 | 172 | 4 | 1 | control |\n| 6 |  60 | 0 | 2 | control |\n| 7 |  93 | 1 | 2 | control |\n| 8 | 123 | 2 | 2 | control |\n| 9 | 146 | 3 | 2 | control |\n| 10 | 177 | 4 | 2 | control |\n| 11 |  52 | 0 | 3 | control |\n| 12 |  77 | 1 | 3 | control |\n| 13 | 111 | 2 | 3 | control |\n| 14 | 144 | 3 | 3 | control |\n| 15 | 185 | 4 | 3 | control |\n| 16 |  49 | 0 | 4 | control |\n| 17 |  67 | 1 | 4 | control |\n| 18 | 100 | 2 | 4 | control |\n| 19 | 129 | 3 | 4 | control |\n| 20 | 164 | 4 | 4 | control |\n| 21 |  56 | 0 | 5 | control |\n| 22 |  81 | 1 | 5 | control |\n| 23 | 104 | 2 | 5 | control |\n| 24 | 121 | 3 | 5 | control |\n| 25 | 151 | 4 | 5 | control |\n| 26 |  46 | 0 | 6 | control |\n| 27 |  70 | 1 | 6 | control |\n| 28 | 102 | 2 | 6 | control |\n| 29 | 131 | 3 | 6 | control |\n| 30 | 153 | 4 | 6 | control |\n| ⋮ | ⋮ | ⋮ | ⋮ | ⋮ |\n| 106 |  51 | 0 | 22 | thiouracil |\n| 107 |  75 | 1 | 22 | thiouracil |\n| 108 | 101 | 2 | 22 | thiouracil |\n| 109 | 123 | 3 | 22 | thiouracil |\n| 110 | 140 | 4 | 22 | thiouracil |\n| 111 |  51 | 0 | 23 | thiouracil |\n| 112 |  75 | 1 | 23 | thiouracil |\n| 113 |  92 | 2 | 23 | thiouracil |\n| 114 | 100 | 3 | 23 | thiouracil |\n| 115 | 119 | 4 | 23 | thiouracil |\n| 116 |  56 | 0 | 24 | thiouracil |\n| 117 |  78 | 1 | 24 | thiouracil |\n| 118 |  95 | 2 | 24 | thiouracil |\n| 119 | 103 | 3 | 24 | thiouracil |\n| 120 | 108 | 4 | 24 | thiouracil |\n| 121 |  58 | 0 | 25 | thiouracil |\n| 122 |  69 | 1 | 25 | thiouracil |\n| 123 |  93 | 2 | 25 | thiouracil |\n| 124 | 116 | 3 | 25 | thiouracil |\n| 125 | 140 | 4 | 25 | thiouracil |\n| 126 |  46 | 0 | 26 | thiouracil |\n| 127 |  61 | 1 | 26 | thiouracil |\n| 128 |  78 | 2 | 26 | thiouracil |\n| 129 |  90 | 3 | 26 | thiouracil |\n| 130 | 107 | 4 | 26 | thiouracil |\n| 131 |  53 | 0 | 27 | thiouracil |\n| 132 |  72 | 1 | 27 | thiouracil |\n| 133 |  89 | 2 | 27 | thiouracil |\n| 134 | 104 | 3 | 27 | thiouracil |\n| 135 | 122 | 4 | 27 | thiouracil |\n\n",
            "text/latex": "A data.frame: 135 × 4\n\\begin{tabular}{r|llll}\n  & wt & weeks & subject & treat\\\\\n  & <dbl> & <int> & <fct> & <fct>\\\\\n\\hline\n\t1 &  57 & 0 & 1 & control\\\\\n\t2 &  86 & 1 & 1 & control\\\\\n\t3 & 114 & 2 & 1 & control\\\\\n\t4 & 139 & 3 & 1 & control\\\\\n\t5 & 172 & 4 & 1 & control\\\\\n\t6 &  60 & 0 & 2 & control\\\\\n\t7 &  93 & 1 & 2 & control\\\\\n\t8 & 123 & 2 & 2 & control\\\\\n\t9 & 146 & 3 & 2 & control\\\\\n\t10 & 177 & 4 & 2 & control\\\\\n\t11 &  52 & 0 & 3 & control\\\\\n\t12 &  77 & 1 & 3 & control\\\\\n\t13 & 111 & 2 & 3 & control\\\\\n\t14 & 144 & 3 & 3 & control\\\\\n\t15 & 185 & 4 & 3 & control\\\\\n\t16 &  49 & 0 & 4 & control\\\\\n\t17 &  67 & 1 & 4 & control\\\\\n\t18 & 100 & 2 & 4 & control\\\\\n\t19 & 129 & 3 & 4 & control\\\\\n\t20 & 164 & 4 & 4 & control\\\\\n\t21 &  56 & 0 & 5 & control\\\\\n\t22 &  81 & 1 & 5 & control\\\\\n\t23 & 104 & 2 & 5 & control\\\\\n\t24 & 121 & 3 & 5 & control\\\\\n\t25 & 151 & 4 & 5 & control\\\\\n\t26 &  46 & 0 & 6 & control\\\\\n\t27 &  70 & 1 & 6 & control\\\\\n\t28 & 102 & 2 & 6 & control\\\\\n\t29 & 131 & 3 & 6 & control\\\\\n\t30 & 153 & 4 & 6 & control\\\\\n\t⋮ & ⋮ & ⋮ & ⋮ & ⋮\\\\\n\t106 &  51 & 0 & 22 & thiouracil\\\\\n\t107 &  75 & 1 & 22 & thiouracil\\\\\n\t108 & 101 & 2 & 22 & thiouracil\\\\\n\t109 & 123 & 3 & 22 & thiouracil\\\\\n\t110 & 140 & 4 & 22 & thiouracil\\\\\n\t111 &  51 & 0 & 23 & thiouracil\\\\\n\t112 &  75 & 1 & 23 & thiouracil\\\\\n\t113 &  92 & 2 & 23 & thiouracil\\\\\n\t114 & 100 & 3 & 23 & thiouracil\\\\\n\t115 & 119 & 4 & 23 & thiouracil\\\\\n\t116 &  56 & 0 & 24 & thiouracil\\\\\n\t117 &  78 & 1 & 24 & thiouracil\\\\\n\t118 &  95 & 2 & 24 & thiouracil\\\\\n\t119 & 103 & 3 & 24 & thiouracil\\\\\n\t120 & 108 & 4 & 24 & thiouracil\\\\\n\t121 &  58 & 0 & 25 & thiouracil\\\\\n\t122 &  69 & 1 & 25 & thiouracil\\\\\n\t123 &  93 & 2 & 25 & thiouracil\\\\\n\t124 & 116 & 3 & 25 & thiouracil\\\\\n\t125 & 140 & 4 & 25 & thiouracil\\\\\n\t126 &  46 & 0 & 26 & thiouracil\\\\\n\t127 &  61 & 1 & 26 & thiouracil\\\\\n\t128 &  78 & 2 & 26 & thiouracil\\\\\n\t129 &  90 & 3 & 26 & thiouracil\\\\\n\t130 & 107 & 4 & 26 & thiouracil\\\\\n\t131 &  53 & 0 & 27 & thiouracil\\\\\n\t132 &  72 & 1 & 27 & thiouracil\\\\\n\t133 &  89 & 2 & 27 & thiouracil\\\\\n\t134 & 104 & 3 & 27 & thiouracil\\\\\n\t135 & 122 & 4 & 27 & thiouracil\\\\\n\\end{tabular}\n",
            "text/plain": [
              "    wt  weeks subject treat     \n",
              "1    57 0     1       control   \n",
              "2    86 1     1       control   \n",
              "3   114 2     1       control   \n",
              "4   139 3     1       control   \n",
              "5   172 4     1       control   \n",
              "6    60 0     2       control   \n",
              "7    93 1     2       control   \n",
              "8   123 2     2       control   \n",
              "9   146 3     2       control   \n",
              "10  177 4     2       control   \n",
              "11   52 0     3       control   \n",
              "12   77 1     3       control   \n",
              "13  111 2     3       control   \n",
              "14  144 3     3       control   \n",
              "15  185 4     3       control   \n",
              "16   49 0     4       control   \n",
              "17   67 1     4       control   \n",
              "18  100 2     4       control   \n",
              "19  129 3     4       control   \n",
              "20  164 4     4       control   \n",
              "21   56 0     5       control   \n",
              "22   81 1     5       control   \n",
              "23  104 2     5       control   \n",
              "24  121 3     5       control   \n",
              "25  151 4     5       control   \n",
              "26   46 0     6       control   \n",
              "27   70 1     6       control   \n",
              "28  102 2     6       control   \n",
              "29  131 3     6       control   \n",
              "30  153 4     6       control   \n",
              "⋮   ⋮   ⋮     ⋮       ⋮         \n",
              "106  51 0     22      thiouracil\n",
              "107  75 1     22      thiouracil\n",
              "108 101 2     22      thiouracil\n",
              "109 123 3     22      thiouracil\n",
              "110 140 4     22      thiouracil\n",
              "111  51 0     23      thiouracil\n",
              "112  75 1     23      thiouracil\n",
              "113  92 2     23      thiouracil\n",
              "114 100 3     23      thiouracil\n",
              "115 119 4     23      thiouracil\n",
              "116  56 0     24      thiouracil\n",
              "117  78 1     24      thiouracil\n",
              "118  95 2     24      thiouracil\n",
              "119 103 3     24      thiouracil\n",
              "120 108 4     24      thiouracil\n",
              "121  58 0     25      thiouracil\n",
              "122  69 1     25      thiouracil\n",
              "123  93 2     25      thiouracil\n",
              "124 116 3     25      thiouracil\n",
              "125 140 4     25      thiouracil\n",
              "126  46 0     26      thiouracil\n",
              "127  61 1     26      thiouracil\n",
              "128  78 2     26      thiouracil\n",
              "129  90 3     26      thiouracil\n",
              "130 107 4     26      thiouracil\n",
              "131  53 0     27      thiouracil\n",
              "132  72 1     27      thiouracil\n",
              "133  89 2     27      thiouracil\n",
              "134 104 3     27      thiouracil\n",
              "135 122 4     27      thiouracil"
            ]
          },
          "metadata": {}
        }
      ]
    },
    {
      "cell_type": "code",
      "source": [
        "summary(lm(mpg ~ ., data=mtcars))"
      ],
      "metadata": {
        "colab": {
          "base_uri": "https://localhost:8080/",
          "height": 486
        },
        "id": "gy8K4JcouzOC",
        "outputId": "bdfbfa23-da9c-4ece-99a8-4e1263356957"
      },
      "execution_count": null,
      "outputs": [
        {
          "output_type": "display_data",
          "data": {
            "text/plain": [
              "\n",
              "Call:\n",
              "lm(formula = mpg ~ ., data = mtcars)\n",
              "\n",
              "Residuals:\n",
              "    Min      1Q  Median      3Q     Max \n",
              "-3.4506 -1.6044 -0.1196  1.2193  4.6271 \n",
              "\n",
              "Coefficients:\n",
              "            Estimate Std. Error t value Pr(>|t|)  \n",
              "(Intercept) 12.30337   18.71788   0.657   0.5181  \n",
              "cyl         -0.11144    1.04502  -0.107   0.9161  \n",
              "disp         0.01334    0.01786   0.747   0.4635  \n",
              "hp          -0.02148    0.02177  -0.987   0.3350  \n",
              "drat         0.78711    1.63537   0.481   0.6353  \n",
              "wt          -3.71530    1.89441  -1.961   0.0633 .\n",
              "qsec         0.82104    0.73084   1.123   0.2739  \n",
              "vs           0.31776    2.10451   0.151   0.8814  \n",
              "am           2.52023    2.05665   1.225   0.2340  \n",
              "gear         0.65541    1.49326   0.439   0.6652  \n",
              "carb        -0.19942    0.82875  -0.241   0.8122  \n",
              "---\n",
              "Signif. codes:  0 ‘***’ 0.001 ‘**’ 0.01 ‘*’ 0.05 ‘.’ 0.1 ‘ ’ 1\n",
              "\n",
              "Residual standard error: 2.65 on 21 degrees of freedom\n",
              "Multiple R-squared:  0.869,\tAdjusted R-squared:  0.8066 \n",
              "F-statistic: 13.93 on 10 and 21 DF,  p-value: 3.793e-07\n"
            ]
          },
          "metadata": {}
        }
      ]
    },
    {
      "cell_type": "code",
      "source": [],
      "metadata": {
        "id": "SqgJ4zgfu7K_"
      },
      "execution_count": null,
      "outputs": []
    }
  ]
}