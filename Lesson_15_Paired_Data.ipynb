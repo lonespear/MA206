{
  "nbformat": 4,
  "nbformat_minor": 0,
  "metadata": {
    "colab": {
      "provenance": [],
      "authorship_tag": "ABX9TyNlT5aCUn0ycZmDE9ugIlkH",
      "include_colab_link": true
    },
    "kernelspec": {
      "name": "ir",
      "display_name": "R"
    },
    "language_info": {
      "name": "R"
    }
  },
  "cells": [
    {
      "cell_type": "markdown",
      "metadata": {
        "id": "view-in-github",
        "colab_type": "text"
      },
      "source": [
        "<a href=\"https://colab.research.google.com/github/lonespear/MA206/blob/main/Lesson_15_Paired_Data.ipynb\" target=\"_parent\"><img src=\"https://colab.research.google.com/assets/colab-badge.svg\" alt=\"Open In Colab\"/></a>"
      ]
    },
    {
      "cell_type": "code",
      "execution_count": 10,
      "metadata": {
        "colab": {
          "base_uri": "https://localhost:8080/"
        },
        "id": "NdNccrVjssO4",
        "outputId": "caa27a7e-f000-4575-8f75-c06f377942ba"
      },
      "outputs": [
        {
          "output_type": "stream",
          "name": "stderr",
          "text": [
            "\u001b[1mRows: \u001b[22m\u001b[34m50\u001b[39m \u001b[1mColumns: \u001b[22m\u001b[34m3\u001b[39m\n",
            "\u001b[36m──\u001b[39m \u001b[1mColumn specification\u001b[22m \u001b[36m────────────────────────────────────────────────────────\u001b[39m\n",
            "\u001b[1mDelimiter:\u001b[22m \",\"\n",
            "\u001b[31mchr\u001b[39m (1): Surface\n",
            "\u001b[32mdbl\u001b[39m (2): participant_f, Sled\n",
            "\n",
            "\u001b[36mℹ\u001b[39m Use `spec()` to retrieve the full column specification for this data.\n",
            "\u001b[36mℹ\u001b[39m Specify the column types or set `show_col_types = FALSE` to quiet this message.\n",
            "\u001b[1mRows: \u001b[22m\u001b[34m25\u001b[39m \u001b[1mColumns: \u001b[22m\u001b[34m3\u001b[39m\n",
            "\u001b[36m──\u001b[39m \u001b[1mColumn specification\u001b[22m \u001b[36m────────────────────────────────────────────────────────\u001b[39m\n",
            "\u001b[1mDelimiter:\u001b[22m \",\"\n",
            "\u001b[32mdbl\u001b[39m (3): participant_f, sled_S, sled_G\n",
            "\n",
            "\u001b[36mℹ\u001b[39m Use `spec()` to retrieve the full column specification for this data.\n",
            "\u001b[36mℹ\u001b[39m Specify the column types or set `show_col_types = FALSE` to quiet this message.\n",
            "\u001b[1mRows: \u001b[22m\u001b[34m50\u001b[39m \u001b[1mColumns: \u001b[22m\u001b[34m3\u001b[39m\n",
            "\u001b[36m──\u001b[39m \u001b[1mColumn specification\u001b[22m \u001b[36m────────────────────────────────────────────────────────\u001b[39m\n",
            "\u001b[1mDelimiter:\u001b[22m \",\"\n",
            "\u001b[31mchr\u001b[39m (1): Twin_Pair_ID\n",
            "\u001b[32mdbl\u001b[39m (2): Memory_Recall_Twin_A, Memory_Recall_Twin_B\n",
            "\n",
            "\u001b[36mℹ\u001b[39m Use `spec()` to retrieve the full column specification for this data.\n",
            "\u001b[36mℹ\u001b[39m Specify the column types or set `show_col_types = FALSE` to quiet this message.\n"
          ]
        }
      ],
      "source": [
        "library(tidyverse)\n",
        "set.seed(1991)\n",
        "n = 25\n",
        "X1 = rnorm(n, 105, 25)\n",
        "X2 = rnorm(n, 130, 40)\n",
        "sdc = data.frame(\"part\"=c(seq(1,n), seq(1,n)),\"time\" = c(X1, X2), \"surface\"=c(rep(\"grass\", n),rep(\"sand\",n)))\n",
        "sled <- read_csv(\"https://raw.githubusercontent.com/lonespear/MA206/main/sled_times.csv\")\n",
        "sled_paired <- read_csv(\"https://raw.githubusercontent.com/lonespear/MA206/main/sled_times_paired.csv\")\n",
        "twins <- read_csv(\"https://raw.githubusercontent.com/lonespear/MA206/main/twin_recall.csv\")\n"
      ]
    },
    {
      "cell_type": "markdown",
      "source": [
        "### Compare the two means using `sled` to test a difference between surfaces."
      ],
      "metadata": {
        "id": "KeT7B3gwvQ59"
      }
    }
  ]
}