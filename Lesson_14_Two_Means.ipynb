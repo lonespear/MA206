{
  "nbformat": 4,
  "nbformat_minor": 0,
  "metadata": {
    "colab": {
      "provenance": [],
      "authorship_tag": "ABX9TyP0vN9Ej29EyLz+tYCUlvB+",
      "include_colab_link": true
    },
    "kernelspec": {
      "name": "ir",
      "display_name": "R"
    },
    "language_info": {
      "name": "R"
    }
  },
  "cells": [
    {
      "cell_type": "markdown",
      "metadata": {
        "id": "view-in-github",
        "colab_type": "text"
      },
      "source": [
        "<a href=\"https://colab.research.google.com/github/lonespear/MA206/blob/main/Lesson_14_Two_Means.ipynb\" target=\"_parent\"><img src=\"https://colab.research.google.com/assets/colab-badge.svg\" alt=\"Open In Colab\"/></a>"
      ]
    },
    {
      "cell_type": "code",
      "source": [
        "install.packages('tidyverse')"
      ],
      "metadata": {
        "id": "HcPqcJP7ZA8W"
      },
      "execution_count": null,
      "outputs": []
    },
    {
      "cell_type": "code",
      "execution_count": null,
      "metadata": {
        "id": "nUFf-2OXYhZB"
      },
      "outputs": [],
      "source": [
        "library(tidyverse)\n",
        "wbc <- read_csv(\"https://raw.githubusercontent.com/lonespear/MA206/main/wisconsin_breast_cancer.csv\")\n",
        "ranger <- read_csv(\"https://raw.githubusercontent.com/lonespear/MA206/main/ranger_school.csv\")\n",
        "wcgs <- read_csv(\"https://raw.githubusercontent.com/lonespear/MA206/main/wcgs.csv\")"
      ]
    },
    {
      "cell_type": "markdown",
      "source": [
        "# Lesson 14: Two Means and the Two-Sample T-Test\n",
        "\n",
        "Last lesson we discussed how to compare two proportions to test for a significant difference.\n",
        "\n",
        "Today we will extend this to quantitative variables building from our knowledge of the one-sample t-test.\n",
        "\n",
        "### 1. Ask a research question\n",
        "*For example:* Is there a difference in the mean 12-mile ruck time for someone who passes Ranger School compared to someone who did not?\n",
        "\n",
        "### 2. Write your null and alternative hypotheses:\n",
        "Let $\\mu_1$ be the mean ruck time for those who **pass** Ranger School, and $ \\mu_2$ be the mean ruck time for those who **fail**.\n",
        "\n",
        "- **Null Hypothesis $H_0$**: $ \\mu_1 - \\mu_2 = 0 $ (No difference in mean ruck times)\n",
        "- **Alternative Hypothesis $H_A$**: $ \\mu_1 - \\mu_2 \\neq 0 $ (There is a difference in mean ruck times)\n",
        "\n",
        "### 3. Explore the data and find your observed statistics:\n",
        "We will use the difference in our sample means as our observed statistic.\n",
        "\n",
        "- **Observed Statistic**:\n",
        "  $\\bar{x}_1 - \\bar{x}_2$\n",
        "- **Standardize your Observed Statistic**: $ t = \\frac{(\\bar{x}_1 - \\bar{x}_2) - \\mu_{null}}{SD_{null}} $\n",
        "\n",
        "In our hypothesis statements we are assuming no diffference, so $\\mu_0 = 0$. The formula for standard deviation of our null distribution is $ \\sqrt{\\frac{s_1^2}{n_1^2} + \\frac{s_2^2}{n_1^2}} $.\n",
        "\n",
        "Putting that all together our standardized statistic becomes:\n",
        "\n",
        "$$\n",
        " t = \\frac{(\\bar{x}_1 - \\bar{x}_2)}{\\sqrt{\\frac{s_1^2}{n_1^2} + \\frac{s_2^2}{n_1^2}}}\n",
        "$$\n",
        "\n",
        "### 4. Interpret your strength of evidence:\n",
        " We obtain a p-value the same way as in a one-sample t-test. We have converted our observed statistic into a standardized value that is in units of standard deviations away from the null distribution.\n",
        "\n",
        "For a two-sided hypothesis test like this example is using:\n",
        "\n",
        "$$\n",
        "\\begin{align*}\n",
        "p-value &= 2 \\cdot \\mathbb{P}(T > |t|) = 2 \\cdot \\int_{|t|}^\\infty f_T(x) dx \\\\\n",
        "&= 2 \\cdot (1 - pt(|t|)) \\ \\ \\ \\ \\text{R code}\n",
        "\\end{align*}\n",
        "$$\n",
        "\n",
        "### On Confidence Intervals:\n",
        "For a difference in means we use the same basic formula as the other three tests, except using our observed statistic for this test, the difference of sample means, and the respective SE formula which is identical to the $SD_{NULL}$ like in the one-sample t-test:\n",
        "\n",
        "$$\n",
        "\\begin{align*}\n",
        "\\text{Statistic} &\\pm \\text{Margin of Error} \\\\\n",
        "\\text{Statistic} &\\pm M \\cdot SE \\\\\n",
        "(\\bar{x}_1 - \\bar{x}_2) &\\pm t_{n-2, 1-\\alpha/2} \\cdot \\sqrt{\\frac{s_1^2}{n_1^2} + \\frac{s_2^2}{n_1^2}}\n",
        "\\end{align*}\n",
        "$$\n",
        "\n",
        "The \"M\" (multiplier) turned into the critical value for the t-distribution at the respective $\\alpha$-level of significane. The R-code you will use for this is `qt(1-sig_level/2, n-2)`. Notice the degrees of freedom (df) is no longer (n-1). This is due to us having to estimate another parameter in our standard deviation calculation, (ie we are estimating two variances now whereas before we were only estimating one)."
      ],
      "metadata": {
        "id": "xl4fRTNKt9XZ"
      }
    },
    {
      "cell_type": "markdown",
      "source": [
        "## Example 1: Ranger School Success and 12 Mile Ruck Times\n",
        "\n",
        "We have a dataset of a ranger school class that started RAP week together, and aggregated all phyiscal performance stats they had prior to attending from their unit. The last column is whether they passed or failed (Binary) encoded as a `1` or a `0`."
      ],
      "metadata": {
        "id": "41P-mRJQCHZ0"
      }
    },
    {
      "cell_type": "code",
      "source": [
        "ranger %>% head"
      ],
      "metadata": {
        "id": "wZ9u5kw_CGNH"
      },
      "execution_count": null,
      "outputs": []
    },
    {
      "cell_type": "markdown",
      "source": [
        "Let's visualize their ruck times in a histogram categorized by pass/fail."
      ],
      "metadata": {
        "id": "89LBTgwyCkU3"
      }
    },
    {
      "cell_type": "code",
      "source": [
        "ranger %>% ggplot(aes(x=ruck_min)) + geom_histogram() + facet_grid(Ranger_tab ~ .) + theme_minimal()"
      ],
      "metadata": {
        "id": "Zv-FvmujgIsk"
      },
      "execution_count": null,
      "outputs": []
    },
    {
      "cell_type": "markdown",
      "source": [
        "Questions may arise about skewness and indeed they are well received. If this is the only data we have on hand this needs to be mentioned in our conclusions from conducting a two-sample test. Remember, with larger sample sizes by the Central Limit Theorem our distribution of sample means will still achieve normality, so a two-sample test could still be used in those circumstances. But how large is large remains the question to be answered. In practice, if I am worried about validity conditions, I would use a non-parametric approach however this is beyond the scope of the course.\n",
        "\n",
        "### Find our observed statistic:"
      ],
      "metadata": {
        "id": "pMEy4xx7DZzv"
      }
    },
    {
      "cell_type": "code",
      "source": [
        "ranger %>%\n",
        "  group_by(Ranger_tab) %>%\n",
        "  summarize(mean = mean(ruck_min),\n",
        "            s = sd(ruck_min),\n",
        "            n = n())"
      ],
      "metadata": {
        "id": "W-ZcFG0zEjwu"
      },
      "execution_count": null,
      "outputs": []
    },
    {
      "cell_type": "markdown",
      "source": [
        "**VALIDITY CONDITIONS FOR A TWO-SAMPLE T-TEST ARE THERE ARE 20 OBSERVATIONS IN EACH GROUP AND THE DATA IS NOT STRONGLY SKEWED**\n",
        "\n",
        "From the above I have everything I need to execute the two-sample t-test:"
      ],
      "metadata": {
        "id": "z_9ZU6QaE_yS"
      }
    },
    {
      "cell_type": "code",
      "source": [
        "null = 0      #Enter the value of your Null Hypothesis Parameter\n",
        "xbar_1 = 170.64    # sample mean of group 1\n",
        "xbar_2 = 140.69   # sample mean of group 2\n",
        "s_1 =  34.28     # sample standard deviation of group 1\n",
        "s_2 = 24.289      # sample standard deviation of group 2\n",
        "n_1 =  198     # sample size of group 1\n",
        "n_2 =  91     # sample size of group 2\n",
        "n = n_1 + n_2   # total sample size\n",
        "diff = xbar_1 - xbar_2\n",
        "sd = sqrt(s_1^2/n_1 + s_2^2/n_2)\n",
        "t = (diff-null)/sd   ; t # standardized statistic"
      ],
      "metadata": {
        "id": "zpgj3pmqFPnc"
      },
      "execution_count": null,
      "outputs": []
    },
    {
      "cell_type": "code",
      "source": [
        "pvalue = 2*(1-pt(abs(t), n-2)) ; pvalue"
      ],
      "metadata": {
        "id": "aEO_j5ZWFnJS"
      },
      "execution_count": null,
      "outputs": []
    },
    {
      "cell_type": "code",
      "source": [
        "siglevel = 0.05             #Enter your significance level (alpha)\n",
        "multiplier = qt(1-siglevel/2, n-2)\n",
        "se = sqrt(s_1^2/n_1 + s_2^2/n_2) # standard error\n",
        "CI = c(diff-multiplier*se, diff+multiplier*se) ; CI # confidence interval"
      ],
      "metadata": {
        "id": "eP4n2bUfFp6h"
      },
      "execution_count": null,
      "outputs": []
    },
    {
      "cell_type": "markdown",
      "source": [
        "**Conclusion** \\\\\n",
        "With a p-value of 1.11e-15 we have extremely strong evidence to reject the null hypothesis that there is no difference in average ruck times for those that pass and fail ranger school. We are 95% confident the true difference in ruck times for those that pass and fail ranger school is between (23.01, 36.89) minutes."
      ],
      "metadata": {
        "id": "Lax5hLP1Ft3T"
      }
    },
    {
      "cell_type": "markdown",
      "source": [
        "### Example 1.1: You try\n",
        "With a partner, test if there is a significant difference in the average height of a ranger student that passes and fails ranger school."
      ],
      "metadata": {
        "id": "bQ6J6iUxGprB"
      }
    },
    {
      "cell_type": "markdown",
      "source": [
        "Write your hypotheses statements:\n",
        "\n",
        "$H_0$:\n",
        "\n",
        "$H_A$:"
      ],
      "metadata": {
        "id": "Ri6KDa9dHHO8"
      }
    },
    {
      "cell_type": "markdown",
      "source": [
        "1. Visualize the data you are going to test"
      ],
      "metadata": {
        "id": "p9iP-TSaHB69"
      }
    },
    {
      "cell_type": "code",
      "source": [],
      "metadata": {
        "id": "Kmf5MVFoG-rD"
      },
      "execution_count": null,
      "outputs": []
    },
    {
      "cell_type": "markdown",
      "source": [
        "2. Tabulate the data to calculate your summary statistics"
      ],
      "metadata": {
        "id": "xj4fC2fMHTW-"
      }
    },
    {
      "cell_type": "code",
      "source": [],
      "metadata": {
        "id": "vzkfDQgSG-kJ"
      },
      "execution_count": null,
      "outputs": []
    },
    {
      "cell_type": "markdown",
      "source": [
        "3. Find your t-statistic"
      ],
      "metadata": {
        "id": "VY7KsAqTHXXp"
      }
    },
    {
      "cell_type": "code",
      "source": [],
      "metadata": {
        "id": "rNPy5qTGG-eb"
      },
      "execution_count": null,
      "outputs": []
    },
    {
      "cell_type": "markdown",
      "source": [
        "4. Find your p-value"
      ],
      "metadata": {
        "id": "KAgjG7VjHZim"
      }
    },
    {
      "cell_type": "code",
      "source": [],
      "metadata": {
        "id": "RcNNSa2sHefO"
      },
      "execution_count": null,
      "outputs": []
    },
    {
      "cell_type": "markdown",
      "source": [
        "5. Create a confidence interval"
      ],
      "metadata": {
        "id": "okNQ8NFMHb9c"
      }
    },
    {
      "cell_type": "code",
      "source": [],
      "metadata": {
        "id": "k-l8CP5lHe5Q"
      },
      "execution_count": null,
      "outputs": []
    },
    {
      "cell_type": "markdown",
      "source": [
        "**State your conclusions:**"
      ],
      "metadata": {
        "id": "EUqSccVbHfZ6"
      }
    },
    {
      "cell_type": "markdown",
      "source": [],
      "metadata": {
        "id": "I2FWwphmHlVY"
      }
    },
    {
      "cell_type": "markdown",
      "source": [
        "## Example 2: Coronary Heart Disease and Cholesterol\n",
        "\n",
        "Heart disease is the leading cause of death in the country. An attributing factor is high cholesterol. Let us investigate the following dataset `wcgs` and test the significance between average cholesterol levels between patients with and without CHD."
      ],
      "metadata": {
        "id": "xXdv9L0RGiRD"
      }
    },
    {
      "cell_type": "markdown",
      "source": [],
      "metadata": {
        "id": "OKt5uO90IT7b"
      }
    },
    {
      "cell_type": "code",
      "source": [
        "wcgs %>% ggplot(aes(x=chol)) + geom_histogram(bins=30) + facet_grid(chd ~ .)"
      ],
      "metadata": {
        "id": "dGDPv8UygKmk"
      },
      "execution_count": null,
      "outputs": []
    },
    {
      "cell_type": "markdown",
      "source": [
        "## Example 2.1 Cigarettes and CHD\n",
        "\n",
        "Test whether the average number of cigarettes smoked per ______(figure out the units of `cigs` by typing `help(wcgs)`) is significantly different from people with CHD and people without CHD."
      ],
      "metadata": {
        "id": "ce5cyPVkKLtd"
      }
    },
    {
      "cell_type": "code",
      "source": [
        "wcgs %>% ggplot(aes(x=cigs)) + geom_histogram(bins=30) + facet_grid(chd ~ .)"
      ],
      "metadata": {
        "id": "AoUO6mragXb1"
      },
      "execution_count": null,
      "outputs": []
    },
    {
      "cell_type": "markdown",
      "source": [
        "## Challenge: Wisconsin Breast Cancer Dataset\n",
        "\n",
        "The `wbc` is a well known breast cancer dataset that describes many benign and malignant tumors studied in the breast."
      ],
      "metadata": {
        "id": "Ho1C2lQfLIUF"
      }
    },
    {
      "cell_type": "code",
      "source": [
        "wbc %>% head"
      ],
      "metadata": {
        "id": "SXaakMRyKqU8"
      },
      "execution_count": null,
      "outputs": []
    },
    {
      "cell_type": "markdown",
      "source": [
        "Use the below visualization to identify a variable that may appear different based on malignant vs. benign."
      ],
      "metadata": {
        "id": "0hZ7SvewOmDy"
      }
    },
    {
      "cell_type": "code",
      "source": [
        "options(repr.plot.width = 16, repr.plot.height = 16)\n",
        "# Pivot the numeric variables into long format\n",
        "wbc_long <- wbc %>%\n",
        "  pivot_longer(\n",
        "    cols = where(is.numeric),\n",
        "    names_to = \"variable\",\n",
        "    values_to = \"value\"\n",
        "  )\n",
        "\n",
        "# Create the boxplot faceted by variable, with diagnosis on the x-axis\n",
        "ggplot(wbc_long, aes(x = diagnosis, y = value, fill = diagnosis)) +\n",
        "  geom_boxplot() +\n",
        "  facet_wrap(~ variable, scales = \"free_y\") +\n",
        "  labs(title = \"Boxplots of Numeric Variables by Diagnosis\",\n",
        "       x = \"Diagnosis\",\n",
        "       y = \"Value\") +\n",
        "  theme_bw() +\n",
        "  theme(legend.position = \"none\")"
      ],
      "metadata": {
        "id": "KgUXJP1pMNXK"
      },
      "execution_count": null,
      "outputs": []
    },
    {
      "cell_type": "markdown",
      "source": [
        "Formally test whether your 'hunch' is significant."
      ],
      "metadata": {
        "id": "MEAT4yxzOzCm"
      }
    },
    {
      "cell_type": "code",
      "source": [],
      "metadata": {
        "id": "G5qjBtV4O-vG"
      },
      "execution_count": null,
      "outputs": []
    }
  ]
}