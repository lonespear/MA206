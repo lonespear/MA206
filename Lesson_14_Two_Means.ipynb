{
  "nbformat": 4,
  "nbformat_minor": 0,
  "metadata": {
    "colab": {
      "provenance": [],
      "authorship_tag": "ABX9TyPdtxbuzr/nx93PQiUxkWby",
      "include_colab_link": true
    },
    "kernelspec": {
      "name": "ir",
      "display_name": "R"
    },
    "language_info": {
      "name": "R"
    }
  },
  "cells": [
    {
      "cell_type": "markdown",
      "metadata": {
        "id": "view-in-github",
        "colab_type": "text"
      },
      "source": [
        "<a href=\"https://colab.research.google.com/github/lonespear/MA206/blob/main/Lesson_14_Two_Means.ipynb\" target=\"_parent\"><img src=\"https://colab.research.google.com/assets/colab-badge.svg\" alt=\"Open In Colab\"/></a>"
      ]
    },
    {
      "cell_type": "code",
      "source": [
        "install.packages('explore')\n",
        "install.packages('faraway')"
      ],
      "metadata": {
        "colab": {
          "base_uri": "https://localhost:8080/"
        },
        "id": "HcPqcJP7ZA8W",
        "outputId": "034834b3-8a6c-4d83-f43c-3870e43dfa3f"
      },
      "execution_count": 1,
      "outputs": [
        {
          "metadata": {
            "tags": null
          },
          "name": "stderr",
          "output_type": "stream",
          "text": [
            "Installing package into ‘/usr/local/lib/R/site-library’\n",
            "(as ‘lib’ is unspecified)\n",
            "\n",
            "also installing the dependencies ‘crosstalk’, ‘lazyeval’, ‘DT’, ‘gridExtra’, ‘palmerpenguins’, ‘plotly’, ‘rpart.plot’\n",
            "\n",
            "\n",
            "Installing package into ‘/usr/local/lib/R/site-library’\n",
            "(as ‘lib’ is unspecified)\n",
            "\n",
            "also installing the dependencies ‘rbibutils’, ‘Rdpack’, ‘minqa’, ‘nloptr’, ‘reformulas’, ‘RcppEigen’, ‘lme4’\n",
            "\n",
            "\n"
          ]
        }
      ]
    },
    {
      "cell_type": "code",
      "execution_count": 4,
      "metadata": {
        "colab": {
          "base_uri": "https://localhost:8080/"
        },
        "id": "nUFf-2OXYhZB",
        "outputId": "ed688823-4b94-4830-88a5-79c42935924a"
      },
      "outputs": [
        {
          "output_type": "stream",
          "name": "stderr",
          "text": [
            "\u001b[1m\u001b[22mNew names:\n",
            "\u001b[36m•\u001b[39m `` -> `...33`\n",
            "Warning message:\n",
            "“\u001b[1m\u001b[22mOne or more parsing issues, call `problems()` on your data frame for details,\n",
            "e.g.:\n",
            "  dat <- vroom(...)\n",
            "  problems(dat)”\n",
            "\u001b[1mRows: \u001b[22m\u001b[34m568\u001b[39m \u001b[1mColumns: \u001b[22m\u001b[34m33\u001b[39m\n",
            "\u001b[36m──\u001b[39m \u001b[1mColumn specification\u001b[22m \u001b[36m────────────────────────────────────────────────────────\u001b[39m\n",
            "\u001b[1mDelimiter:\u001b[22m \",\"\n",
            "\u001b[31mchr\u001b[39m  (1): diagnosis\n",
            "\u001b[32mdbl\u001b[39m (31): id, radius_mean, texture_mean, perimeter_mean, area_mean, smoothne...\n",
            "\u001b[33mlgl\u001b[39m  (1): ...33\n",
            "\n",
            "\u001b[36mℹ\u001b[39m Use `spec()` to retrieve the full column specification for this data.\n",
            "\u001b[36mℹ\u001b[39m Specify the column types or set `show_col_types = FALSE` to quiet this message.\n",
            "\u001b[1mRows: \u001b[22m\u001b[34m289\u001b[39m \u001b[1mColumns: \u001b[22m\u001b[34m27\u001b[39m\n",
            "\u001b[36m──\u001b[39m \u001b[1mColumn specification\u001b[22m \u001b[36m────────────────────────────────────────────────────────\u001b[39m\n",
            "\u001b[1mDelimiter:\u001b[22m \",\"\n",
            "\u001b[31mchr\u001b[39m  (1): State\n",
            "\u001b[32mdbl\u001b[39m (26): Record Number, mdl_raw, mdl_points, spr_raw, spr_points, hrpu_raw,...\n",
            "\n",
            "\u001b[36mℹ\u001b[39m Use `spec()` to retrieve the full column specification for this data.\n",
            "\u001b[36mℹ\u001b[39m Specify the column types or set `show_col_types = FALSE` to quiet this message.\n"
          ]
        }
      ],
      "source": [
        "library(tidyverse)\n",
        "library(explore)\n",
        "library(faraway)\n",
        "data(wcgs)\n",
        "wbc <- read_csv(\"https://raw.githubusercontent.com/lonespear/MA206/main/wisconsin_breast_cancer.csv\")\n",
        "ranger <- read_csv(\"https://raw.githubusercontent.com/lonespear/MA206/main/ranger_school.csv\")"
      ]
    },
    {
      "cell_type": "markdown",
      "source": [
        "# Lesson 14: Two Means and the Two-Sample T-Test\n",
        "\n",
        "Last lesson we discussed how to compare two proportions to test for a significant difference.\n",
        "\n",
        "Today we will extend this to quantitative variables building from our knowledge of the one-sample t-test.\n",
        "\n",
        "### 1. Ask a research question\n",
        "Is there a difference in the mean 12-mile ruck time for someone who passes Ranger School compared to someone who did not?\n",
        "\n",
        "### 2. Write your null and alternative hypotheses:\n",
        "Let $\\mu_1$ be the mean ruck time for those who **pass** Ranger School, and $ \\mu_2$ be the mean ruck time for those who **fail**.\n",
        "\n",
        "- **Null Hypothesis $H_0$**: $ \\mu_1 - \\mu_2 = 0 $ (No difference in mean ruck times)\n",
        "- **Alternative Hypothesis $H_A$**: $ \\mu_1 - \\mu_2 \\neq 0 $ (There is a difference in mean ruck times)\n",
        "\n",
        "### 3. Explore the data and find your observed statistics:\n",
        "We will use the difference in our sample means as our observed statistic.\n",
        "\n",
        "- **Observed Statistic**:\n",
        "  $\\bar{x}_1 - \\bar{x}_2$\n",
        "- **Standardize your Observed Statistic**: $ t = \\frac{(\\bar{x}_1 - \\bar{x}_2) - \\mu_{null}}{SD_{null}} $\n",
        "\n",
        "In our hypothesis statements we are assuming no diffference, so $\\mu_0 = 0$. The formula for standard deviation of our null distribution is $ \\sqrt{\\frac{s_1^2}{n_1^2} + \\frac{s_2^2}{n_1^2}} $.\n",
        "\n",
        "Putting that all together our standardized statistic becomes:\n",
        "\n",
        "$$\n",
        " t = \\frac{(\\bar{x}_1 - \\bar{x}_2)}{\\sqrt{\\frac{s_1^2}{n_1^2} + \\frac{s_2^2}{n_1^2}}}\n",
        "$$\n",
        "\n",
        "### 4. Interpret your strength of evidence:\n",
        " We obtain a p-value the same way as in a one-sample t-test. We have converted our observed statistic into a standardized value that is in units of standard deviations away from the null distribution.\n",
        "\n",
        "For a two-sided hypothesis test like this example is using:\n",
        "\n",
        "$$\n",
        "\\begin{align*}\n",
        "p-value &= 2 \\cdot \\mathbb{P}(T > |t|) = 2 \\cdot \\int_{|t|}^\\infty f_T(x) dx \\\\\n",
        "&= 2 \\cdot (1 - pt(|t|)) \\ \\ \\ \\ \\text{R code}\n",
        "\\end{align*}\n",
        "$$\n",
        "\n",
        "\n"
      ],
      "metadata": {
        "id": "xl4fRTNKt9XZ"
      }
    },
    {
      "cell_type": "code",
      "source": [
        "wcgs %>% head"
      ],
      "metadata": {
        "colab": {
          "base_uri": "https://localhost:8080/",
          "height": 286
        },
        "id": "Zv-FvmujgIsk",
        "outputId": "7916fec7-fc1d-4aac-cdce-ee9c5bc2b850"
      },
      "execution_count": 5,
      "outputs": [
        {
          "output_type": "display_data",
          "data": {
            "text/html": [
              "<table class=\"dataframe\">\n",
              "<caption>A data.frame: 6 × 13</caption>\n",
              "<thead>\n",
              "\t<tr><th></th><th scope=col>age</th><th scope=col>height</th><th scope=col>weight</th><th scope=col>sdp</th><th scope=col>dbp</th><th scope=col>chol</th><th scope=col>behave</th><th scope=col>cigs</th><th scope=col>dibep</th><th scope=col>chd</th><th scope=col>typechd</th><th scope=col>timechd</th><th scope=col>arcus</th></tr>\n",
              "\t<tr><th></th><th scope=col>&lt;int&gt;</th><th scope=col>&lt;int&gt;</th><th scope=col>&lt;int&gt;</th><th scope=col>&lt;int&gt;</th><th scope=col>&lt;int&gt;</th><th scope=col>&lt;int&gt;</th><th scope=col>&lt;fct&gt;</th><th scope=col>&lt;int&gt;</th><th scope=col>&lt;fct&gt;</th><th scope=col>&lt;fct&gt;</th><th scope=col>&lt;fct&gt;</th><th scope=col>&lt;int&gt;</th><th scope=col>&lt;fct&gt;</th></tr>\n",
              "</thead>\n",
              "<tbody>\n",
              "\t<tr><th scope=row>1</th><td>49</td><td>73</td><td>150</td><td>110</td><td>76</td><td>225</td><td>A2</td><td>25</td><td>A</td><td>no </td><td>none    </td><td>1664</td><td>absent </td></tr>\n",
              "\t<tr><th scope=row>2</th><td>42</td><td>70</td><td>160</td><td>154</td><td>84</td><td>177</td><td>A2</td><td>20</td><td>A</td><td>no </td><td>none    </td><td>3071</td><td>present</td></tr>\n",
              "\t<tr><th scope=row>3</th><td>42</td><td>69</td><td>160</td><td>110</td><td>78</td><td>181</td><td>B3</td><td> 0</td><td>B</td><td>no </td><td>none    </td><td>3071</td><td>absent </td></tr>\n",
              "\t<tr><th scope=row>4</th><td>41</td><td>68</td><td>152</td><td>124</td><td>78</td><td>132</td><td>B4</td><td>20</td><td>B</td><td>no </td><td>none    </td><td>3064</td><td>absent </td></tr>\n",
              "\t<tr><th scope=row>5</th><td>59</td><td>70</td><td>150</td><td>144</td><td>86</td><td>255</td><td>B3</td><td>20</td><td>B</td><td>yes</td><td>infdeath</td><td>1885</td><td>present</td></tr>\n",
              "\t<tr><th scope=row>6</th><td>44</td><td>72</td><td>204</td><td>150</td><td>90</td><td>182</td><td>B4</td><td> 0</td><td>B</td><td>no </td><td>none    </td><td>3102</td><td>absent </td></tr>\n",
              "</tbody>\n",
              "</table>\n"
            ],
            "text/markdown": "\nA data.frame: 6 × 13\n\n| <!--/--> | age &lt;int&gt; | height &lt;int&gt; | weight &lt;int&gt; | sdp &lt;int&gt; | dbp &lt;int&gt; | chol &lt;int&gt; | behave &lt;fct&gt; | cigs &lt;int&gt; | dibep &lt;fct&gt; | chd &lt;fct&gt; | typechd &lt;fct&gt; | timechd &lt;int&gt; | arcus &lt;fct&gt; |\n|---|---|---|---|---|---|---|---|---|---|---|---|---|---|\n| 1 | 49 | 73 | 150 | 110 | 76 | 225 | A2 | 25 | A | no  | none     | 1664 | absent  |\n| 2 | 42 | 70 | 160 | 154 | 84 | 177 | A2 | 20 | A | no  | none     | 3071 | present |\n| 3 | 42 | 69 | 160 | 110 | 78 | 181 | B3 |  0 | B | no  | none     | 3071 | absent  |\n| 4 | 41 | 68 | 152 | 124 | 78 | 132 | B4 | 20 | B | no  | none     | 3064 | absent  |\n| 5 | 59 | 70 | 150 | 144 | 86 | 255 | B3 | 20 | B | yes | infdeath | 1885 | present |\n| 6 | 44 | 72 | 204 | 150 | 90 | 182 | B4 |  0 | B | no  | none     | 3102 | absent  |\n\n",
            "text/latex": "A data.frame: 6 × 13\n\\begin{tabular}{r|lllllllllllll}\n  & age & height & weight & sdp & dbp & chol & behave & cigs & dibep & chd & typechd & timechd & arcus\\\\\n  & <int> & <int> & <int> & <int> & <int> & <int> & <fct> & <int> & <fct> & <fct> & <fct> & <int> & <fct>\\\\\n\\hline\n\t1 & 49 & 73 & 150 & 110 & 76 & 225 & A2 & 25 & A & no  & none     & 1664 & absent \\\\\n\t2 & 42 & 70 & 160 & 154 & 84 & 177 & A2 & 20 & A & no  & none     & 3071 & present\\\\\n\t3 & 42 & 69 & 160 & 110 & 78 & 181 & B3 &  0 & B & no  & none     & 3071 & absent \\\\\n\t4 & 41 & 68 & 152 & 124 & 78 & 132 & B4 & 20 & B & no  & none     & 3064 & absent \\\\\n\t5 & 59 & 70 & 150 & 144 & 86 & 255 & B3 & 20 & B & yes & infdeath & 1885 & present\\\\\n\t6 & 44 & 72 & 204 & 150 & 90 & 182 & B4 &  0 & B & no  & none     & 3102 & absent \\\\\n\\end{tabular}\n",
            "text/plain": [
              "  age height weight sdp dbp chol behave cigs dibep chd typechd  timechd arcus  \n",
              "1 49  73     150    110 76  225  A2     25   A     no  none     1664    absent \n",
              "2 42  70     160    154 84  177  A2     20   A     no  none     3071    present\n",
              "3 42  69     160    110 78  181  B3      0   B     no  none     3071    absent \n",
              "4 41  68     152    124 78  132  B4     20   B     no  none     3064    absent \n",
              "5 59  70     150    144 86  255  B3     20   B     yes infdeath 1885    present\n",
              "6 44  72     204    150 90  182  B4      0   B     no  none     3102    absent "
            ]
          },
          "metadata": {}
        }
      ]
    },
    {
      "cell_type": "code",
      "source": [
        "wcgs %>% ggplot(aes(x=chol)) + geom_histogram(bins=30) + facet_grid(chd ~ .)"
      ],
      "metadata": {
        "colab": {
          "base_uri": "https://localhost:8080/",
          "height": 472
        },
        "id": "dGDPv8UygKmk",
        "outputId": "533055df-7fc3-444f-fecb-55a809c8e79f"
      },
      "execution_count": null,
      "outputs": [
        {
          "output_type": "stream",
          "name": "stderr",
          "text": [
            "Warning message:\n",
            "“\u001b[1m\u001b[22mRemoved 12 rows containing non-finite outside the scale range (`stat_bin()`).”\n"
          ]
        },
        {
          "output_type": "display_data",
          "data": {
            "text/plain": [
              "plot without title"
            ],
            "image/png": "[encoded data removed]"
          },
          "metadata": {
            "image/png": {
              "width": 420,
              "height": 420
            }
          }
        }
      ]
    },
    {
      "cell_type": "code",
      "source": [
        "wcgs %>% ggplot(aes(x=cigs)) + geom_histogram(bins=30) + facet_grid(chd ~ .)"
      ],
      "metadata": {
        "colab": {
          "base_uri": "https://localhost:8080/",
          "height": 437
        },
        "id": "AoUO6mragXb1",
        "outputId": "838fb6c0-277a-40b8-ecf7-f23d6605e70c"
      },
      "execution_count": null,
      "outputs": [
        {
          "output_type": "display_data",
          "data": {
            "text/plain": [
              "plot without title"
            ],
            "image/png": "[encoded data removed]"
          },
          "metadata": {
            "image/png": {
              "width": 420,
              "height": 420
            }
          }
        }
      ]
    },
    {
      "cell_type": "code",
      "source": [
        "hist(prostate$age)"
      ],
      "metadata": {
        "colab": {
          "base_uri": "https://localhost:8080/",
          "height": 437
        },
        "id": "aHPCI-KMgevE",
        "outputId": "76584cc8-bd7b-45ad-ec3d-c0badd5fb75f"
      },
      "execution_count": null,
      "outputs": [
        {
          "output_type": "display_data",
          "data": {
            "text/plain": [
              "Plot with title “Histogram of prostate$age”"
            ],
            "image/png": "[encoded data removed]"
          },
          "metadata": {
            "image/png": {
              "width": 420,
              "height": 420
            }
          }
        }
      ]
    },
    {
      "cell_type": "code",
      "source": [
        "prostate %>% ggplot(aes(x=lcavol, y=lcp)) + geom_point()"
      ],
      "metadata": {
        "colab": {
          "base_uri": "https://localhost:8080/",
          "height": 437
        },
        "id": "oHIrIJWQgmLk",
        "outputId": "e1d7b968-f45b-4654-c2f6-c1ff2452d5c0"
      },
      "execution_count": null,
      "outputs": [
        {
          "output_type": "display_data",
          "data": {
            "text/plain": [
              "plot without title"
            ],
            "image/png": "[encoded data removed]"
          },
          "metadata": {
            "image/png": {
              "width": 420,
              "height": 420
            }
          }
        }
      ]
    },
    {
      "cell_type": "code",
      "source": [
        "data(chredlin)"
      ],
      "metadata": {
        "id": "vh-wTZS0g9fU"
      },
      "execution_count": null,
      "outputs": []
    },
    {
      "cell_type": "code",
      "source": [
        "chredlin %>% head"
      ],
      "metadata": {
        "colab": {
          "base_uri": "https://localhost:8080/",
          "height": 286
        },
        "id": "pjGoVcN_hDLj",
        "outputId": "cc942278-63c2-451b-8f32-98c56f4bfa04"
      },
      "execution_count": null,
      "outputs": [
        {
          "output_type": "display_data",
          "data": {
            "text/html": [
              "<table class=\"dataframe\">\n",
              "<caption>A data.frame: 6 × 7</caption>\n",
              "<thead>\n",
              "\t<tr><th></th><th scope=col>race</th><th scope=col>fire</th><th scope=col>theft</th><th scope=col>age</th><th scope=col>involact</th><th scope=col>income</th><th scope=col>side</th></tr>\n",
              "\t<tr><th></th><th scope=col>&lt;dbl&gt;</th><th scope=col>&lt;dbl&gt;</th><th scope=col>&lt;dbl&gt;</th><th scope=col>&lt;dbl&gt;</th><th scope=col>&lt;dbl&gt;</th><th scope=col>&lt;dbl&gt;</th><th scope=col>&lt;fct&gt;</th></tr>\n",
              "</thead>\n",
              "<tbody>\n",
              "\t<tr><th scope=row>60626</th><td>10.0</td><td> 6.2</td><td>29</td><td>60.4</td><td>0.0</td><td>11.744</td><td>n</td></tr>\n",
              "\t<tr><th scope=row>60640</th><td>22.2</td><td> 9.5</td><td>44</td><td>76.5</td><td>0.1</td><td> 9.323</td><td>n</td></tr>\n",
              "\t<tr><th scope=row>60613</th><td>19.6</td><td>10.5</td><td>36</td><td>73.5</td><td>1.2</td><td> 9.948</td><td>n</td></tr>\n",
              "\t<tr><th scope=row>60657</th><td>17.3</td><td> 7.7</td><td>37</td><td>66.9</td><td>0.5</td><td>10.656</td><td>n</td></tr>\n",
              "\t<tr><th scope=row>60614</th><td>24.5</td><td> 8.6</td><td>53</td><td>81.4</td><td>0.7</td><td> 9.730</td><td>n</td></tr>\n",
              "\t<tr><th scope=row>60610</th><td>54.0</td><td>34.1</td><td>68</td><td>52.6</td><td>0.3</td><td> 8.231</td><td>n</td></tr>\n",
              "</tbody>\n",
              "</table>\n"
            ],
            "text/markdown": "\nA data.frame: 6 × 7\n\n| <!--/--> | race &lt;dbl&gt; | fire &lt;dbl&gt; | theft &lt;dbl&gt; | age &lt;dbl&gt; | involact &lt;dbl&gt; | income &lt;dbl&gt; | side &lt;fct&gt; |\n|---|---|---|---|---|---|---|---|\n| 60626 | 10.0 |  6.2 | 29 | 60.4 | 0.0 | 11.744 | n |\n| 60640 | 22.2 |  9.5 | 44 | 76.5 | 0.1 |  9.323 | n |\n| 60613 | 19.6 | 10.5 | 36 | 73.5 | 1.2 |  9.948 | n |\n| 60657 | 17.3 |  7.7 | 37 | 66.9 | 0.5 | 10.656 | n |\n| 60614 | 24.5 |  8.6 | 53 | 81.4 | 0.7 |  9.730 | n |\n| 60610 | 54.0 | 34.1 | 68 | 52.6 | 0.3 |  8.231 | n |\n\n",
            "text/latex": "A data.frame: 6 × 7\n\\begin{tabular}{r|lllllll}\n  & race & fire & theft & age & involact & income & side\\\\\n  & <dbl> & <dbl> & <dbl> & <dbl> & <dbl> & <dbl> & <fct>\\\\\n\\hline\n\t60626 & 10.0 &  6.2 & 29 & 60.4 & 0.0 & 11.744 & n\\\\\n\t60640 & 22.2 &  9.5 & 44 & 76.5 & 0.1 &  9.323 & n\\\\\n\t60613 & 19.6 & 10.5 & 36 & 73.5 & 1.2 &  9.948 & n\\\\\n\t60657 & 17.3 &  7.7 & 37 & 66.9 & 0.5 & 10.656 & n\\\\\n\t60614 & 24.5 &  8.6 & 53 & 81.4 & 0.7 &  9.730 & n\\\\\n\t60610 & 54.0 & 34.1 & 68 & 52.6 & 0.3 &  8.231 & n\\\\\n\\end{tabular}\n",
            "text/plain": [
              "      race fire theft age  involact income side\n",
              "60626 10.0  6.2 29    60.4 0.0      11.744 n   \n",
              "60640 22.2  9.5 44    76.5 0.1       9.323 n   \n",
              "60613 19.6 10.5 36    73.5 1.2       9.948 n   \n",
              "60657 17.3  7.7 37    66.9 0.5      10.656 n   \n",
              "60614 24.5  8.6 53    81.4 0.7       9.730 n   \n",
              "60610 54.0 34.1 68    52.6 0.3       8.231 n   "
            ]
          },
          "metadata": {}
        }
      ]
    },
    {
      "cell_type": "code",
      "source": [
        "help(troutegg)"
      ],
      "metadata": {
        "id": "nsDI9BP3hJFj"
      },
      "execution_count": null,
      "outputs": []
    },
    {
      "cell_type": "code",
      "source": [
        "data(sono)\n",
        "sono"
      ],
      "metadata": {
        "colab": {
          "base_uri": "https://localhost:8080/",
          "height": 600
        },
        "id": "4Z3nNArLGr5Q",
        "outputId": "0ec56b86-3e50-4f90-d372-190435d8fe72"
      },
      "execution_count": null,
      "outputs": [
        {
          "output_type": "display_data",
          "data": {
            "text/html": [
              "<table class=\"dataframe\">\n",
              "<caption>A data.frame: 16 × 8</caption>\n",
              "<thead>\n",
              "\t<tr><th></th><th scope=col>Intensity</th><th scope=col>Molarity</th><th scope=col>Solute</th><th scope=col>pH</th><th scope=col>Gas</th><th scope=col>Water</th><th scope=col>Horn</th><th scope=col>Flask</th></tr>\n",
              "\t<tr><th></th><th scope=col>&lt;dbl&gt;</th><th scope=col>&lt;fct&gt;</th><th scope=col>&lt;fct&gt;</th><th scope=col>&lt;fct&gt;</th><th scope=col>&lt;fct&gt;</th><th scope=col>&lt;fct&gt;</th><th scope=col>&lt;fct&gt;</th><th scope=col>&lt;fct&gt;</th></tr>\n",
              "</thead>\n",
              "<tbody>\n",
              "\t<tr><th scope=row>1</th><td> 80.6</td><td>down</td><td>down</td><td>down</td><td>down</td><td>down</td><td>down</td><td>down</td></tr>\n",
              "\t<tr><th scope=row>2</th><td> 66.1</td><td>up  </td><td>down</td><td>down</td><td>down</td><td>down</td><td>up  </td><td>up  </td></tr>\n",
              "\t<tr><th scope=row>3</th><td> 59.1</td><td>down</td><td>up  </td><td>down</td><td>down</td><td>up  </td><td>down</td><td>up  </td></tr>\n",
              "\t<tr><th scope=row>4</th><td> 68.9</td><td>up  </td><td>up  </td><td>down</td><td>down</td><td>up  </td><td>up  </td><td>down</td></tr>\n",
              "\t<tr><th scope=row>5</th><td> 75.1</td><td>down</td><td>down</td><td>up  </td><td>down</td><td>up  </td><td>up  </td><td>up  </td></tr>\n",
              "\t<tr><th scope=row>6</th><td>373.8</td><td>up  </td><td>down</td><td>up  </td><td>down</td><td>up  </td><td>down</td><td>down</td></tr>\n",
              "\t<tr><th scope=row>7</th><td> 66.8</td><td>down</td><td>up  </td><td>up  </td><td>down</td><td>down</td><td>up  </td><td>down</td></tr>\n",
              "\t<tr><th scope=row>8</th><td> 79.6</td><td>up  </td><td>up  </td><td>up  </td><td>down</td><td>down</td><td>down</td><td>up  </td></tr>\n",
              "\t<tr><th scope=row>9</th><td>114.3</td><td>down</td><td>down</td><td>down</td><td>up  </td><td>up  </td><td>up  </td><td>down</td></tr>\n",
              "\t<tr><th scope=row>10</th><td> 84.1</td><td>up  </td><td>down</td><td>down</td><td>up  </td><td>up  </td><td>down</td><td>up  </td></tr>\n",
              "\t<tr><th scope=row>11</th><td> 68.4</td><td>down</td><td>up  </td><td>down</td><td>up  </td><td>down</td><td>up  </td><td>up  </td></tr>\n",
              "\t<tr><th scope=row>12</th><td> 88.1</td><td>up  </td><td>up  </td><td>down</td><td>up  </td><td>down</td><td>down</td><td>down</td></tr>\n",
              "\t<tr><th scope=row>13</th><td> 78.1</td><td>down</td><td>down</td><td>up  </td><td>up  </td><td>down</td><td>down</td><td>up  </td></tr>\n",
              "\t<tr><th scope=row>14</th><td>327.2</td><td>up  </td><td>down</td><td>up  </td><td>up  </td><td>down</td><td>up  </td><td>down</td></tr>\n",
              "\t<tr><th scope=row>15</th><td> 77.6</td><td>down</td><td>up  </td><td>up  </td><td>up  </td><td>up  </td><td>down</td><td>down</td></tr>\n",
              "\t<tr><th scope=row>16</th><td> 61.9</td><td>up  </td><td>up  </td><td>up  </td><td>up  </td><td>up  </td><td>up  </td><td>up  </td></tr>\n",
              "</tbody>\n",
              "</table>\n"
            ],
            "text/markdown": "\nA data.frame: 16 × 8\n\n| <!--/--> | Intensity &lt;dbl&gt; | Molarity &lt;fct&gt; | Solute &lt;fct&gt; | pH &lt;fct&gt; | Gas &lt;fct&gt; | Water &lt;fct&gt; | Horn &lt;fct&gt; | Flask &lt;fct&gt; |\n|---|---|---|---|---|---|---|---|---|\n| 1 |  80.6 | down | down | down | down | down | down | down |\n| 2 |  66.1 | up   | down | down | down | down | up   | up   |\n| 3 |  59.1 | down | up   | down | down | up   | down | up   |\n| 4 |  68.9 | up   | up   | down | down | up   | up   | down |\n| 5 |  75.1 | down | down | up   | down | up   | up   | up   |\n| 6 | 373.8 | up   | down | up   | down | up   | down | down |\n| 7 |  66.8 | down | up   | up   | down | down | up   | down |\n| 8 |  79.6 | up   | up   | up   | down | down | down | up   |\n| 9 | 114.3 | down | down | down | up   | up   | up   | down |\n| 10 |  84.1 | up   | down | down | up   | up   | down | up   |\n| 11 |  68.4 | down | up   | down | up   | down | up   | up   |\n| 12 |  88.1 | up   | up   | down | up   | down | down | down |\n| 13 |  78.1 | down | down | up   | up   | down | down | up   |\n| 14 | 327.2 | up   | down | up   | up   | down | up   | down |\n| 15 |  77.6 | down | up   | up   | up   | up   | down | down |\n| 16 |  61.9 | up   | up   | up   | up   | up   | up   | up   |\n\n",
            "text/latex": "A data.frame: 16 × 8\n\\begin{tabular}{r|llllllll}\n  & Intensity & Molarity & Solute & pH & Gas & Water & Horn & Flask\\\\\n  & <dbl> & <fct> & <fct> & <fct> & <fct> & <fct> & <fct> & <fct>\\\\\n\\hline\n\t1 &  80.6 & down & down & down & down & down & down & down\\\\\n\t2 &  66.1 & up   & down & down & down & down & up   & up  \\\\\n\t3 &  59.1 & down & up   & down & down & up   & down & up  \\\\\n\t4 &  68.9 & up   & up   & down & down & up   & up   & down\\\\\n\t5 &  75.1 & down & down & up   & down & up   & up   & up  \\\\\n\t6 & 373.8 & up   & down & up   & down & up   & down & down\\\\\n\t7 &  66.8 & down & up   & up   & down & down & up   & down\\\\\n\t8 &  79.6 & up   & up   & up   & down & down & down & up  \\\\\n\t9 & 114.3 & down & down & down & up   & up   & up   & down\\\\\n\t10 &  84.1 & up   & down & down & up   & up   & down & up  \\\\\n\t11 &  68.4 & down & up   & down & up   & down & up   & up  \\\\\n\t12 &  88.1 & up   & up   & down & up   & down & down & down\\\\\n\t13 &  78.1 & down & down & up   & up   & down & down & up  \\\\\n\t14 & 327.2 & up   & down & up   & up   & down & up   & down\\\\\n\t15 &  77.6 & down & up   & up   & up   & up   & down & down\\\\\n\t16 &  61.9 & up   & up   & up   & up   & up   & up   & up  \\\\\n\\end{tabular}\n",
            "text/plain": [
              "   Intensity Molarity Solute pH   Gas  Water Horn Flask\n",
              "1   80.6     down     down   down down down  down down \n",
              "2   66.1     up       down   down down down  up   up   \n",
              "3   59.1     down     up     down down up    down up   \n",
              "4   68.9     up       up     down down up    up   down \n",
              "5   75.1     down     down   up   down up    up   up   \n",
              "6  373.8     up       down   up   down up    down down \n",
              "7   66.8     down     up     up   down down  up   down \n",
              "8   79.6     up       up     up   down down  down up   \n",
              "9  114.3     down     down   down up   up    up   down \n",
              "10  84.1     up       down   down up   up    down up   \n",
              "11  68.4     down     up     down up   down  up   up   \n",
              "12  88.1     up       up     down up   down  down down \n",
              "13  78.1     down     down   up   up   down  down up   \n",
              "14 327.2     up       down   up   up   down  up   down \n",
              "15  77.6     down     up     up   up   up    down down \n",
              "16  61.9     up       up     up   up   up    up   up   "
            ]
          },
          "metadata": {}
        }
      ]
    },
    {
      "cell_type": "code",
      "source": [
        "death %>% head"
      ],
      "metadata": {
        "colab": {
          "base_uri": "https://localhost:8080/",
          "height": 286
        },
        "id": "PreolKePhiyj",
        "outputId": "f9c1f192-f20b-430f-81f6-8894e573e178"
      },
      "execution_count": null,
      "outputs": [
        {
          "output_type": "display_data",
          "data": {
            "text/html": [
              "<table class=\"dataframe\">\n",
              "<caption>A data.frame: 6 × 4</caption>\n",
              "<thead>\n",
              "\t<tr><th></th><th scope=col>y</th><th scope=col>penalty</th><th scope=col>victim</th><th scope=col>defend</th></tr>\n",
              "\t<tr><th></th><th scope=col>&lt;dbl&gt;</th><th scope=col>&lt;fct&gt;</th><th scope=col>&lt;fct&gt;</th><th scope=col>&lt;fct&gt;</th></tr>\n",
              "</thead>\n",
              "<tbody>\n",
              "\t<tr><th scope=row>1</th><td> 19</td><td>yes</td><td>w</td><td>w</td></tr>\n",
              "\t<tr><th scope=row>2</th><td>132</td><td>no </td><td>w</td><td>w</td></tr>\n",
              "\t<tr><th scope=row>3</th><td>  0</td><td>yes</td><td>b</td><td>w</td></tr>\n",
              "\t<tr><th scope=row>4</th><td>  9</td><td>no </td><td>b</td><td>w</td></tr>\n",
              "\t<tr><th scope=row>5</th><td> 11</td><td>yes</td><td>w</td><td>b</td></tr>\n",
              "\t<tr><th scope=row>6</th><td> 52</td><td>no </td><td>w</td><td>b</td></tr>\n",
              "</tbody>\n",
              "</table>\n"
            ],
            "text/markdown": "\nA data.frame: 6 × 4\n\n| <!--/--> | y &lt;dbl&gt; | penalty &lt;fct&gt; | victim &lt;fct&gt; | defend &lt;fct&gt; |\n|---|---|---|---|---|\n| 1 |  19 | yes | w | w |\n| 2 | 132 | no  | w | w |\n| 3 |   0 | yes | b | w |\n| 4 |   9 | no  | b | w |\n| 5 |  11 | yes | w | b |\n| 6 |  52 | no  | w | b |\n\n",
            "text/latex": "A data.frame: 6 × 4\n\\begin{tabular}{r|llll}\n  & y & penalty & victim & defend\\\\\n  & <dbl> & <fct> & <fct> & <fct>\\\\\n\\hline\n\t1 &  19 & yes & w & w\\\\\n\t2 & 132 & no  & w & w\\\\\n\t3 &   0 & yes & b & w\\\\\n\t4 &   9 & no  & b & w\\\\\n\t5 &  11 & yes & w & b\\\\\n\t6 &  52 & no  & w & b\\\\\n\\end{tabular}\n",
            "text/plain": [
              "  y   penalty victim defend\n",
              "1  19 yes     w      w     \n",
              "2 132 no      w      w     \n",
              "3   0 yes     b      w     \n",
              "4   9 no      b      w     \n",
              "5  11 yes     w      b     \n",
              "6  52 no      w      b     "
            ]
          },
          "metadata": {}
        }
      ]
    },
    {
      "cell_type": "code",
      "source": [],
      "metadata": {
        "id": "ektvAUwJm0uH"
      },
      "execution_count": null,
      "outputs": []
    }
  ]
}